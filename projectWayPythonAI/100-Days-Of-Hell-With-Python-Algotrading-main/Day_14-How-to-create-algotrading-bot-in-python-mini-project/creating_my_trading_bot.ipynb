{
 "cells": [
  {
   "cell_type": "code",
   "execution_count": 29,
   "id": "232fc0ff",
   "metadata": {},
   "outputs": [],
   "source": [
    "# Trading Bot Steps\n",
    "# 1. Import necessary libraries\n",
    "# 2. Set up API credentials/Fetching live data\n",
    "# 3. Define trading strategy\n",
    "# 4. Simulate trades\n",
    "# 5. Integrate different components\n",
    "# 6. Run the bot\n",
    "from datetime import datetime\n",
    "import yfinance as yf"
   ]
  },
  {
   "cell_type": "code",
   "execution_count": null,
   "id": "64a9aa08",
   "metadata": {},
   "outputs": [
    {
     "name": "stdout",
     "output_type": "stream",
     "text": [
      "Base Strategy\n",
      "This method will be overridden by subclasses\n",
      "Hold\n",
      "My SMA Trading Stratefy\n",
      "Buy\n",
      "1000\n",
      "2025-08-28 17:56:34.123235\n",
      "Executing Buy amounting to 1000 using strategy My SMA Trading Stratefy at 2025-08-28 17:56:34.123235\n"
     ]
    }
   ],
   "source": [
    "\n",
    "\n",
    "class MyTradingStrategy:\n",
    "    def __init__(self,name):\n",
    "        self.__name = name\n",
    "\n",
    "    def generate_signals(self, price_data):\n",
    "        print(\"This method will be overridden by subclasses\")\n",
    "        return \"Hold\"\n",
    "    @property\n",
    "    def name(self):\n",
    "        return self.__name\n",
    "\n",
    "myBaseObject = MyTradingStrategy(\"Base Strategy\")\n",
    "# print(myBaseObject.name())\n",
    "print(myBaseObject.name) # due to @property decorator\n",
    "print(myBaseObject.generate_signals([1,2,3,4,5]))\n",
    "\n",
    "class MySMATradingStrategy(MyTradingStrategy):\n",
    "    def __init__(self, name= \"My SMA Trading Stratefy\", short_window=40, long_window=100):\n",
    "        super().__init__(name)\n",
    "        self.__short_window = short_window\n",
    "        self.__long_window = long_window\n",
    "    \n",
    "    @property\n",
    "    def short_window(self):\n",
    "        return self.__short_window\n",
    "    @property\n",
    "    def long_window(self):\n",
    "        return self.__long_window\n",
    "\n",
    "    def generate_signals(self, price_data):\n",
    "        if len(price_data) < self.long_window:\n",
    "            return \"Hold\"\n",
    "        \n",
    "        short_ma = sum(price_data[-self.short_window:]) / self.short_window\n",
    "        long_ma = sum(price_data[-self.long_window:]) / self.long_window\n",
    "        \n",
    "        if short_ma > long_ma:\n",
    "            return \"Buy\"\n",
    "        elif short_ma < long_ma:\n",
    "            return \"Sell\"\n",
    "        else:\n",
    "            return \"Hold\"\n",
    "\n",
    "mySMAObject = MySMATradingStrategy(long_window=5, short_window=3)\n",
    "# print(mySMAObject.name)\n",
    "# print(mySMAObject.short_window)\n",
    "# print(mySMAObject.long_window)\n",
    "# print(mySMAObject.generate_signals([1,2,3,4,5,6,7,8,9,10,11,12,13,14,15]))\n"
   ]
  },
  {
   "cell_type": "code",
   "execution_count": 25,
   "id": "9a48f560",
   "metadata": {},
   "outputs": [
    {
     "name": "stdout",
     "output_type": "stream",
     "text": [
      "My SMA Trading Stratefy\n",
      "Buy\n",
      "1000\n",
      "2025-08-28 17:58:08.589791\n",
      "Executing Buy amounting to 1000 using strategy My SMA Trading Stratefy at 2025-08-28 17:58:08.589791\n"
     ]
    }
   ],
   "source": [
    "class MyTrade:\n",
    "    def __init__(self, strategy_name, signal, amount):   \n",
    "        self.__strategy_name = strategy_name\n",
    "        self.__signal = signal\n",
    "        self.__amount = amount\n",
    "        self.__timestamp = datetime.now()\n",
    "        # self.__position = None\n",
    "        # self.__trade_log = []\n",
    "\n",
    "    @property\n",
    "    def strategy_name(self):\n",
    "        return self.__strategy_name\n",
    "    @property\n",
    "    def signal(self):\n",
    "        return self.__signal\n",
    "    @property\n",
    "    def amount(self):\n",
    "        return self.__amount\n",
    "    @property\n",
    "    def timestamp(self):\n",
    "        return self.__timestamp\n",
    "\n",
    "    # @property\n",
    "    # def position(self):\n",
    "    #     return self.__position\n",
    "\n",
    "    # @property\n",
    "    # def trade_log(self):\n",
    "    #     return self.__trade_log\n",
    "    def execute(self):\n",
    "        print(f\"Executing {self.__signal} amounting to {self.__amount} using strategy {self.__strategy_name} at {self.__timestamp}\")\n",
    "    # def execute_trade(self, price_data):\n",
    "    #     signal = self.__strategy.generate_signals(price_data)\n",
    "    #     if signal == \"Buy\" and self.__position != \"Long\":\n",
    "    #         self.__position = \"Long\"\n",
    "    #         self.__trade_log.append((\"Buy\", price_data[-1]))\n",
    "    #         print(f\"Executing Buy at {price_data[-1]}\")\n",
    "    #     elif signal == \"Sell\" and self.__position != \"Short\":\n",
    "    #         self.__position = \"Short\"\n",
    "    #         self.__trade_log.append((\"Sell\", price_data[-1]))\n",
    "    #         print(f\"Executing Sell at {price_data[-1]}\")\n",
    "    #     else:\n",
    "    #         print(\"No action taken\")\n",
    "myTradeObject = MyTrade(strategy_name=mySMAObject.name ,signal=mySMAObject.generate_signals([1,2,3,4,5,6,7,8,9,10,11,12,13,14,15]), amount=1000)\n",
    "print(myTradeObject.strategy_name)\n",
    "print(myTradeObject.signal)\n",
    "print(myTradeObject.amount)\n",
    "print(myTradeObject.timestamp)\n",
    "myTradeObject.execute()"
   ]
  },
  {
   "cell_type": "code",
   "execution_count": 26,
   "id": "6f7e0b86",
   "metadata": {},
   "outputs": [
    {
     "name": "stdout",
     "output_type": "stream",
     "text": [
      "10000\n",
      "Bought for 1000 at price 10. New balance: 0\n"
     ]
    }
   ],
   "source": [
    "class MockTradingAPI:\n",
    "    def __init__(self,balance):\n",
    "        self.__balance = balance\n",
    "    \n",
    "    @property\n",
    "    def balance(self):\n",
    "        return self.__balance\n",
    "    \n",
    "    def place_order(self, trade,price):\n",
    "        if trade.signal == \"Buy\" and self.__balance >= trade.amount * price:\n",
    "            self.__balance -= trade.amount * price\n",
    "            print(f\"Bought for {trade.amount} at price {price}. New balance: {self.__balance}\")\n",
    "        elif trade.signal == \"Sell\":\n",
    "            self.__balance += trade.amount\n",
    "            print(f\"Sold for {trade.amount} at price {price}. New balance: {self.__balance}\")\n",
    "        else :\n",
    "            print(\"No action taken or insufficient balance\")\n",
    "    \n",
    "myAPIObject = MockTradingAPI(balance=10000)\n",
    "print(myAPIObject.balance)\n",
    "myAPIObject.place_order(myTradeObject, price=10)"
   ]
  },
  {
   "cell_type": "code",
   "execution_count": 41,
   "id": "53c7aee6",
   "metadata": {},
   "outputs": [
    {
     "name": "stderr",
     "output_type": "stream",
     "text": [
      "/var/folders/zq/590d9tr54kd3q6bnnpjgyv0h0000gn/T/ipykernel_43732/1956264347.py:10: FutureWarning: YF.download() has changed argument auto_adjust default to True\n",
      "  data = yf.download(tickers=self.__symbol, period=\"1d\", interval=\"1m\")\n",
      "[*********************100%***********************]  1 of 1 completed"
     ]
    },
    {
     "name": "stdout",
     "output_type": "stream",
     "text": [
      "My SMA Trading Stratefy\n",
      "0\n",
      "[]\n",
      "10000\n",
      "AAPL\n",
      "Fetched new price data: Ticker\n",
      "AAPL    230.440002\n",
      "Name: 2025-08-27 19:59:00+00:00, dtype: float64\n",
      "Executing Hold amounting to 1000 using strategy My SMA Trading Stratefy at 2025-08-28 18:37:32.217156\n",
      "No action taken or insufficient balance\n",
      "[Ticker\n",
      "AAPL    230.440002\n",
      "Name: 2025-08-27 19:59:00+00:00, dtype: float64]\n"
     ]
    },
    {
     "name": "stderr",
     "output_type": "stream",
     "text": [
      "\n"
     ]
    }
   ],
   "source": [
    "class MyTradingSystem:\n",
    "    def __init__(self, strategy, api, symbol, initial_balance=10000):\n",
    "        self.__strategy = strategy\n",
    "        self.__api = api\n",
    "        self.__initial_balance = initial_balance\n",
    "        self.__symbol = symbol\n",
    "        self.__price_data = []\n",
    "\n",
    "    def fetch_price_data(self):\n",
    "        data = yf.download(tickers=self.__symbol, period=\"1d\", interval=\"1m\")\n",
    "        if not data.empty:\n",
    "            self.price_data.append(data['Close'].iloc[-1]) \n",
    "            if len(self.price_data) > self.__strategy.long_window:\n",
    "                self.price_data.pop(0)\n",
    "            print(f\"Fetched new price data: {self.price_data[-1]}\")\n",
    "        else:\n",
    "            print(\"No data fetched\")\n",
    "    \n",
    "\n",
    "    def run(self, new_price, trade_amount):\n",
    "        self.fetch_price_data()\n",
    "        signal = self.__strategy.generate_signals(self.__price_data)\n",
    "        trade = MyTrade(strategy_name=self.__strategy.name, signal=signal, amount=trade_amount)\n",
    "        trade.execute()\n",
    "        self.__api.place_order(trade, new_price)\n",
    "    \n",
    "    @property\n",
    "    def strategy(self):\n",
    "        return self.__strategy\n",
    "    @property\n",
    "    def api(self):\n",
    "        return self.__api\n",
    "    @property\n",
    "    def price_data(self):\n",
    "        return self.__price_data\n",
    "    @property\n",
    "    def initial_balance(self):\n",
    "        return self.__initial_balance\n",
    "    @property\n",
    "    def symbol(self):\n",
    "        return self.__symbol\n",
    "myTradingSystemObject = MyTradingSystem(strategy=mySMAObject, api=myAPIObject, symbol=\"AAPL\", initial_balance=10000)\n",
    "print(myTradingSystemObject.strategy.name)\n",
    "print(myTradingSystemObject.api.balance)\n",
    "print(myTradingSystemObject.price_data) # should be empty initially\n",
    "print(myTradingSystemObject.initial_balance)\n",
    "print(myTradingSystemObject.symbol)\n",
    "myTradingSystemObject.run(new_price=150, trade_amount=1000) # Simulate a new price update\n",
    "print(myTradingSystemObject.price_data)"
   ]
  },
  {
   "cell_type": "code",
   "execution_count": 37,
   "id": "8c9723a5",
   "metadata": {},
   "outputs": [
    {
     "name": "stderr",
     "output_type": "stream",
     "text": [
      "/var/folders/zq/590d9tr54kd3q6bnnpjgyv0h0000gn/T/ipykernel_43732/3421438410.py:1: FutureWarning: YF.download() has changed argument auto_adjust default to True\n",
      "  data = yf.download(tickers=\"AAPL\", period=\"1d\", interval=\"1m\")\n",
      "[*********************100%***********************]  1 of 1 completed"
     ]
    },
    {
     "name": "stdout",
     "output_type": "stream",
     "text": [
      "Ticker\n",
      "AAPL    230.440002\n",
      "Name: 2025-08-27 19:59:00+00:00, dtype: float64\n"
     ]
    },
    {
     "name": "stderr",
     "output_type": "stream",
     "text": [
      "\n"
     ]
    }
   ],
   "source": [
    "data = yf.download(tickers=\"AAPL\", period=\"1d\", interval=\"1m\")\n",
    "print(data['Close'].iloc[-1]   )"
   ]
  },
  {
   "cell_type": "code",
   "execution_count": null,
   "id": "969a9e17",
   "metadata": {},
   "outputs": [],
   "source": []
  }
 ],
 "metadata": {
  "kernelspec": {
   "display_name": ".venv-1 (3.13.7)",
   "language": "python",
   "name": "python3"
  },
  "language_info": {
   "codemirror_mode": {
    "name": "ipython",
    "version": 3
   },
   "file_extension": ".py",
   "mimetype": "text/x-python",
   "name": "python",
   "nbconvert_exporter": "python",
   "pygments_lexer": "ipython3",
   "version": "3.13.7"
  }
 },
 "nbformat": 4,
 "nbformat_minor": 5
}
