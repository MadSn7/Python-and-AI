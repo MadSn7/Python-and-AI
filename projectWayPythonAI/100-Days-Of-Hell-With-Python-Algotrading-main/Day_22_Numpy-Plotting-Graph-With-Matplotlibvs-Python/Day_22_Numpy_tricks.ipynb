{
  "cells": [
    {
      "cell_type": "markdown",
      "metadata": {
        "id": "39-UcmoPggtI"
      },
      "source": [
        "### np.sort\n",
        "\n",
        "Return a sorted copy of an array.\n",
        "\n",
        "https://numpy.org/doc/stable/reference/generated/numpy.sort.html"
      ]
    },
    {
      "cell_type": "code",
      "execution_count": 38,
      "metadata": {
        "colab": {
          "base_uri": "https://localhost:8080/"
        },
        "id": "vJUzuaz7gqTr",
        "outputId": "d1039d20-cd2b-41be-ce98-ff9cbc111e50"
      },
      "outputs": [
        {
          "data": {
            "text/plain": [
              "array([901.3, 802.9, 701.8, 650.5, 502.5, 499.5, 331. , 300.1, 211.8,\n",
              "       103. , 101.5, 101. ])"
            ]
          },
          "execution_count": 38,
          "metadata": {},
          "output_type": "execute_result"
        }
      ],
      "source": [
        "# code\n",
        "import numpy as np\n",
        "\n",
        "ohlc1 = np.array(\n",
        "    [300.1, 101.5, 499.5, 101.0,901.3, 802.9, 650.5, 701.8,211.8, 103.0, 331.0, 502.5]\n",
        ")\n",
        "\n",
        "ohlc2 = np.array([\n",
        "    [910.0, 201.5, 599.5, 301.0],\n",
        "    [841.0, 402.0, 910.5, 501.8],\n",
        "    [721.8, 503.0, 101.0, 782.5],\n",
        "    [501.8, 903.0, 841.0, 902.5]\n",
        "])\n",
        "\n",
        "np.sort(ohlc1)[::-1]"
      ]
    },
    {
      "cell_type": "code",
      "execution_count": 16,
      "metadata": {
        "colab": {
          "base_uri": "https://localhost:8080/"
        },
        "id": "Dfer5zY9-HaK",
        "outputId": "1f5c0130-f8de-4b33-e5a8-63631b23fd7b"
      },
      "outputs": [
        {
          "data": {
            "text/plain": [
              "array([[201.5, 301. , 599.5, 910. ],\n",
              "       [402. , 501.8, 841. , 910.5],\n",
              "       [101. , 503. , 721.8, 782.5],\n",
              "       [501.8, 841. , 902.5, 903. ]])"
            ]
          },
          "execution_count": 16,
          "metadata": {},
          "output_type": "execute_result"
        }
      ],
      "source": [
        "np.sort(ohlc2, axis=1)"
      ]
    },
    {
      "cell_type": "code",
      "execution_count": null,
      "metadata": {
        "colab": {
          "base_uri": "https://localhost:8080/"
        },
        "id": "dyjeU-C6KznM",
        "outputId": "da3b404c-b198-4e62-b744-69f63cdea54a"
      },
      "outputs": [],
      "source": []
    },
    {
      "cell_type": "code",
      "execution_count": null,
      "metadata": {
        "colab": {
          "base_uri": "https://localhost:8080/"
        },
        "id": "9fAdd5BWLHsq",
        "outputId": "a37305ea-18d5-4659-9a7a-a252ccc825c3"
      },
      "outputs": [],
      "source": []
    },
    {
      "cell_type": "markdown",
      "metadata": {
        "id": "W8tttorjgrVf"
      },
      "source": [
        "### np.append\n",
        "\n",
        "The numpy.append() appends values along the mentioned axis at the end of the array\n",
        "\n",
        "https://numpy.org/doc/stable/reference/generated/numpy.append.html"
      ]
    },
    {
      "cell_type": "code",
      "execution_count": null,
      "metadata": {
        "colab": {
          "base_uri": "https://localhost:8080/"
        },
        "id": "Y3fHkR1gfd1X",
        "outputId": "621892ba-8b7e-4150-b56d-623aac9574cd"
      },
      "outputs": [],
      "source": [
        "# code\n",
        "ohlc1 = np.array(\n",
        "    [300.1, 101.5, 499.5, 101.0,901.3, 802.9, 650.5, 701.8,211.8, 103.0, 331.0, 502.5]\n",
        ")\n",
        "\n",
        "ohlc2 = np.array([\n",
        "    [910.0, 201.5, 599.5, 301.0],\n",
        "    [841.0, 402.0, 910.5, 501.8],\n",
        "    [721.8, 503.0, 101.0, 782.5],\n",
        "    [501.8, 903.0, 841.0, 902.5]\n",
        "])"
      ]
    },
    {
      "cell_type": "code",
      "execution_count": 17,
      "metadata": {
        "colab": {
          "base_uri": "https://localhost:8080/"
        },
        "id": "vmPc3zS3L2LL",
        "outputId": "7e90ac52-ae30-4325-b3b7-d526a9cdb4d3"
      },
      "outputs": [
        {
          "data": {
            "text/plain": [
              "array([300.1, 101.5, 499.5, 101. , 901.3, 802.9, 650.5, 701.8, 211.8,\n",
              "       103. , 331. , 502.5, 500. ])"
            ]
          },
          "execution_count": 17,
          "metadata": {},
          "output_type": "execute_result"
        }
      ],
      "source": [
        "np.append(ohlc1,500)"
      ]
    },
    {
      "cell_type": "code",
      "execution_count": 19,
      "metadata": {
        "colab": {
          "base_uri": "https://localhost:8080/"
        },
        "id": "LsIvCKQ5L-DB",
        "outputId": "79a6a4f6-b7e1-44ae-8add-d94305396e0f"
      },
      "outputs": [
        {
          "data": {
            "text/plain": [
              "array([[910. , 201.5, 599.5, 301. ,   0. ],\n",
              "       [841. , 402. , 910.5, 501.8,   1. ],\n",
              "       [721.8, 503. , 101. , 782.5,   2. ],\n",
              "       [501.8, 903. , 841. , 902.5,   3. ]])"
            ]
          },
          "execution_count": 19,
          "metadata": {},
          "output_type": "execute_result"
        }
      ],
      "source": [
        "np.append(ohlc2,np.arange(4).reshape(4,1),axis=1)"
      ]
    },
    {
      "cell_type": "markdown",
      "metadata": {
        "id": "meIMn8T9g5-m"
      },
      "source": [
        "### np.concatenate\n",
        "\n",
        "numpy.concatenate() function concatenate a sequence of arrays along an existing axis.\n",
        "\n",
        "https://numpy.org/doc/stable/reference/generated/numpy.concatenate.html"
      ]
    },
    {
      "cell_type": "code",
      "execution_count": 25,
      "metadata": {
        "colab": {
          "base_uri": "https://localhost:8080/"
        },
        "id": "Nrj1_QXfWZlV",
        "outputId": "5c60e20d-f4a2-40b8-e7ce-f0a5019225c8"
      },
      "outputs": [
        {
          "name": "stdout",
          "output_type": "stream",
          "text": [
            "[[ 0  1  2]\n",
            " [ 3  4  5]\n",
            " [ 6  7  8]\n",
            " [ 9 10 11]]\n",
            "[[12 13 14]\n",
            " [15 16 17]\n",
            " [18 19 20]\n",
            " [21 22 23]]\n"
          ]
        },
        {
          "data": {
            "text/plain": [
              "array([[ 0,  1,  2],\n",
              "       [ 3,  4,  5],\n",
              "       [ 6,  7,  8],\n",
              "       [ 9, 10, 11],\n",
              "       [12, 13, 14],\n",
              "       [15, 16, 17],\n",
              "       [18, 19, 20],\n",
              "       [21, 22, 23]])"
            ]
          },
          "execution_count": 25,
          "metadata": {},
          "output_type": "execute_result"
        }
      ],
      "source": [
        "# code\n",
        "c = np.arange(12).reshape(4,3)\n",
        "d = np.arange(12,24).reshape(4,3)\n",
        "\n",
        "\n",
        "print(c)\n",
        "print(d)\n",
        "np.concatenate((c,d),axis=0)"
      ]
    },
    {
      "cell_type": "code",
      "execution_count": null,
      "metadata": {
        "colab": {
          "base_uri": "https://localhost:8080/"
        },
        "id": "fDHBrV7VA4yz",
        "outputId": "832c4406-2b60-4e17-faa0-5008e109eb95"
      },
      "outputs": [],
      "source": []
    },
    {
      "cell_type": "code",
      "execution_count": null,
      "metadata": {
        "colab": {
          "base_uri": "https://localhost:8080/"
        },
        "id": "GN9DnJ65Mr_b",
        "outputId": "6710e353-cd19-4376-8bd8-a38b7dbadc5a"
      },
      "outputs": [],
      "source": []
    },
    {
      "cell_type": "markdown",
      "metadata": {
        "id": "oHGFqHcohFtB"
      },
      "source": [
        "### np.unique\n",
        "\n",
        "With the help of np.unique() method, we can get the unique values from an array given as parameter in np.unique() method.\n",
        "\n",
        "https://numpy.org/doc/stable/reference/generated/numpy.unique.html/"
      ]
    },
    {
      "cell_type": "code",
      "execution_count": 26,
      "metadata": {
        "id": "NvG0KHpNWdN_"
      },
      "outputs": [
        {
          "data": {
            "text/plain": [
              "array([ 1,  2,  3,  4,  5,  6,  7,  8, 55])"
            ]
          },
          "execution_count": 26,
          "metadata": {},
          "output_type": "execute_result"
        }
      ],
      "source": [
        "# code\n",
        "e = np.array([1,1,1,2,2,2,3,3,3,4,4,4,55,5,6,7,8,8])\n",
        "np.unique(e)"
      ]
    },
    {
      "cell_type": "code",
      "execution_count": null,
      "metadata": {
        "colab": {
          "base_uri": "https://localhost:8080/"
        },
        "id": "XWr932XeCFz1",
        "outputId": "022a4f28-38ae-4041-caea-d1f8f394b58c"
      },
      "outputs": [],
      "source": []
    },
    {
      "cell_type": "markdown",
      "metadata": {
        "id": "Wki2yOXaEZV3"
      },
      "source": [
        "### np.expand_dims\n",
        "\n",
        "With the help of Numpy.expand_dims() method, we can get the expanded dimensions of an array\n",
        "\n",
        "https://numpy.org/doc/stable/reference/generated/numpy.expand_dims.html"
      ]
    },
    {
      "cell_type": "code",
      "execution_count": 32,
      "metadata": {
        "colab": {
          "base_uri": "https://localhost:8080/"
        },
        "id": "Pyvf-oZ0XTvr",
        "outputId": "3d75c6c4-8019-4d36-d29a-ebf0a213f3ef"
      },
      "outputs": [
        {
          "data": {
            "text/plain": [
              "array([[300.1, 101.5, 499.5, 101. , 901.3, 802.9, 650.5, 701.8, 211.8,\n",
              "        103. , 331. , 502.5]])"
            ]
          },
          "execution_count": 32,
          "metadata": {},
          "output_type": "execute_result"
        }
      ],
      "source": [
        "# code\n",
        "ohlc1.shape\n",
        "f  =np.expand_dims(ohlc1,axis=0)\n",
        "f"
      ]
    },
    {
      "cell_type": "code",
      "execution_count": null,
      "metadata": {
        "colab": {
          "base_uri": "https://localhost:8080/"
        },
        "id": "B-Pk9HNzNdrb",
        "outputId": "b7cd6597-410a-4016-ba3b-f5103d608db8"
      },
      "outputs": [],
      "source": []
    },
    {
      "cell_type": "code",
      "execution_count": null,
      "metadata": {
        "colab": {
          "base_uri": "https://localhost:8080/"
        },
        "id": "5d0Ahp8QNsKO",
        "outputId": "14587e87-7f0f-4b9c-8df8-dd5500f21878"
      },
      "outputs": [],
      "source": []
    },
    {
      "cell_type": "markdown",
      "metadata": {
        "id": "_HmpYNTFERjS"
      },
      "source": [
        "### np.where\n",
        "\n",
        "The numpy.where() function returns the indices of elements in an input array where the given condition is satisfied.\n",
        "\n",
        "https://numpy.org/doc/stable/reference/generated/numpy.where.html"
      ]
    },
    {
      "cell_type": "code",
      "execution_count": 36,
      "metadata": {
        "colab": {
          "base_uri": "https://localhost:8080/"
        },
        "id": "H8k_ZDXjEo5W",
        "outputId": "688a96ee-b66c-48b7-8778-b502d489c82b"
      },
      "outputs": [
        {
          "name": "stdout",
          "output_type": "stream",
          "text": [
            "(array([ 2,  4,  5,  6,  7, 11]),)\n",
            "[300.1 101.5 499.5 101.  901.3 802.9 650.5 701.8 211.8 103.  331.  502.5]\n"
          ]
        }
      ],
      "source": [
        "ohlc1\n",
        "print(np.where(ohlc1>400.0))\n",
        "print(ohlc1)"
      ]
    },
    {
      "cell_type": "code",
      "execution_count": null,
      "metadata": {
        "colab": {
          "base_uri": "https://localhost:8080/"
        },
        "id": "n9mkvdFdHGLY",
        "outputId": "f39b8dd3-bbe4-4dc6-941d-03add9d30b08"
      },
      "outputs": [],
      "source": [
        "# find all indices with value greater than 400\n"
      ]
    },
    {
      "cell_type": "code",
      "execution_count": 37,
      "metadata": {
        "colab": {
          "base_uri": "https://localhost:8080/"
        },
        "id": "zJAUufBOHcu1",
        "outputId": "dcd75885-d287-41f3-f5cd-5025518d0024"
      },
      "outputs": [
        {
          "data": {
            "text/plain": [
              "array([300.1, 101.5,   0. , 101. ,   0. ,   0. ,   0. ,   0. , 211.8,\n",
              "       103. , 331. ,   0. ])"
            ]
          },
          "execution_count": 37,
          "metadata": {},
          "output_type": "execute_result"
        }
      ],
      "source": [
        "# replace all values > 400 with 0\n",
        "np.where(ohlc1>400.0,0,ohlc1)"
      ]
    },
    {
      "cell_type": "code",
      "execution_count": null,
      "metadata": {
        "colab": {
          "base_uri": "https://localhost:8080/"
        },
        "id": "Ygx7fC0BPP9e",
        "outputId": "45b4df8d-de53-4f5d-8917-969ba8895b88"
      },
      "outputs": [],
      "source": []
    },
    {
      "cell_type": "markdown",
      "metadata": {
        "id": "jsGIGNtCIS5-"
      },
      "source": [
        "### np.argmax\n",
        "\n",
        "The numpy.argmax() function returns indices of the max element of the array in a particular axis.\n",
        "\n",
        "https://numpy.org/doc/stable/reference/generated/numpy.argmax.html"
      ]
    },
    {
      "cell_type": "code",
      "execution_count": 39,
      "metadata": {
        "colab": {
          "base_uri": "https://localhost:8080/"
        },
        "id": "8YlXmMuaIRpj",
        "outputId": "448f7ecd-0282-41c4-d319-690f6219562b"
      },
      "outputs": [
        {
          "data": {
            "text/plain": [
              "array([300.1, 101.5, 499.5, 101. , 901.3, 802.9, 650.5, 701.8, 211.8,\n",
              "       103. , 331. , 502.5])"
            ]
          },
          "execution_count": 39,
          "metadata": {},
          "output_type": "execute_result"
        }
      ],
      "source": [
        "# code\n",
        "ohlc1"
      ]
    },
    {
      "cell_type": "code",
      "execution_count": 40,
      "metadata": {
        "colab": {
          "base_uri": "https://localhost:8080/"
        },
        "id": "gdrU6cQ9Pn_A",
        "outputId": "f1f091e9-aabb-4ce5-e0e7-3b2fe3062426"
      },
      "outputs": [
        {
          "data": {
            "text/plain": [
              "4"
            ]
          },
          "execution_count": 40,
          "metadata": {},
          "output_type": "execute_result"
        }
      ],
      "source": [
        "np.argmax(ohlc1)"
      ]
    },
    {
      "cell_type": "code",
      "execution_count": 41,
      "metadata": {
        "colab": {
          "base_uri": "https://localhost:8080/"
        },
        "id": "CohggNGrP5am",
        "outputId": "596701c9-6de8-4c0c-c749-b43b4f34babe"
      },
      "outputs": [
        {
          "data": {
            "text/plain": [
              "3"
            ]
          },
          "execution_count": 41,
          "metadata": {},
          "output_type": "execute_result"
        }
      ],
      "source": [
        "np.argmin(ohlc1)"
      ]
    },
    {
      "cell_type": "code",
      "execution_count": null,
      "metadata": {
        "colab": {
          "base_uri": "https://localhost:8080/"
        },
        "id": "435CD24aIpNA",
        "outputId": "d084240d-6966-4a42-9d98-2d285e69dc3a"
      },
      "outputs": [],
      "source": []
    },
    {
      "cell_type": "code",
      "execution_count": null,
      "metadata": {
        "colab": {
          "base_uri": "https://localhost:8080/"
        },
        "id": "PBuZH3mbQE1U",
        "outputId": "1f76fb63-e7d8-4593-de4c-1282c2ca8c9c"
      },
      "outputs": [],
      "source": []
    },
    {
      "cell_type": "code",
      "execution_count": null,
      "metadata": {
        "colab": {
          "base_uri": "https://localhost:8080/"
        },
        "id": "T9TrLGNBWjV1",
        "outputId": "fa3cbdae-82e3-4c10-fa10-4dfb654b3263"
      },
      "outputs": [],
      "source": [
        "# np.argmin\n"
      ]
    },
    {
      "cell_type": "markdown",
      "metadata": {
        "id": "1OdKi27pa091"
      },
      "source": [
        "### np.cumsum\n",
        "\n",
        "numpy.cumsum() function is used when we want to compute the cumulative sum of array elements over a given axis.\n",
        "\n",
        "https://numpy.org/doc/stable/reference/generated/numpy.cumsum.html"
      ]
    },
    {
      "cell_type": "code",
      "execution_count": 42,
      "metadata": {
        "colab": {
          "base_uri": "https://localhost:8080/"
        },
        "id": "VZmQUWH9bDk_",
        "outputId": "5555c8b5-2b7a-494b-c118-ad97bc253e3c"
      },
      "outputs": [
        {
          "data": {
            "text/plain": [
              "array([300.1, 101.5, 499.5, 101. , 901.3, 802.9, 650.5, 701.8, 211.8,\n",
              "       103. , 331. , 502.5])"
            ]
          },
          "execution_count": 42,
          "metadata": {},
          "output_type": "execute_result"
        }
      ],
      "source": [
        "ohlc1"
      ]
    },
    {
      "cell_type": "code",
      "execution_count": 43,
      "metadata": {
        "colab": {
          "base_uri": "https://localhost:8080/"
        },
        "id": "O0npD0R_RF-A",
        "outputId": "6bdbba06-e6f5-4ff0-8a7c-12c6ccd82f8b"
      },
      "outputs": [
        {
          "data": {
            "text/plain": [
              "array([ 300.1,  401.6,  901.1, 1002.1, 1903.4, 2706.3, 3356.8, 4058.6,\n",
              "       4270.4, 4373.4, 4704.4, 5206.9])"
            ]
          },
          "execution_count": 43,
          "metadata": {},
          "output_type": "execute_result"
        }
      ],
      "source": [
        "np.cumsum(ohlc1)"
      ]
    },
    {
      "cell_type": "code",
      "execution_count": null,
      "metadata": {
        "colab": {
          "base_uri": "https://localhost:8080/"
        },
        "id": "Ypr5nUGxRJuO",
        "outputId": "c5daf9f8-4115-442b-d7e5-3c2c7fbe6ff9"
      },
      "outputs": [],
      "source": []
    },
    {
      "cell_type": "code",
      "execution_count": null,
      "metadata": {
        "colab": {
          "base_uri": "https://localhost:8080/"
        },
        "id": "WXRZyWT9RTMw",
        "outputId": "325ecfe7-d7e7-4c0c-8f12-1f4fb464ccaa"
      },
      "outputs": [],
      "source": []
    },
    {
      "cell_type": "code",
      "execution_count": null,
      "metadata": {
        "colab": {
          "base_uri": "https://localhost:8080/"
        },
        "id": "5WGkAjfjRNOe",
        "outputId": "9fe4827c-86b1-4c15-d26f-8a2232e6cffd"
      },
      "outputs": [],
      "source": []
    },
    {
      "cell_type": "code",
      "execution_count": 44,
      "metadata": {
        "colab": {
          "base_uri": "https://localhost:8080/"
        },
        "id": "RtGuPGr9WlVV",
        "outputId": "6adf6a7d-815f-4b94-d5fc-f85366c5d227"
      },
      "outputs": [
        {
          "data": {
            "text/plain": [
              "array([3.00100000e+02, 3.04601500e+04, 1.52148449e+07, 1.53669934e+09,\n",
              "       1.38502711e+12, 1.11203827e+15, 7.23380894e+17, 5.07668711e+20,\n",
              "       1.07524233e+23, 1.10749960e+25, 3.66582368e+27, 1.84207640e+30])"
            ]
          },
          "execution_count": 44,
          "metadata": {},
          "output_type": "execute_result"
        }
      ],
      "source": [
        "# np.cumprod\n",
        "np.cumprod(ohlc1)"
      ]
    },
    {
      "cell_type": "code",
      "execution_count": null,
      "metadata": {
        "colab": {
          "base_uri": "https://localhost:8080/"
        },
        "id": "8kdxzQXiRMOS",
        "outputId": "c052981c-77a4-48f2-f3a3-fdf8a2c214a2"
      },
      "outputs": [],
      "source": []
    },
    {
      "cell_type": "markdown",
      "metadata": {
        "id": "SIuRwLMjcnOl"
      },
      "source": [
        "### np.percentile\n",
        "\n",
        "numpy.percentile()function used to compute the nth percentile of the given data (array elements) along the specified axis.\n",
        "\n",
        "https://numpy.org/doc/stable/reference/generated/numpy.percentile.html"
      ]
    },
    {
      "cell_type": "code",
      "execution_count": 45,
      "metadata": {
        "colab": {
          "base_uri": "https://localhost:8080/"
        },
        "id": "_o8iH4Evcl8C",
        "outputId": "cefa31c8-c4b3-4fb0-aa47-c786c65fcd8a"
      },
      "outputs": [
        {
          "data": {
            "text/plain": [
              "array([300.1, 101.5, 499.5, 101. , 901.3, 802.9, 650.5, 701.8, 211.8,\n",
              "       103. , 331. , 502.5])"
            ]
          },
          "execution_count": 45,
          "metadata": {},
          "output_type": "execute_result"
        }
      ],
      "source": [
        "ohlc1"
      ]
    },
    {
      "cell_type": "code",
      "execution_count": 48,
      "metadata": {
        "colab": {
          "base_uri": "https://localhost:8080/"
        },
        "id": "gBH8ZvtrSND9",
        "outputId": "baee8f9f-e1bd-40dd-ffd6-c50b5660c975"
      },
      "outputs": [
        {
          "data": {
            "text/plain": [
              "415.25"
            ]
          },
          "execution_count": 48,
          "metadata": {},
          "output_type": "execute_result"
        }
      ],
      "source": [
        "np.percentile(ohlc1,50)"
      ]
    },
    {
      "cell_type": "code",
      "execution_count": 49,
      "metadata": {
        "colab": {
          "base_uri": "https://localhost:8080/"
        },
        "id": "KLIhMJSTScTy",
        "outputId": "62d539c9-0d48-4791-d269-752469424313"
      },
      "outputs": [
        {
          "data": {
            "text/plain": [
              "415.25"
            ]
          },
          "execution_count": 49,
          "metadata": {},
          "output_type": "execute_result"
        }
      ],
      "source": [
        "np.median(ohlc1)"
      ]
    },
    {
      "cell_type": "markdown",
      "metadata": {
        "id": "2C6nGaJHev5N"
      },
      "source": [
        "### np.histogram\n",
        "\n",
        "Numpy has a built-in numpy.histogram() function which represents the frequency of data distribution in the graphical form.\n",
        "\n",
        "https://numpy.org/doc/stable/reference/generated/numpy.histogram.html"
      ]
    },
    {
      "cell_type": "code",
      "execution_count": 55,
      "metadata": {
        "colab": {
          "base_uri": "https://localhost:8080/"
        },
        "id": "S2pFLU5ZWuTx",
        "outputId": "f461cfbe-2556-49c4-a2f2-d9cc8dcccd29"
      },
      "outputs": [
        {
          "data": {
            "text/plain": [
              "array([300.1, 101.5, 499.5, 101. , 901.3, 802.9, 650.5, 701.8, 211.8,\n",
              "       103. , 331. , 502.5])"
            ]
          },
          "execution_count": 55,
          "metadata": {},
          "output_type": "execute_result"
        }
      ],
      "source": [
        "# code\n",
        "ohlc1"
      ]
    },
    {
      "cell_type": "code",
      "execution_count": 56,
      "metadata": {
        "colab": {
          "base_uri": "https://localhost:8080/"
        },
        "id": "wZlQuOFpSbE3",
        "outputId": "03276c6f-0c91-4872-c74c-902092e7925d"
      },
      "outputs": [
        {
          "data": {
            "text/plain": [
              "(array([4, 4, 4]), array([  0, 300, 600, 999]))"
            ]
          },
          "execution_count": 56,
          "metadata": {},
          "output_type": "execute_result"
        }
      ],
      "source": [
        "np.histogram(ohlc1,bins=[0,300,600,999])"
      ]
    },
    {
      "cell_type": "markdown",
      "metadata": {
        "id": "JxgMS0Zef8oQ"
      },
      "source": [
        "### np.corrcoef\n",
        "\n",
        "Return Pearson product-moment correlation coefficients.\n",
        "\n",
        "https://numpy.org/doc/stable/reference/generated/numpy.corrcoef.html"
      ]
    },
    {
      "cell_type": "code",
      "execution_count": 63,
      "metadata": {
        "colab": {
          "base_uri": "https://localhost:8080/"
        },
        "id": "ZAMnvEm5WyUp",
        "outputId": "0445bb77-29e1-49e2-f07e-656e33f9b70d"
      },
      "outputs": [
        {
          "data": {
            "text/plain": [
              "array([[1.        , 0.40469152],\n",
              "       [0.40469152, 1.        ]])"
            ]
          },
          "execution_count": 63,
          "metadata": {},
          "output_type": "execute_result"
        }
      ],
      "source": [
        "a = np.array([111,222,333,111,222,333])\n",
        "b = np.array([0,20,-1,300,200,1000])\n",
        "\n",
        "np.corrcoef(a,b)"
      ]
    },
    {
      "cell_type": "markdown",
      "metadata": {
        "id": "Ot4h1PdGh-vI"
      },
      "source": [
        "### np.isin\n",
        "\n",
        "With the help of numpy.isin() method, we can see that one array having values are checked in a different numpy array having different elements with different sizes.\n",
        "\n",
        "https://numpy.org/doc/stable/reference/generated/numpy.isin.html"
      ]
    },
    {
      "cell_type": "code",
      "execution_count": 77,
      "metadata": {
        "colab": {
          "base_uri": "https://localhost:8080/"
        },
        "id": "oyyVo0qnW2Cz",
        "outputId": "37417575-e23f-425e-d617-76cfb848da40"
      },
      "outputs": [
        {
          "data": {
            "text/plain": [
              "array([300.1, 101.5, 499.5, 101. , 901.3, 802.9, 650.5, 701.8, 211.8,\n",
              "       103. , 331. , 502.5])"
            ]
          },
          "execution_count": 77,
          "metadata": {},
          "output_type": "execute_result"
        }
      ],
      "source": [
        "# code\n",
        "ohlc1\n",
        "items = [101. , 901.3, 802.9, 650.5]"
      ]
    },
    {
      "cell_type": "code",
      "execution_count": 79,
      "metadata": {
        "colab": {
          "base_uri": "https://localhost:8080/"
        },
        "id": "lLA0c9z2VE3O",
        "outputId": "9e53c0d3-a425-4197-dbbd-53831e391a12"
      },
      "outputs": [
        {
          "data": {
            "text/plain": [
              "array([300.1])"
            ]
          },
          "execution_count": 79,
          "metadata": {},
          "output_type": "execute_result"
        }
      ],
      "source": [
        "ohlc1[np.isin(ohlc1,300.1)]"
      ]
    },
    {
      "cell_type": "code",
      "execution_count": 80,
      "metadata": {
        "colab": {
          "base_uri": "https://localhost:8080/"
        },
        "id": "lMreAl7yEvBa",
        "outputId": "64044da1-ce34-403c-f97d-7b77a7e9ecea"
      },
      "outputs": [
        {
          "data": {
            "text/plain": [
              "array([300.1, 101.5, 499.5, 101. ])"
            ]
          },
          "execution_count": 80,
          "metadata": {},
          "output_type": "execute_result"
        }
      ],
      "source": [
        "# code\n",
        "ohlc1[np.isin(ohlc1,items)]"
      ]
    },
    {
      "cell_type": "code",
      "execution_count": null,
      "metadata": {
        "colab": {
          "base_uri": "https://localhost:8080/"
        },
        "id": "82l_pzDbVfNp",
        "outputId": "ab7282bc-5857-4c51-9f78-feda9252233e"
      },
      "outputs": [],
      "source": []
    },
    {
      "cell_type": "code",
      "execution_count": null,
      "metadata": {
        "colab": {
          "base_uri": "https://localhost:8080/"
        },
        "id": "nWp3PQ87Vkin",
        "outputId": "1f8ef30d-846d-47f2-bdd8-0dcefc7312e2"
      },
      "outputs": [],
      "source": []
    },
    {
      "cell_type": "code",
      "execution_count": null,
      "metadata": {
        "colab": {
          "base_uri": "https://localhost:8080/"
        },
        "id": "UOU3WOBwVm59",
        "outputId": "a67d4005-b585-4977-9916-3b3a177a5410"
      },
      "outputs": [],
      "source": []
    },
    {
      "cell_type": "code",
      "execution_count": null,
      "metadata": {
        "colab": {
          "base_uri": "https://localhost:8080/"
        },
        "id": "xZrJHzr0E0zN",
        "outputId": "d9ed43a6-623f-4b5b-cfcd-03dc841375b2"
      },
      "outputs": [],
      "source": [
        "# code\n"
      ]
    },
    {
      "cell_type": "code",
      "execution_count": null,
      "metadata": {
        "id": "dtl97d4SWHUG"
      },
      "outputs": [],
      "source": []
    },
    {
      "cell_type": "code",
      "execution_count": null,
      "metadata": {
        "colab": {
          "base_uri": "https://localhost:8080/"
        },
        "id": "VmGLdiy5pQXc",
        "outputId": "728b29c4-517a-440f-da4a-8d1aaecbf6e7"
      },
      "outputs": [],
      "source": [
        "# code\n"
      ]
    },
    {
      "cell_type": "code",
      "execution_count": null,
      "metadata": {
        "colab": {
          "base_uri": "https://localhost:8080/"
        },
        "id": "A5Dp974mWeWd",
        "outputId": "b3ef3851-7b46-4a55-8e1b-3a1b77a70cd1"
      },
      "outputs": [],
      "source": []
    },
    {
      "cell_type": "code",
      "execution_count": null,
      "metadata": {
        "colab": {
          "base_uri": "https://localhost:8080/"
        },
        "id": "hHSwzU1irY0f",
        "outputId": "b342e657-f1e1-4421-9447-e261ec0efc36"
      },
      "outputs": [],
      "source": []
    },
    {
      "cell_type": "code",
      "execution_count": null,
      "metadata": {
        "colab": {
          "base_uri": "https://localhost:8080/"
        },
        "id": "XSIuF3zWXZXP",
        "outputId": "3cb32023-afe2-4b1a-ba36-a7336083e7f6"
      },
      "outputs": [],
      "source": []
    },
    {
      "cell_type": "code",
      "execution_count": null,
      "metadata": {
        "colab": {
          "base_uri": "https://localhost:8080/"
        },
        "id": "HhGH8cskXgR5",
        "outputId": "9fe9818f-5d74-4590-e009-707b73f58a41"
      },
      "outputs": [],
      "source": []
    },
    {
      "cell_type": "code",
      "execution_count": null,
      "metadata": {
        "colab": {
          "base_uri": "https://localhost:8080/"
        },
        "id": "KaZbcTk0XubR",
        "outputId": "7d086410-d76c-4818-e35f-edf0792d54eb"
      },
      "outputs": [],
      "source": []
    },
    {
      "cell_type": "code",
      "execution_count": null,
      "metadata": {
        "colab": {
          "base_uri": "https://localhost:8080/"
        },
        "id": "SqV9rpQ_XzVg",
        "outputId": "ad95c2eb-ed10-46ec-9c99-2a5fa4b3082a"
      },
      "outputs": [],
      "source": []
    },
    {
      "cell_type": "code",
      "execution_count": null,
      "metadata": {
        "colab": {
          "base_uri": "https://localhost:8080/"
        },
        "id": "Q3S9gjNzsL73",
        "outputId": "536e7835-500c-4493-9f69-0273a967f8b4"
      },
      "outputs": [],
      "source": [
        "# code\n"
      ]
    },
    {
      "cell_type": "code",
      "execution_count": null,
      "metadata": {
        "colab": {
          "base_uri": "https://localhost:8080/"
        },
        "id": "x08JKAVHYOxF",
        "outputId": "a8ba892e-f2ea-44a3-b48e-9a3996ff81f9"
      },
      "outputs": [],
      "source": []
    },
    {
      "cell_type": "code",
      "execution_count": null,
      "metadata": {
        "id": "IYClnmitOqTl"
      },
      "outputs": [],
      "source": []
    },
    {
      "cell_type": "code",
      "execution_count": null,
      "metadata": {
        "id": "nWJdTlHCoQip"
      },
      "outputs": [],
      "source": []
    },
    {
      "cell_type": "code",
      "execution_count": null,
      "metadata": {
        "id": "KEkjJ5_owXc_"
      },
      "outputs": [],
      "source": []
    },
    {
      "cell_type": "code",
      "execution_count": null,
      "metadata": {
        "id": "veZNJm8xB4D_"
      },
      "outputs": [],
      "source": []
    },
    {
      "cell_type": "code",
      "execution_count": null,
      "metadata": {
        "id": "iNBbQiDeNnZm"
      },
      "outputs": [],
      "source": []
    },
    {
      "cell_type": "code",
      "execution_count": null,
      "metadata": {
        "id": "B9F5ogZENohK"
      },
      "outputs": [],
      "source": []
    }
  ],
  "metadata": {
    "colab": {
      "provenance": []
    },
    "kernelspec": {
      "display_name": "Python 3",
      "name": "python3"
    },
    "language_info": {
      "codemirror_mode": {
        "name": "ipython",
        "version": 3
      },
      "file_extension": ".py",
      "mimetype": "text/x-python",
      "name": "python",
      "nbconvert_exporter": "python",
      "pygments_lexer": "ipython3",
      "version": "3.1.undefined"
    }
  },
  "nbformat": 4,
  "nbformat_minor": 0
}
