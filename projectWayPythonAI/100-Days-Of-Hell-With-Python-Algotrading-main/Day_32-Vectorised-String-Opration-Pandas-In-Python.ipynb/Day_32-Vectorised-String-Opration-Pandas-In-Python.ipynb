{
  "cells": [
    {
      "cell_type": "markdown",
      "metadata": {},
      "source": [
        "\n",
        "### 1. Vectorized String Operations\n",
        "**Definition:**\n",
        "Vectorized string operations in Pandas allow for efficient string manipulations on Series and DataFrame objects. These operations are applied element-wise and are optimized for performance.\n",
        "\n",
        "**Use Cases in Algorithmic Trading:**\n",
        "- **Cleaning and Preprocessing Data:** Removing unwanted characters, trimming whitespace, and normalizing text in trading data.\n",
        "- **Feature Extraction:** Extracting meaningful features from textual data such as news headlines, analyst reports, or social media posts.\n",
        "- **Text Processing:** Preparing and transforming text data for natural language processing (NLP) tasks to generate trading signals.\n",
        "\n",
        "**Example:**\n",
        "```python\n",
        "import pandas as pd\n",
        "\n",
        "# Sample news headlines related to trading\n",
        "df = pd.DataFrame({\n",
        "    'headline': [\n",
        "        '  Apple releases new iPhone ',\n",
        "        'GOOGLE launches new AI tool!',\n",
        "        'Tesla stock surges after earnings report  '\n",
        "    ]\n",
        "})\n",
        "\n",
        "# Removing leading and trailing whitespace\n",
        "df['cleaned_headline'] = df['headline'].str.strip()\n",
        "\n",
        "# Converting to lowercase\n",
        "df['lowercase_headline'] = df['cleaned_headline'].str.lower()\n",
        "\n",
        "# Checking if a headline contains the word 'new'\n",
        "df['contains_new'] = df['lowercase_headline'].str.contains('new')\n",
        "\n",
        "print(df)\n",
        "```\n",
        "\n",
        "### Summary\n",
        "\n",
        "- **Vectorized string operations** clean and preprocess textual data from news headlines, analyst reports, or social media to extract meaningful features and generate trading signals.\n"
      ]
    },
    {
      "cell_type": "code",
      "execution_count": null,
      "metadata": {},
      "outputs": [],
      "source": []
    },
    {
      "cell_type": "code",
      "execution_count": 1,
      "metadata": {
        "id": "QDqPlAjfXlk8"
      },
      "outputs": [],
      "source": [
        "import pandas as pd\n",
        "import numpy as np"
      ]
    },
    {
      "cell_type": "code",
      "execution_count": 10,
      "metadata": {},
      "outputs": [
        {
          "ename": "AttributeError",
          "evalue": "'NoneType' object has no attribute 'lower'",
          "output_type": "error",
          "traceback": [
            "\u001b[0;31m---------------------------------------------------------------------------\u001b[0m",
            "\u001b[0;31mAttributeError\u001b[0m                            Traceback (most recent call last)",
            "Cell \u001b[0;32mIn[10], line 11\u001b[0m\n\u001b[1;32m      9\u001b[0m mprice \u001b[38;5;241m=\u001b[39m[]\n\u001b[1;32m     10\u001b[0m \u001b[38;5;28;01mfor\u001b[39;00m i \u001b[38;5;129;01min\u001b[39;00m ticker:\n\u001b[0;32m---> 11\u001b[0m     mprice\u001b[38;5;241m.\u001b[39mappend(\u001b[43mi\u001b[49m\u001b[38;5;241;43m.\u001b[39;49m\u001b[43mlower\u001b[49m())\n\u001b[1;32m     12\u001b[0m mprice\n",
            "\u001b[0;31mAttributeError\u001b[0m: 'NoneType' object has no attribute 'lower'"
          ]
        }
      ],
      "source": [
        "# price = [100,200,300,None,400,500]\n",
        "# mprice =[]\n",
        "# for i in price:\n",
        "#     mprice.append(i+10)\n",
        "# mprice\n",
        "\n",
        "\n",
        "ticker = ['AAPL','MSFT','META',None,'HPCL']\n",
        "mprice =[]\n",
        "for i in ticker:\n",
        "    mprice.append(i.lower())\n",
        "mprice"
      ]
    },
    {
      "cell_type": "code",
      "execution_count": null,
      "metadata": {},
      "outputs": [],
      "source": []
    },
    {
      "cell_type": "code",
      "execution_count": 13,
      "metadata": {
        "colab": {
          "base_uri": "https://localhost:8080/"
        },
        "id": "3mQp-OPsbiwS",
        "outputId": "9908fcb2-96ec-43f3-9d80-3aa47ce40951"
      },
      "outputs": [
        {
          "data": {
            "text/plain": [
              "array([110, 210, 310, 410, 510])"
            ]
          },
          "execution_count": 13,
          "metadata": {},
          "output_type": "execute_result"
        }
      ],
      "source": [
        "# What are vectorized operations\n",
        "price = [100,200,300,400,500]\n",
        "npprice = np.array(price)\n",
        "npprice + 10"
      ]
    },
    {
      "cell_type": "code",
      "execution_count": null,
      "metadata": {
        "colab": {
          "base_uri": "https://localhost:8080/",
          "height": 288
        },
        "id": "GQ1pnK4VYFff",
        "outputId": "6f48ea2e-c080-47c2-f6ed-bd3303d8324e"
      },
      "outputs": [],
      "source": [
        "# problem in vectorized opertions in vanilla python\n",
        "ticker = ['AAPL','MSFT','META',None,'HPCL']\n",
        "mprice =[]\n",
        "for i in ticker:\n",
        "    mprice.append(i.lower())\n",
        "mprice"
      ]
    },
    {
      "cell_type": "code",
      "execution_count": 15,
      "metadata": {
        "colab": {
          "base_uri": "https://localhost:8080/"
        },
        "id": "RQftULmHYL0j",
        "outputId": "fce67eb9-ad20-4f22-9a79-2de669716eb0"
      },
      "outputs": [
        {
          "data": {
            "text/plain": [
              "0    aapl\n",
              "1    msft\n",
              "2    meta\n",
              "3    None\n",
              "4    hpcl\n",
              "dtype: object"
            ]
          },
          "execution_count": 15,
          "metadata": {},
          "output_type": "execute_result"
        }
      ],
      "source": [
        "# How pandas solves this issue?\n",
        "ticker = ['AAPL','MSFT','META',None,'HPCL']\n",
        "ser = pd.Series(ticker)\n",
        "\n",
        "\n",
        "# string accessor\n",
        "ser.str.lower()\n",
        "\n",
        "# fast and optimized"
      ]
    },
    {
      "cell_type": "code",
      "execution_count": 21,
      "metadata": {
        "colab": {
          "base_uri": "https://localhost:8080/"
        },
        "id": "qEKjNlikgBXh",
        "outputId": "272f723e-4a5c-4bc4-ff19-fe919c461634"
      },
      "outputs": [
        {
          "data": {
            "text/html": [
              "<div>\n",
              "<style scoped>\n",
              "    .dataframe tbody tr th:only-of-type {\n",
              "        vertical-align: middle;\n",
              "    }\n",
              "\n",
              "    .dataframe tbody tr th {\n",
              "        vertical-align: top;\n",
              "    }\n",
              "\n",
              "    .dataframe thead th {\n",
              "        text-align: right;\n",
              "    }\n",
              "</style>\n",
              "<table border=\"1\" class=\"dataframe\">\n",
              "  <thead>\n",
              "    <tr style=\"text-align: right;\">\n",
              "      <th></th>\n",
              "      <th>Symbol</th>\n",
              "      <th>Name</th>\n",
              "      <th>Sector</th>\n",
              "      <th>SEC Filings</th>\n",
              "    </tr>\n",
              "  </thead>\n",
              "  <tbody>\n",
              "    <tr>\n",
              "      <th>0</th>\n",
              "      <td>MMM</td>\n",
              "      <td>3M Company</td>\n",
              "      <td>Industrials</td>\n",
              "      <td>http://www.sec.gov/cgi-bin/browse-edgar?action...</td>\n",
              "    </tr>\n",
              "    <tr>\n",
              "      <th>1</th>\n",
              "      <td>AOS</td>\n",
              "      <td>A.O. Smith Corp</td>\n",
              "      <td>Industrials</td>\n",
              "      <td>http://www.sec.gov/cgi-bin/browse-edgar?action...</td>\n",
              "    </tr>\n",
              "    <tr>\n",
              "      <th>2</th>\n",
              "      <td>ABT</td>\n",
              "      <td>Abbott Laboratories</td>\n",
              "      <td>Health Care</td>\n",
              "      <td>http://www.sec.gov/cgi-bin/browse-edgar?action...</td>\n",
              "    </tr>\n",
              "    <tr>\n",
              "      <th>3</th>\n",
              "      <td>ABBV</td>\n",
              "      <td>AbbVie Inc.</td>\n",
              "      <td>Health Care</td>\n",
              "      <td>http://www.sec.gov/cgi-bin/browse-edgar?action...</td>\n",
              "    </tr>\n",
              "    <tr>\n",
              "      <th>4</th>\n",
              "      <td>ACN</td>\n",
              "      <td>Accenture plc</td>\n",
              "      <td>Information Technology</td>\n",
              "      <td>http://www.sec.gov/cgi-bin/browse-edgar?action...</td>\n",
              "    </tr>\n",
              "    <tr>\n",
              "      <th>...</th>\n",
              "      <td>...</td>\n",
              "      <td>...</td>\n",
              "      <td>...</td>\n",
              "      <td>...</td>\n",
              "    </tr>\n",
              "    <tr>\n",
              "      <th>500</th>\n",
              "      <td>XYL</td>\n",
              "      <td>Xylem Inc.</td>\n",
              "      <td>Industrials</td>\n",
              "      <td>http://www.sec.gov/cgi-bin/browse-edgar?action...</td>\n",
              "    </tr>\n",
              "    <tr>\n",
              "      <th>501</th>\n",
              "      <td>YUM</td>\n",
              "      <td>Yum! Brands Inc</td>\n",
              "      <td>Consumer Discretionary</td>\n",
              "      <td>http://www.sec.gov/cgi-bin/browse-edgar?action...</td>\n",
              "    </tr>\n",
              "    <tr>\n",
              "      <th>502</th>\n",
              "      <td>ZBH</td>\n",
              "      <td>Zimmer Biomet Holdings</td>\n",
              "      <td>Health Care</td>\n",
              "      <td>http://www.sec.gov/cgi-bin/browse-edgar?action...</td>\n",
              "    </tr>\n",
              "    <tr>\n",
              "      <th>503</th>\n",
              "      <td>ZION</td>\n",
              "      <td>Zions Bancorp</td>\n",
              "      <td>Financials</td>\n",
              "      <td>http://www.sec.gov/cgi-bin/browse-edgar?action...</td>\n",
              "    </tr>\n",
              "    <tr>\n",
              "      <th>504</th>\n",
              "      <td>ZTS</td>\n",
              "      <td>Zoetis</td>\n",
              "      <td>Health Care</td>\n",
              "      <td>http://www.sec.gov/cgi-bin/browse-edgar?action...</td>\n",
              "    </tr>\n",
              "  </tbody>\n",
              "</table>\n",
              "<p>505 rows × 4 columns</p>\n",
              "</div>"
            ],
            "text/plain": [
              "    Symbol                    Name                  Sector  \\\n",
              "0      MMM              3M Company             Industrials   \n",
              "1      AOS         A.O. Smith Corp             Industrials   \n",
              "2      ABT     Abbott Laboratories             Health Care   \n",
              "3     ABBV             AbbVie Inc.             Health Care   \n",
              "4      ACN           Accenture plc  Information Technology   \n",
              "..     ...                     ...                     ...   \n",
              "500    XYL              Xylem Inc.             Industrials   \n",
              "501    YUM         Yum! Brands Inc  Consumer Discretionary   \n",
              "502    ZBH  Zimmer Biomet Holdings             Health Care   \n",
              "503   ZION           Zions Bancorp              Financials   \n",
              "504    ZTS                  Zoetis             Health Care   \n",
              "\n",
              "                                           SEC Filings  \n",
              "0    http://www.sec.gov/cgi-bin/browse-edgar?action...  \n",
              "1    http://www.sec.gov/cgi-bin/browse-edgar?action...  \n",
              "2    http://www.sec.gov/cgi-bin/browse-edgar?action...  \n",
              "3    http://www.sec.gov/cgi-bin/browse-edgar?action...  \n",
              "4    http://www.sec.gov/cgi-bin/browse-edgar?action...  \n",
              "..                                                 ...  \n",
              "500  http://www.sec.gov/cgi-bin/browse-edgar?action...  \n",
              "501  http://www.sec.gov/cgi-bin/browse-edgar?action...  \n",
              "502  http://www.sec.gov/cgi-bin/browse-edgar?action...  \n",
              "503  http://www.sec.gov/cgi-bin/browse-edgar?action...  \n",
              "504  http://www.sec.gov/cgi-bin/browse-edgar?action...  \n",
              "\n",
              "[505 rows x 4 columns]"
            ]
          },
          "execution_count": 21,
          "metadata": {},
          "output_type": "execute_result"
        }
      ],
      "source": [
        "# import real world algotrading set\n",
        "\n",
        "df = pd.read_csv('constituents-financials_csv.csv')\n",
        "dfs = df[['Symbol','Name','Sector','SEC Filings']]\n",
        "dfs\n"
      ]
    },
    {
      "cell_type": "code",
      "execution_count": 34,
      "metadata": {
        "colab": {
          "base_uri": "https://localhost:8080/"
        },
        "id": "iJfR6a4cZCYz",
        "outputId": "c1d84c5b-c240-4a05-c88d-4d02525d12fe"
      },
      "outputs": [
        {
          "data": {
            "text/plain": [
              "0                  3M Company\n",
              "1             A.O. Smith Corp\n",
              "2         Abbott Laboratories\n",
              "3                 AbbVie Inc.\n",
              "4               Accenture plc\n",
              "                ...          \n",
              "500                Xylem Inc.\n",
              "501           Yum! Brands Inc\n",
              "502    Zimmer Biomet Holdings\n",
              "503             Zions Bancorp\n",
              "504                    Zoetis\n",
              "Name: Name, Length: 505, dtype: object"
            ]
          },
          "execution_count": 34,
          "metadata": {},
          "output_type": "execute_result"
        }
      ],
      "source": [
        "# Common Functions\n",
        "# lower/upper/capitalize/title\n",
        "dfs['Name'].str.lower()\n",
        "dfs['Name'].str.upper()\n",
        "dfs['Name'].str.capitalize()\n",
        "dfs['Name'].str.title()\n",
        "# len\n",
        "dfs['Name'][dfs['Name'].str.len() > 30]\n",
        "# strip\n",
        "dfs['Name'].str.strip()"
      ]
    },
    {
      "cell_type": "code",
      "execution_count": 48,
      "metadata": {
        "colab": {
          "base_uri": "https://localhost:8080/",
          "height": 302
        },
        "id": "YVjsoN71mtEe",
        "outputId": "ea033545-5e41-4358-a8af-3cb75834d754"
      },
      "outputs": [
        {
          "data": {
            "text/plain": [
              "15             Air Products & Chemicals Inc\n",
              "19      Alexandria Real Estate Equities Inc\n",
              "37         American Water Works Company Inc\n",
              "56                Arthur J. Gallagher & Co.\n",
              "64               Baker Hughes, a GE Company\n",
              "202          Fortune Brands Home & Security\n",
              "258           J. B. Hunt Transport Services\n",
              "277     Laboratory Corp. of America Holding\n",
              "436       The Bank of New York Mellon Corp.\n",
              "452        Twenty-First Century Fox Class A\n",
              "453        Twenty-First Century Fox Class B\n",
              "457    Ulta Salon Cosmetics & Fragrance Inc\n",
              "Name: Name, dtype: object"
            ]
          },
          "execution_count": 48,
          "metadata": {},
          "output_type": "execute_result"
        }
      ],
      "source": [
        "# split -> get\n",
        "dfs['Name'][dfs['Name'].str.split().str.len() > 4]"
      ]
    },
    {
      "cell_type": "code",
      "execution_count": 55,
      "metadata": {
        "colab": {
          "base_uri": "https://localhost:8080/"
        },
        "id": "2Vm-s-fwp2s3",
        "outputId": "83436fda-449a-469a-a035-c9ced72d84ba"
      },
      "outputs": [
        {
          "data": {
            "text/plain": [
              "0                 3MCompany\n",
              "1             A.O.SmithCorp\n",
              "2        AbbottLaboratories\n",
              "3                AbbVieInc.\n",
              "4              Accentureplc\n",
              "               ...         \n",
              "500               XylemInc.\n",
              "501           Yum!BrandsInc\n",
              "502    ZimmerBiometHoldings\n",
              "503            ZionsBancorp\n",
              "504                  Zoetis\n",
              "Name: Name, Length: 505, dtype: object"
            ]
          },
          "execution_count": 55,
          "metadata": {},
          "output_type": "execute_result"
        }
      ],
      "source": [
        "# replace\n",
        "\n",
        "dfs['Name'].str.replace(' ','')\n"
      ]
    },
    {
      "cell_type": "code",
      "execution_count": 73,
      "metadata": {
        "colab": {
          "base_uri": "https://localhost:8080/",
          "height": 49
        },
        "id": "6zCRD0H-ZEfA",
        "outputId": "fa6bfcd0-896a-48cd-f85d-8d24ba363ff6"
      },
      "outputs": [
        {
          "data": {
            "text/plain": [
              "22           Allegion\n",
              "45           Andeavor\n",
              "46              ANSYS\n",
              "73          BlackRock\n",
              "76         BorgWarner\n",
              "81           Broadcom\n",
              "100            Cerner\n",
              "126    ConocoPhillips\n",
              "154         DowDuPont\n",
              "174           Equinix\n",
              "232           Hologic\n",
              "245            Incyte\n",
              "267           KeyCorp\n",
              "288    LyondellBasell\n",
              "290          Macerich\n",
              "324           Navient\n",
              "325            NetApp\n",
              "334              Nike\n",
              "337         Nordstrom\n",
              "348             ONEOK\n",
              "355            PayPal\n",
              "359       PerkinElmer\n",
              "360           Perrigo\n",
              "376          Prologis\n",
              "382             Qorvo\n",
              "392         Regeneron\n",
              "395            ResMed\n",
              "433        TechnipFMC\n",
              "451       TripAdvisor\n",
              "504            Zoetis\n",
              "Name: Name, dtype: object"
            ]
          },
          "execution_count": 73,
          "metadata": {},
          "output_type": "execute_result"
        }
      ],
      "source": [
        "# filtering\n",
        "# startswith/endswith\n",
        "dfs['Name'][dfs['Name'].str.startswith('A')]\n",
        "dfs['Name'][dfs['Name'].str.startswith('Z')]\n",
        "\n",
        "dfs['Name'][dfs['Name'].str.endswith('S')]\n",
        "\n",
        "\n",
        "dfs['Name'][(dfs['Name'].str.startswith('A')) & (dfs['Name'].str.endswith('A'))]\n",
        "\n",
        "# isdigit/isalpha...\n",
        "\n",
        "\n",
        "dfs['Name'][dfs['Name'].str.isalpha()]\n"
      ]
    },
    {
      "cell_type": "code",
      "execution_count": 162,
      "metadata": {
        "colab": {
          "base_uri": "https://localhost:8080/",
          "height": 711
        },
        "id": "MqxcE3x3ZPVR",
        "outputId": "ab42b4eb-a8ad-4349-de61-314ad18ca689"
      },
      "outputs": [
        {
          "data": {
            "text/plain": [
              "160       E*Trade\n",
              "230    Enterprise\n",
              "245        Incyte\n",
              "248      Exchange\n",
              "345    Automotive\n",
              "351       America\n",
              "481      Alliance\n",
              "Name: Last Name, dtype: object"
            ]
          },
          "execution_count": 162,
          "metadata": {},
          "output_type": "execute_result"
        }
      ],
      "source": [
        "# applying regex\n",
        "# contains\n",
        "# search john -> both case\n",
        "\n",
        "dfs['Name'][dfs['Name'].str.contains('JOHN',case=False)]\n",
        "\n",
        "# find lastnames with start and end char vowel\n",
        "\n",
        "#dfs['Last Name']= dfs['Name'].str.split().str[-1]\n",
        "\n",
        "dfs['Last Name'][(dfs['Last Name'].str.startswith('A')) & dfs['Last Name'].str.endswith('a')]\n",
        "\n",
        "\n",
        "dfs['Last Name'][dfs['Last Name'].str.contains('^[aeiouAEIOU].+[aeiouAEIOU]$')]\n"
      ]
    },
    {
      "cell_type": "code",
      "execution_count": null,
      "metadata": {},
      "outputs": [],
      "source": []
    },
    {
      "cell_type": "code",
      "execution_count": 168,
      "metadata": {
        "colab": {
          "base_uri": "https://localhost:8080/"
        },
        "id": "0S4jPWUjZfwj",
        "outputId": "66909574-36e5-407e-a160-e17034e24543"
      },
      "outputs": [
        {
          "data": {
            "text/plain": [
              "0                  ynapmoC M3\n",
              "1             proC htimS .O.A\n",
              "2         seirotarobaL ttobbA\n",
              "3                 .cnI eiVbbA\n",
              "4               clp erutneccA\n",
              "                ...          \n",
              "500                .cnI melyX\n",
              "501           cnI sdnarB !muY\n",
              "502    sgnidloH temoiB remmiZ\n",
              "503             procnaB snoiZ\n",
              "504                    siteoZ\n",
              "Name: Name, Length: 505, dtype: object"
            ]
          },
          "execution_count": 168,
          "metadata": {},
          "output_type": "execute_result"
        }
      ],
      "source": [
        "# slicing\n",
        "\n",
        "dfs['Name'].str[::-1]"
      ]
    },
    {
      "cell_type": "code",
      "execution_count": null,
      "metadata": {
        "id": "Ny0Puj9qpPiI"
      },
      "outputs": [],
      "source": []
    }
  ],
  "metadata": {
    "colab": {
      "provenance": []
    },
    "kernelspec": {
      "display_name": "Python 3",
      "name": "python3"
    },
    "language_info": {
      "codemirror_mode": {
        "name": "ipython",
        "version": 3
      },
      "file_extension": ".py",
      "mimetype": "text/x-python",
      "name": "python",
      "nbconvert_exporter": "python",
      "pygments_lexer": "ipython3",
      "version": "3.12.2"
    }
  },
  "nbformat": 4,
  "nbformat_minor": 0
}
