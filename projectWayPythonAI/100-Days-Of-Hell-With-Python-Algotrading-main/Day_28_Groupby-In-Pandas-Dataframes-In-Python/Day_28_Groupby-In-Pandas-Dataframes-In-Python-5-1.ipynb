{
  "cells": [
    {
      "cell_type": "code",
      "execution_count": null,
      "metadata": {
        "id": "V-NHpZTWOHT2"
      },
      "outputs": [],
      "source": [
        "import pandas as pd\n",
        "import numpy as np"
      ]
    },
    {
      "cell_type": "code",
      "execution_count": null,
      "metadata": {
        "id": "cchNFTvyOR4r"
      },
      "outputs": [],
      "source": [
        "# # Number of rows\n",
        "# num_rows = 1000000\n",
        "\n",
        "# # Create sample data with 1,000,000 rows\n",
        "# data = {\n",
        "#     'Timestamp': pd.date_range(start='2022-01-01', periods=num_rows, freq='S'),\n",
        "#     'Ticker': (['AAPL', 'GOOGL', 'MSFT', 'BTC', 'ETH', 'XRP'] * ((num_rows // 6) + 1))[:num_rows],\n",
        "#     'Price': ([150, 2500, 300, 155, 2550, 310] * ((num_rows // 6) + 1))[:num_rows],\n",
        "#     'Volume': ([100, 200, 150, 110, 210, 160] * ((num_rows // 6) + 1))[:num_rows],\n",
        "#     'Buy/Sell': (['Buy', 'Sell', 'Buy', 'Sell', 'Buy', 'Sell'] * ((num_rows // 6) + 1))[:num_rows],\n",
        "#     'Trader_ID': (['T1', 'T2', 'T3', 'T4', 'T5', 'T6'] * ((num_rows // 6) + 1))[:num_rows],\n",
        "#     'Exchange': (['NYSE', 'NASDAQ', 'NYSE', 'Binance', 'Bybit', 'Coinbase'] * ((num_rows // 6) + 1))[:num_rows]\n",
        "# }\n",
        "\n",
        "# # Convert the dictionary into a DataFrame\n",
        "# df = pd.DataFrame(data)\n",
        "# df.to_csv(\"Exchange_Trade_Data.csv\")\n",
        "exchange_df = pd.read_csv(\"Exchange_Trade_Data.csv\")\n",
        "exchange_df.info()"
      ]
    },
    {
      "cell_type": "code",
      "execution_count": null,
      "metadata": {},
      "outputs": [],
      "source": [
        "#info"
      ]
    },
    {
      "cell_type": "code",
      "execution_count": null,
      "metadata": {
        "colab": {
          "base_uri": "https://localhost:8080/",
          "height": 250
        },
        "id": "ymlVO7nFXrlE",
        "outputId": "88c0fa4e-5c4e-42fa-a78b-b7605fd0cff9"
      },
      "outputs": [],
      "source": [
        "#head\n",
        "exchange_df.head()\n",
        "exchange_df.sample(30)"
      ]
    },
    {
      "cell_type": "code",
      "execution_count": null,
      "metadata": {
        "id": "g4KWKAX2Xtj6"
      },
      "outputs": [],
      "source": [
        "#groupby - Sum\n",
        "\n",
        "#exchange_df.groupby('Ticker').sum()\n",
        "#exchange_df.groupby('Ticker')['Volume'].sum()\n",
        "\n",
        "volume_sum = {}\n",
        "\n",
        "tickers = exchange_df['Ticker'].unique()\n",
        "for ticker in tickers:\n",
        "    sum_volume = exchange_df[exchange_df['Ticker'] == ticker]['Volume'].sum()\n",
        "    volume_sum[ticker] = sum_volume\n",
        "volume_sum\n"
      ]
    },
    {
      "cell_type": "code",
      "execution_count": null,
      "metadata": {},
      "outputs": [],
      "source": [
        "exchange_df.groupby('Ticker')['Volume'].sum()"
      ]
    },
    {
      "cell_type": "code",
      "execution_count": null,
      "metadata": {
        "colab": {
          "base_uri": "https://localhost:8080/"
        },
        "id": "5pX5rxoQBNbo",
        "outputId": "278aabd3-1cc7-4d26-a751-3aefa674143b"
      },
      "outputs": [],
      "source": [
        "tickers = exchange_df.groupby('Ticker')\n",
        "tickers.size()"
      ]
    },
    {
      "cell_type": "code",
      "execution_count": null,
      "metadata": {
        "id": "3etEsUU63mOR"
      },
      "outputs": [],
      "source": [
        "# GroupBy Attributes and Methods\n",
        "# find total number of groups -> len\n",
        "# find items in each group -> size\n",
        "# first()/last() -> nth item\n",
        "# get_group -> vs filtering\n",
        "# groups\n",
        "# describe\n",
        "# sample\n",
        "# nunique"
      ]
    },
    {
      "cell_type": "code",
      "execution_count": null,
      "metadata": {},
      "outputs": [],
      "source": [
        "tickers"
      ]
    },
    {
      "cell_type": "code",
      "execution_count": null,
      "metadata": {},
      "outputs": [],
      "source": [
        "tickers.first()\n",
        "tickers.last()\n",
        "tickers.nth(5)"
      ]
    },
    {
      "cell_type": "code",
      "execution_count": null,
      "metadata": {},
      "outputs": [],
      "source": [
        "tickers.get_group('BTC')\n",
        "\n",
        "#exchange_df[exchange_df['Ticker'] == \"BTC\"]"
      ]
    },
    {
      "cell_type": "code",
      "execution_count": null,
      "metadata": {},
      "outputs": [],
      "source": [
        "tickers.groups"
      ]
    },
    {
      "cell_type": "code",
      "execution_count": null,
      "metadata": {},
      "outputs": [],
      "source": [
        "exchange_df.head(20)"
      ]
    },
    {
      "cell_type": "code",
      "execution_count": null,
      "metadata": {},
      "outputs": [],
      "source": [
        "tickers.describe()"
      ]
    },
    {
      "cell_type": "code",
      "execution_count": null,
      "metadata": {},
      "outputs": [],
      "source": [
        "tickers.sample(5)"
      ]
    },
    {
      "cell_type": "code",
      "execution_count": null,
      "metadata": {},
      "outputs": [],
      "source": [
        "tickers.nunique()"
      ]
    },
    {
      "cell_type": "code",
      "execution_count": null,
      "metadata": {
        "colab": {
          "base_uri": "https://localhost:8080/",
          "height": 520
        },
        "id": "_NNmeC7kALcE",
        "outputId": "b1505320-0794-4c40-a62c-99d976355099"
      },
      "outputs": [],
      "source": [
        "# agg method\n",
        "# passing dict\n",
        "tickers.agg({\n",
        "    'Volume':'sum',\n",
        "    'Price' :'max'\n",
        "\n",
        "})"
      ]
    },
    {
      "cell_type": "code",
      "execution_count": null,
      "metadata": {
        "colab": {
          "base_uri": "https://localhost:8080/",
          "height": 615
        },
        "id": "59cdCHTJYWiy",
        "outputId": "0e08918d-fb7f-4c54-d957-d9c45d29d402"
      },
      "outputs": [],
      "source": [
        "# passing list\n",
        "tickers[['Volume','Price']].agg(['sum','mean'])"
      ]
    },
    {
      "cell_type": "code",
      "execution_count": null,
      "metadata": {
        "colab": {
          "base_uri": "https://localhost:8080/",
          "height": 551
        },
        "id": "K6XoU_QWY1KV",
        "outputId": "1cd79d9b-e932-43f6-919a-fcd9975b94df"
      },
      "outputs": [],
      "source": [
        "# Adding both the syntax\n",
        "\n",
        "tickers.agg({\n",
        "    'Volume':['sum','mean','std'],\n",
        "    'Price' :['max','min','mean']\n",
        "\n",
        "})"
      ]
    },
    {
      "cell_type": "code",
      "execution_count": null,
      "metadata": {
        "colab": {
          "base_uri": "https://localhost:8080/",
          "height": 800
        },
        "id": "2o9u9jCjAN_z",
        "outputId": "2ba44c56-bc3b-4652-d33f-5fe9626ae79e"
      },
      "outputs": [],
      "source": [
        "# looping on groups\n",
        "\n",
        "for group,data in tickers:\n",
        "    print((data['Ticker'].unique()))"
      ]
    },
    {
      "cell_type": "code",
      "execution_count": null,
      "metadata": {
        "colab": {
          "base_uri": "https://localhost:8080/",
          "height": 737
        },
        "id": "faavpAILU8eO",
        "outputId": "ea3263e1-2c44-4394-d134-32fec00ee421"
      },
      "outputs": [],
      "source": [
        "# split (apply) combine\n",
        "# apply -> builtin function\n",
        "tickers.apply(max)"
      ]
    },
    {
      "cell_type": "code",
      "execution_count": null,
      "metadata": {
        "colab": {
          "base_uri": "https://localhost:8080/",
          "height": 81
        },
        "id": "Jeco628BAP2H",
        "outputId": "64597a2d-7e7b-4620-b88a-d1dae55129ed"
      },
      "outputs": [],
      "source": [
        "# groupby on multiple cols\n",
        "exchange_df.groupby(['Ticker','Buy/Sell','Exchange']).size()\n",
        "# size\n",
        "\n",
        "# get_group\n",
        "exchange_df.groupby(['Ticker','Buy/Sell','Exchange']).get_group(('ETH','Buy','Bybit'))\n",
        "\n",
        "ticker_exchange = exchange_df.groupby(['Ticker','Buy/Sell','Exchange'])"
      ]
    },
    {
      "cell_type": "code",
      "execution_count": 84,
      "metadata": {
        "colab": {
          "base_uri": "https://localhost:8080/",
          "height": 600
        },
        "id": "1GA5Hv4-573n",
        "outputId": "58d9a50a-75fb-464b-f54d-6cb6ac82a3ea"
      },
      "outputs": [
        {
          "data": {
            "text/html": [
              "<div>\n",
              "<style scoped>\n",
              "    .dataframe tbody tr th:only-of-type {\n",
              "        vertical-align: middle;\n",
              "    }\n",
              "\n",
              "    .dataframe tbody tr th {\n",
              "        vertical-align: top;\n",
              "    }\n",
              "\n",
              "    .dataframe thead tr th {\n",
              "        text-align: left;\n",
              "    }\n",
              "\n",
              "    .dataframe thead tr:last-of-type th {\n",
              "        text-align: right;\n",
              "    }\n",
              "</style>\n",
              "<table border=\"1\" class=\"dataframe\">\n",
              "  <thead>\n",
              "    <tr>\n",
              "      <th></th>\n",
              "      <th></th>\n",
              "      <th></th>\n",
              "      <th colspan=\"2\" halign=\"left\">Unnamed: 0</th>\n",
              "      <th colspan=\"2\" halign=\"left\">Timestamp</th>\n",
              "      <th colspan=\"2\" halign=\"left\">Price</th>\n",
              "      <th colspan=\"2\" halign=\"left\">Volume</th>\n",
              "      <th colspan=\"2\" halign=\"left\">Trader_ID</th>\n",
              "    </tr>\n",
              "    <tr>\n",
              "      <th></th>\n",
              "      <th></th>\n",
              "      <th></th>\n",
              "      <th>max</th>\n",
              "      <th>min</th>\n",
              "      <th>max</th>\n",
              "      <th>min</th>\n",
              "      <th>max</th>\n",
              "      <th>min</th>\n",
              "      <th>max</th>\n",
              "      <th>min</th>\n",
              "      <th>max</th>\n",
              "      <th>min</th>\n",
              "    </tr>\n",
              "    <tr>\n",
              "      <th>Ticker</th>\n",
              "      <th>Buy/Sell</th>\n",
              "      <th>Exchange</th>\n",
              "      <th></th>\n",
              "      <th></th>\n",
              "      <th></th>\n",
              "      <th></th>\n",
              "      <th></th>\n",
              "      <th></th>\n",
              "      <th></th>\n",
              "      <th></th>\n",
              "      <th></th>\n",
              "      <th></th>\n",
              "    </tr>\n",
              "  </thead>\n",
              "  <tbody>\n",
              "    <tr>\n",
              "      <th>AAPL</th>\n",
              "      <th>Buy</th>\n",
              "      <th>NYSE</th>\n",
              "      <td>999996</td>\n",
              "      <td>0</td>\n",
              "      <td>2022-01-12 13:46:36</td>\n",
              "      <td>2022-01-01 00:00:00</td>\n",
              "      <td>150</td>\n",
              "      <td>150</td>\n",
              "      <td>100</td>\n",
              "      <td>100</td>\n",
              "      <td>T1</td>\n",
              "      <td>T1</td>\n",
              "    </tr>\n",
              "    <tr>\n",
              "      <th>BTC</th>\n",
              "      <th>Sell</th>\n",
              "      <th>Binance</th>\n",
              "      <td>999999</td>\n",
              "      <td>3</td>\n",
              "      <td>2022-01-12 13:46:39</td>\n",
              "      <td>2022-01-01 00:00:03</td>\n",
              "      <td>155</td>\n",
              "      <td>155</td>\n",
              "      <td>110</td>\n",
              "      <td>110</td>\n",
              "      <td>T4</td>\n",
              "      <td>T4</td>\n",
              "    </tr>\n",
              "    <tr>\n",
              "      <th>ETH</th>\n",
              "      <th>Buy</th>\n",
              "      <th>Bybit</th>\n",
              "      <td>999994</td>\n",
              "      <td>4</td>\n",
              "      <td>2022-01-12 13:46:34</td>\n",
              "      <td>2022-01-01 00:00:04</td>\n",
              "      <td>2550</td>\n",
              "      <td>2550</td>\n",
              "      <td>210</td>\n",
              "      <td>210</td>\n",
              "      <td>T5</td>\n",
              "      <td>T5</td>\n",
              "    </tr>\n",
              "    <tr>\n",
              "      <th>GOOGL</th>\n",
              "      <th>Sell</th>\n",
              "      <th>NASDAQ</th>\n",
              "      <td>999997</td>\n",
              "      <td>1</td>\n",
              "      <td>2022-01-12 13:46:37</td>\n",
              "      <td>2022-01-01 00:00:01</td>\n",
              "      <td>2500</td>\n",
              "      <td>2500</td>\n",
              "      <td>200</td>\n",
              "      <td>200</td>\n",
              "      <td>T2</td>\n",
              "      <td>T2</td>\n",
              "    </tr>\n",
              "    <tr>\n",
              "      <th>MSFT</th>\n",
              "      <th>Buy</th>\n",
              "      <th>NYSE</th>\n",
              "      <td>999998</td>\n",
              "      <td>2</td>\n",
              "      <td>2022-01-12 13:46:38</td>\n",
              "      <td>2022-01-01 00:00:02</td>\n",
              "      <td>300</td>\n",
              "      <td>300</td>\n",
              "      <td>150</td>\n",
              "      <td>150</td>\n",
              "      <td>T3</td>\n",
              "      <td>T3</td>\n",
              "    </tr>\n",
              "    <tr>\n",
              "      <th>XRP</th>\n",
              "      <th>Sell</th>\n",
              "      <th>Coinbase</th>\n",
              "      <td>999995</td>\n",
              "      <td>5</td>\n",
              "      <td>2022-01-12 13:46:35</td>\n",
              "      <td>2022-01-01 00:00:05</td>\n",
              "      <td>310</td>\n",
              "      <td>310</td>\n",
              "      <td>160</td>\n",
              "      <td>160</td>\n",
              "      <td>T6</td>\n",
              "      <td>T6</td>\n",
              "    </tr>\n",
              "  </tbody>\n",
              "</table>\n",
              "</div>"
            ],
            "text/plain": [
              "                         Unnamed: 0                Timestamp  \\\n",
              "                                max min                  max   \n",
              "Ticker Buy/Sell Exchange                                       \n",
              "AAPL   Buy      NYSE         999996   0  2022-01-12 13:46:36   \n",
              "BTC    Sell     Binance      999999   3  2022-01-12 13:46:39   \n",
              "ETH    Buy      Bybit        999994   4  2022-01-12 13:46:34   \n",
              "GOOGL  Sell     NASDAQ       999997   1  2022-01-12 13:46:37   \n",
              "MSFT   Buy      NYSE         999998   2  2022-01-12 13:46:38   \n",
              "XRP    Sell     Coinbase     999995   5  2022-01-12 13:46:35   \n",
              "\n",
              "                                              Price       Volume       \\\n",
              "                                          min   max   min    max  min   \n",
              "Ticker Buy/Sell Exchange                                                \n",
              "AAPL   Buy      NYSE      2022-01-01 00:00:00   150   150    100  100   \n",
              "BTC    Sell     Binance   2022-01-01 00:00:03   155   155    110  110   \n",
              "ETH    Buy      Bybit     2022-01-01 00:00:04  2550  2550    210  210   \n",
              "GOOGL  Sell     NASDAQ    2022-01-01 00:00:01  2500  2500    200  200   \n",
              "MSFT   Buy      NYSE      2022-01-01 00:00:02   300   300    150  150   \n",
              "XRP    Sell     Coinbase  2022-01-01 00:00:05   310   310    160  160   \n",
              "\n",
              "                         Trader_ID      \n",
              "                               max min  \n",
              "Ticker Buy/Sell Exchange                \n",
              "AAPL   Buy      NYSE            T1  T1  \n",
              "BTC    Sell     Binance         T4  T4  \n",
              "ETH    Buy      Bybit           T5  T5  \n",
              "GOOGL  Sell     NASDAQ          T2  T2  \n",
              "MSFT   Buy      NYSE            T3  T3  \n",
              "XRP    Sell     Coinbase        T6  T6  "
            ]
          },
          "execution_count": 84,
          "metadata": {},
          "output_type": "execute_result"
        }
      ],
      "source": [
        "# agg on multiple groupby\n",
        "ticker_exchange.agg(['max','min'])"
      ]
    },
    {
      "cell_type": "markdown",
      "metadata": {
        "id": "9fROVRdo6Mqe"
      },
      "source": [
        "### Excercise"
      ]
    },
    {
      "cell_type": "markdown",
      "metadata": {},
      "source": [
        "- How many trades were executed for each ticker?\n",
        "- What is the average price of each ticker?\n",
        "- What is the total volume traded for each ticker?\n",
        "- What is the price of the first trade for each ticker?\n",
        "- What is the total trading volume on each exchange for each hour of the day?\n",
        "- What is the total buy and sell volume for each ticker?\n",
        "- Calculate the VWAP for each ticker\n"
      ]
    },
    {
      "cell_type": "code",
      "execution_count": 109,
      "metadata": {
        "colab": {
          "base_uri": "https://localhost:8080/"
        },
        "id": "Ws2Vo9wEYERh",
        "outputId": "e89e2160-1be3-4fb7-af20-6d19f1bd9bff"
      },
      "outputs": [
        {
          "data": {
            "text/plain": [
              "0         2022-01-01 00:00:00\n",
              "1         2022-01-01 00:00:01\n",
              "2         2022-01-01 00:00:02\n",
              "3         2022-01-01 00:00:03\n",
              "4         2022-01-01 00:00:04\n",
              "                 ...         \n",
              "999995    2022-01-12 13:46:35\n",
              "999996    2022-01-12 13:46:36\n",
              "999997    2022-01-12 13:46:37\n",
              "999998    2022-01-12 13:46:38\n",
              "999999    2022-01-12 13:46:39\n",
              "Name: Timestamp, Length: 1000000, dtype: object"
            ]
          },
          "execution_count": 109,
          "metadata": {},
          "output_type": "execute_result"
        }
      ],
      "source": [
        "exchange_df['Timestamp']"
      ]
    },
    {
      "cell_type": "code",
      "execution_count": null,
      "metadata": {
        "id": "UAXIjjccYGm9"
      },
      "outputs": [],
      "source": [
        "exchange_df.groupby('Ticker').size()"
      ]
    },
    {
      "cell_type": "code",
      "execution_count": 99,
      "metadata": {},
      "outputs": [
        {
          "data": {
            "text/plain": [
              "Ticker\n",
              "AAPL      150.0\n",
              "BTC       155.0\n",
              "ETH      2550.0\n",
              "GOOGL    2500.0\n",
              "MSFT      300.0\n",
              "XRP       310.0\n",
              "Name: Price, dtype: float64"
            ]
          },
          "execution_count": 99,
          "metadata": {},
          "output_type": "execute_result"
        }
      ],
      "source": [
        "exchange_df.groupby('Ticker')['Price'].mean()"
      ]
    },
    {
      "cell_type": "code",
      "execution_count": 100,
      "metadata": {},
      "outputs": [
        {
          "data": {
            "text/plain": [
              "Ticker\n",
              "AAPL     16666700\n",
              "BTC      18333370\n",
              "ETH      34999860\n",
              "GOOGL    33333400\n",
              "MSFT     25000050\n",
              "XRP      26666560\n",
              "Name: Volume, dtype: int64"
            ]
          },
          "execution_count": 100,
          "metadata": {},
          "output_type": "execute_result"
        }
      ],
      "source": [
        "exchange_df.groupby('Ticker')['Volume'].sum()"
      ]
    },
    {
      "cell_type": "code",
      "execution_count": 103,
      "metadata": {},
      "outputs": [
        {
          "data": {
            "text/plain": [
              "Ticker\n",
              "AAPL      150\n",
              "BTC       155\n",
              "ETH      2550\n",
              "GOOGL    2500\n",
              "MSFT      300\n",
              "XRP       310\n",
              "Name: Price, dtype: int64"
            ]
          },
          "execution_count": 103,
          "metadata": {},
          "output_type": "execute_result"
        }
      ],
      "source": [
        "exchange_df.groupby('Ticker')['Price'].first()"
      ]
    },
    {
      "cell_type": "code",
      "execution_count": 117,
      "metadata": {},
      "outputs": [],
      "source": [
        "exchange_df['Hour'] =  pd.to_datetime(exchange_df['Timestamp']).dt.hour"
      ]
    },
    {
      "cell_type": "code",
      "execution_count": 118,
      "metadata": {},
      "outputs": [
        {
          "data": {
            "text/html": [
              "<div>\n",
              "<style scoped>\n",
              "    .dataframe tbody tr th:only-of-type {\n",
              "        vertical-align: middle;\n",
              "    }\n",
              "\n",
              "    .dataframe tbody tr th {\n",
              "        vertical-align: top;\n",
              "    }\n",
              "\n",
              "    .dataframe thead th {\n",
              "        text-align: right;\n",
              "    }\n",
              "</style>\n",
              "<table border=\"1\" class=\"dataframe\">\n",
              "  <thead>\n",
              "    <tr style=\"text-align: right;\">\n",
              "      <th></th>\n",
              "      <th>Unnamed: 0</th>\n",
              "      <th>Timestamp</th>\n",
              "      <th>Ticker</th>\n",
              "      <th>Price</th>\n",
              "      <th>Volume</th>\n",
              "      <th>Buy/Sell</th>\n",
              "      <th>Trader_ID</th>\n",
              "      <th>Exchange</th>\n",
              "      <th>Hour</th>\n",
              "    </tr>\n",
              "  </thead>\n",
              "  <tbody>\n",
              "    <tr>\n",
              "      <th>0</th>\n",
              "      <td>0</td>\n",
              "      <td>2022-01-01 00:00:00</td>\n",
              "      <td>AAPL</td>\n",
              "      <td>150</td>\n",
              "      <td>100</td>\n",
              "      <td>Buy</td>\n",
              "      <td>T1</td>\n",
              "      <td>NYSE</td>\n",
              "      <td>0</td>\n",
              "    </tr>\n",
              "    <tr>\n",
              "      <th>1</th>\n",
              "      <td>1</td>\n",
              "      <td>2022-01-01 00:00:01</td>\n",
              "      <td>GOOGL</td>\n",
              "      <td>2500</td>\n",
              "      <td>200</td>\n",
              "      <td>Sell</td>\n",
              "      <td>T2</td>\n",
              "      <td>NASDAQ</td>\n",
              "      <td>0</td>\n",
              "    </tr>\n",
              "    <tr>\n",
              "      <th>2</th>\n",
              "      <td>2</td>\n",
              "      <td>2022-01-01 00:00:02</td>\n",
              "      <td>MSFT</td>\n",
              "      <td>300</td>\n",
              "      <td>150</td>\n",
              "      <td>Buy</td>\n",
              "      <td>T3</td>\n",
              "      <td>NYSE</td>\n",
              "      <td>0</td>\n",
              "    </tr>\n",
              "    <tr>\n",
              "      <th>3</th>\n",
              "      <td>3</td>\n",
              "      <td>2022-01-01 00:00:03</td>\n",
              "      <td>BTC</td>\n",
              "      <td>155</td>\n",
              "      <td>110</td>\n",
              "      <td>Sell</td>\n",
              "      <td>T4</td>\n",
              "      <td>Binance</td>\n",
              "      <td>0</td>\n",
              "    </tr>\n",
              "    <tr>\n",
              "      <th>4</th>\n",
              "      <td>4</td>\n",
              "      <td>2022-01-01 00:00:04</td>\n",
              "      <td>ETH</td>\n",
              "      <td>2550</td>\n",
              "      <td>210</td>\n",
              "      <td>Buy</td>\n",
              "      <td>T5</td>\n",
              "      <td>Bybit</td>\n",
              "      <td>0</td>\n",
              "    </tr>\n",
              "    <tr>\n",
              "      <th>...</th>\n",
              "      <td>...</td>\n",
              "      <td>...</td>\n",
              "      <td>...</td>\n",
              "      <td>...</td>\n",
              "      <td>...</td>\n",
              "      <td>...</td>\n",
              "      <td>...</td>\n",
              "      <td>...</td>\n",
              "      <td>...</td>\n",
              "    </tr>\n",
              "    <tr>\n",
              "      <th>999995</th>\n",
              "      <td>999995</td>\n",
              "      <td>2022-01-12 13:46:35</td>\n",
              "      <td>XRP</td>\n",
              "      <td>310</td>\n",
              "      <td>160</td>\n",
              "      <td>Sell</td>\n",
              "      <td>T6</td>\n",
              "      <td>Coinbase</td>\n",
              "      <td>13</td>\n",
              "    </tr>\n",
              "    <tr>\n",
              "      <th>999996</th>\n",
              "      <td>999996</td>\n",
              "      <td>2022-01-12 13:46:36</td>\n",
              "      <td>AAPL</td>\n",
              "      <td>150</td>\n",
              "      <td>100</td>\n",
              "      <td>Buy</td>\n",
              "      <td>T1</td>\n",
              "      <td>NYSE</td>\n",
              "      <td>13</td>\n",
              "    </tr>\n",
              "    <tr>\n",
              "      <th>999997</th>\n",
              "      <td>999997</td>\n",
              "      <td>2022-01-12 13:46:37</td>\n",
              "      <td>GOOGL</td>\n",
              "      <td>2500</td>\n",
              "      <td>200</td>\n",
              "      <td>Sell</td>\n",
              "      <td>T2</td>\n",
              "      <td>NASDAQ</td>\n",
              "      <td>13</td>\n",
              "    </tr>\n",
              "    <tr>\n",
              "      <th>999998</th>\n",
              "      <td>999998</td>\n",
              "      <td>2022-01-12 13:46:38</td>\n",
              "      <td>MSFT</td>\n",
              "      <td>300</td>\n",
              "      <td>150</td>\n",
              "      <td>Buy</td>\n",
              "      <td>T3</td>\n",
              "      <td>NYSE</td>\n",
              "      <td>13</td>\n",
              "    </tr>\n",
              "    <tr>\n",
              "      <th>999999</th>\n",
              "      <td>999999</td>\n",
              "      <td>2022-01-12 13:46:39</td>\n",
              "      <td>BTC</td>\n",
              "      <td>155</td>\n",
              "      <td>110</td>\n",
              "      <td>Sell</td>\n",
              "      <td>T4</td>\n",
              "      <td>Binance</td>\n",
              "      <td>13</td>\n",
              "    </tr>\n",
              "  </tbody>\n",
              "</table>\n",
              "<p>1000000 rows × 9 columns</p>\n",
              "</div>"
            ],
            "text/plain": [
              "        Unnamed: 0            Timestamp Ticker  Price  Volume Buy/Sell  \\\n",
              "0                0  2022-01-01 00:00:00   AAPL    150     100      Buy   \n",
              "1                1  2022-01-01 00:00:01  GOOGL   2500     200     Sell   \n",
              "2                2  2022-01-01 00:00:02   MSFT    300     150      Buy   \n",
              "3                3  2022-01-01 00:00:03    BTC    155     110     Sell   \n",
              "4                4  2022-01-01 00:00:04    ETH   2550     210      Buy   \n",
              "...            ...                  ...    ...    ...     ...      ...   \n",
              "999995      999995  2022-01-12 13:46:35    XRP    310     160     Sell   \n",
              "999996      999996  2022-01-12 13:46:36   AAPL    150     100      Buy   \n",
              "999997      999997  2022-01-12 13:46:37  GOOGL   2500     200     Sell   \n",
              "999998      999998  2022-01-12 13:46:38   MSFT    300     150      Buy   \n",
              "999999      999999  2022-01-12 13:46:39    BTC    155     110     Sell   \n",
              "\n",
              "       Trader_ID  Exchange  Hour  \n",
              "0             T1      NYSE     0  \n",
              "1             T2    NASDAQ     0  \n",
              "2             T3      NYSE     0  \n",
              "3             T4   Binance     0  \n",
              "4             T5     Bybit     0  \n",
              "...          ...       ...   ...  \n",
              "999995        T6  Coinbase    13  \n",
              "999996        T1      NYSE    13  \n",
              "999997        T2    NASDAQ    13  \n",
              "999998        T3      NYSE    13  \n",
              "999999        T4   Binance    13  \n",
              "\n",
              "[1000000 rows x 9 columns]"
            ]
          },
          "execution_count": 118,
          "metadata": {},
          "output_type": "execute_result"
        }
      ],
      "source": [
        "exchange_df"
      ]
    },
    {
      "cell_type": "code",
      "execution_count": 121,
      "metadata": {},
      "outputs": [
        {
          "data": {
            "text/plain": [
              "Volume  Hour\n",
              "100     0        720000\n",
              "        1        720000\n",
              "        2        720000\n",
              "        3        720000\n",
              "        4        720000\n",
              "                 ...   \n",
              "210     19      1386000\n",
              "        20      1386000\n",
              "        21      1386000\n",
              "        22      1386000\n",
              "        23      1386000\n",
              "Name: Volume, Length: 144, dtype: int64"
            ]
          },
          "execution_count": 121,
          "metadata": {},
          "output_type": "execute_result"
        }
      ],
      "source": [
        "exchange_df.groupby(['Volume','Hour'])['Volume'].sum()"
      ]
    },
    {
      "cell_type": "code",
      "execution_count": 128,
      "metadata": {},
      "outputs": [],
      "source": [
        "Buy_Volume = exchange_df[exchange_df['Buy/Sell'] == 'Buy'].groupby('Ticker')['Volume'].sum()\n",
        "Sell_Volume = exchange_df[exchange_df['Buy/Sell'] == 'Sell'].groupby('Ticker')['Volume'].sum()"
      ]
    },
    {
      "cell_type": "code",
      "execution_count": 129,
      "metadata": {},
      "outputs": [
        {
          "name": "stdout",
          "output_type": "stream",
          "text": [
            "Ticker\n",
            "AAPL    16666700\n",
            "ETH     34999860\n",
            "MSFT    25000050\n",
            "Name: Volume, dtype: int64\n",
            "Ticker\n",
            "BTC      18333370\n",
            "GOOGL    33333400\n",
            "XRP      26666560\n",
            "Name: Volume, dtype: int64\n"
          ]
        }
      ],
      "source": [
        "print(Buy_Volume)\n",
        "print(Sell_Volume)"
      ]
    },
    {
      "cell_type": "code",
      "execution_count": null,
      "metadata": {},
      "outputs": [],
      "source": []
    },
    {
      "attachments": {
        "image.png": {
          "image/png": "[encoded data removed]"
        }
      },
      "cell_type": "markdown",
      "metadata": {},
      "source": [
        "![image.png](attachment:image.png)"
      ]
    },
    {
      "cell_type": "markdown",
      "metadata": {},
      "source": []
    },
    {
      "cell_type": "code",
      "execution_count": 134,
      "metadata": {},
      "outputs": [
        {
          "name": "stderr",
          "output_type": "stream",
          "text": [
            "/var/folders/d0/zpksyyln31xcrk5dycg4_4n40000gp/T/ipykernel_5666/289306447.py:1: DeprecationWarning: DataFrameGroupBy.apply operated on the grouping columns. This behavior is deprecated, and in a future version of pandas the grouping columns will be excluded from the operation. Either pass `include_groups=False` to exclude the groupings or explicitly select the grouping columns after groupby to silence this warning.\n",
            "  exchange_df.groupby('Ticker').apply(lambda x :(x['Volume']*x['Price']).sum()/x['Volume'].sum())\n"
          ]
        },
        {
          "data": {
            "text/plain": [
              "Ticker\n",
              "AAPL      150.0\n",
              "BTC       155.0\n",
              "ETH      2550.0\n",
              "GOOGL    2500.0\n",
              "MSFT      300.0\n",
              "XRP       310.0\n",
              "dtype: float64"
            ]
          },
          "execution_count": 134,
          "metadata": {},
          "output_type": "execute_result"
        }
      ],
      "source": [
        "exchange_df.groupby('Ticker').apply(lambda x :(x['Volume']*x['Price']).sum()/x['Volume'].sum())"
      ]
    },
    {
      "cell_type": "code",
      "execution_count": 131,
      "metadata": {},
      "outputs": [
        {
          "data": {
            "text/html": [
              "<div>\n",
              "<style scoped>\n",
              "    .dataframe tbody tr th:only-of-type {\n",
              "        vertical-align: middle;\n",
              "    }\n",
              "\n",
              "    .dataframe tbody tr th {\n",
              "        vertical-align: top;\n",
              "    }\n",
              "\n",
              "    .dataframe thead th {\n",
              "        text-align: right;\n",
              "    }\n",
              "</style>\n",
              "<table border=\"1\" class=\"dataframe\">\n",
              "  <thead>\n",
              "    <tr style=\"text-align: right;\">\n",
              "      <th></th>\n",
              "      <th>Unnamed: 0</th>\n",
              "      <th>Timestamp</th>\n",
              "      <th>Ticker</th>\n",
              "      <th>Price</th>\n",
              "      <th>Volume</th>\n",
              "      <th>Buy/Sell</th>\n",
              "      <th>Trader_ID</th>\n",
              "      <th>Exchange</th>\n",
              "      <th>Hour</th>\n",
              "    </tr>\n",
              "  </thead>\n",
              "  <tbody>\n",
              "    <tr>\n",
              "      <th>0</th>\n",
              "      <td>0</td>\n",
              "      <td>2022-01-01 00:00:00</td>\n",
              "      <td>AAPL</td>\n",
              "      <td>150</td>\n",
              "      <td>100</td>\n",
              "      <td>Buy</td>\n",
              "      <td>T1</td>\n",
              "      <td>NYSE</td>\n",
              "      <td>0</td>\n",
              "    </tr>\n",
              "    <tr>\n",
              "      <th>1</th>\n",
              "      <td>1</td>\n",
              "      <td>2022-01-01 00:00:01</td>\n",
              "      <td>GOOGL</td>\n",
              "      <td>2500</td>\n",
              "      <td>200</td>\n",
              "      <td>Sell</td>\n",
              "      <td>T2</td>\n",
              "      <td>NASDAQ</td>\n",
              "      <td>0</td>\n",
              "    </tr>\n",
              "    <tr>\n",
              "      <th>2</th>\n",
              "      <td>2</td>\n",
              "      <td>2022-01-01 00:00:02</td>\n",
              "      <td>MSFT</td>\n",
              "      <td>300</td>\n",
              "      <td>150</td>\n",
              "      <td>Buy</td>\n",
              "      <td>T3</td>\n",
              "      <td>NYSE</td>\n",
              "      <td>0</td>\n",
              "    </tr>\n",
              "    <tr>\n",
              "      <th>3</th>\n",
              "      <td>3</td>\n",
              "      <td>2022-01-01 00:00:03</td>\n",
              "      <td>BTC</td>\n",
              "      <td>155</td>\n",
              "      <td>110</td>\n",
              "      <td>Sell</td>\n",
              "      <td>T4</td>\n",
              "      <td>Binance</td>\n",
              "      <td>0</td>\n",
              "    </tr>\n",
              "    <tr>\n",
              "      <th>4</th>\n",
              "      <td>4</td>\n",
              "      <td>2022-01-01 00:00:04</td>\n",
              "      <td>ETH</td>\n",
              "      <td>2550</td>\n",
              "      <td>210</td>\n",
              "      <td>Buy</td>\n",
              "      <td>T5</td>\n",
              "      <td>Bybit</td>\n",
              "      <td>0</td>\n",
              "    </tr>\n",
              "    <tr>\n",
              "      <th>...</th>\n",
              "      <td>...</td>\n",
              "      <td>...</td>\n",
              "      <td>...</td>\n",
              "      <td>...</td>\n",
              "      <td>...</td>\n",
              "      <td>...</td>\n",
              "      <td>...</td>\n",
              "      <td>...</td>\n",
              "      <td>...</td>\n",
              "    </tr>\n",
              "    <tr>\n",
              "      <th>999995</th>\n",
              "      <td>999995</td>\n",
              "      <td>2022-01-12 13:46:35</td>\n",
              "      <td>XRP</td>\n",
              "      <td>310</td>\n",
              "      <td>160</td>\n",
              "      <td>Sell</td>\n",
              "      <td>T6</td>\n",
              "      <td>Coinbase</td>\n",
              "      <td>13</td>\n",
              "    </tr>\n",
              "    <tr>\n",
              "      <th>999996</th>\n",
              "      <td>999996</td>\n",
              "      <td>2022-01-12 13:46:36</td>\n",
              "      <td>AAPL</td>\n",
              "      <td>150</td>\n",
              "      <td>100</td>\n",
              "      <td>Buy</td>\n",
              "      <td>T1</td>\n",
              "      <td>NYSE</td>\n",
              "      <td>13</td>\n",
              "    </tr>\n",
              "    <tr>\n",
              "      <th>999997</th>\n",
              "      <td>999997</td>\n",
              "      <td>2022-01-12 13:46:37</td>\n",
              "      <td>GOOGL</td>\n",
              "      <td>2500</td>\n",
              "      <td>200</td>\n",
              "      <td>Sell</td>\n",
              "      <td>T2</td>\n",
              "      <td>NASDAQ</td>\n",
              "      <td>13</td>\n",
              "    </tr>\n",
              "    <tr>\n",
              "      <th>999998</th>\n",
              "      <td>999998</td>\n",
              "      <td>2022-01-12 13:46:38</td>\n",
              "      <td>MSFT</td>\n",
              "      <td>300</td>\n",
              "      <td>150</td>\n",
              "      <td>Buy</td>\n",
              "      <td>T3</td>\n",
              "      <td>NYSE</td>\n",
              "      <td>13</td>\n",
              "    </tr>\n",
              "    <tr>\n",
              "      <th>999999</th>\n",
              "      <td>999999</td>\n",
              "      <td>2022-01-12 13:46:39</td>\n",
              "      <td>BTC</td>\n",
              "      <td>155</td>\n",
              "      <td>110</td>\n",
              "      <td>Sell</td>\n",
              "      <td>T4</td>\n",
              "      <td>Binance</td>\n",
              "      <td>13</td>\n",
              "    </tr>\n",
              "  </tbody>\n",
              "</table>\n",
              "<p>1000000 rows × 9 columns</p>\n",
              "</div>"
            ],
            "text/plain": [
              "        Unnamed: 0            Timestamp Ticker  Price  Volume Buy/Sell  \\\n",
              "0                0  2022-01-01 00:00:00   AAPL    150     100      Buy   \n",
              "1                1  2022-01-01 00:00:01  GOOGL   2500     200     Sell   \n",
              "2                2  2022-01-01 00:00:02   MSFT    300     150      Buy   \n",
              "3                3  2022-01-01 00:00:03    BTC    155     110     Sell   \n",
              "4                4  2022-01-01 00:00:04    ETH   2550     210      Buy   \n",
              "...            ...                  ...    ...    ...     ...      ...   \n",
              "999995      999995  2022-01-12 13:46:35    XRP    310     160     Sell   \n",
              "999996      999996  2022-01-12 13:46:36   AAPL    150     100      Buy   \n",
              "999997      999997  2022-01-12 13:46:37  GOOGL   2500     200     Sell   \n",
              "999998      999998  2022-01-12 13:46:38   MSFT    300     150      Buy   \n",
              "999999      999999  2022-01-12 13:46:39    BTC    155     110     Sell   \n",
              "\n",
              "       Trader_ID  Exchange  Hour  \n",
              "0             T1      NYSE     0  \n",
              "1             T2    NASDAQ     0  \n",
              "2             T3      NYSE     0  \n",
              "3             T4   Binance     0  \n",
              "4             T5     Bybit     0  \n",
              "...          ...       ...   ...  \n",
              "999995        T6  Coinbase    13  \n",
              "999996        T1      NYSE    13  \n",
              "999997        T2    NASDAQ    13  \n",
              "999998        T3      NYSE    13  \n",
              "999999        T4   Binance    13  \n",
              "\n",
              "[1000000 rows x 9 columns]"
            ]
          },
          "execution_count": 131,
          "metadata": {},
          "output_type": "execute_result"
        }
      ],
      "source": [
        "exchange_df"
      ]
    },
    {
      "cell_type": "code",
      "execution_count": null,
      "metadata": {},
      "outputs": [],
      "source": []
    }
  ],
  "metadata": {
    "colab": {
      "provenance": []
    },
    "kernelspec": {
      "display_name": "Python 3",
      "name": "python3"
    },
    "language_info": {
      "codemirror_mode": {
        "name": "ipython",
        "version": 3
      },
      "file_extension": ".py",
      "mimetype": "text/x-python",
      "name": "python",
      "nbconvert_exporter": "python",
      "pygments_lexer": "ipython3",
      "version": "3.12.2"
    }
  },
  "nbformat": 4,
  "nbformat_minor": 0
}
