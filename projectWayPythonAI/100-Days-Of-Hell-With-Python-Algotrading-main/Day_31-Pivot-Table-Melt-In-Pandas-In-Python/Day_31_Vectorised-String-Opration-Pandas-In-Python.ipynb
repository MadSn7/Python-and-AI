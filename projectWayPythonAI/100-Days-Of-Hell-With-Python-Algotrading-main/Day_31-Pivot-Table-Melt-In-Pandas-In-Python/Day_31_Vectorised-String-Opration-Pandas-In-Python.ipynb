{
  "cells": [
    {
      "cell_type": "markdown",
      "metadata": {},
      "source": [
        "\n",
        "### 1. Vectorized String Operations\n",
        "**Definition:**\n",
        "Vectorized string operations in Pandas allow for efficient string manipulations on Series and DataFrame objects. These operations are applied element-wise and are optimized for performance.\n",
        "\n",
        "**Use Cases in Algorithmic Trading:**\n",
        "- **Cleaning and Preprocessing Data:** Removing unwanted characters, trimming whitespace, and normalizing text in trading data.\n",
        "- **Feature Extraction:** Extracting meaningful features from textual data such as news headlines, analyst reports, or social media posts.\n",
        "- **Text Processing:** Preparing and transforming text data for natural language processing (NLP) tasks to generate trading signals.\n",
        "\n",
        "**Example:**\n",
        "```python\n",
        "import pandas as pd\n",
        "\n",
        "# Sample news headlines related to trading\n",
        "df = pd.DataFrame({\n",
        "    'headline': [\n",
        "        '  Apple releases new iPhone ',\n",
        "        'GOOGLE launches new AI tool!',\n",
        "        'Tesla stock surges after earnings report  '\n",
        "    ]\n",
        "})\n",
        "\n",
        "# Removing leading and trailing whitespace\n",
        "df['cleaned_headline'] = df['headline'].str.strip()\n",
        "\n",
        "# Converting to lowercase\n",
        "df['lowercase_headline'] = df['cleaned_headline'].str.lower()\n",
        "\n",
        "# Checking if a headline contains the word 'new'\n",
        "df['contains_new'] = df['lowercase_headline'].str.contains('new')\n",
        "\n",
        "print(df)\n",
        "```\n",
        "\n",
        "### Summary\n",
        "\n",
        "- **Vectorized string operations** clean and preprocess textual data from news headlines, analyst reports, or social media to extract meaningful features and generate trading signals.\n"
      ]
    },
    {
      "cell_type": "code",
      "execution_count": null,
      "metadata": {
        "id": "QDqPlAjfXlk8"
      },
      "outputs": [],
      "source": [
        "import pandas as pd\n",
        "import numpy as np"
      ]
    },
    {
      "cell_type": "code",
      "execution_count": null,
      "metadata": {
        "colab": {
          "base_uri": "https://localhost:8080/"
        },
        "id": "3mQp-OPsbiwS",
        "outputId": "9908fcb2-96ec-43f3-9d80-3aa47ce40951"
      },
      "outputs": [],
      "source": [
        "# What are vectorized operations\n"
      ]
    },
    {
      "cell_type": "code",
      "execution_count": null,
      "metadata": {
        "colab": {
          "base_uri": "https://localhost:8080/",
          "height": 288
        },
        "id": "GQ1pnK4VYFff",
        "outputId": "6f48ea2e-c080-47c2-f6ed-bd3303d8324e"
      },
      "outputs": [],
      "source": [
        "# problem in vectorized opertions in vanilla python\n"
      ]
    },
    {
      "cell_type": "code",
      "execution_count": null,
      "metadata": {
        "colab": {
          "base_uri": "https://localhost:8080/"
        },
        "id": "RQftULmHYL0j",
        "outputId": "fce67eb9-ad20-4f22-9a79-2de669716eb0"
      },
      "outputs": [],
      "source": [
        "# How pandas solves this issue?\n",
        "\n",
        "\n",
        "# string accessor\n",
        "\n",
        "\n",
        "# fast and optimized"
      ]
    },
    {
      "cell_type": "code",
      "execution_count": null,
      "metadata": {
        "colab": {
          "base_uri": "https://localhost:8080/"
        },
        "id": "qEKjNlikgBXh",
        "outputId": "272f723e-4a5c-4bc4-ff19-fe919c461634"
      },
      "outputs": [],
      "source": [
        "# import real world algotrading set\n"
      ]
    },
    {
      "cell_type": "code",
      "execution_count": null,
      "metadata": {
        "colab": {
          "base_uri": "https://localhost:8080/"
        },
        "id": "iJfR6a4cZCYz",
        "outputId": "c1d84c5b-c240-4a05-c88d-4d02525d12fe"
      },
      "outputs": [],
      "source": [
        "# Common Functions\n",
        "# lower/upper/capitalize/title\n",
        "\n",
        "# len\n",
        "\n",
        "# strip\n"
      ]
    },
    {
      "cell_type": "code",
      "execution_count": null,
      "metadata": {
        "colab": {
          "base_uri": "https://localhost:8080/",
          "height": 302
        },
        "id": "YVjsoN71mtEe",
        "outputId": "ea033545-5e41-4358-a8af-3cb75834d754"
      },
      "outputs": [],
      "source": [
        "# split -> get\n"
      ]
    },
    {
      "cell_type": "code",
      "execution_count": null,
      "metadata": {
        "colab": {
          "base_uri": "https://localhost:8080/"
        },
        "id": "2Vm-s-fwp2s3",
        "outputId": "83436fda-449a-469a-a035-c9ced72d84ba"
      },
      "outputs": [],
      "source": [
        "# replace\n"
      ]
    },
    {
      "cell_type": "code",
      "execution_count": null,
      "metadata": {
        "colab": {
          "base_uri": "https://localhost:8080/",
          "height": 49
        },
        "id": "6zCRD0H-ZEfA",
        "outputId": "fa6bfcd0-896a-48cd-f85d-8d24ba363ff6"
      },
      "outputs": [],
      "source": [
        "# filtering\n",
        "# startswith/endswith\n",
        "\n",
        "# isdigit/isalpha...\n"
      ]
    },
    {
      "cell_type": "code",
      "execution_count": null,
      "metadata": {
        "colab": {
          "base_uri": "https://localhost:8080/",
          "height": 711
        },
        "id": "MqxcE3x3ZPVR",
        "outputId": "ab42b4eb-a8ad-4349-de61-314ad18ca689"
      },
      "outputs": [],
      "source": [
        "# applying regex\n",
        "# contains\n",
        "# search john -> both case\n",
        "\n",
        "# find lastnames with start and end char vowel\n"
      ]
    },
    {
      "cell_type": "code",
      "execution_count": null,
      "metadata": {
        "colab": {
          "base_uri": "https://localhost:8080/"
        },
        "id": "0S4jPWUjZfwj",
        "outputId": "66909574-36e5-407e-a160-e17034e24543"
      },
      "outputs": [],
      "source": [
        "# slicing\n"
      ]
    },
    {
      "cell_type": "code",
      "execution_count": null,
      "metadata": {
        "id": "Ny0Puj9qpPiI"
      },
      "outputs": [],
      "source": []
    }
  ],
  "metadata": {
    "colab": {
      "provenance": []
    },
    "kernelspec": {
      "display_name": "Python 3",
      "name": "python3"
    },
    "language_info": {
      "name": "python"
    }
  },
  "nbformat": 4,
  "nbformat_minor": 0
}
