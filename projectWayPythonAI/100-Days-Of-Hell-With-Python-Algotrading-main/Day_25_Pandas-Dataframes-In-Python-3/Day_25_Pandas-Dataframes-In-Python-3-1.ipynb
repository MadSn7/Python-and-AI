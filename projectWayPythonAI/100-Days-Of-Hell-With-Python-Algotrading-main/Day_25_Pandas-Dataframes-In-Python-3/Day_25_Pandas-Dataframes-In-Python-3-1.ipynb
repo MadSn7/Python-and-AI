{
  "cells": [
    {
      "cell_type": "code",
      "execution_count": null,
      "metadata": {
        "id": "2F2xS5YbuND2"
      },
      "outputs": [],
      "source": [
        "import numpy as np\n",
        "import pandas as pd"
      ]
    },
    {
      "cell_type": "markdown",
      "metadata": {
        "id": "sdRBNhTluaKV"
      },
      "source": [
        "### Creating DataFrame"
      ]
    },
    {
      "cell_type": "code",
      "execution_count": null,
      "metadata": {
        "colab": {
          "base_uri": "https://localhost:8080/",
          "height": 175
        },
        "id": "FAC5HfAaub7q",
        "outputId": "aaedf44b-1208-4039-d971-89ddd59dd66b"
      },
      "outputs": [],
      "source": [
        "# using lists\n",
        "price_data = [[100,200,400,600],\n",
        "              [100,200,400,600],\n",
        "              [100,200,400,600],\n",
        "              [100,200,400,600]]\n",
        "\n",
        "list_df = pd.DataFrame(price_data)\n",
        "type(list_df)"
      ]
    },
    {
      "cell_type": "code",
      "execution_count": null,
      "metadata": {
        "colab": {
          "base_uri": "https://localhost:8080/",
          "height": 269
        },
        "id": "StK0mYCHudKC",
        "outputId": "7806cb67-4034-4e75-eceb-46d0f810f6d9"
      },
      "outputs": [],
      "source": [
        "# using dicts\n",
        "\n",
        "\n",
        "price_data = {\"Name\":[\"Apple\",\"Microsoft\",\"Tesla\",\"Meta\"],\n",
        "              \"Open\":[100,200,400,600],\n",
        "              \"High\":[100,200,400,600],\n",
        "              \"Low\":[100,200,400,600],\n",
        "              \"Close\":[100,200,400,600]}\n",
        "dict_df = pd.DataFrame(price_data)\n",
        "dict_df.set_index(\"Name\",inplace=True)"
      ]
    },
    {
      "cell_type": "code",
      "execution_count": null,
      "metadata": {},
      "outputs": [],
      "source": [
        "dict_df"
      ]
    },
    {
      "cell_type": "code",
      "execution_count": null,
      "metadata": {
        "colab": {
          "base_uri": "https://localhost:8080/",
          "height": 1000
        },
        "id": "EF_2ly2HuePm",
        "outputId": "019279d7-a1b2-4cb9-db18-277614c3c6f0"
      },
      "outputs": [],
      "source": [
        "# using read_csv\n",
        "algo_df = pd.read_csv(\"algotrading_combined_dataset.csv\")\n",
        "algo_df"
      ]
    },
    {
      "cell_type": "code",
      "execution_count": null,
      "metadata": {
        "colab": {
          "base_uri": "https://localhost:8080/",
          "height": 1000
        },
        "id": "_yZQ1Z8eFYA6",
        "outputId": "ac6c2153-94f0-4acf-8e20-cffe373e1ace"
      },
      "outputs": [],
      "source": [
        "funda_df = pd.read_csv(\"fundamental_research_dataset_large.csv\")\n",
        "funda_df"
      ]
    },
    {
      "cell_type": "markdown",
      "metadata": {
        "id": "WpiZf0HmvGkY"
      },
      "source": [
        "### DataFrame Attributes and Methods"
      ]
    },
    {
      "cell_type": "code",
      "execution_count": null,
      "metadata": {
        "colab": {
          "base_uri": "https://localhost:8080/"
        },
        "id": "IWTFNOmavKGd",
        "outputId": "2b26c1df-27e6-4623-e2bc-7a6797f35fa5"
      },
      "outputs": [],
      "source": [
        "# shape\n",
        "algo_df.shape\n",
        "funda_df.shape"
      ]
    },
    {
      "cell_type": "code",
      "execution_count": null,
      "metadata": {
        "colab": {
          "base_uri": "https://localhost:8080/"
        },
        "id": "G6eWCQUlvLBk",
        "outputId": "d6f5c1ea-1e1a-4e48-a1b7-cbcef5d4d634"
      },
      "outputs": [],
      "source": [
        "# dtypes\n",
        "\n",
        "algo_df.dtypes\n",
        "funda_df.dtypes"
      ]
    },
    {
      "cell_type": "code",
      "execution_count": null,
      "metadata": {
        "colab": {
          "base_uri": "https://localhost:8080/"
        },
        "id": "WEQltw3hvrwj",
        "outputId": "6b6c3d7d-a376-4072-dabf-488a0d5e5133"
      },
      "outputs": [],
      "source": [
        "# index\n",
        "algo_df.index\n",
        "funda_df.index"
      ]
    },
    {
      "cell_type": "code",
      "execution_count": null,
      "metadata": {
        "colab": {
          "base_uri": "https://localhost:8080/"
        },
        "id": "yfzmkEZCvNNU",
        "outputId": "0e8acc8e-98d3-4053-e828-d30341e52f44"
      },
      "outputs": [],
      "source": [
        "# columns\n",
        "algo_df.columns\n",
        "funda_df.columns"
      ]
    },
    {
      "cell_type": "code",
      "execution_count": null,
      "metadata": {
        "colab": {
          "base_uri": "https://localhost:8080/"
        },
        "id": "uVzQeTwfvO8h",
        "outputId": "de070a5f-4061-4613-cfdc-363c40f88819"
      },
      "outputs": [],
      "source": [
        "# values\n",
        "algo_df.values\n",
        "funda_df.values"
      ]
    },
    {
      "cell_type": "code",
      "execution_count": null,
      "metadata": {
        "colab": {
          "base_uri": "https://localhost:8080/",
          "height": 384
        },
        "id": "g6v9O1JuvPxO",
        "outputId": "81bb0f71-1ba0-4cfa-f34a-93f30bef2e6b"
      },
      "outputs": [],
      "source": [
        "# head and tail\n",
        "algo_df.tail(20)"
      ]
    },
    {
      "cell_type": "code",
      "execution_count": null,
      "metadata": {
        "colab": {
          "base_uri": "https://localhost:8080/",
          "height": 315
        },
        "id": "t0d_xl44Hbzt",
        "outputId": "897f7bb3-93b6-4cd4-9168-e6a0ff083601"
      },
      "outputs": [],
      "source": []
    },
    {
      "cell_type": "code",
      "execution_count": null,
      "metadata": {
        "colab": {
          "base_uri": "https://localhost:8080/",
          "height": 583
        },
        "id": "QhIqN122vZyF",
        "outputId": "9d1bb788-1613-404e-98b7-221cf96dbe31"
      },
      "outputs": [],
      "source": [
        "# sample\n",
        "algo_df.sample(10)"
      ]
    },
    {
      "cell_type": "code",
      "execution_count": null,
      "metadata": {
        "colab": {
          "base_uri": "https://localhost:8080/"
        },
        "id": "rKJeok4Qvaig",
        "outputId": "2afd9b94-65e0-42eb-fa4d-07ff6eecb8e2"
      },
      "outputs": [],
      "source": [
        "# info\n",
        "algo_df.info()\n",
        "funda_df.info()"
      ]
    },
    {
      "cell_type": "code",
      "execution_count": null,
      "metadata": {
        "colab": {
          "base_uri": "https://localhost:8080/"
        },
        "id": "ETfjOEfIINwA",
        "outputId": "d8010ea1-d515-4872-f55d-5ab05ac77359"
      },
      "outputs": [],
      "source": []
    },
    {
      "cell_type": "code",
      "execution_count": null,
      "metadata": {
        "colab": {
          "base_uri": "https://localhost:8080/",
          "height": 300
        },
        "id": "OikkCRPevgK5",
        "outputId": "619a60a9-1ea8-4744-bf0f-d9db2161d233"
      },
      "outputs": [],
      "source": [
        "# describe\n",
        "algo_df.describe()"
      ]
    },
    {
      "cell_type": "code",
      "execution_count": null,
      "metadata": {
        "colab": {
          "base_uri": "https://localhost:8080/",
          "height": 300
        },
        "id": "tuxfdf8tI9Z2",
        "outputId": "c546a524-e9b1-4e64-cfee-2e622361536b"
      },
      "outputs": [],
      "source": []
    },
    {
      "cell_type": "code",
      "execution_count": null,
      "metadata": {
        "colab": {
          "base_uri": "https://localhost:8080/"
        },
        "id": "cffM8jnww3GV",
        "outputId": "c8ebd656-b4e8-4b2b-9416-368564a940ef"
      },
      "outputs": [],
      "source": [
        "# isnull\n",
        "algo_df.isnull().sum()\n",
        "funda_df.isnull().sum()"
      ]
    },
    {
      "cell_type": "code",
      "execution_count": null,
      "metadata": {
        "colab": {
          "base_uri": "https://localhost:8080/"
        },
        "id": "vGdYd3F8w4Kl",
        "outputId": "196e32c0-636b-401a-e91c-86494a833403"
      },
      "outputs": [],
      "source": [
        "# duplicated\n",
        "algo_df.duplicated().sum()\n",
        "funda_df.duplicated().sum()"
      ]
    },
    {
      "cell_type": "code",
      "execution_count": null,
      "metadata": {
        "colab": {
          "base_uri": "https://localhost:8080/"
        },
        "id": "gabFmEQaJ9Ns",
        "outputId": "9ad8cf45-f24d-4e89-b522-7a562cdc6052"
      },
      "outputs": [],
      "source": []
    },
    {
      "cell_type": "code",
      "execution_count": null,
      "metadata": {
        "colab": {
          "base_uri": "https://localhost:8080/",
          "height": 238
        },
        "id": "2Qpru22QFYrI",
        "outputId": "2f4694e9-7e2c-4d67-e268-dc4863811beb"
      },
      "outputs": [],
      "source": [
        "# rename\n",
        "algo_df.rename(columns={'High':'Max','Low':'Min'},inplace=True)"
      ]
    },
    {
      "cell_type": "code",
      "execution_count": null,
      "metadata": {
        "id": "uEnGueRIKOLh"
      },
      "outputs": [],
      "source": []
    },
    {
      "cell_type": "markdown",
      "metadata": {
        "id": "OQ-A3XU-06KG"
      },
      "source": [
        "### Math Methods"
      ]
    },
    {
      "cell_type": "code",
      "execution_count": null,
      "metadata": {
        "colab": {
          "base_uri": "https://localhost:8080/"
        },
        "id": "9agZIP-z0lc9",
        "outputId": "6f4ca547-c59f-437e-d6c3-7d523df4a2a0"
      },
      "outputs": [],
      "source": [
        "# sum -> axis argument\n",
        "algo_df.sum()"
      ]
    },
    {
      "cell_type": "code",
      "execution_count": null,
      "metadata": {
        "colab": {
          "base_uri": "https://localhost:8080/"
        },
        "id": "bPN2x2-xLitU",
        "outputId": "f6dab3eb-ac81-47fd-8ad2-fd35c4cc6b42"
      },
      "outputs": [],
      "source": [
        "funda_df.sum()"
      ]
    },
    {
      "cell_type": "code",
      "execution_count": null,
      "metadata": {
        "colab": {
          "base_uri": "https://localhost:8080/"
        },
        "id": "AEWWvGRCLi8-",
        "outputId": "3e6ceb29-4e5d-4674-d331-0592ec83105c"
      },
      "outputs": [],
      "source": [
        "algo_df[\"High\"].mean()"
      ]
    },
    {
      "cell_type": "code",
      "execution_count": null,
      "metadata": {
        "id": "xiAUpMgxLjK8"
      },
      "outputs": [],
      "source": [
        "funda_df[\"Market Cap (B)\"].var()"
      ]
    },
    {
      "cell_type": "markdown",
      "metadata": {
        "id": "PaOsDoR01EVm"
      },
      "source": [
        "### Selecting cols from a DataFrame"
      ]
    },
    {
      "cell_type": "code",
      "execution_count": null,
      "metadata": {
        "colab": {
          "base_uri": "https://localhost:8080/"
        },
        "id": "GFYaWcxk1H3H",
        "outputId": "d049cd3e-9cc0-4952-88fb-009598f8bd5f"
      },
      "outputs": [],
      "source": [
        "# single cols\n",
        "algo_df[\"High\"]\n",
        "\n"
      ]
    },
    {
      "cell_type": "code",
      "execution_count": null,
      "metadata": {
        "colab": {
          "base_uri": "https://localhost:8080/"
        },
        "id": "4hePxZN6NNrc",
        "outputId": "a8c80192-3601-4384-f10a-4bf50656efbe"
      },
      "outputs": [],
      "source": []
    },
    {
      "cell_type": "code",
      "execution_count": null,
      "metadata": {
        "colab": {
          "base_uri": "https://localhost:8080/",
          "height": 424
        },
        "id": "fBmf-wef1KsY",
        "outputId": "f2fd08f5-6265-40ff-95cb-d565acafa802"
      },
      "outputs": [],
      "source": [
        "# multiple cols\n",
        "funda_df[[\"Ticker\",\"Sector\",\"Market Cap (B)\"]]\n"
      ]
    },
    {
      "cell_type": "code",
      "execution_count": null,
      "metadata": {
        "colab": {
          "base_uri": "https://localhost:8080/",
          "height": 424
        },
        "id": "s3mf9nuYN-J6",
        "outputId": "630ec525-28a1-434c-cb99-784f82980bd3"
      },
      "outputs": [],
      "source": []
    },
    {
      "cell_type": "markdown",
      "metadata": {
        "id": "Xfe-uRHn2fnK"
      },
      "source": [
        "### Selecting rows from a DataFrame\n",
        "\n",
        "- **iloc** - searches using index positions\n",
        "- **loc** - searches using index labels"
      ]
    },
    {
      "cell_type": "code",
      "execution_count": null,
      "metadata": {
        "colab": {
          "base_uri": "https://localhost:8080/"
        },
        "id": "jEpLIQ8o1Lqe",
        "outputId": "5af38c28-7870-4251-f39b-c700931ee2bb"
      },
      "outputs": [],
      "source": [
        "# single row\n",
        "\n",
        "algo_df"
      ]
    },
    {
      "cell_type": "code",
      "execution_count": null,
      "metadata": {
        "colab": {
          "base_uri": "https://localhost:8080/",
          "height": 635
        },
        "id": "sZ-9vwck2kWx",
        "outputId": "fca0ca53-62e9-486e-c544-e324463ffb62"
      },
      "outputs": [],
      "source": [
        "# Single row\n",
        "algo_df.iloc[0]"
      ]
    },
    {
      "cell_type": "code",
      "execution_count": null,
      "metadata": {},
      "outputs": [],
      "source": [
        "# Multiple\n",
        "algo_df.iloc[0:10:2]"
      ]
    },
    {
      "cell_type": "code",
      "execution_count": null,
      "metadata": {
        "colab": {
          "base_uri": "https://localhost:8080/",
          "height": 503
        },
        "id": "jsdmIdyBlFg8",
        "outputId": "cb603511-7e16-4f78-a331-ce6ca3c90918"
      },
      "outputs": [],
      "source": [
        "# fancy indexing\n",
        "algo_df.iloc[[1,4,7,9,10,13,1300]]"
      ]
    },
    {
      "cell_type": "code",
      "execution_count": 407,
      "metadata": {
        "colab": {
          "base_uri": "https://localhost:8080/",
          "height": 269
        },
        "id": "tzKNGsmAjhpv",
        "outputId": "7411c7c4-c94c-4269-8b18-a8b8715059f0"
      },
      "outputs": [
        {
          "data": {
            "text/html": [
              "<div>\n",
              "<style scoped>\n",
              "    .dataframe tbody tr th:only-of-type {\n",
              "        vertical-align: middle;\n",
              "    }\n",
              "\n",
              "    .dataframe tbody tr th {\n",
              "        vertical-align: top;\n",
              "    }\n",
              "\n",
              "    .dataframe thead th {\n",
              "        text-align: right;\n",
              "    }\n",
              "</style>\n",
              "<table border=\"1\" class=\"dataframe\">\n",
              "  <thead>\n",
              "    <tr style=\"text-align: right;\">\n",
              "      <th></th>\n",
              "      <th>Company Name</th>\n",
              "      <th>Sector</th>\n",
              "      <th>Industry</th>\n",
              "      <th>Market Cap (B)</th>\n",
              "      <th>EPS</th>\n",
              "      <th>P/E Ratio</th>\n",
              "      <th>Dividend Yield (%)</th>\n",
              "      <th>P/B Ratio</th>\n",
              "      <th>D/E Ratio</th>\n",
              "    </tr>\n",
              "    <tr>\n",
              "      <th>Ticker</th>\n",
              "      <th></th>\n",
              "      <th></th>\n",
              "      <th></th>\n",
              "      <th></th>\n",
              "      <th></th>\n",
              "      <th></th>\n",
              "      <th></th>\n",
              "      <th></th>\n",
              "      <th></th>\n",
              "    </tr>\n",
              "  </thead>\n",
              "  <tbody>\n",
              "    <tr>\n",
              "      <th>AAPL</th>\n",
              "      <td>Apple Inc.</td>\n",
              "      <td>Finance</td>\n",
              "      <td>Banks</td>\n",
              "      <td>173.47</td>\n",
              "      <td>9.40</td>\n",
              "      <td>40.14</td>\n",
              "      <td>2.83</td>\n",
              "      <td>11.32</td>\n",
              "      <td>1.21</td>\n",
              "    </tr>\n",
              "    <tr>\n",
              "      <th>AAPL</th>\n",
              "      <td>Apple Inc.</td>\n",
              "      <td>Consumer Goods</td>\n",
              "      <td>Food Products</td>\n",
              "      <td>225.94</td>\n",
              "      <td>NaN</td>\n",
              "      <td>30.86</td>\n",
              "      <td>6.19</td>\n",
              "      <td>18.69</td>\n",
              "      <td>0.49</td>\n",
              "    </tr>\n",
              "    <tr>\n",
              "      <th>AAPL</th>\n",
              "      <td>Apple Inc.</td>\n",
              "      <td>Finance</td>\n",
              "      <td>Investment Services</td>\n",
              "      <td>308.99</td>\n",
              "      <td>7.63</td>\n",
              "      <td>10.92</td>\n",
              "      <td>7.97</td>\n",
              "      <td>2.47</td>\n",
              "      <td>1.22</td>\n",
              "    </tr>\n",
              "    <tr>\n",
              "      <th>AAPL</th>\n",
              "      <td>Apple Inc.</td>\n",
              "      <td>Utilities</td>\n",
              "      <td>Water Utilities</td>\n",
              "      <td>273.18</td>\n",
              "      <td>-8.76</td>\n",
              "      <td>44.64</td>\n",
              "      <td>1.42</td>\n",
              "      <td>13.51</td>\n",
              "      <td>1.17</td>\n",
              "    </tr>\n",
              "    <tr>\n",
              "      <th>AAPL</th>\n",
              "      <td>Apple Inc.</td>\n",
              "      <td>Healthcare</td>\n",
              "      <td>Pharmaceuticals</td>\n",
              "      <td>171.88</td>\n",
              "      <td>NaN</td>\n",
              "      <td>7.38</td>\n",
              "      <td>3.65</td>\n",
              "      <td>1.04</td>\n",
              "      <td>0.31</td>\n",
              "    </tr>\n",
              "    <tr>\n",
              "      <th>...</th>\n",
              "      <td>...</td>\n",
              "      <td>...</td>\n",
              "      <td>...</td>\n",
              "      <td>...</td>\n",
              "      <td>...</td>\n",
              "      <td>...</td>\n",
              "      <td>...</td>\n",
              "      <td>...</td>\n",
              "      <td>...</td>\n",
              "    </tr>\n",
              "    <tr>\n",
              "      <th>MSFT</th>\n",
              "      <td>Microsoft Corporation</td>\n",
              "      <td>Energy</td>\n",
              "      <td>Renewable Energy</td>\n",
              "      <td>170.29</td>\n",
              "      <td>-4.32</td>\n",
              "      <td>38.12</td>\n",
              "      <td>8.37</td>\n",
              "      <td>14.35</td>\n",
              "      <td>1.92</td>\n",
              "    </tr>\n",
              "    <tr>\n",
              "      <th>MSFT</th>\n",
              "      <td>Microsoft Corporation</td>\n",
              "      <td>Consumer Goods</td>\n",
              "      <td>Beverages</td>\n",
              "      <td>53.79</td>\n",
              "      <td>NaN</td>\n",
              "      <td>NaN</td>\n",
              "      <td>9.54</td>\n",
              "      <td>NaN</td>\n",
              "      <td>2.03</td>\n",
              "    </tr>\n",
              "    <tr>\n",
              "      <th>MSFT</th>\n",
              "      <td>Microsoft Corporation</td>\n",
              "      <td>Healthcare</td>\n",
              "      <td>Biotechnology</td>\n",
              "      <td>277.95</td>\n",
              "      <td>0.22</td>\n",
              "      <td>21.39</td>\n",
              "      <td>4.47</td>\n",
              "      <td>2.34</td>\n",
              "      <td>2.50</td>\n",
              "    </tr>\n",
              "    <tr>\n",
              "      <th>MSFT</th>\n",
              "      <td>Microsoft Corporation</td>\n",
              "      <td>Finance</td>\n",
              "      <td>Banks</td>\n",
              "      <td>202.65</td>\n",
              "      <td>9.33</td>\n",
              "      <td>25.10</td>\n",
              "      <td>9.28</td>\n",
              "      <td>6.05</td>\n",
              "      <td>1.20</td>\n",
              "    </tr>\n",
              "    <tr>\n",
              "      <th>MSFT</th>\n",
              "      <td>Microsoft Corporation</td>\n",
              "      <td>Industrial Goods</td>\n",
              "      <td>Manufacturing</td>\n",
              "      <td>150.53</td>\n",
              "      <td>-3.04</td>\n",
              "      <td>13.44</td>\n",
              "      <td>0.12</td>\n",
              "      <td>3.56</td>\n",
              "      <td>2.42</td>\n",
              "    </tr>\n",
              "  </tbody>\n",
              "</table>\n",
              "<p>297 rows × 9 columns</p>\n",
              "</div>"
            ],
            "text/plain": [
              "                 Company Name            Sector             Industry  \\\n",
              "Ticker                                                                 \n",
              "AAPL               Apple Inc.           Finance                Banks   \n",
              "AAPL               Apple Inc.    Consumer Goods        Food Products   \n",
              "AAPL               Apple Inc.           Finance  Investment Services   \n",
              "AAPL               Apple Inc.         Utilities      Water Utilities   \n",
              "AAPL               Apple Inc.        Healthcare      Pharmaceuticals   \n",
              "...                       ...               ...                  ...   \n",
              "MSFT    Microsoft Corporation            Energy     Renewable Energy   \n",
              "MSFT    Microsoft Corporation    Consumer Goods            Beverages   \n",
              "MSFT    Microsoft Corporation        Healthcare        Biotechnology   \n",
              "MSFT    Microsoft Corporation           Finance                Banks   \n",
              "MSFT    Microsoft Corporation  Industrial Goods        Manufacturing   \n",
              "\n",
              "        Market Cap (B)   EPS  P/E Ratio  Dividend Yield (%)  P/B Ratio  \\\n",
              "Ticker                                                                   \n",
              "AAPL            173.47  9.40      40.14                2.83      11.32   \n",
              "AAPL            225.94   NaN      30.86                6.19      18.69   \n",
              "AAPL            308.99  7.63      10.92                7.97       2.47   \n",
              "AAPL            273.18 -8.76      44.64                1.42      13.51   \n",
              "AAPL            171.88   NaN       7.38                3.65       1.04   \n",
              "...                ...   ...        ...                 ...        ...   \n",
              "MSFT            170.29 -4.32      38.12                8.37      14.35   \n",
              "MSFT             53.79   NaN        NaN                9.54        NaN   \n",
              "MSFT            277.95  0.22      21.39                4.47       2.34   \n",
              "MSFT            202.65  9.33      25.10                9.28       6.05   \n",
              "MSFT            150.53 -3.04      13.44                0.12       3.56   \n",
              "\n",
              "        D/E Ratio  \n",
              "Ticker             \n",
              "AAPL         1.21  \n",
              "AAPL         0.49  \n",
              "AAPL         1.22  \n",
              "AAPL         1.17  \n",
              "AAPL         0.31  \n",
              "...           ...  \n",
              "MSFT         1.92  \n",
              "MSFT         2.03  \n",
              "MSFT         2.50  \n",
              "MSFT         1.20  \n",
              "MSFT         2.42  \n",
              "\n",
              "[297 rows x 9 columns]"
            ]
          },
          "execution_count": 407,
          "metadata": {},
          "output_type": "execute_result"
        }
      ],
      "source": [
        "# loc\n",
        "\n",
        "funda_df.loc[[\"AAPL\",\"GOOGL\",\"MSFT\"]]"
      ]
    },
    {
      "cell_type": "code",
      "execution_count": 409,
      "metadata": {
        "colab": {
          "base_uri": "https://localhost:8080/"
        },
        "id": "hyOae7adjh2d",
        "outputId": "e1a31fc3-f7d9-4238-cf9a-fdf0143a1087"
      },
      "outputs": [
        {
          "data": {
            "text/html": [
              "<div>\n",
              "<style scoped>\n",
              "    .dataframe tbody tr th:only-of-type {\n",
              "        vertical-align: middle;\n",
              "    }\n",
              "\n",
              "    .dataframe tbody tr th {\n",
              "        vertical-align: top;\n",
              "    }\n",
              "\n",
              "    .dataframe thead th {\n",
              "        text-align: right;\n",
              "    }\n",
              "</style>\n",
              "<table border=\"1\" class=\"dataframe\">\n",
              "  <thead>\n",
              "    <tr style=\"text-align: right;\">\n",
              "      <th></th>\n",
              "      <th>Company Name</th>\n",
              "      <th>Sector</th>\n",
              "      <th>Industry</th>\n",
              "      <th>Market Cap (B)</th>\n",
              "      <th>EPS</th>\n",
              "      <th>P/E Ratio</th>\n",
              "      <th>Dividend Yield (%)</th>\n",
              "      <th>P/B Ratio</th>\n",
              "      <th>D/E Ratio</th>\n",
              "    </tr>\n",
              "    <tr>\n",
              "      <th>Ticker</th>\n",
              "      <th></th>\n",
              "      <th></th>\n",
              "      <th></th>\n",
              "      <th></th>\n",
              "      <th></th>\n",
              "      <th></th>\n",
              "      <th></th>\n",
              "      <th></th>\n",
              "      <th></th>\n",
              "    </tr>\n",
              "  </thead>\n",
              "  <tbody>\n",
              "    <tr>\n",
              "      <th>AAPL</th>\n",
              "      <td>Apple Inc.</td>\n",
              "      <td>Finance</td>\n",
              "      <td>Banks</td>\n",
              "      <td>173.47</td>\n",
              "      <td>9.40</td>\n",
              "      <td>40.14</td>\n",
              "      <td>2.83</td>\n",
              "      <td>11.32</td>\n",
              "      <td>1.21</td>\n",
              "    </tr>\n",
              "    <tr>\n",
              "      <th>MSFT</th>\n",
              "      <td>Microsoft Corporation</td>\n",
              "      <td>Utilities</td>\n",
              "      <td>Gas Utilities</td>\n",
              "      <td>38.24</td>\n",
              "      <td>8.60</td>\n",
              "      <td>22.84</td>\n",
              "      <td>9.22</td>\n",
              "      <td>1.61</td>\n",
              "      <td>2.15</td>\n",
              "    </tr>\n",
              "    <tr>\n",
              "      <th>TSLA</th>\n",
              "      <td>Tesla, Inc.</td>\n",
              "      <td>Finance</td>\n",
              "      <td>Banks</td>\n",
              "      <td>147.96</td>\n",
              "      <td>-9.68</td>\n",
              "      <td>40.41</td>\n",
              "      <td>3.11</td>\n",
              "      <td>NaN</td>\n",
              "      <td>0.12</td>\n",
              "    </tr>\n",
              "    <tr>\n",
              "      <th>BRK.B</th>\n",
              "      <td>Berkshire Hathaway Inc.</td>\n",
              "      <td>Energy</td>\n",
              "      <td>Oil &amp; Gas</td>\n",
              "      <td>484.27</td>\n",
              "      <td>8.97</td>\n",
              "      <td>13.70</td>\n",
              "      <td>9.01</td>\n",
              "      <td>2.92</td>\n",
              "      <td>NaN</td>\n",
              "    </tr>\n",
              "    <tr>\n",
              "      <th>JPM</th>\n",
              "      <td>JPMorgan Chase &amp; Co.</td>\n",
              "      <td>Healthcare</td>\n",
              "      <td>Biotechnology</td>\n",
              "      <td>157.02</td>\n",
              "      <td>4.02</td>\n",
              "      <td>46.94</td>\n",
              "      <td>4.59</td>\n",
              "      <td>4.96</td>\n",
              "      <td>2.75</td>\n",
              "    </tr>\n",
              "  </tbody>\n",
              "</table>\n",
              "</div>"
            ],
            "text/plain": [
              "                   Company Name      Sector       Industry  Market Cap (B)  \\\n",
              "Ticker                                                                       \n",
              "AAPL                 Apple Inc.     Finance          Banks          173.47   \n",
              "MSFT      Microsoft Corporation   Utilities  Gas Utilities           38.24   \n",
              "TSLA                Tesla, Inc.     Finance          Banks          147.96   \n",
              "BRK.B   Berkshire Hathaway Inc.      Energy      Oil & Gas          484.27   \n",
              "JPM        JPMorgan Chase & Co.  Healthcare  Biotechnology          157.02   \n",
              "\n",
              "         EPS  P/E Ratio  Dividend Yield (%)  P/B Ratio  D/E Ratio  \n",
              "Ticker                                                             \n",
              "AAPL    9.40      40.14                2.83      11.32       1.21  \n",
              "MSFT    8.60      22.84                9.22       1.61       2.15  \n",
              "TSLA   -9.68      40.41                3.11        NaN       0.12  \n",
              "BRK.B   8.97      13.70                9.01       2.92        NaN  \n",
              "JPM     4.02      46.94                4.59       4.96       2.75  "
            ]
          },
          "execution_count": 409,
          "metadata": {},
          "output_type": "execute_result"
        }
      ],
      "source": [
        "funda_df.iloc[0:10:2]"
      ]
    },
    {
      "cell_type": "code",
      "execution_count": null,
      "metadata": {
        "colab": {
          "base_uri": "https://localhost:8080/",
          "height": 143
        },
        "id": "tboUtK1djiGQ",
        "outputId": "bf9ecde4-a5bd-425e-eeb9-9509be7e7b79"
      },
      "outputs": [],
      "source": []
    },
    {
      "cell_type": "code",
      "execution_count": null,
      "metadata": {
        "colab": {
          "base_uri": "https://localhost:8080/",
          "height": 175
        },
        "id": "WOWnPNp6jiUK",
        "outputId": "b603b597-9bf1-40dc-c51b-c990cc7dc0d1"
      },
      "outputs": [],
      "source": [
        "\n"
      ]
    },
    {
      "cell_type": "code",
      "execution_count": null,
      "metadata": {
        "colab": {
          "base_uri": "https://localhost:8080/",
          "height": 175
        },
        "id": "bEvsiB5wQoqC",
        "outputId": "0d6945ef-d7b0-4f84-cf9d-50e47fb7912e"
      },
      "outputs": [],
      "source": []
    },
    {
      "cell_type": "code",
      "execution_count": null,
      "metadata": {},
      "outputs": [],
      "source": []
    },
    {
      "cell_type": "markdown",
      "metadata": {
        "id": "OP8KFcBiaZt-"
      },
      "source": [
        "### Selecting both rows and cols"
      ]
    },
    {
      "cell_type": "code",
      "execution_count": 415,
      "metadata": {
        "colab": {
          "base_uri": "https://localhost:8080/",
          "height": 143
        },
        "id": "6QUgIi7kad1X",
        "outputId": "c29e9437-37a0-4258-e706-2d6f19aaa80f"
      },
      "outputs": [
        {
          "data": {
            "text/html": [
              "<div>\n",
              "<style scoped>\n",
              "    .dataframe tbody tr th:only-of-type {\n",
              "        vertical-align: middle;\n",
              "    }\n",
              "\n",
              "    .dataframe tbody tr th {\n",
              "        vertical-align: top;\n",
              "    }\n",
              "\n",
              "    .dataframe thead th {\n",
              "        text-align: right;\n",
              "    }\n",
              "</style>\n",
              "<table border=\"1\" class=\"dataframe\">\n",
              "  <thead>\n",
              "    <tr style=\"text-align: right;\">\n",
              "      <th></th>\n",
              "      <th>Company Name</th>\n",
              "      <th>Sector</th>\n",
              "      <th>Industry</th>\n",
              "      <th>Market Cap (B)</th>\n",
              "    </tr>\n",
              "    <tr>\n",
              "      <th>Ticker</th>\n",
              "      <th></th>\n",
              "      <th></th>\n",
              "      <th></th>\n",
              "      <th></th>\n",
              "    </tr>\n",
              "  </thead>\n",
              "  <tbody>\n",
              "    <tr>\n",
              "      <th>AAPL</th>\n",
              "      <td>Apple Inc.</td>\n",
              "      <td>Finance</td>\n",
              "      <td>Banks</td>\n",
              "      <td>173.47</td>\n",
              "    </tr>\n",
              "    <tr>\n",
              "      <th>GOOGL</th>\n",
              "      <td>Alphabet Inc.</td>\n",
              "      <td>Finance</td>\n",
              "      <td>Banks</td>\n",
              "      <td>427.97</td>\n",
              "    </tr>\n",
              "    <tr>\n",
              "      <th>MSFT</th>\n",
              "      <td>Microsoft Corporation</td>\n",
              "      <td>Utilities</td>\n",
              "      <td>Gas Utilities</td>\n",
              "      <td>38.24</td>\n",
              "    </tr>\n",
              "    <tr>\n",
              "      <th>AMZN</th>\n",
              "      <td>Amazon.com, Inc.</td>\n",
              "      <td>Consumer Goods</td>\n",
              "      <td>Beverages</td>\n",
              "      <td>NaN</td>\n",
              "    </tr>\n",
              "    <tr>\n",
              "      <th>TSLA</th>\n",
              "      <td>Tesla, Inc.</td>\n",
              "      <td>Finance</td>\n",
              "      <td>Banks</td>\n",
              "      <td>147.96</td>\n",
              "    </tr>\n",
              "  </tbody>\n",
              "</table>\n",
              "</div>"
            ],
            "text/plain": [
              "                 Company Name          Sector       Industry  Market Cap (B)\n",
              "Ticker                                                                      \n",
              "AAPL               Apple Inc.         Finance          Banks          173.47\n",
              "GOOGL           Alphabet Inc.         Finance          Banks          427.97\n",
              "MSFT    Microsoft Corporation       Utilities  Gas Utilities           38.24\n",
              "AMZN         Amazon.com, Inc.  Consumer Goods      Beverages             NaN\n",
              "TSLA              Tesla, Inc.         Finance          Banks          147.96"
            ]
          },
          "execution_count": 415,
          "metadata": {},
          "output_type": "execute_result"
        }
      ],
      "source": [
        "funda_df.iloc[0:5,0:4]"
      ]
    },
    {
      "cell_type": "code",
      "execution_count": 426,
      "metadata": {},
      "outputs": [
        {
          "data": {
            "text/html": [
              "<div>\n",
              "<style scoped>\n",
              "    .dataframe tbody tr th:only-of-type {\n",
              "        vertical-align: middle;\n",
              "    }\n",
              "\n",
              "    .dataframe tbody tr th {\n",
              "        vertical-align: top;\n",
              "    }\n",
              "\n",
              "    .dataframe thead th {\n",
              "        text-align: right;\n",
              "    }\n",
              "</style>\n",
              "<table border=\"1\" class=\"dataframe\">\n",
              "  <thead>\n",
              "    <tr style=\"text-align: right;\">\n",
              "      <th></th>\n",
              "      <th>Company Name</th>\n",
              "      <th>Sector</th>\n",
              "      <th>Industry</th>\n",
              "      <th>Market Cap (B)</th>\n",
              "    </tr>\n",
              "    <tr>\n",
              "      <th>Ticker</th>\n",
              "      <th></th>\n",
              "      <th></th>\n",
              "      <th></th>\n",
              "      <th></th>\n",
              "    </tr>\n",
              "  </thead>\n",
              "  <tbody>\n",
              "    <tr>\n",
              "      <th>AAPL</th>\n",
              "      <td>Apple Inc.</td>\n",
              "      <td>Finance</td>\n",
              "      <td>Banks</td>\n",
              "      <td>173.47</td>\n",
              "    </tr>\n",
              "    <tr>\n",
              "      <th>AAPL</th>\n",
              "      <td>Apple Inc.</td>\n",
              "      <td>Consumer Goods</td>\n",
              "      <td>Food Products</td>\n",
              "      <td>225.94</td>\n",
              "    </tr>\n",
              "    <tr>\n",
              "      <th>AAPL</th>\n",
              "      <td>Apple Inc.</td>\n",
              "      <td>Finance</td>\n",
              "      <td>Investment Services</td>\n",
              "      <td>308.99</td>\n",
              "    </tr>\n",
              "    <tr>\n",
              "      <th>AAPL</th>\n",
              "      <td>Apple Inc.</td>\n",
              "      <td>Utilities</td>\n",
              "      <td>Water Utilities</td>\n",
              "      <td>273.18</td>\n",
              "    </tr>\n",
              "    <tr>\n",
              "      <th>AAPL</th>\n",
              "      <td>Apple Inc.</td>\n",
              "      <td>Healthcare</td>\n",
              "      <td>Pharmaceuticals</td>\n",
              "      <td>171.88</td>\n",
              "    </tr>\n",
              "    <tr>\n",
              "      <th>...</th>\n",
              "      <td>...</td>\n",
              "      <td>...</td>\n",
              "      <td>...</td>\n",
              "      <td>...</td>\n",
              "    </tr>\n",
              "    <tr>\n",
              "      <th>AAPL</th>\n",
              "      <td>Apple Inc.</td>\n",
              "      <td>Consumer Goods</td>\n",
              "      <td>Beverages</td>\n",
              "      <td>NaN</td>\n",
              "    </tr>\n",
              "    <tr>\n",
              "      <th>AAPL</th>\n",
              "      <td>Apple Inc.</td>\n",
              "      <td>Industrial Goods</td>\n",
              "      <td>Aerospace</td>\n",
              "      <td>80.87</td>\n",
              "    </tr>\n",
              "    <tr>\n",
              "      <th>AAPL</th>\n",
              "      <td>Apple Inc.</td>\n",
              "      <td>Industrial Goods</td>\n",
              "      <td>Aerospace</td>\n",
              "      <td>NaN</td>\n",
              "    </tr>\n",
              "    <tr>\n",
              "      <th>AAPL</th>\n",
              "      <td>Apple Inc.</td>\n",
              "      <td>Utilities</td>\n",
              "      <td>Electric Utilities</td>\n",
              "      <td>319.65</td>\n",
              "    </tr>\n",
              "    <tr>\n",
              "      <th>AAPL</th>\n",
              "      <td>Apple Inc.</td>\n",
              "      <td>Healthcare</td>\n",
              "      <td>Medical Devices</td>\n",
              "      <td>147.73</td>\n",
              "    </tr>\n",
              "  </tbody>\n",
              "</table>\n",
              "<p>99 rows × 4 columns</p>\n",
              "</div>"
            ],
            "text/plain": [
              "       Company Name            Sector             Industry  Market Cap (B)\n",
              "Ticker                                                                    \n",
              "AAPL     Apple Inc.           Finance                Banks          173.47\n",
              "AAPL     Apple Inc.    Consumer Goods        Food Products          225.94\n",
              "AAPL     Apple Inc.           Finance  Investment Services          308.99\n",
              "AAPL     Apple Inc.         Utilities      Water Utilities          273.18\n",
              "AAPL     Apple Inc.        Healthcare      Pharmaceuticals          171.88\n",
              "...             ...               ...                  ...             ...\n",
              "AAPL     Apple Inc.    Consumer Goods            Beverages             NaN\n",
              "AAPL     Apple Inc.  Industrial Goods            Aerospace           80.87\n",
              "AAPL     Apple Inc.  Industrial Goods            Aerospace             NaN\n",
              "AAPL     Apple Inc.         Utilities   Electric Utilities          319.65\n",
              "AAPL     Apple Inc.        Healthcare      Medical Devices          147.73\n",
              "\n",
              "[99 rows x 4 columns]"
            ]
          },
          "execution_count": 426,
          "metadata": {},
          "output_type": "execute_result"
        }
      ],
      "source": [
        "funda_df.loc[\"AAPL\",\"Company Name\":\"Market Cap (B)\"]"
      ]
    },
    {
      "cell_type": "code",
      "execution_count": 440,
      "metadata": {},
      "outputs": [
        {
          "data": {
            "text/html": [
              "<div>\n",
              "<style scoped>\n",
              "    .dataframe tbody tr th:only-of-type {\n",
              "        vertical-align: middle;\n",
              "    }\n",
              "\n",
              "    .dataframe tbody tr th {\n",
              "        vertical-align: top;\n",
              "    }\n",
              "\n",
              "    .dataframe thead th {\n",
              "        text-align: right;\n",
              "    }\n",
              "</style>\n",
              "<table border=\"1\" class=\"dataframe\">\n",
              "  <thead>\n",
              "    <tr style=\"text-align: right;\">\n",
              "      <th></th>\n",
              "      <th>Date</th>\n",
              "      <th>Ticker</th>\n",
              "      <th>Open</th>\n",
              "      <th>High</th>\n",
              "      <th>Low</th>\n",
              "      <th>Close</th>\n",
              "    </tr>\n",
              "  </thead>\n",
              "  <tbody>\n",
              "    <tr>\n",
              "      <th>0</th>\n",
              "      <td>2015-01-01</td>\n",
              "      <td>AAPL</td>\n",
              "      <td>101.031849</td>\n",
              "      <td>101.329723</td>\n",
              "      <td>98.852354</td>\n",
              "      <td>101.197410</td>\n",
              "    </tr>\n",
              "    <tr>\n",
              "      <th>1</th>\n",
              "      <td>2015-01-02</td>\n",
              "      <td>AAPL</td>\n",
              "      <td>100.866496</td>\n",
              "      <td>100.866496</td>\n",
              "      <td>99.568981</td>\n",
              "      <td>101.220064</td>\n",
              "    </tr>\n",
              "    <tr>\n",
              "      <th>2</th>\n",
              "      <td>2015-01-05</td>\n",
              "      <td>AAPL</td>\n",
              "      <td>101.164489</td>\n",
              "      <td>101.176821</td>\n",
              "      <td>100.920124</td>\n",
              "      <td>101.339872</td>\n",
              "    </tr>\n",
              "    <tr>\n",
              "      <th>3</th>\n",
              "      <td>2015-01-06</td>\n",
              "      <td>AAPL</td>\n",
              "      <td>NaN</td>\n",
              "      <td>103.203859</td>\n",
              "      <td>102.287356</td>\n",
              "      <td>101.777905</td>\n",
              "    </tr>\n",
              "    <tr>\n",
              "      <th>4</th>\n",
              "      <td>2015-01-07</td>\n",
              "      <td>AAPL</td>\n",
              "      <td>102.744728</td>\n",
              "      <td>104.050309</td>\n",
              "      <td>102.211701</td>\n",
              "      <td>102.090310</td>\n",
              "    </tr>\n",
              "    <tr>\n",
              "      <th>5</th>\n",
              "      <td>2015-01-08</td>\n",
              "      <td>AAPL</td>\n",
              "      <td>101.311978</td>\n",
              "      <td>102.094773</td>\n",
              "      <td>100.520561</td>\n",
              "      <td>102.675189</td>\n",
              "    </tr>\n",
              "  </tbody>\n",
              "</table>\n",
              "</div>"
            ],
            "text/plain": [
              "         Date Ticker        Open        High         Low       Close\n",
              "0  2015-01-01   AAPL  101.031849  101.329723   98.852354  101.197410\n",
              "1  2015-01-02   AAPL  100.866496  100.866496   99.568981  101.220064\n",
              "2  2015-01-05   AAPL  101.164489  101.176821  100.920124  101.339872\n",
              "3  2015-01-06   AAPL         NaN  103.203859  102.287356  101.777905\n",
              "4  2015-01-07   AAPL  102.744728  104.050309  102.211701  102.090310\n",
              "5  2015-01-08   AAPL  101.311978  102.094773  100.520561  102.675189"
            ]
          },
          "execution_count": 440,
          "metadata": {},
          "output_type": "execute_result"
        }
      ],
      "source": [
        "algo_df.loc[0:5,\"Date\":\"Close\"]"
      ]
    },
    {
      "cell_type": "markdown",
      "metadata": {
        "id": "VRAEYkfSNf9Z"
      },
      "source": [
        "### Filtering a DataFrame"
      ]
    },
    {
      "cell_type": "code",
      "execution_count": null,
      "metadata": {
        "colab": {
          "base_uri": "https://localhost:8080/",
          "height": 298
        },
        "id": "xLlq8bktvi63",
        "outputId": "e0eb75d4-56ca-4a26-88bd-c111beb56f56"
      },
      "outputs": [],
      "source": [
        "\n",
        "\n"
      ]
    },
    {
      "cell_type": "markdown",
      "metadata": {
        "id": "Kqf3EdS0229S"
      },
      "source": [
        "### Adding new cols"
      ]
    },
    {
      "cell_type": "code",
      "execution_count": 441,
      "metadata": {
        "colab": {
          "base_uri": "https://localhost:8080/",
          "height": 635
        },
        "id": "t7GmI1tn24Ge",
        "outputId": "a27a5542-6add-4e36-a7a7-865cf4e2e1e2"
      },
      "outputs": [
        {
          "data": {
            "text/html": [
              "<div>\n",
              "<style scoped>\n",
              "    .dataframe tbody tr th:only-of-type {\n",
              "        vertical-align: middle;\n",
              "    }\n",
              "\n",
              "    .dataframe tbody tr th {\n",
              "        vertical-align: top;\n",
              "    }\n",
              "\n",
              "    .dataframe thead th {\n",
              "        text-align: right;\n",
              "    }\n",
              "</style>\n",
              "<table border=\"1\" class=\"dataframe\">\n",
              "  <thead>\n",
              "    <tr style=\"text-align: right;\">\n",
              "      <th></th>\n",
              "      <th>Date</th>\n",
              "      <th>Ticker</th>\n",
              "      <th>Open</th>\n",
              "      <th>High</th>\n",
              "      <th>Low</th>\n",
              "      <th>Close</th>\n",
              "      <th>Volume</th>\n",
              "    </tr>\n",
              "  </thead>\n",
              "  <tbody>\n",
              "    <tr>\n",
              "      <th>0</th>\n",
              "      <td>2015-01-01</td>\n",
              "      <td>AAPL</td>\n",
              "      <td>101.031849</td>\n",
              "      <td>101.329723</td>\n",
              "      <td>98.852354</td>\n",
              "      <td>101.197410</td>\n",
              "      <td>344567.0</td>\n",
              "    </tr>\n",
              "    <tr>\n",
              "      <th>1</th>\n",
              "      <td>2015-01-02</td>\n",
              "      <td>AAPL</td>\n",
              "      <td>100.866496</td>\n",
              "      <td>100.866496</td>\n",
              "      <td>99.568981</td>\n",
              "      <td>101.220064</td>\n",
              "      <td>310521.0</td>\n",
              "    </tr>\n",
              "    <tr>\n",
              "      <th>2</th>\n",
              "      <td>2015-01-05</td>\n",
              "      <td>AAPL</td>\n",
              "      <td>101.164489</td>\n",
              "      <td>101.176821</td>\n",
              "      <td>100.920124</td>\n",
              "      <td>101.339872</td>\n",
              "      <td>NaN</td>\n",
              "    </tr>\n",
              "    <tr>\n",
              "      <th>3</th>\n",
              "      <td>2015-01-06</td>\n",
              "      <td>AAPL</td>\n",
              "      <td>NaN</td>\n",
              "      <td>103.203859</td>\n",
              "      <td>102.287356</td>\n",
              "      <td>101.777905</td>\n",
              "      <td>295025.0</td>\n",
              "    </tr>\n",
              "    <tr>\n",
              "      <th>4</th>\n",
              "      <td>2015-01-07</td>\n",
              "      <td>AAPL</td>\n",
              "      <td>102.744728</td>\n",
              "      <td>104.050309</td>\n",
              "      <td>102.211701</td>\n",
              "      <td>102.090310</td>\n",
              "      <td>439080.0</td>\n",
              "    </tr>\n",
              "    <tr>\n",
              "      <th>...</th>\n",
              "      <td>...</td>\n",
              "      <td>...</td>\n",
              "      <td>...</td>\n",
              "      <td>...</td>\n",
              "      <td>...</td>\n",
              "      <td>...</td>\n",
              "      <td>...</td>\n",
              "    </tr>\n",
              "    <tr>\n",
              "      <th>32865</th>\n",
              "      <td>2021-08-02</td>\n",
              "      <td>AMZN</td>\n",
              "      <td>184.443237</td>\n",
              "      <td>185.375089</td>\n",
              "      <td>183.176491</td>\n",
              "      <td>183.087397</td>\n",
              "      <td>581356.0</td>\n",
              "    </tr>\n",
              "    <tr>\n",
              "      <th>32866</th>\n",
              "      <td>2017-01-24</td>\n",
              "      <td>AAPL</td>\n",
              "      <td>92.780364</td>\n",
              "      <td>93.092012</td>\n",
              "      <td>91.238510</td>\n",
              "      <td>NaN</td>\n",
              "      <td>754158.0</td>\n",
              "    </tr>\n",
              "    <tr>\n",
              "      <th>32867</th>\n",
              "      <td>2018-03-09</td>\n",
              "      <td>AMZN</td>\n",
              "      <td>98.074613</td>\n",
              "      <td>99.154029</td>\n",
              "      <td>96.203177</td>\n",
              "      <td>97.487616</td>\n",
              "      <td>76911.0</td>\n",
              "    </tr>\n",
              "    <tr>\n",
              "      <th>32868</th>\n",
              "      <td>2018-05-02</td>\n",
              "      <td>LTC/USD</td>\n",
              "      <td>103.443224</td>\n",
              "      <td>105.575739</td>\n",
              "      <td>103.159286</td>\n",
              "      <td>NaN</td>\n",
              "      <td>552764.0</td>\n",
              "    </tr>\n",
              "    <tr>\n",
              "      <th>32869</th>\n",
              "      <td>2020-09-18</td>\n",
              "      <td>ETH/USD</td>\n",
              "      <td>164.755329</td>\n",
              "      <td>166.936724</td>\n",
              "      <td>164.755329</td>\n",
              "      <td>164.722026</td>\n",
              "      <td>816832.0</td>\n",
              "    </tr>\n",
              "  </tbody>\n",
              "</table>\n",
              "<p>32870 rows × 7 columns</p>\n",
              "</div>"
            ],
            "text/plain": [
              "             Date   Ticker        Open        High         Low       Close  \\\n",
              "0      2015-01-01     AAPL  101.031849  101.329723   98.852354  101.197410   \n",
              "1      2015-01-02     AAPL  100.866496  100.866496   99.568981  101.220064   \n",
              "2      2015-01-05     AAPL  101.164489  101.176821  100.920124  101.339872   \n",
              "3      2015-01-06     AAPL         NaN  103.203859  102.287356  101.777905   \n",
              "4      2015-01-07     AAPL  102.744728  104.050309  102.211701  102.090310   \n",
              "...           ...      ...         ...         ...         ...         ...   \n",
              "32865  2021-08-02     AMZN  184.443237  185.375089  183.176491  183.087397   \n",
              "32866  2017-01-24     AAPL   92.780364   93.092012   91.238510         NaN   \n",
              "32867  2018-03-09     AMZN   98.074613   99.154029   96.203177   97.487616   \n",
              "32868  2018-05-02  LTC/USD  103.443224  105.575739  103.159286         NaN   \n",
              "32869  2020-09-18  ETH/USD  164.755329  166.936724  164.755329  164.722026   \n",
              "\n",
              "         Volume  \n",
              "0      344567.0  \n",
              "1      310521.0  \n",
              "2           NaN  \n",
              "3      295025.0  \n",
              "4      439080.0  \n",
              "...         ...  \n",
              "32865  581356.0  \n",
              "32866  754158.0  \n",
              "32867   76911.0  \n",
              "32868  552764.0  \n",
              "32869  816832.0  \n",
              "\n",
              "[32870 rows x 7 columns]"
            ]
          },
          "execution_count": 441,
          "metadata": {},
          "output_type": "execute_result"
        }
      ],
      "source": [
        "# completely new\n",
        "algo_df"
      ]
    },
    {
      "cell_type": "code",
      "execution_count": 442,
      "metadata": {},
      "outputs": [],
      "source": [
        "algo_df[\"New Col\"] = \"Kuldeep Singh\""
      ]
    },
    {
      "cell_type": "code",
      "execution_count": 443,
      "metadata": {},
      "outputs": [
        {
          "data": {
            "text/html": [
              "<div>\n",
              "<style scoped>\n",
              "    .dataframe tbody tr th:only-of-type {\n",
              "        vertical-align: middle;\n",
              "    }\n",
              "\n",
              "    .dataframe tbody tr th {\n",
              "        vertical-align: top;\n",
              "    }\n",
              "\n",
              "    .dataframe thead th {\n",
              "        text-align: right;\n",
              "    }\n",
              "</style>\n",
              "<table border=\"1\" class=\"dataframe\">\n",
              "  <thead>\n",
              "    <tr style=\"text-align: right;\">\n",
              "      <th></th>\n",
              "      <th>Date</th>\n",
              "      <th>Ticker</th>\n",
              "      <th>Open</th>\n",
              "      <th>High</th>\n",
              "      <th>Low</th>\n",
              "      <th>Close</th>\n",
              "      <th>Volume</th>\n",
              "      <th>New Col</th>\n",
              "    </tr>\n",
              "  </thead>\n",
              "  <tbody>\n",
              "    <tr>\n",
              "      <th>0</th>\n",
              "      <td>2015-01-01</td>\n",
              "      <td>AAPL</td>\n",
              "      <td>101.031849</td>\n",
              "      <td>101.329723</td>\n",
              "      <td>98.852354</td>\n",
              "      <td>101.197410</td>\n",
              "      <td>344567.0</td>\n",
              "      <td>Kuldeep Singh</td>\n",
              "    </tr>\n",
              "    <tr>\n",
              "      <th>1</th>\n",
              "      <td>2015-01-02</td>\n",
              "      <td>AAPL</td>\n",
              "      <td>100.866496</td>\n",
              "      <td>100.866496</td>\n",
              "      <td>99.568981</td>\n",
              "      <td>101.220064</td>\n",
              "      <td>310521.0</td>\n",
              "      <td>Kuldeep Singh</td>\n",
              "    </tr>\n",
              "    <tr>\n",
              "      <th>2</th>\n",
              "      <td>2015-01-05</td>\n",
              "      <td>AAPL</td>\n",
              "      <td>101.164489</td>\n",
              "      <td>101.176821</td>\n",
              "      <td>100.920124</td>\n",
              "      <td>101.339872</td>\n",
              "      <td>NaN</td>\n",
              "      <td>Kuldeep Singh</td>\n",
              "    </tr>\n",
              "    <tr>\n",
              "      <th>3</th>\n",
              "      <td>2015-01-06</td>\n",
              "      <td>AAPL</td>\n",
              "      <td>NaN</td>\n",
              "      <td>103.203859</td>\n",
              "      <td>102.287356</td>\n",
              "      <td>101.777905</td>\n",
              "      <td>295025.0</td>\n",
              "      <td>Kuldeep Singh</td>\n",
              "    </tr>\n",
              "    <tr>\n",
              "      <th>4</th>\n",
              "      <td>2015-01-07</td>\n",
              "      <td>AAPL</td>\n",
              "      <td>102.744728</td>\n",
              "      <td>104.050309</td>\n",
              "      <td>102.211701</td>\n",
              "      <td>102.090310</td>\n",
              "      <td>439080.0</td>\n",
              "      <td>Kuldeep Singh</td>\n",
              "    </tr>\n",
              "    <tr>\n",
              "      <th>...</th>\n",
              "      <td>...</td>\n",
              "      <td>...</td>\n",
              "      <td>...</td>\n",
              "      <td>...</td>\n",
              "      <td>...</td>\n",
              "      <td>...</td>\n",
              "      <td>...</td>\n",
              "      <td>...</td>\n",
              "    </tr>\n",
              "    <tr>\n",
              "      <th>32865</th>\n",
              "      <td>2021-08-02</td>\n",
              "      <td>AMZN</td>\n",
              "      <td>184.443237</td>\n",
              "      <td>185.375089</td>\n",
              "      <td>183.176491</td>\n",
              "      <td>183.087397</td>\n",
              "      <td>581356.0</td>\n",
              "      <td>Kuldeep Singh</td>\n",
              "    </tr>\n",
              "    <tr>\n",
              "      <th>32866</th>\n",
              "      <td>2017-01-24</td>\n",
              "      <td>AAPL</td>\n",
              "      <td>92.780364</td>\n",
              "      <td>93.092012</td>\n",
              "      <td>91.238510</td>\n",
              "      <td>NaN</td>\n",
              "      <td>754158.0</td>\n",
              "      <td>Kuldeep Singh</td>\n",
              "    </tr>\n",
              "    <tr>\n",
              "      <th>32867</th>\n",
              "      <td>2018-03-09</td>\n",
              "      <td>AMZN</td>\n",
              "      <td>98.074613</td>\n",
              "      <td>99.154029</td>\n",
              "      <td>96.203177</td>\n",
              "      <td>97.487616</td>\n",
              "      <td>76911.0</td>\n",
              "      <td>Kuldeep Singh</td>\n",
              "    </tr>\n",
              "    <tr>\n",
              "      <th>32868</th>\n",
              "      <td>2018-05-02</td>\n",
              "      <td>LTC/USD</td>\n",
              "      <td>103.443224</td>\n",
              "      <td>105.575739</td>\n",
              "      <td>103.159286</td>\n",
              "      <td>NaN</td>\n",
              "      <td>552764.0</td>\n",
              "      <td>Kuldeep Singh</td>\n",
              "    </tr>\n",
              "    <tr>\n",
              "      <th>32869</th>\n",
              "      <td>2020-09-18</td>\n",
              "      <td>ETH/USD</td>\n",
              "      <td>164.755329</td>\n",
              "      <td>166.936724</td>\n",
              "      <td>164.755329</td>\n",
              "      <td>164.722026</td>\n",
              "      <td>816832.0</td>\n",
              "      <td>Kuldeep Singh</td>\n",
              "    </tr>\n",
              "  </tbody>\n",
              "</table>\n",
              "<p>32870 rows × 8 columns</p>\n",
              "</div>"
            ],
            "text/plain": [
              "             Date   Ticker        Open        High         Low       Close  \\\n",
              "0      2015-01-01     AAPL  101.031849  101.329723   98.852354  101.197410   \n",
              "1      2015-01-02     AAPL  100.866496  100.866496   99.568981  101.220064   \n",
              "2      2015-01-05     AAPL  101.164489  101.176821  100.920124  101.339872   \n",
              "3      2015-01-06     AAPL         NaN  103.203859  102.287356  101.777905   \n",
              "4      2015-01-07     AAPL  102.744728  104.050309  102.211701  102.090310   \n",
              "...           ...      ...         ...         ...         ...         ...   \n",
              "32865  2021-08-02     AMZN  184.443237  185.375089  183.176491  183.087397   \n",
              "32866  2017-01-24     AAPL   92.780364   93.092012   91.238510         NaN   \n",
              "32867  2018-03-09     AMZN   98.074613   99.154029   96.203177   97.487616   \n",
              "32868  2018-05-02  LTC/USD  103.443224  105.575739  103.159286         NaN   \n",
              "32869  2020-09-18  ETH/USD  164.755329  166.936724  164.755329  164.722026   \n",
              "\n",
              "         Volume        New Col  \n",
              "0      344567.0  Kuldeep Singh  \n",
              "1      310521.0  Kuldeep Singh  \n",
              "2           NaN  Kuldeep Singh  \n",
              "3      295025.0  Kuldeep Singh  \n",
              "4      439080.0  Kuldeep Singh  \n",
              "...         ...            ...  \n",
              "32865  581356.0  Kuldeep Singh  \n",
              "32866  754158.0  Kuldeep Singh  \n",
              "32867   76911.0  Kuldeep Singh  \n",
              "32868  552764.0  Kuldeep Singh  \n",
              "32869  816832.0  Kuldeep Singh  \n",
              "\n",
              "[32870 rows x 8 columns]"
            ]
          },
          "execution_count": 443,
          "metadata": {},
          "output_type": "execute_result"
        }
      ],
      "source": [
        "algo_df"
      ]
    },
    {
      "cell_type": "code",
      "execution_count": 445,
      "metadata": {
        "id": "__bvr_sX25qI"
      },
      "outputs": [],
      "source": [
        "# from existing ones\n",
        "\n",
        "\n",
        "algo_df[\"New Close\"] = algo_df[\"Close\"] * 100"
      ]
    },
    {
      "cell_type": "code",
      "execution_count": 446,
      "metadata": {
        "colab": {
          "base_uri": "https://localhost:8080/",
          "height": 739
        },
        "id": "ge6LfvI7bBR9",
        "outputId": "645ae722-53a5-4e1e-c146-45d0fe1edd47"
      },
      "outputs": [
        {
          "data": {
            "text/html": [
              "<div>\n",
              "<style scoped>\n",
              "    .dataframe tbody tr th:only-of-type {\n",
              "        vertical-align: middle;\n",
              "    }\n",
              "\n",
              "    .dataframe tbody tr th {\n",
              "        vertical-align: top;\n",
              "    }\n",
              "\n",
              "    .dataframe thead th {\n",
              "        text-align: right;\n",
              "    }\n",
              "</style>\n",
              "<table border=\"1\" class=\"dataframe\">\n",
              "  <thead>\n",
              "    <tr style=\"text-align: right;\">\n",
              "      <th></th>\n",
              "      <th>Date</th>\n",
              "      <th>Ticker</th>\n",
              "      <th>Open</th>\n",
              "      <th>High</th>\n",
              "      <th>Low</th>\n",
              "      <th>Close</th>\n",
              "      <th>Volume</th>\n",
              "      <th>New Col</th>\n",
              "      <th>New Close</th>\n",
              "    </tr>\n",
              "  </thead>\n",
              "  <tbody>\n",
              "    <tr>\n",
              "      <th>0</th>\n",
              "      <td>2015-01-01</td>\n",
              "      <td>AAPL</td>\n",
              "      <td>101.031849</td>\n",
              "      <td>101.329723</td>\n",
              "      <td>98.852354</td>\n",
              "      <td>101.197410</td>\n",
              "      <td>344567.0</td>\n",
              "      <td>Kuldeep Singh</td>\n",
              "      <td>10119.741016</td>\n",
              "    </tr>\n",
              "    <tr>\n",
              "      <th>1</th>\n",
              "      <td>2015-01-02</td>\n",
              "      <td>AAPL</td>\n",
              "      <td>100.866496</td>\n",
              "      <td>100.866496</td>\n",
              "      <td>99.568981</td>\n",
              "      <td>101.220064</td>\n",
              "      <td>310521.0</td>\n",
              "      <td>Kuldeep Singh</td>\n",
              "      <td>10122.006445</td>\n",
              "    </tr>\n",
              "    <tr>\n",
              "      <th>2</th>\n",
              "      <td>2015-01-05</td>\n",
              "      <td>AAPL</td>\n",
              "      <td>101.164489</td>\n",
              "      <td>101.176821</td>\n",
              "      <td>100.920124</td>\n",
              "      <td>101.339872</td>\n",
              "      <td>NaN</td>\n",
              "      <td>Kuldeep Singh</td>\n",
              "      <td>10133.987171</td>\n",
              "    </tr>\n",
              "    <tr>\n",
              "      <th>3</th>\n",
              "      <td>2015-01-06</td>\n",
              "      <td>AAPL</td>\n",
              "      <td>NaN</td>\n",
              "      <td>103.203859</td>\n",
              "      <td>102.287356</td>\n",
              "      <td>101.777905</td>\n",
              "      <td>295025.0</td>\n",
              "      <td>Kuldeep Singh</td>\n",
              "      <td>10177.790504</td>\n",
              "    </tr>\n",
              "    <tr>\n",
              "      <th>4</th>\n",
              "      <td>2015-01-07</td>\n",
              "      <td>AAPL</td>\n",
              "      <td>102.744728</td>\n",
              "      <td>104.050309</td>\n",
              "      <td>102.211701</td>\n",
              "      <td>102.090310</td>\n",
              "      <td>439080.0</td>\n",
              "      <td>Kuldeep Singh</td>\n",
              "      <td>10209.031003</td>\n",
              "    </tr>\n",
              "    <tr>\n",
              "      <th>...</th>\n",
              "      <td>...</td>\n",
              "      <td>...</td>\n",
              "      <td>...</td>\n",
              "      <td>...</td>\n",
              "      <td>...</td>\n",
              "      <td>...</td>\n",
              "      <td>...</td>\n",
              "      <td>...</td>\n",
              "      <td>...</td>\n",
              "    </tr>\n",
              "    <tr>\n",
              "      <th>32865</th>\n",
              "      <td>2021-08-02</td>\n",
              "      <td>AMZN</td>\n",
              "      <td>184.443237</td>\n",
              "      <td>185.375089</td>\n",
              "      <td>183.176491</td>\n",
              "      <td>183.087397</td>\n",
              "      <td>581356.0</td>\n",
              "      <td>Kuldeep Singh</td>\n",
              "      <td>18308.739709</td>\n",
              "    </tr>\n",
              "    <tr>\n",
              "      <th>32866</th>\n",
              "      <td>2017-01-24</td>\n",
              "      <td>AAPL</td>\n",
              "      <td>92.780364</td>\n",
              "      <td>93.092012</td>\n",
              "      <td>91.238510</td>\n",
              "      <td>NaN</td>\n",
              "      <td>754158.0</td>\n",
              "      <td>Kuldeep Singh</td>\n",
              "      <td>NaN</td>\n",
              "    </tr>\n",
              "    <tr>\n",
              "      <th>32867</th>\n",
              "      <td>2018-03-09</td>\n",
              "      <td>AMZN</td>\n",
              "      <td>98.074613</td>\n",
              "      <td>99.154029</td>\n",
              "      <td>96.203177</td>\n",
              "      <td>97.487616</td>\n",
              "      <td>76911.0</td>\n",
              "      <td>Kuldeep Singh</td>\n",
              "      <td>9748.761555</td>\n",
              "    </tr>\n",
              "    <tr>\n",
              "      <th>32868</th>\n",
              "      <td>2018-05-02</td>\n",
              "      <td>LTC/USD</td>\n",
              "      <td>103.443224</td>\n",
              "      <td>105.575739</td>\n",
              "      <td>103.159286</td>\n",
              "      <td>NaN</td>\n",
              "      <td>552764.0</td>\n",
              "      <td>Kuldeep Singh</td>\n",
              "      <td>NaN</td>\n",
              "    </tr>\n",
              "    <tr>\n",
              "      <th>32869</th>\n",
              "      <td>2020-09-18</td>\n",
              "      <td>ETH/USD</td>\n",
              "      <td>164.755329</td>\n",
              "      <td>166.936724</td>\n",
              "      <td>164.755329</td>\n",
              "      <td>164.722026</td>\n",
              "      <td>816832.0</td>\n",
              "      <td>Kuldeep Singh</td>\n",
              "      <td>16472.202588</td>\n",
              "    </tr>\n",
              "  </tbody>\n",
              "</table>\n",
              "<p>32870 rows × 9 columns</p>\n",
              "</div>"
            ],
            "text/plain": [
              "             Date   Ticker        Open        High         Low       Close  \\\n",
              "0      2015-01-01     AAPL  101.031849  101.329723   98.852354  101.197410   \n",
              "1      2015-01-02     AAPL  100.866496  100.866496   99.568981  101.220064   \n",
              "2      2015-01-05     AAPL  101.164489  101.176821  100.920124  101.339872   \n",
              "3      2015-01-06     AAPL         NaN  103.203859  102.287356  101.777905   \n",
              "4      2015-01-07     AAPL  102.744728  104.050309  102.211701  102.090310   \n",
              "...           ...      ...         ...         ...         ...         ...   \n",
              "32865  2021-08-02     AMZN  184.443237  185.375089  183.176491  183.087397   \n",
              "32866  2017-01-24     AAPL   92.780364   93.092012   91.238510         NaN   \n",
              "32867  2018-03-09     AMZN   98.074613   99.154029   96.203177   97.487616   \n",
              "32868  2018-05-02  LTC/USD  103.443224  105.575739  103.159286         NaN   \n",
              "32869  2020-09-18  ETH/USD  164.755329  166.936724  164.755329  164.722026   \n",
              "\n",
              "         Volume        New Col     New Close  \n",
              "0      344567.0  Kuldeep Singh  10119.741016  \n",
              "1      310521.0  Kuldeep Singh  10122.006445  \n",
              "2           NaN  Kuldeep Singh  10133.987171  \n",
              "3      295025.0  Kuldeep Singh  10177.790504  \n",
              "4      439080.0  Kuldeep Singh  10209.031003  \n",
              "...         ...            ...           ...  \n",
              "32865  581356.0  Kuldeep Singh  18308.739709  \n",
              "32866  754158.0  Kuldeep Singh           NaN  \n",
              "32867   76911.0  Kuldeep Singh   9748.761555  \n",
              "32868  552764.0  Kuldeep Singh           NaN  \n",
              "32869  816832.0  Kuldeep Singh  16472.202588  \n",
              "\n",
              "[32870 rows x 9 columns]"
            ]
          },
          "execution_count": 446,
          "metadata": {},
          "output_type": "execute_result"
        }
      ],
      "source": [
        "algo_df"
      ]
    },
    {
      "cell_type": "code",
      "execution_count": null,
      "metadata": {
        "colab": {
          "base_uri": "https://localhost:8080/"
        },
        "id": "nYWiGlIMakvg",
        "outputId": "345876ef-e1c1-49b9-80d0-e72d44a18a31"
      },
      "outputs": [],
      "source": []
    },
    {
      "cell_type": "markdown",
      "metadata": {
        "id": "B881F9xu4Bmk"
      },
      "source": [
        "### Important DataFrame Functions"
      ]
    },
    {
      "cell_type": "code",
      "execution_count": null,
      "metadata": {
        "colab": {
          "base_uri": "https://localhost:8080/"
        },
        "id": "dd985cwtJnCW",
        "outputId": "38fd851c-a06f-474d-dd59-5e95b369b1c4"
      },
      "outputs": [],
      "source": [
        "# astype\n"
      ]
    },
    {
      "cell_type": "code",
      "execution_count": null,
      "metadata": {
        "id": "76Gugqiz4F8s"
      },
      "outputs": [],
      "source": [
        "# value_counts"
      ]
    },
    {
      "cell_type": "code",
      "execution_count": null,
      "metadata": {},
      "outputs": [],
      "source": []
    },
    {
      "cell_type": "markdown",
      "metadata": {},
      "source": [
        "1. **Identify all the top-performing stocks based on their overall return from the start to the end of the dataset.**\n",
        "   - **Hint:** Calculate the return as (final close price - initial close price) / initial close price.\n",
        "\n",
        "2. **How many instances of daily price change greater than 5% (super over finishes) occurred for each stock?**\n",
        "   - **Hint:** Use the `pct_change()` method on the 'Close' price to calculate daily percentage changes.\n",
        "\n",
        "3. **Calculate the number of times each stock's price increased on a specific date range (e.g., within the first quarter of each year).**\n",
        "   - **Hint:** Filter the dataset by date and then compare 'Close' and 'Open' prices.\n",
        "\n",
        "4. **Calculate the percentage of times the opening price being higher than the previous day's closing price (toss winner) resulted in a higher closing price on that day (match winner).**\n",
        "   - **Hint:** Use the `shift()` method to compare the opening price with the previous day's closing price.\n",
        "\n",
        "5. **Identify all assets with a daily percentage change higher than 8% and a volume greater than 100,000.**\n",
        "   - **Hint:** Apply conditions on 'Daily Change' and 'Volume' columns.\n",
        "\n",
        "6. **Identify all stocks in the Technology sector with a daily percentage change higher than 7.5%.**\n",
        "   - **Hint:** Merge the datasets on 'Ticker' and filter based on the sector and daily change.\n",
        "\n",
        "7. **Write a function that can return the performance track record of two assets against each other over time.**\n",
        "   - **Hint:** Create a function that merges the close prices of two tickers on the 'Date' column.\n",
        "\n",
        "8. **Identify and remove duplicate rows from both datasets. How many duplicates were removed?**\n",
        "   - **Hint:** Use the `duplicated()` method to find and remove duplicate rows.\n",
        "\n",
        "9. **For the fundamental dataset, identify rows where the Market Cap is NaN, and impute these values using a sector-wise median Market Cap.**\n",
        "   - **Hint:** Group by sector and fill NaN values with the sector median.\n",
        "\n",
        "10. **Filter the combined dataset to find the top 5 most volatile stocks based on the standard deviation of daily percentage changes.**\n",
        "    - **Hint:** Calculate the standard deviation of daily percentage changes for each stock and sort the results."
      ]
    },
    {
      "cell_type": "code",
      "execution_count": null,
      "metadata": {},
      "outputs": [],
      "source": []
    },
    {
      "cell_type": "markdown",
      "metadata": {},
      "source": []
    },
    {
      "cell_type": "markdown",
      "metadata": {},
      "source": []
    },
    {
      "cell_type": "code",
      "execution_count": null,
      "metadata": {},
      "outputs": [],
      "source": [
        "import pandas as pd\n",
        "import numpy as np\n",
        "\n",
        "# Function to create a synthetic dataset for a given asset type\n",
        "def create_asset_data(tickers, start_date, end_date):\n",
        "    dates = pd.date_range(start=start_date, end=end_date, freq='B')\n",
        "    data = []\n",
        "    for ticker in tickers:\n",
        "        np.random.seed(42)  # For reproducibility\n",
        "        price = np.random.randn(len(dates)).cumsum() + 100\n",
        "        for i in range(len(dates)):\n",
        "            open_price = price[i] + np.random.uniform(-1, 1)\n",
        "            high_price = max(open_price, price[i] + np.random.uniform(0, 2))\n",
        "            low_price = min(open_price, price[i] - np.random.uniform(0, 2))\n",
        "            close_price = price[i] + np.random.uniform(-1, 1)\n",
        "            volume = np.random.randint(1000, 1000000)\n",
        "            # Introduce NaN values randomly\n",
        "            if np.random.rand() < 0.05:\n",
        "                open_price = np.nan\n",
        "            if np.random.rand() < 0.05:\n",
        "                high_price = np.nan\n",
        "            if np.random.rand() < 0.05:\n",
        "                low_price = np.nan\n",
        "            if np.random.rand() < 0.05:\n",
        "                close_price = np.nan\n",
        "            if np.random.rand() < 0.05:\n",
        "                volume = np.nan\n",
        "            data.append([dates[i], ticker, open_price, high_price, low_price, close_price, volume])\n",
        "    return pd.DataFrame(data, columns=['Date', 'Ticker', 'Open', 'High', 'Low', 'Close', 'Volume'])\n",
        "\n",
        "# Define tickers for each asset type\n",
        "stock_tickers = ['AAPL', 'GOOG', 'MSFT', 'AMZN', 'TSLA']\n",
        "forex_tickers = ['EUR/USD', 'GBP/USD', 'USD/JPY', 'AUD/USD', 'USD/CAD']\n",
        "crypto_tickers = ['BTC/USD', 'ETH/USD', 'XRP/USD', 'LTC/USD', 'BCH/USD']\n",
        "\n",
        "# Generate data for each asset type\n",
        "stock_data = create_asset_data(stock_tickers, '2015-01-01', '2023-01-01')\n",
        "forex_data = create_asset_data(forex_tickers, '2015-01-01', '2023-01-01')\n",
        "crypto_data = create_asset_data(crypto_tickers, '2015-01-01', '2023-01-01')\n",
        "\n",
        "# Combine all data into a single DataFrame\n",
        "combined_data = pd.concat([stock_data, forex_data, crypto_data])\n",
        "\n",
        "# Introduce duplicate rows\n",
        "combined_data = pd.concat([combined_data, combined_data.sample(frac=0.05, random_state=42)])  # Add 5% duplicates\n",
        "\n",
        "# Save to CSV\n",
        "combined_data.to_csv('algotrading_combined_dataset.csv', index=False)\n",
        "\n",
        "print(\"Dataset created and saved to 'algotrading_combined_dataset.csv'\")\n"
      ]
    },
    {
      "cell_type": "code",
      "execution_count": null,
      "metadata": {},
      "outputs": [],
      "source": [
        "import pandas as pd\n",
        "import numpy as np\n",
        "\n",
        "# List of real-life stock tickers and company names (a sample list)\n",
        "tickers_and_companies = [\n",
        "    ('AAPL', 'Apple Inc.'),\n",
        "    ('GOOGL', 'Alphabet Inc.'),\n",
        "    ('MSFT', 'Microsoft Corporation'),\n",
        "    ('AMZN', 'Amazon.com, Inc.'),\n",
        "    ('TSLA', 'Tesla, Inc.'),\n",
        "    ('FB', 'Meta Platforms, Inc.'),\n",
        "    ('BRK.B', 'Berkshire Hathaway Inc.'),\n",
        "    ('JNJ', 'Johnson & Johnson'),\n",
        "    ('JPM', 'JPMorgan Chase & Co.'),\n",
        "    ('V', 'Visa Inc.'),\n",
        "    # Add more real-life tickers and company names to reach at least 1000 companies\n",
        "]\n",
        "\n",
        "# Extend the list to include at least 1000 companies\n",
        "while len(tickers_and_companies) < 1000:\n",
        "    tickers_and_companies.extend(tickers_and_companies[:1000 - len(tickers_and_companies)])\n",
        "\n",
        "# Define sectors and industries\n",
        "sectors = ['Technology', 'Healthcare', 'Finance', 'Consumer Goods', 'Utilities', 'Energy', 'Industrial Goods']\n",
        "industries = {\n",
        "    'Technology': ['Software', 'Hardware', 'Semiconductors'],\n",
        "    'Healthcare': ['Pharmaceuticals', 'Biotechnology', 'Medical Devices'],\n",
        "    'Finance': ['Banks', 'Insurance', 'Investment Services'],\n",
        "    'Consumer Goods': ['Beverages', 'Food Products', 'Household Products'],\n",
        "    'Utilities': ['Electric Utilities', 'Gas Utilities', 'Water Utilities'],\n",
        "    'Energy': ['Oil & Gas', 'Renewable Energy', 'Coal'],\n",
        "    'Industrial Goods': ['Aerospace', 'Construction', 'Manufacturing']\n",
        "}\n",
        "\n",
        "# Generate random data for each ticker\n",
        "data = []\n",
        "for ticker, company_name in tickers_and_companies:\n",
        "    sector = np.random.choice(sectors)\n",
        "    industry = np.random.choice(industries[sector])\n",
        "    market_cap = round(np.random.uniform(0.1, 500), 2)  # in billions\n",
        "    eps = round(np.random.uniform(-10, 10), 2)\n",
        "    pe_ratio = round(np.random.uniform(5, 50), 2)\n",
        "    dividend_yield = round(np.random.uniform(0, 10), 2)\n",
        "    pb_ratio = round(np.random.uniform(0.1, 20), 2)\n",
        "    de_ratio = round(np.random.uniform(0, 3), 2)\n",
        "\n",
        "    # Introduce NaN values randomly\n",
        "    if np.random.rand() < 0.1: market_cap = np.nan\n",
        "    if np.random.rand() < 0.1: eps = np.nan\n",
        "    if np.random.rand() < 0.1: pe_ratio = np.nan\n",
        "    if np.random.rand() < 0.1: dividend_yield = np.nan\n",
        "    if np.random.rand() < 0.1: pb_ratio = np.nan\n",
        "    if np.random.rand() < 0.1: de_ratio = np.nan\n",
        "\n",
        "    data.append([ticker, company_name, sector, industry, market_cap, eps, pe_ratio, dividend_yield, pb_ratio, de_ratio])\n",
        "\n",
        "# Convert to DataFrame\n",
        "columns = ['Ticker', 'Company Name', 'Sector', 'Industry', 'Market Cap (B)', 'EPS', 'P/E Ratio', 'Dividend Yield (%)', 'P/B Ratio', 'D/E Ratio']\n",
        "df = pd.DataFrame(data, columns=columns)\n",
        "\n",
        "# Introduce duplicate rows\n",
        "df = pd.concat([df, df.sample(frac=0.05, random_state=42)])  # Add 5% duplicates\n",
        "\n",
        "# Save to CSV\n",
        "df.to_csv('fundamental_research_dataset_large.csv', index=False)\n",
        "\n",
        "print(\"Dataset created and saved to 'fundamental_research_dataset_large.csv'\")"
      ]
    },
    {
      "cell_type": "markdown",
      "metadata": {},
      "source": [
        "\n",
        "\n",
        "### Dataset 1: Fundamental Research Dataset\n",
        "\n",
        "This dataset contains fundamental data for real-life companies, with some rows containing NaN values and duplicates.\n",
        "\n",
        "```python\n",
        "import pandas as pd\n",
        "import numpy as np\n",
        "\n",
        "# List of real-life stock tickers and company names (a sample list)\n",
        "tickers_and_companies = [\n",
        "    ('AAPL', 'Apple Inc.'),\n",
        "    ('GOOGL', 'Alphabet Inc.'),\n",
        "    ('MSFT', 'Microsoft Corporation'),\n",
        "    ('AMZN', 'Amazon.com, Inc.'),\n",
        "    ('TSLA', 'Tesla, Inc.'),\n",
        "    ('FB', 'Meta Platforms, Inc.'),\n",
        "    ('BRK.B', 'Berkshire Hathaway Inc.'),\n",
        "    ('JNJ', 'Johnson & Johnson'),\n",
        "    ('JPM', 'JPMorgan Chase & Co.'),\n",
        "    ('V', 'Visa Inc.'),\n",
        "    # Add more real-life tickers and company names to reach at least 1000 companies\n",
        "]\n",
        "\n",
        "# Extend the list to include at least 1000 companies\n",
        "while len(tickers_and_companies) < 1000:\n",
        "    tickers_and_companies.extend(tickers_and_companies[:1000 - len(tickers_and_companies)])\n",
        "\n",
        "# Define sectors and industries\n",
        "sectors = ['Technology', 'Healthcare', 'Finance', 'Consumer Goods', 'Utilities', 'Energy', 'Industrial Goods']\n",
        "industries = {\n",
        "    'Technology': ['Software', 'Hardware', 'Semiconductors'],\n",
        "    'Healthcare': ['Pharmaceuticals', 'Biotechnology', 'Medical Devices'],\n",
        "    'Finance': ['Banks', 'Insurance', 'Investment Services'],\n",
        "    'Consumer Goods': ['Beverages', 'Food Products', 'Household Products'],\n",
        "    'Utilities': ['Electric Utilities', 'Gas Utilities', 'Water Utilities'],\n",
        "    'Energy': ['Oil & Gas', 'Renewable Energy', 'Coal'],\n",
        "    'Industrial Goods': ['Aerospace', 'Construction', 'Manufacturing']\n",
        "}\n",
        "\n",
        "# Generate random data for each ticker\n",
        "data = []\n",
        "for ticker, company_name in tickers_and_companies:\n",
        "    sector = np.random.choice(sectors)\n",
        "    industry = np.random.choice(industries[sector])\n",
        "    market_cap = round(np.random.uniform(0.1, 500), 2)  # in billions\n",
        "    eps = round(np.random.uniform(-10, 10), 2)\n",
        "    pe_ratio = round(np.random.uniform(5, 50), 2)\n",
        "    dividend_yield = round(np.random.uniform(0, 10), 2)\n",
        "    pb_ratio = round(np.random.uniform(0.1, 20), 2)\n",
        "    de_ratio = round(np.random.uniform(0, 3), 2)\n",
        "\n",
        "    # Introduce NaN values randomly\n",
        "    if np.random.rand() < 0.1: market_cap = np.nan\n",
        "    if np.random.rand() < 0.1: eps = np.nan\n",
        "    if np.random.rand() < 0.1: pe_ratio = np.nan\n",
        "    if np.random.rand() < 0.1: dividend_yield = np.nan\n",
        "    if np.random.rand() < 0.1: pb_ratio = np.nan\n",
        "    if np.random.rand() < 0.1: de_ratio = np.nan\n",
        "\n",
        "    data.append([ticker, company_name, sector, industry, market_cap, eps, pe_ratio, dividend_yield, pb_ratio, de_ratio])\n",
        "\n",
        "# Convert to DataFrame\n",
        "columns = ['Ticker', 'Company Name', 'Sector', 'Industry', 'Market Cap (B)', 'EPS', 'P/E Ratio', 'Dividend Yield (%)', 'P/B Ratio', 'D/E Ratio']\n",
        "df = pd.DataFrame(data, columns=columns)\n",
        "\n",
        "# Introduce duplicate rows\n",
        "df = pd.concat([df, df.sample(frac=0.05, random_state=42)])  # Add 5% duplicates\n",
        "\n",
        "# Save to CSV\n",
        "df.to_csv('fundamental_research_dataset_large.csv', index=False)\n",
        "\n",
        "print(\"Dataset created and saved to 'fundamental_research_dataset_large.csv'\")\n",
        "```\n",
        "\n",
        "### Dataset 2: Combined Asset Data\n",
        "\n",
        "This dataset includes stock, Forex, and cryptocurrency data with NaN values and duplicates.\n",
        "\n",
        "```python\n",
        "import pandas as pd\n",
        "import numpy as np\n",
        "\n",
        "# Function to create a synthetic dataset for a given asset type\n",
        "def create_asset_data(tickers, start_date, end_date):\n",
        "    dates = pd.date_range(start=start_date, end=end_date, freq='B')\n",
        "    data = []\n",
        "    for ticker in tickers:\n",
        "        np.random.seed(42)  # For reproducibility\n",
        "        price = np.random.randn(len(dates)).cumsum() + 100\n",
        "        for i in range(len(dates)):\n",
        "            open_price = price[i] + np.random.uniform(-1, 1)\n",
        "            high_price = max(open_price, price[i] + np.random.uniform(0, 2))\n",
        "            low_price = min(open_price, price[i] - np.random.uniform(0, 2))\n",
        "            close_price = price[i] + np.random.uniform(-1, 1)\n",
        "            volume = np.random.randint(1000, 1000000)\n",
        "            # Introduce NaN values randomly\n",
        "            if np.random.rand() < 0.05:\n",
        "                open_price = np.nan\n",
        "            if np.random.rand() < 0.05:\n",
        "                high_price = np.nan\n",
        "            if np.random.rand() < 0.05:\n",
        "                low_price = np.nan\n",
        "            if np.random.rand() < 0.05:\n",
        "                close_price = np.nan\n",
        "            if np.random.rand() < 0.05:\n",
        "                volume = np.nan\n",
        "            data.append([dates[i], ticker, open_price, high_price, low_price, close_price, volume])\n",
        "    return pd.DataFrame(data, columns=['Date', 'Ticker', 'Open', 'High', 'Low', 'Close', 'Volume'])\n",
        "\n",
        "# Define tickers for each asset type\n",
        "stock_tickers = ['AAPL', 'GOOG', 'MSFT', 'AMZN', 'TSLA']\n",
        "forex_tickers = ['EUR/USD', 'GBP/USD', 'USD/JPY', 'AUD/USD', 'USD/CAD']\n",
        "crypto_tickers = ['BTC/USD', 'ETH/USD', 'XRP/USD', 'LTC/USD', 'BCH/USD']\n",
        "\n",
        "# Generate data for each asset type\n",
        "stock_data = create_asset_data(stock_tickers, '2015-01-01', '2023-01-01')\n",
        "forex_data = create_asset_data(forex_tickers, '2015-01-01', '2023-01-01')\n",
        "crypto_data = create_asset_data(crypto_tickers, '2015-01-01', '2023-01-01')\n",
        "\n",
        "# Combine all data into a single DataFrame\n",
        "combined_data = pd.concat([stock_data, forex_data, crypto_data])\n",
        "\n",
        "# Introduce duplicate rows\n",
        "combined_data = pd.concat([combined_data, combined_data.sample(frac=0.05, random_state=42)])  # Add 5% duplicates\n",
        "\n",
        "# Save to CSV\n",
        "combined_data.to_csv('algotrading_combined_dataset.csv', index=False)\n",
        "\n",
        "print(\"Dataset created and saved to 'algotrading_combined_dataset.csv'\")\n",
        "```\n",
        "\n",
        "### Practice Questions\n",
        "\n",
        "1. **Data Cleaning**:\n",
        "   - Identify and remove duplicate rows from both datasets.\n",
        "   - Handle NaN values appropriately (e.g., fill with mean/median, forward fill, backward fill, or remove).\n",
        "\n",
        "2. **Data Analysis**:\n",
        "   - Calculate the average Market Cap, P/E Ratio, and Dividend Yield for each sector in the fundamental research dataset.\n",
        "   - Calculate the daily percentage change for each asset in the combined dataset.\n",
        "\n",
        "3. **Data Visualization**:\n",
        "   - Plot the distribution of Market Cap values for different sectors.\n",
        "   - Visualize the price trends for a selected stock, Forex pair, and cryptocurrency over time.\n",
        "\n",
        "4. **Advanced Analysis**:\n",
        "   - Perform a sector-wise analysis to find which sectors have the highest and lowest average EPS in the fundamental research dataset.\n",
        "   - Analyze the correlation between different Forex pairs in the combined dataset.\n",
        "\n",
        "5. **Algorithmic Trading**:\n",
        "   - Implement a simple moving average crossover strategy using the combined dataset.\n",
        "   - Develop a fundamental analysis-based scoring system to rank stocks in the fundamental research dataset based on their financial metrics.\n",
        "\n",
        "These questions and tasks should help you get hands-on experience with real-life algorithmic trading scenarios and data handling techniques."
      ]
    },
    {
      "cell_type": "markdown",
      "metadata": {},
      "source": []
    },
    {
      "cell_type": "markdown",
      "metadata": {},
      "source": []
    },
    {
      "cell_type": "code",
      "execution_count": null,
      "metadata": {},
      "outputs": [],
      "source": []
    },
    {
      "cell_type": "code",
      "execution_count": null,
      "metadata": {},
      "outputs": [],
      "source": []
    },
    {
      "cell_type": "code",
      "execution_count": null,
      "metadata": {},
      "outputs": [],
      "source": []
    },
    {
      "cell_type": "markdown",
      "metadata": {},
      "source": []
    },
    {
      "cell_type": "code",
      "execution_count": null,
      "metadata": {},
      "outputs": [],
      "source": []
    },
    {
      "cell_type": "code",
      "execution_count": null,
      "metadata": {},
      "outputs": [],
      "source": []
    },
    {
      "cell_type": "code",
      "execution_count": null,
      "metadata": {},
      "outputs": [],
      "source": [
        "\n"
      ]
    },
    {
      "cell_type": "code",
      "execution_count": null,
      "metadata": {},
      "outputs": [],
      "source": []
    }
  ],
  "metadata": {
    "colab": {
      "provenance": []
    },
    "kernelspec": {
      "display_name": "Python 3",
      "name": "python3"
    },
    "language_info": {
      "codemirror_mode": {
        "name": "ipython",
        "version": 3
      },
      "file_extension": ".py",
      "mimetype": "text/x-python",
      "name": "python",
      "nbconvert_exporter": "python",
      "pygments_lexer": "ipython3",
      "version": "3.1.-1"
    }
  },
  "nbformat": 4,
  "nbformat_minor": 0
}
