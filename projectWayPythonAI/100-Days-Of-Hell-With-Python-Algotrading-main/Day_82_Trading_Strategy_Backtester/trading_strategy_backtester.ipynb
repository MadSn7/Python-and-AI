{
 "cells": [
  {
   "cell_type": "markdown",
   "metadata": {},
   "source": [
    "You calculate both a short-term (10-day) and long-term (30-day) moving average\n",
    "A buy signal is generated when the short-term MA crosses above the long-term MA\n",
    "A sell signal is generated when the short-term MA crosses below the long-term MA\n"
   ]
  },
  {
   "cell_type": "code",
   "execution_count": null,
   "metadata": {
    "vscode": {
     "languageId": "plaintext"
    }
   },
   "outputs": [],
   "source": []
  }
 ],
 "metadata": {
  "language_info": {
   "name": "python"
  }
 },
 "nbformat": 4,
 "nbformat_minor": 2
}
