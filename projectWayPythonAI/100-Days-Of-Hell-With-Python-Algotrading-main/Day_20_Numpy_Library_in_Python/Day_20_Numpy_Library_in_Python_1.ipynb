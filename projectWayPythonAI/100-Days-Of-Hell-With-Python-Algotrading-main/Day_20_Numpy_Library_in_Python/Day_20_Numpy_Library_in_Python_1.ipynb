{
  "cells": [
    {
      "cell_type": "markdown",
      "metadata": {
        "id": "lFF783PD7ypT"
      },
      "source": [
        "### What is NumPy?\n",
        "\n",
        "- **Fundamental Package for Scientific Computing:**\n",
        "  - NumPy is the essential package for scientific computing in Python.\n",
        "  - Provides support for large, multi-dimensional arrays and matrices.\n",
        "\n",
        "- **Library Components:**\n",
        "  - Offers a multidimensional array object.\n",
        "  - Includes derived objects such as masked arrays and matrices.\n",
        "  - Provides a collection of routines for fast array operations.\n",
        "\n",
        "- **Array Operations:**\n",
        "  - **Mathematical:** Supports a wide range of mathematical operations.\n",
        "  - **Logical:** Facilitates logical operations on arrays.\n",
        "  - **Shape Manipulation:** Allows for efficient reshaping and resizing of arrays.\n",
        "  - **Sorting and Selecting:** Includes functions for sorting and selecting elements.\n",
        "  - **I/O Operations:** Supports input and output operations.\n",
        "  - **Discrete Fourier Transforms:** Offers tools for performing discrete Fourier transforms.\n",
        "  - **Basic Linear Algebra:** Provides basic linear algebra operations.\n",
        "  - **Statistical Operations:** Includes basic statistical functions.\n",
        "  - **Random Simulations:** Facilitates random number generation and simulations.\n",
        "\n",
        "- **Core Object - ndarray:**\n",
        "  - The central feature of NumPy is the `ndarray` object.\n",
        "  - Encapsulates n-dimensional arrays of homogeneous data types."
      ]
    },
    {
      "cell_type": "markdown",
      "metadata": {
        "id": "HPRzhmwiZkOP"
      },
      "source": [
        "### NumPy Arrays vs. Python Sequences\n",
        "\n",
        "- **Fixed Size:**\n",
        "  - NumPy arrays have a fixed size at creation.\n",
        "  - Unlike Python lists, which can grow dynamically.\n",
        "  - Changing the size of an ndarray creates a new array and deletes the original.\n",
        "\n",
        "- **Homogeneous Data Type:**\n",
        "  - All elements in a NumPy array must be of the same data type.\n",
        "  - Elements are the same size in memory.\n",
        "\n",
        "- **Efficiency in Operations:**\n",
        "  - NumPy arrays support advanced mathematical and other operations on large data sets.\n",
        "  - Such operations are typically more efficient and require less code than using Python’s built-in sequences.\n",
        "\n",
        "- **Wide Adoption in Scientific and Mathematical Packages:**\n",
        "  - Many scientific and mathematical Python-based packages use NumPy arrays.\n",
        "  - These packages often support Python-sequence input but convert such input to NumPy arrays for processing.\n",
        "  - They frequently output results as NumPy arrays."
      ]
    },
    {
      "cell_type": "markdown",
      "metadata": {},
      "source": [
        "### Use Cases of NumPy in Algo Trading\n",
        "\n",
        "NumPy is an essential library for algorithmic trading due to its efficiency in numerical computations and array manipulations. Here are some key use cases of NumPy in algo trading:\n",
        "\n",
        "1. **Data Preparation and Cleaning**\n",
        "   - **Data Transformation:** Convert raw trading data into structured formats for analysis.\n",
        "     ```python\n",
        "     import numpy as np\n",
        "     raw_data = [[100, '2023-06-01'], [102, '2023-06-02'], [104, '2023-06-03']]\n",
        "     structured_data = np.array(raw_data, dtype=[('price', 'f4'), ('date', 'U10')])\n",
        "     print(structured_data)\n",
        "     ```\n",
        "   - **Handling Missing Values:** Fill or interpolate missing data points in price series.\n",
        "     ```python\n",
        "     prices = np.array([100, 102, np.nan, 105])\n",
        "     cleaned_prices = np.where(np.isnan(prices), np.nanmean(prices), prices)\n",
        "     print(cleaned_prices)\n",
        "     ```\n",
        "\n",
        "2. **Technical Analysis**\n",
        "   - **Calculating Indicators:** Compute moving averages, Bollinger Bands, RSI, etc.\n",
        "     ```python\n",
        "     prices = np.array([100, 102, 104, 103, 105, 107])\n",
        "     window = 3\n",
        "     moving_avg = np.convolve(prices, np.ones(window)/window, mode='valid')\n",
        "     print(moving_avg)\n",
        "     ```\n",
        "   - **Trend Analysis:** Detect trends and patterns in price movements.\n",
        "     ```python\n",
        "     prices = np.array([100, 101, 102, 103, 104, 105])\n",
        "     gradient = np.gradient(prices)\n",
        "     print(gradient)\n",
        "     ```\n",
        "\n",
        "3. **Portfolio Management**\n",
        "   - **Risk Assessment:** Calculate covariance matrices and perform risk analysis.\n",
        "     ```python\n",
        "     returns = np.array([[0.01, 0.02, -0.01], [0.03, 0.01, 0.02], [0.01, -0.02, 0.03]])\n",
        "     cov_matrix = np.cov(returns, rowvar=False)\n",
        "     print(cov_matrix)\n",
        "     ```\n",
        "   - **Optimization:** Use linear algebra to find the optimal portfolio weights.\n",
        "     ```python\n",
        "     import numpy.linalg as la\n",
        "     returns = np.array([[0.01, 0.02], [0.03, 0.01], [0.01, -0.02]])\n",
        "     mean_returns = np.mean(returns, axis=0)\n",
        "     cov_matrix = np.cov(returns, rowvar=False)\n",
        "     weights = la.solve(cov_matrix, mean_returns)\n",
        "     weights /= np.sum(weights)\n",
        "     print(weights)\n",
        "     ```\n",
        "\n",
        "4. **Statistical Analysis**\n",
        "   - **Simulating Price Paths:** Generate synthetic price data for backtesting.\n",
        "     ```python\n",
        "     np.random.seed(42)\n",
        "     n_steps = 1000\n",
        "     steps = np.random.choice([-1, 1], size=n_steps)\n",
        "     random_walk = np.cumsum(steps)\n",
        "     print(random_walk)\n",
        "     ```\n",
        "   - **Hypothesis Testing:** Perform statistical tests to validate trading strategies.\n",
        "     ```python\n",
        "     from scipy import stats\n",
        "     returns = np.array([0.01, 0.02, -0.01, 0.03, -0.02])\n",
        "     t_stat, p_value = stats.ttest_1samp(returns, 0)\n",
        "     print(t_stat, p_value)\n",
        "     ```\n",
        "\n",
        "5. **Performance Measurement**\n",
        "   - **Sharpe Ratio Calculation:** Measure risk-adjusted returns.\n",
        "     ```python\n",
        "     returns = np.array([0.01, 0.02, -0.01, 0.03, -0.02])\n",
        "     risk_free_rate = 0.01\n",
        "     sharpe_ratio = (np.mean(returns) - risk_free_rate) / np.std(returns)\n",
        "     print(sharpe_ratio)\n",
        "     ```\n",
        "   - **Drawdown Analysis:** Identify and analyze maximum drawdowns in the portfolio.\n",
        "     ```python\n",
        "     prices = np.array([100, 110, 105, 115, 108])\n",
        "     peak = np.maximum.accumulate(prices)\n",
        "     drawdown = (prices - peak) / peak\n",
        "     max_drawdown = np.min(drawdown)\n",
        "     print(max_drawdown)\n",
        "     ```\n",
        "\n",
        "\n",
        "\n",
        "\n"
      ]
    },
    {
      "cell_type": "markdown",
      "metadata": {
        "id": "0PyrZ724szaG"
      },
      "source": [
        "### Creating Numpy Arrays"
      ]
    },
    {
      "cell_type": "code",
      "execution_count": 1,
      "metadata": {
        "colab": {
          "base_uri": "https://localhost:8080/"
        },
        "id": "V4AVNXrts3sL",
        "outputId": "5efc2800-7099-4f1a-c548-df46c157de27"
      },
      "outputs": [
        {
          "data": {
            "text/plain": [
              "array([1, 2, 3])"
            ]
          },
          "execution_count": 1,
          "metadata": {},
          "output_type": "execute_result"
        }
      ],
      "source": [
        "# np.array\n",
        "import numpy as np\n",
        "np.array([1,2,3])"
      ]
    },
    {
      "cell_type": "code",
      "execution_count": 2,
      "metadata": {
        "colab": {
          "base_uri": "https://localhost:8080/"
        },
        "id": "AAfxD1kCs6R5",
        "outputId": "e71d27eb-3106-43fd-8147-5a33b645f8b0"
      },
      "outputs": [
        {
          "data": {
            "text/plain": [
              "array([[1, 2, 3],\n",
              "       [1, 2, 3]])"
            ]
          },
          "execution_count": 2,
          "metadata": {},
          "output_type": "execute_result"
        }
      ],
      "source": [
        "# 2D and 3D\n",
        "np.array([[1,2,3],[1,2,3]])"
      ]
    },
    {
      "cell_type": "code",
      "execution_count": 3,
      "metadata": {
        "colab": {
          "base_uri": "https://localhost:8080/"
        },
        "id": "MyrHdd6J6CrF",
        "outputId": "2d7750a8-6e28-424d-bac4-7e61e7e73e9f"
      },
      "outputs": [
        {
          "data": {
            "text/plain": [
              "array([[[1, 2, 3],\n",
              "        [1, 2, 3]],\n",
              "\n",
              "       [[1, 2, 3],\n",
              "        [1, 2, 3]]])"
            ]
          },
          "execution_count": 3,
          "metadata": {},
          "output_type": "execute_result"
        }
      ],
      "source": [
        "np.array([[[1,2,3],[1,2,3]],[[1,2,3],[1,2,3]]])"
      ]
    },
    {
      "cell_type": "code",
      "execution_count": 10,
      "metadata": {
        "colab": {
          "base_uri": "https://localhost:8080/"
        },
        "id": "FM8AwUOdFqC7",
        "outputId": "63ee85e6-449e-4e1f-e5a3-563bfae4dc9e"
      },
      "outputs": [
        {
          "data": {
            "text/plain": [
              "array(['1', '2', '3'], dtype='<U1')"
            ]
          },
          "execution_count": 10,
          "metadata": {},
          "output_type": "execute_result"
        }
      ],
      "source": [
        "# dtype\n",
        "np.array([1,2,3],dtype=str)"
      ]
    },
    {
      "cell_type": "code",
      "execution_count": 12,
      "metadata": {
        "colab": {
          "base_uri": "https://localhost:8080/"
        },
        "id": "ZY187Au_s8vm",
        "outputId": "cb13d451-a431-446f-f3a3-245315da6775"
      },
      "outputs": [
        {
          "data": {
            "text/plain": [
              "array([ 0,  2,  4,  6,  8, 10])"
            ]
          },
          "execution_count": 12,
          "metadata": {},
          "output_type": "execute_result"
        }
      ],
      "source": [
        "# np.arange\n",
        "\n",
        "np.arange(0,12,2)"
      ]
    },
    {
      "cell_type": "code",
      "execution_count": 14,
      "metadata": {
        "colab": {
          "base_uri": "https://localhost:8080/"
        },
        "id": "3Gc7BaJZwl7e",
        "outputId": "c1e4173a-80d6-449b-9cbc-ae4a6fba5d20"
      },
      "outputs": [
        {
          "data": {
            "text/plain": [
              "array([[[ 0,  1,  2],\n",
              "        [ 3,  4,  5]],\n",
              "\n",
              "       [[ 6,  7,  8],\n",
              "        [ 9, 10, 11]]])"
            ]
          },
          "execution_count": 14,
          "metadata": {},
          "output_type": "execute_result"
        }
      ],
      "source": [
        "# with reshape\n",
        "np.arange(0,12).reshape(2,2,3)"
      ]
    },
    {
      "cell_type": "code",
      "execution_count": 22,
      "metadata": {
        "colab": {
          "base_uri": "https://localhost:8080/"
        },
        "id": "R2BYpYcGs-9l",
        "outputId": "992ba3c5-532b-4229-997b-b584de7d36d8"
      },
      "outputs": [
        {
          "data": {
            "text/plain": [
              "array([1., 1., 1., 1., 1., 1.])"
            ]
          },
          "execution_count": 22,
          "metadata": {},
          "output_type": "execute_result"
        }
      ],
      "source": [
        "# np.ones and np.zeros\n",
        "np.ones((6))"
      ]
    },
    {
      "cell_type": "code",
      "execution_count": 23,
      "metadata": {
        "colab": {
          "base_uri": "https://localhost:8080/"
        },
        "id": "vOjv_Euj8HGR",
        "outputId": "85fb7d62-e57f-4935-f33b-0c47a8bca4b3"
      },
      "outputs": [
        {
          "data": {
            "text/plain": [
              "array([[0., 0., 0.],\n",
              "       [0., 0., 0.],\n",
              "       [0., 0., 0.],\n",
              "       [0., 0., 0.]])"
            ]
          },
          "execution_count": 23,
          "metadata": {},
          "output_type": "execute_result"
        }
      ],
      "source": [
        "np.zeros((4,3))"
      ]
    },
    {
      "cell_type": "code",
      "execution_count": 25,
      "metadata": {
        "colab": {
          "base_uri": "https://localhost:8080/"
        },
        "id": "fYEeYi7itCRM",
        "outputId": "6a5ead6b-3dbb-45f5-a495-b7d78c2683ba"
      },
      "outputs": [
        {
          "data": {
            "text/plain": [
              "array([[0.96055385, 0.99323529, 0.76163768, 0.86443853],\n",
              "       [0.24955442, 0.98569528, 0.92630859, 0.30797149],\n",
              "       [0.96983587, 0.83431066, 0.14330608, 0.94973802]])"
            ]
          },
          "execution_count": 25,
          "metadata": {},
          "output_type": "execute_result"
        }
      ],
      "source": [
        "# np.random\n",
        "np.random.random((3,4))"
      ]
    },
    {
      "cell_type": "code",
      "execution_count": 28,
      "metadata": {
        "colab": {
          "base_uri": "https://localhost:8080/"
        },
        "id": "vel7WrgltE3P",
        "outputId": "21b993d2-c91c-42fa-f97c-030b87cc292a"
      },
      "outputs": [
        {
          "data": {
            "text/plain": [
              "array([  1.   ,   5.125,   9.25 ,  13.375,  17.5  ,  21.625,  25.75 ,\n",
              "        29.875,  34.   ,  38.125,  42.25 ,  46.375,  50.5  ,  54.625,\n",
              "        58.75 ,  62.875,  67.   ,  71.125,  75.25 ,  79.375,  83.5  ,\n",
              "        87.625,  91.75 ,  95.875, 100.   ])"
            ]
          },
          "execution_count": 28,
          "metadata": {},
          "output_type": "execute_result"
        }
      ],
      "source": [
        "# np.linspace\n",
        "np.linspace(1,100,25)"
      ]
    },
    {
      "cell_type": "code",
      "execution_count": 34,
      "metadata": {
        "colab": {
          "base_uri": "https://localhost:8080/"
        },
        "id": "ewyMuXh1tJzi",
        "outputId": "921cf302-94d7-4d44-d696-881b839ced04"
      },
      "outputs": [
        {
          "data": {
            "text/plain": [
              "array([[1., 0., 0., 0.],\n",
              "       [0., 1., 0., 0.],\n",
              "       [0., 0., 1., 0.],\n",
              "       [0., 0., 0., 1.]])"
            ]
          },
          "execution_count": 34,
          "metadata": {},
          "output_type": "execute_result"
        }
      ],
      "source": [
        "# np.identity\n",
        "np.identity(4)"
      ]
    },
    {
      "cell_type": "markdown",
      "metadata": {
        "id": "LphXpjZJtNyI"
      },
      "source": [
        "### Array Attributes"
      ]
    },
    {
      "cell_type": "code",
      "execution_count": 55,
      "metadata": {
        "colab": {
          "base_uri": "https://localhost:8080/"
        },
        "id": "UXnB5dIEFOgD",
        "outputId": "d6261278-40ee-4caa-cf15-946552e4e7c0"
      },
      "outputs": [],
      "source": [
        "a1 = np.array([1,2,3],dtype=str)\n",
        "a2 = np.array([[1,2,3],[1,2,3]])\n",
        "a3 = np.array([[[1,2,3],[1,2,3]],[[1,2,3],[1,2,3]]])\n"
      ]
    },
    {
      "cell_type": "code",
      "execution_count": 40,
      "metadata": {
        "colab": {
          "base_uri": "https://localhost:8080/"
        },
        "id": "qib4oDFptRKN",
        "outputId": "b70741e8-d727-4c59-b6ed-b8fd922501b8"
      },
      "outputs": [
        {
          "data": {
            "text/plain": [
              "3"
            ]
          },
          "execution_count": 40,
          "metadata": {},
          "output_type": "execute_result"
        }
      ],
      "source": [
        "# ndim\n",
        "a3.ndim"
      ]
    },
    {
      "cell_type": "code",
      "execution_count": 46,
      "metadata": {
        "colab": {
          "base_uri": "https://localhost:8080/"
        },
        "id": "InUvH8KGtSRv",
        "outputId": "d567d4cb-a533-4419-e4de-677dc5dd87bb"
      },
      "outputs": [
        {
          "data": {
            "text/plain": [
              "(2, 2, 3)"
            ]
          },
          "execution_count": 46,
          "metadata": {},
          "output_type": "execute_result"
        }
      ],
      "source": [
        "# shape\n",
        "a3.shape"
      ]
    },
    {
      "cell_type": "code",
      "execution_count": 49,
      "metadata": {
        "colab": {
          "base_uri": "https://localhost:8080/"
        },
        "id": "9Dko5610tT-Z",
        "outputId": "5e8fdaa5-d444-4867-8ad0-3acf299c391e"
      },
      "outputs": [
        {
          "data": {
            "text/plain": [
              "12"
            ]
          },
          "execution_count": 49,
          "metadata": {},
          "output_type": "execute_result"
        }
      ],
      "source": [
        "# size\n",
        "a3.size"
      ]
    },
    {
      "cell_type": "code",
      "execution_count": 57,
      "metadata": {
        "colab": {
          "base_uri": "https://localhost:8080/"
        },
        "id": "wDFdHtH3tV1Z",
        "outputId": "dd8bf2cd-bc17-4d6c-ae17-06ae052ab711"
      },
      "outputs": [
        {
          "data": {
            "text/plain": [
              "4"
            ]
          },
          "execution_count": 57,
          "metadata": {},
          "output_type": "execute_result"
        }
      ],
      "source": [
        "# itemsize\n",
        "a1.itemsize"
      ]
    },
    {
      "cell_type": "code",
      "execution_count": null,
      "metadata": {
        "colab": {
          "base_uri": "https://localhost:8080/"
        },
        "id": "Pik7FgEVtXDj",
        "outputId": "00b7b1ad-d200-4c7c-e440-ba3c05928073"
      },
      "outputs": [],
      "source": [
        "# dtype\n",
        "\n",
        "\n"
      ]
    },
    {
      "cell_type": "markdown",
      "metadata": {
        "id": "7Ase0eFWtcFl"
      },
      "source": [
        "### Changing Datatype"
      ]
    },
    {
      "cell_type": "code",
      "execution_count": 58,
      "metadata": {
        "colab": {
          "base_uri": "https://localhost:8080/"
        },
        "id": "DZPEFqhotbFS",
        "outputId": "848bd55f-1d69-4443-c832-d2735f4611f3"
      },
      "outputs": [
        {
          "data": {
            "text/plain": [
              "array([[[1, 2, 3],\n",
              "        [1, 2, 3]],\n",
              "\n",
              "       [[1, 2, 3],\n",
              "        [1, 2, 3]]])"
            ]
          },
          "execution_count": 58,
          "metadata": {},
          "output_type": "execute_result"
        }
      ],
      "source": [
        "# astype\n",
        "a3.astype(np.int64)"
      ]
    },
    {
      "cell_type": "markdown",
      "metadata": {
        "id": "k-y-aaV9u52l"
      },
      "source": [
        "### Array Operations"
      ]
    },
    {
      "cell_type": "code",
      "execution_count": null,
      "metadata": {
        "colab": {
          "base_uri": "https://localhost:8080/"
        },
        "id": "mIk8tk53HnOW",
        "outputId": "eba6d5cf-f698-494c-ea3c-c38541421cb4"
      },
      "outputs": [],
      "source": []
    },
    {
      "cell_type": "code",
      "execution_count": 6,
      "metadata": {
        "colab": {
          "base_uri": "https://localhost:8080/"
        },
        "id": "vtQrWQKD87Fn",
        "outputId": "632feb6a-d00e-481f-806c-7b8589742bd2"
      },
      "outputs": [
        {
          "data": {
            "text/plain": [
              "array([[200. , 203. , 199. , 202. ],\n",
              "       [202. , 204. , 201. , 203.6],\n",
              "       [203.6, 206. , 202. , 205. ]])"
            ]
          },
          "execution_count": 6,
          "metadata": {},
          "output_type": "execute_result"
        }
      ],
      "source": [
        "# scalar operations\n",
        "ohlc_data_day1*2\n",
        "# arithmetic\n"
      ]
    },
    {
      "cell_type": "code",
      "execution_count": 7,
      "metadata": {
        "colab": {
          "base_uri": "https://localhost:8080/"
        },
        "id": "mCgPxTzQrtte",
        "outputId": "14a8bbd7-363d-42a7-bc28-984d37c6de07"
      },
      "outputs": [
        {
          "data": {
            "text/plain": [
              "array([[ True, False, False, False],\n",
              "       [False, False, False, False],\n",
              "       [False, False, False, False]])"
            ]
          },
          "execution_count": 7,
          "metadata": {},
          "output_type": "execute_result"
        }
      ],
      "source": [
        "# relational\n",
        "ohlc_data_day1 == 100.0"
      ]
    },
    {
      "cell_type": "markdown",
      "metadata": {},
      "source": []
    },
    {
      "cell_type": "code",
      "execution_count": 8,
      "metadata": {
        "colab": {
          "base_uri": "https://localhost:8080/"
        },
        "id": "E2S3xDRxrt5D",
        "outputId": "2dfc1e18-65f7-4131-aed8-67bcc7b0996b"
      },
      "outputs": [
        {
          "data": {
            "text/plain": [
              "array([[20000.  , 20452.25, 29800.25, 20301.  ],\n",
              "       [20301.  , 20604.  , 20150.25, 20543.24],\n",
              "       [20543.24, 20909.  , 20301.  , 20756.25]])"
            ]
          },
          "execution_count": 8,
          "metadata": {},
          "output_type": "execute_result"
        }
      ],
      "source": [
        "# vector operations\n",
        "# arithmetic\n",
        "ohlc_data_day1 * ohlc_data_Day2"
      ]
    },
    {
      "cell_type": "markdown",
      "metadata": {},
      "source": []
    },
    {
      "cell_type": "markdown",
      "metadata": {
        "id": "AQZgntYTu8ot"
      },
      "source": [
        "### Array Functions"
      ]
    },
    {
      "cell_type": "code",
      "execution_count": null,
      "metadata": {
        "colab": {
          "base_uri": "https://localhost:8080/"
        },
        "id": "CHUj0a_dIP4F",
        "outputId": "a4e84b6e-e80f-4612-b9ae-9b64c87de269"
      },
      "outputs": [],
      "source": []
    },
    {
      "cell_type": "code",
      "execution_count": 23,
      "metadata": {
        "colab": {
          "base_uri": "https://localhost:8080/"
        },
        "id": "J1EWNET29Urx",
        "outputId": "34e6d72b-35f5-4dc3-f107-289bb0396c39"
      },
      "outputs": [
        {
          "data": {
            "text/plain": [
              "1.1819891119907141e+24"
            ]
          },
          "execution_count": 23,
          "metadata": {},
          "output_type": "execute_result"
        }
      ],
      "source": [
        "ohlc_data_day1 = np.array([\n",
        "    [100.1, 101.5, 99.5, 101.0],\n",
        "    [101.3, 102.9, 100.5, 101.8],\n",
        "    [101.8, 103.0, 101.0, 102.5]\n",
        "])\n",
        "\n",
        "ohlc_data_Day2 = np.array([\n",
        "    [200.0, 201.5, 299.5, 201.0],\n",
        "    [201.0, 202.0, 200.5, 201.8],\n",
        "    [201.8, 203.0, 201.0, 202.5],\n",
        "    [201.8, 203.0, 201.0, 202.5]\n",
        "])\n",
        "\n",
        "\n",
        "\n",
        "# max/min/sum/prod\n",
        "# 0 -> col and 1 -> row\n",
        "import numpy as np\n",
        "np.prod(ohlc_data_day1)"
      ]
    },
    {
      "cell_type": "code",
      "execution_count": 12,
      "metadata": {
        "colab": {
          "base_uri": "https://localhost:8080/"
        },
        "id": "JAlMLFkds9KC",
        "outputId": "63636deb-3321-4714-d5a4-388445e1c492"
      },
      "outputs": [
        {
          "data": {
            "text/plain": [
              "0.9333333333333327"
            ]
          },
          "execution_count": 12,
          "metadata": {},
          "output_type": "execute_result"
        }
      ],
      "source": [
        "# mean/median/std/var\n",
        "np.var(ohlc_data_day1)"
      ]
    },
    {
      "cell_type": "code",
      "execution_count": 15,
      "metadata": {
        "colab": {
          "base_uri": "https://localhost:8080/"
        },
        "id": "vwLoQQVqs-m-",
        "outputId": "128781c4-4e3d-4748-c619-cdb874c99d9b"
      },
      "outputs": [
        {
          "data": {
            "text/plain": [
              "array([[ 0.86231887,  0.56609521,  0.51399138,  0.89200487],\n",
              "       [ 0.89200487,  0.1015857 ,  0.99952063,  0.29720233],\n",
              "       [ 0.29720233, -0.78223089,  0.89200487, -0.38779553]])"
            ]
          },
          "execution_count": 15,
          "metadata": {},
          "output_type": "execute_result"
        }
      ],
      "source": [
        "# trigonomoetric functions\n",
        "np.cos(ohlc_data_day1)"
      ]
    },
    {
      "cell_type": "code",
      "execution_count": 20,
      "metadata": {
        "colab": {
          "base_uri": "https://localhost:8080/"
        },
        "id": "RoEtYuiytFm1",
        "outputId": "7ab0e6f1-820d-4deb-c7a3-b3301eed9ec4"
      },
      "outputs": [
        {
          "data": {
            "text/plain": [
              "array([[80862.4 , 81354.5 , 90601.25, 81183.95],\n",
              "       [81526.14, 82022.4 , 91362.8 , 81850.35],\n",
              "       [82129.3 , 82629.2 , 92044.1 , 82455.95]])"
            ]
          },
          "execution_count": 20,
          "metadata": {},
          "output_type": "execute_result"
        }
      ],
      "source": [
        "# dot product\n",
        "np.dot(ohlc_data_day1,ohlc_data_Day2)"
      ]
    },
    {
      "cell_type": "code",
      "execution_count": 21,
      "metadata": {
        "colab": {
          "base_uri": "https://localhost:8080/"
        },
        "id": "qd7GmrgEtH6i",
        "outputId": "85a52de0-68b1-4838-c462-f28a7e00d4db"
      },
      "outputs": [
        {
          "data": {
            "text/plain": [
              "array([[2.68811714e+43, 1.20473052e+44, 1.63042546e+43, 7.30705998e+43],\n",
              "       [7.30705998e+43, 1.98626484e+44, 4.43195591e+43, 1.62621611e+44],\n",
              "       [1.62621611e+44, 5.39922761e+44, 7.30705998e+43, 3.27479708e+44]])"
            ]
          },
          "execution_count": 21,
          "metadata": {},
          "output_type": "execute_result"
        }
      ],
      "source": [
        "# log and exponents\n",
        "np.exp(ohlc_data_day1)"
      ]
    },
    {
      "cell_type": "code",
      "execution_count": 25,
      "metadata": {
        "colab": {
          "base_uri": "https://localhost:8080/"
        },
        "id": "EOXnVCZhtKk1",
        "outputId": "3be37070-696a-46e9-b5e7-6298bf2cdbb9"
      },
      "outputs": [
        {
          "data": {
            "text/plain": [
              "array([[101., 102., 100., 101.],\n",
              "       [102., 103., 101., 102.],\n",
              "       [102., 103., 101., 103.]])"
            ]
          },
          "execution_count": 25,
          "metadata": {},
          "output_type": "execute_result"
        }
      ],
      "source": [
        "# round/floor/ceil\n",
        "np.round(ohlc_data_day1)\n",
        "np.ceil(ohlc_data_day1)\n"
      ]
    },
    {
      "cell_type": "markdown",
      "metadata": {
        "id": "2pYZJMrAuvuv"
      },
      "source": [
        "### Indexing and Slicing"
      ]
    },
    {
      "cell_type": "code",
      "execution_count": 31,
      "metadata": {
        "colab": {
          "base_uri": "https://localhost:8080/"
        },
        "id": "v1LynzX9u2R-",
        "outputId": "38bb09f7-c353-4da7-8f65-29126e81e742"
      },
      "outputs": [],
      "source": [
        "\n",
        "\n",
        "ohlc_data_day1 = np.array([\n",
        "    [100.1, 101.5, 99.5, 101.0],\n",
        "    [101.3, 102.9, 100.5, 101.8],\n",
        "    [101.8, 103.0, 101.0, 102.5]\n",
        "])\n",
        "\n",
        "ohlc_data_Day2 = np.array([\n",
        "    [200.0, 201.5, 299.5, 201.0],\n",
        "    [201.0, 202.0, 200.5, 201.8],\n",
        "    [201.8, 203.0, 201.0, 202.5],\n",
        "    [201.8, 203.0, 201.0, 202.5]\n",
        "])\n"
      ]
    },
    {
      "cell_type": "code",
      "execution_count": 27,
      "metadata": {
        "colab": {
          "base_uri": "https://localhost:8080/"
        },
        "id": "qyFbwR9Ku2YE",
        "outputId": "ee0795d0-a9e0-4494-dcf1-25278cdd3ef6"
      },
      "outputs": [],
      "source": [
        "a5 = [1,2,3,4,5]"
      ]
    },
    {
      "cell_type": "code",
      "execution_count": 30,
      "metadata": {
        "colab": {
          "base_uri": "https://localhost:8080/"
        },
        "id": "Q2IbBdEXu2a5",
        "outputId": "27f37180-6151-4b88-a4a7-b6b943a1a79f"
      },
      "outputs": [
        {
          "data": {
            "text/plain": [
              "[2, 3, 4]"
            ]
          },
          "execution_count": 30,
          "metadata": {},
          "output_type": "execute_result"
        }
      ],
      "source": [
        "a5[1:4]"
      ]
    },
    {
      "cell_type": "code",
      "execution_count": 35,
      "metadata": {
        "colab": {
          "base_uri": "https://localhost:8080/"
        },
        "id": "GIR5YhVzu2dc",
        "outputId": "5827789b-c94c-4343-f4bf-c37c0e55ae7b"
      },
      "outputs": [
        {
          "data": {
            "text/plain": [
              "array([[102.9, 100.5],\n",
              "       [103. , 101. ]])"
            ]
          },
          "execution_count": 35,
          "metadata": {},
          "output_type": "execute_result"
        }
      ],
      "source": [
        "ohlc_data_day1[1:,1:3]"
      ]
    },
    {
      "cell_type": "code",
      "execution_count": null,
      "metadata": {
        "colab": {
          "base_uri": "https://localhost:8080/"
        },
        "id": "IbM-KNY3HP9-",
        "outputId": "b1ef95eb-dba8-4a19-f8d2-28505beffbff"
      },
      "outputs": [],
      "source": []
    },
    {
      "cell_type": "code",
      "execution_count": 53,
      "metadata": {
        "colab": {
          "base_uri": "https://localhost:8080/"
        },
        "id": "xG7HU0RgHQD-",
        "outputId": "c0c15e95-2b15-4167-aeea-a2e9751aedb8"
      },
      "outputs": [],
      "source": [
        "threedarray = np.arange(0,24).reshape(2,3,4)"
      ]
    },
    {
      "cell_type": "code",
      "execution_count": 54,
      "metadata": {
        "colab": {
          "base_uri": "https://localhost:8080/"
        },
        "id": "3EhcikSWHQKO",
        "outputId": "1a3fe02e-8b8f-4182-9a6d-0bb023be5b8c"
      },
      "outputs": [
        {
          "data": {
            "text/plain": [
              "array([[[ 0,  1,  2,  3],\n",
              "        [ 4,  5,  6,  7],\n",
              "        [ 8,  9, 10, 11]],\n",
              "\n",
              "       [[12, 13, 14, 15],\n",
              "        [16, 17, 18, 19],\n",
              "        [20, 21, 22, 23]]])"
            ]
          },
          "execution_count": 54,
          "metadata": {},
          "output_type": "execute_result"
        }
      ],
      "source": [
        "threedarray"
      ]
    },
    {
      "cell_type": "code",
      "execution_count": 69,
      "metadata": {
        "colab": {
          "base_uri": "https://localhost:8080/"
        },
        "id": "_cgU2A52HQO0",
        "outputId": "eed00cc5-cefc-48de-bdc4-f28946b3131e"
      },
      "outputs": [
        {
          "data": {
            "text/plain": [
              "array([[[ 2,  3],\n",
              "        [10, 11]],\n",
              "\n",
              "       [[14, 15],\n",
              "        [22, 23]]])"
            ]
          },
          "execution_count": 69,
          "metadata": {},
          "output_type": "execute_result"
        }
      ],
      "source": [
        "threedarray[:,::2,2:]"
      ]
    },
    {
      "cell_type": "code",
      "execution_count": null,
      "metadata": {
        "colab": {
          "base_uri": "https://localhost:8080/"
        },
        "id": "HnFM0Wa5IMw2",
        "outputId": "312df828-b754-46e8-e47c-b6f3f2d11ad8"
      },
      "outputs": [],
      "source": []
    },
    {
      "cell_type": "code",
      "execution_count": null,
      "metadata": {
        "colab": {
          "base_uri": "https://localhost:8080/"
        },
        "id": "SDWOK56EIM3n",
        "outputId": "682830f3-6c21-43c3-9b05-df473541570c"
      },
      "outputs": [],
      "source": []
    },
    {
      "cell_type": "code",
      "execution_count": null,
      "metadata": {
        "colab": {
          "base_uri": "https://localhost:8080/"
        },
        "id": "q55x6VoiKmpX",
        "outputId": "9b758dd3-e64b-46c0-e4e3-3c342660d19d"
      },
      "outputs": [],
      "source": []
    },
    {
      "cell_type": "code",
      "execution_count": null,
      "metadata": {
        "id": "av7DbeP5K7Xf"
      },
      "outputs": [],
      "source": []
    },
    {
      "cell_type": "code",
      "execution_count": null,
      "metadata": {
        "id": "MTLPaOobK7dc"
      },
      "outputs": [],
      "source": []
    },
    {
      "cell_type": "code",
      "execution_count": null,
      "metadata": {
        "id": "0StTG7ycK7kQ"
      },
      "outputs": [],
      "source": []
    },
    {
      "cell_type": "code",
      "execution_count": null,
      "metadata": {
        "id": "mkUuhK9UK7pA"
      },
      "outputs": [],
      "source": []
    },
    {
      "cell_type": "code",
      "execution_count": null,
      "metadata": {
        "id": "JyonJsQVK7tm"
      },
      "outputs": [],
      "source": []
    },
    {
      "cell_type": "markdown",
      "metadata": {
        "id": "dUv9qM1yuIKJ"
      },
      "source": [
        "### Iterating"
      ]
    },
    {
      "cell_type": "code",
      "execution_count": 78,
      "metadata": {
        "colab": {
          "base_uri": "https://localhost:8080/"
        },
        "id": "lNgaCad6uKhm",
        "outputId": "b841e6c6-2d41-4a11-c9c1-7af7bb5dc72c"
      },
      "outputs": [
        {
          "name": "stdout",
          "output_type": "stream",
          "text": [
            "100.1\n",
            "101.5\n",
            "99.5\n",
            "101.0\n",
            "101.3\n",
            "102.9\n",
            "100.5\n",
            "101.8\n",
            "101.8\n",
            "103.0\n",
            "101.0\n",
            "102.5\n"
          ]
        }
      ],
      "source": [
        "ohlc_data_day1 = np.array([\n",
        "    [100.1, 101.5, 99.5, 101.0],\n",
        "    [101.3, 102.9, 100.5, 101.8],\n",
        "    [101.8, 103.0, 101.0, 102.5]\n",
        "])\n",
        "\n",
        "ohlc_data_Day2 = np.array([\n",
        "    [200.0, 201.5, 299.5, 201.0],\n",
        "    [201.0, 202.0, 200.5, 201.8],\n",
        "    [201.8, 203.0, 201.0, 202.5],\n",
        "    [201.8, 203.0, 201.0, 202.5]\n",
        "])\n",
        "\n",
        "a6 = [1,2,3,4,5]\n",
        "for i in np.ravel(ohlc_data_day1):\n",
        "    print(i)"
      ]
    },
    {
      "cell_type": "markdown",
      "metadata": {
        "id": "ZSS6AF_luNc-"
      },
      "source": [
        "### Reshaping"
      ]
    },
    {
      "cell_type": "code",
      "execution_count": 81,
      "metadata": {
        "id": "NeXLsnBb9ko7"
      },
      "outputs": [
        {
          "data": {
            "text/plain": [
              "array([[[ 0,  1,  2],\n",
              "        [ 3,  4,  5],\n",
              "        [ 6,  7,  8],\n",
              "        [ 9, 10, 11]],\n",
              "\n",
              "       [[12, 13, 14],\n",
              "        [15, 16, 17],\n",
              "        [18, 19, 20],\n",
              "        [21, 22, 23]]])"
            ]
          },
          "execution_count": 81,
          "metadata": {},
          "output_type": "execute_result"
        }
      ],
      "source": [
        "# reshape\n",
        "np.arange(0,24).reshape(2,4,3)"
      ]
    },
    {
      "cell_type": "code",
      "execution_count": 88,
      "metadata": {
        "colab": {
          "base_uri": "https://localhost:8080/"
        },
        "id": "DBIaUE8duQDz",
        "outputId": "ea99f6b4-b3ef-4cd7-dfee-63f1bcb3f6a3"
      },
      "outputs": [
        {
          "name": "stdout",
          "output_type": "stream",
          "text": [
            "[[100.1 101.3 101.8]\n",
            " [101.5 102.9 103. ]\n",
            " [ 99.5 100.5 101. ]\n",
            " [101.  101.8 102.5]]\n",
            "[[100.1 101.3 101.8]\n",
            " [101.5 102.9 103. ]\n",
            " [ 99.5 100.5 101. ]\n",
            " [101.  101.8 102.5]]\n"
          ]
        }
      ],
      "source": [
        "# Transpose\n",
        "print(np.transpose(ohlc_data_day1))\n",
        "print(ohlc_data_day1.T)"
      ]
    },
    {
      "cell_type": "code",
      "execution_count": 90,
      "metadata": {
        "colab": {
          "base_uri": "https://localhost:8080/"
        },
        "id": "IULUNn5OuQMT",
        "outputId": "0588ea26-7e91-4f04-c291-e650892551da"
      },
      "outputs": [
        {
          "data": {
            "text/plain": [
              "array([100.1, 101.5,  99.5, 101. , 101.3, 102.9, 100.5, 101.8, 101.8,\n",
              "       103. , 101. , 102.5])"
            ]
          },
          "execution_count": 90,
          "metadata": {},
          "output_type": "execute_result"
        }
      ],
      "source": [
        "# ravel\n",
        "np.ravel(ohlc_data_day1)"
      ]
    },
    {
      "cell_type": "markdown",
      "metadata": {
        "id": "ouKcJQ5EuUQC"
      },
      "source": [
        "### Stacking"
      ]
    },
    {
      "cell_type": "code",
      "execution_count": 100,
      "metadata": {
        "colab": {
          "base_uri": "https://localhost:8080/"
        },
        "id": "HHSY1njTuXLi",
        "outputId": "a059eb6d-0f0c-48a3-c992-f513cbeabc70"
      },
      "outputs": [
        {
          "data": {
            "text/plain": [
              "array([[100.1, 101.5,  99.5, 101. , 200. , 201.5, 299.5, 201. ],\n",
              "       [101.3, 102.9, 100.5, 101.8, 201. , 202. , 200.5, 201.8],\n",
              "       [101.8, 103. , 101. , 102.5, 201.8, 203. , 201. , 202.5]])"
            ]
          },
          "execution_count": 100,
          "metadata": {},
          "output_type": "execute_result"
        }
      ],
      "source": [
        "# horizontal stacking\n",
        "\n",
        "ohlc_data_day1 = np.array([\n",
        "    [100.1, 101.5, 99.5, 101.0],\n",
        "    [101.3, 102.9, 100.5, 101.8],\n",
        "    [101.8, 103.0, 101.0, 102.5]\n",
        "])\n",
        "\n",
        "ohlc_data_Day2 = np.array([\n",
        "    [200.0, 201.5, 299.5, 201.0],\n",
        "    [201.0, 202.0, 200.5, 201.8],\n",
        "    [201.8, 203.0, 201.0, 202.5]\n",
        "    \n",
        "])\n",
        "\n",
        "\n",
        "\n",
        "np.hstack((ohlc_data_day1,ohlc_data_Day2))"
      ]
    },
    {
      "cell_type": "code",
      "execution_count": null,
      "metadata": {
        "colab": {
          "base_uri": "https://localhost:8080/"
        },
        "id": "ne9uXt3yPKez",
        "outputId": "a7a04092-8889-4628-9966-85b7ef7f5b99"
      },
      "outputs": [],
      "source": []
    },
    {
      "cell_type": "code",
      "execution_count": 101,
      "metadata": {
        "colab": {
          "base_uri": "https://localhost:8080/"
        },
        "id": "F6bFFNKuuZW5",
        "outputId": "14145606-ead6-417d-ae7f-f9ff5ec78394"
      },
      "outputs": [
        {
          "data": {
            "text/plain": [
              "array([[100.1, 101.5,  99.5, 101. ],\n",
              "       [101.3, 102.9, 100.5, 101.8],\n",
              "       [101.8, 103. , 101. , 102.5],\n",
              "       [200. , 201.5, 299.5, 201. ],\n",
              "       [201. , 202. , 200.5, 201.8],\n",
              "       [201.8, 203. , 201. , 202.5]])"
            ]
          },
          "execution_count": 101,
          "metadata": {},
          "output_type": "execute_result"
        }
      ],
      "source": [
        "# Vertical stacking\n",
        "np.vstack((ohlc_data_day1,ohlc_data_Day2))"
      ]
    },
    {
      "cell_type": "markdown",
      "metadata": {
        "id": "kaY006uXucF5"
      },
      "source": [
        "### Splitting"
      ]
    },
    {
      "cell_type": "code",
      "execution_count": 103,
      "metadata": {
        "colab": {
          "base_uri": "https://localhost:8080/"
        },
        "id": "kgbl6wkD9ll6",
        "outputId": "cb3ca012-8b56-426f-b3c8-eb919a4b89d8"
      },
      "outputs": [
        {
          "data": {
            "text/plain": [
              "array([[100.1, 101.5,  99.5, 101. , 200. , 201.5, 299.5, 201. ],\n",
              "       [101.3, 102.9, 100.5, 101.8, 201. , 202. , 200.5, 201.8],\n",
              "       [101.8, 103. , 101. , 102.5, 201.8, 203. , 201. , 202.5]])"
            ]
          },
          "execution_count": 103,
          "metadata": {},
          "output_type": "execute_result"
        }
      ],
      "source": [
        "# horizontal splitting\n",
        "a7 = np.hstack((ohlc_data_day1,ohlc_data_Day2))\n",
        "a7"
      ]
    },
    {
      "cell_type": "code",
      "execution_count": 104,
      "metadata": {
        "colab": {
          "base_uri": "https://localhost:8080/",
          "height": 390
        },
        "id": "FIfZM5BsQE5l",
        "outputId": "5d220f04-bf07-480c-9f51-d360c77f3635"
      },
      "outputs": [
        {
          "data": {
            "text/plain": [
              "[array([[100.1, 101.5,  99.5, 101. ],\n",
              "        [101.3, 102.9, 100.5, 101.8],\n",
              "        [101.8, 103. , 101. , 102.5]]),\n",
              " array([[200. , 201.5, 299.5, 201. ],\n",
              "        [201. , 202. , 200.5, 201.8],\n",
              "        [201.8, 203. , 201. , 202.5]])]"
            ]
          },
          "execution_count": 104,
          "metadata": {},
          "output_type": "execute_result"
        }
      ],
      "source": [
        "np.hsplit(a7,2)"
      ]
    },
    {
      "cell_type": "code",
      "execution_count": 106,
      "metadata": {
        "id": "nfhKoruOuhK-"
      },
      "outputs": [
        {
          "data": {
            "text/plain": [
              "[array([[100.1, 101.5,  99.5, 101. , 200. , 201.5, 299.5, 201. ]]),\n",
              " array([[101.3, 102.9, 100.5, 101.8, 201. , 202. , 200.5, 201.8]]),\n",
              " array([[101.8, 103. , 101. , 102.5, 201.8, 203. , 201. , 202.5]])]"
            ]
          },
          "execution_count": 106,
          "metadata": {},
          "output_type": "execute_result"
        }
      ],
      "source": [
        "# vertical splitting\n",
        "\n",
        "np.vsplit(a7,3)"
      ]
    },
    {
      "cell_type": "code",
      "execution_count": null,
      "metadata": {
        "colab": {
          "base_uri": "https://localhost:8080/"
        },
        "id": "qJ2xEBFUuieB",
        "outputId": "d8395819-f098-4caa-9501-281d0722d593"
      },
      "outputs": [],
      "source": []
    },
    {
      "cell_type": "code",
      "execution_count": null,
      "metadata": {
        "colab": {
          "base_uri": "https://localhost:8080/",
          "height": 390
        },
        "id": "1wxcLLR_QWVu",
        "outputId": "29ed6135-282d-4ed2-ddde-24c3b7fe750b"
      },
      "outputs": [],
      "source": []
    },
    {
      "cell_type": "code",
      "execution_count": null,
      "metadata": {
        "id": "E_EVrYA7QadG"
      },
      "outputs": [],
      "source": []
    }
  ],
  "metadata": {
    "colab": {
      "provenance": []
    },
    "kernelspec": {
      "display_name": "Python 3",
      "name": "python3"
    },
    "language_info": {
      "codemirror_mode": {
        "name": "ipython",
        "version": 3
      },
      "file_extension": ".py",
      "mimetype": "text/x-python",
      "name": "python",
      "nbconvert_exporter": "python",
      "pygments_lexer": "ipython3",
      "version": "3.1.undefined"
    }
  },
  "nbformat": 4,
  "nbformat_minor": 0
}
