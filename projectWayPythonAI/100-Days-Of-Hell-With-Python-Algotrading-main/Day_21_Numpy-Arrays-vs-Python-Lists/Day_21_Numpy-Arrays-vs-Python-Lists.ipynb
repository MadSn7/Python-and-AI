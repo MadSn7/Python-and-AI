{
  "cells": [
    {
      "cell_type": "markdown",
      "metadata": {
        "id": "exouV4nxLocj"
      },
      "source": [
        "### Numpy array vs Python lists"
      ]
    },
    {
      "cell_type": "code",
      "execution_count": 45,
      "metadata": {
        "colab": {
          "base_uri": "https://localhost:8080/"
        },
        "id": "9ITuYx0tLnbc",
        "outputId": "3b2046b3-40a0-427d-d28a-27c0afa55bda"
      },
      "outputs": [
        {
          "name": "stdout",
          "output_type": "stream",
          "text": [
            "0.6953721046447754\n"
          ]
        }
      ],
      "source": [
        "# speed\n",
        "# list\n",
        "import time\n",
        "a  = [i for i in range(10000000)]\n",
        "b  = [i for i in range(10000000,20000000)]\n",
        "c = []\n",
        "\n",
        "start = time.time()\n",
        "\n",
        "for i in range(len(a)):\n",
        "    c.append(a[i] +b[i])\n",
        "print(time.time()-start)\n",
        "\n",
        "\n",
        "\n"
      ]
    },
    {
      "cell_type": "code",
      "execution_count": 50,
      "metadata": {
        "colab": {
          "base_uri": "https://localhost:8080/"
        },
        "id": "EW6ISYk6ZifP",
        "outputId": "16d22f74-8e1a-4533-e346-a109693f3874"
      },
      "outputs": [
        {
          "data": {
            "text/plain": [
              "0.013104915618896484"
            ]
          },
          "execution_count": 50,
          "metadata": {},
          "output_type": "execute_result"
        }
      ],
      "source": [
        "# numpy\n",
        "import numpy as np\n",
        "a = np.arange(10000000)\n",
        "b = np.arange(10000000,20000000)\n",
        "start = time.time()\n",
        "c = a+b\n",
        "time.time() - start"
      ]
    },
    {
      "cell_type": "code",
      "execution_count": 51,
      "metadata": {
        "colab": {
          "base_uri": "https://localhost:8080/"
        },
        "id": "D0rcBlxZB5tb",
        "outputId": "e459d12e-5aac-46b9-b8ea-81a151a386fb"
      },
      "outputs": [
        {
          "data": {
            "text/plain": [
              "63.42921143055978"
            ]
          },
          "execution_count": 51,
          "metadata": {},
          "output_type": "execute_result"
        }
      ],
      "source": [
        "0.6953721046447754/0.010962963104248047"
      ]
    },
    {
      "cell_type": "code",
      "execution_count": 56,
      "metadata": {
        "colab": {
          "base_uri": "https://localhost:8080/"
        },
        "id": "PSC79592SIZz",
        "outputId": "bfd06baa-daaf-47a4-b0e9-1d1d555dadc6"
      },
      "outputs": [
        {
          "data": {
            "text/plain": [
              "89095160"
            ]
          },
          "execution_count": 56,
          "metadata": {},
          "output_type": "execute_result"
        }
      ],
      "source": [
        "# memory\n",
        "#list\n",
        "import time\n",
        "import sys\n",
        "a  = [i for i in range(10000000)]\n",
        "b  = [i for i in range(10000000,20000000)]\n",
        "sys.getsizeof(a)\n",
        "\n"
      ]
    },
    {
      "cell_type": "code",
      "execution_count": 60,
      "metadata": {
        "colab": {
          "base_uri": "https://localhost:8080/"
        },
        "id": "mk_U1oHuaOSo",
        "outputId": "0c3cc1a7-6dbc-4185-cb06-b66f41fb0d25"
      },
      "outputs": [
        {
          "data": {
            "text/plain": [
              "10000112"
            ]
          },
          "execution_count": 60,
          "metadata": {},
          "output_type": "execute_result"
        }
      ],
      "source": [
        "# numpy\n",
        "import numpy as np\n",
        "a = np.arange(10000000,dtype=np.int8)\n",
        "b = np.arange(10000000,20000000)\n",
        "sys.getsizeof(a)"
      ]
    },
    {
      "cell_type": "code",
      "execution_count": 62,
      "metadata": {
        "id": "MiDnJvwBSJUt"
      },
      "outputs": [
        {
          "data": {
            "text/plain": [
              "8.909416214538398"
            ]
          },
          "execution_count": 62,
          "metadata": {},
          "output_type": "execute_result"
        }
      ],
      "source": [
        "\n",
        "89095160/10000112\n",
        "\n",
        "# convenience"
      ]
    },
    {
      "cell_type": "markdown",
      "metadata": {
        "id": "G7gJ1-8fLLEI"
      },
      "source": [
        "### Advanced Indexing"
      ]
    },
    {
      "cell_type": "code",
      "execution_count": 73,
      "metadata": {
        "colab": {
          "base_uri": "https://localhost:8080/"
        },
        "id": "vTt8xIaa1I1Y",
        "outputId": "d8c64297-8a99-40b5-fdbc-c6ab940edb89"
      },
      "outputs": [],
      "source": [
        "# Normal Indexing and slicing\n",
        "\n",
        "ohlc1 = np.array([\n",
        "    [100.1, 101.5, 99.5, 101.0],\n",
        "    [101.3, 102.9, 100.5, 101.8],\n",
        "    [101.8, 103.0, 101.0, 102.5]\n",
        "])\n",
        "\n",
        "ohlc2 = np.array([\n",
        "    [200.0, 201.5, 299.5, 201.0],\n",
        "    [201.0, 202.0, 200.5, 201.8],\n",
        "    [201.8, 203.0, 201.0, 202.5],\n",
        "    [201.8, 203.0, 201.0, 202.5]\n",
        "])"
      ]
    },
    {
      "cell_type": "code",
      "execution_count": 75,
      "metadata": {
        "colab": {
          "base_uri": "https://localhost:8080/"
        },
        "id": "cl0vYVxEEOLs",
        "outputId": "2b844b3a-0088-4738-ec37-d8df0f1a4ce3"
      },
      "outputs": [
        {
          "data": {
            "text/plain": [
              "array([[100.5, 101.8],\n",
              "       [101. , 102.5]])"
            ]
          },
          "execution_count": 75,
          "metadata": {},
          "output_type": "execute_result"
        }
      ],
      "source": [
        "ohlc1[1:,2:]"
      ]
    },
    {
      "cell_type": "code",
      "execution_count": null,
      "metadata": {
        "colab": {
          "base_uri": "https://localhost:8080/"
        },
        "id": "-4fMAMjwET20",
        "outputId": "ddad44f8-263a-49b4-ce88-227d7d394c17"
      },
      "outputs": [],
      "source": []
    },
    {
      "cell_type": "code",
      "execution_count": 76,
      "metadata": {
        "colab": {
          "base_uri": "https://localhost:8080/"
        },
        "id": "qxCgXTRo1Lk8",
        "outputId": "ff2d2010-c717-4d89-a40e-374ba8473160"
      },
      "outputs": [
        {
          "data": {
            "text/plain": [
              "array([100.5])"
            ]
          },
          "execution_count": 76,
          "metadata": {},
          "output_type": "execute_result"
        }
      ],
      "source": [
        "# Fancy Indexing\n",
        "\n",
        "ohlc1[[1],[2]]"
      ]
    },
    {
      "cell_type": "code",
      "execution_count": 81,
      "metadata": {
        "id": "1BIkbzQCFUft"
      },
      "outputs": [
        {
          "data": {
            "text/plain": [
              "array([[100.5, 101.8],\n",
              "       [101. , 102.5]])"
            ]
          },
          "execution_count": 81,
          "metadata": {},
          "output_type": "execute_result"
        }
      ],
      "source": [
        "ohlc1[1:,[2,3]]"
      ]
    },
    {
      "cell_type": "code",
      "execution_count": 83,
      "metadata": {},
      "outputs": [
        {
          "data": {
            "text/plain": [
              "array([[201.5, 299.5],\n",
              "       [203. , 201. ]])"
            ]
          },
          "execution_count": 83,
          "metadata": {},
          "output_type": "execute_result"
        }
      ],
      "source": [
        "ohlc2[[0,3],1:3]"
      ]
    },
    {
      "cell_type": "code",
      "execution_count": 95,
      "metadata": {
        "colab": {
          "base_uri": "https://localhost:8080/"
        },
        "id": "3hrTxRuy1Noi",
        "outputId": "0fe3f0ad-3b25-4c1c-cd60-6175fcd0d9c2"
      },
      "outputs": [],
      "source": [
        "# Boolean Indexing\n",
        "ohlc1 = np.array([\n",
        "    [100.1, 101.5, 99.5, 101.0],\n",
        "    [101.3, 102.9, 100.5, 101.8],\n",
        "    [101.8, 103.0, 101.0, 102.5]\n",
        "])\n",
        "\n",
        "ohlc2 = np.array([\n",
        "    [200.0, 201.5, 299.5, 201.0],\n",
        "    [201.0, 202.0, 200.5, 201.8],\n",
        "    [201.8, 204.0, 201.0, 202.5],\n",
        "    [201.8, 203.0, 206.0, 202.5]\n",
        "])\n"
      ]
    },
    {
      "cell_type": "code",
      "execution_count": 85,
      "metadata": {},
      "outputs": [
        {
          "data": {
            "text/plain": [
              "array([102.9, 103. , 102.5])"
            ]
          },
          "execution_count": 85,
          "metadata": {},
          "output_type": "execute_result"
        }
      ],
      "source": [
        "ohlc1[ohlc1 > 102]"
      ]
    },
    {
      "cell_type": "code",
      "execution_count": 87,
      "metadata": {
        "colab": {
          "base_uri": "https://localhost:8080/"
        },
        "id": "zMvMQcm01mcG",
        "outputId": "608dfc5b-1457-40ba-d706-70f220bd582c"
      },
      "outputs": [
        {
          "data": {
            "text/plain": [
              "array([299.5, 203. , 202.5, 203. , 202.5])"
            ]
          },
          "execution_count": 87,
          "metadata": {},
          "output_type": "execute_result"
        }
      ],
      "source": [
        "# find all numbers greater than 202 from ohlc2\n",
        "\n",
        "ohlc2[ohlc2 > 202]\n"
      ]
    },
    {
      "cell_type": "code",
      "execution_count": 96,
      "metadata": {
        "colab": {
          "base_uri": "https://localhost:8080/"
        },
        "id": "_4BwwwxEG68r",
        "outputId": "0bc7ef64-a860-4c39-b1bb-98d8f73ad999"
      },
      "outputs": [
        {
          "data": {
            "text/plain": [
              "array([204., 206.])"
            ]
          },
          "execution_count": 96,
          "metadata": {},
          "output_type": "execute_result"
        }
      ],
      "source": [
        "# find out even numbers\n",
        "\n",
        "ohlc2[(ohlc2 % 2 == 0.0) & (ohlc2 > 202)]\n"
      ]
    },
    {
      "cell_type": "code",
      "execution_count": null,
      "metadata": {
        "colab": {
          "base_uri": "https://localhost:8080/",
          "height": 205
        },
        "id": "MIk_GnwQ1sS2",
        "outputId": "0b3e8ed7-0354-4a93-c4e8-e3901e395ced"
      },
      "outputs": [],
      "source": [
        "# find all numbers greater than 50 and are even\n",
        "\n"
      ]
    },
    {
      "cell_type": "code",
      "execution_count": null,
      "metadata": {
        "colab": {
          "base_uri": "https://localhost:8080/"
        },
        "id": "rhGQtwkl6W7k",
        "outputId": "f6f525b9-9556-4c9c-aa9c-bd56bb7cab0c"
      },
      "outputs": [],
      "source": [
        "# find all numbers not divisible by 7\n"
      ]
    },
    {
      "cell_type": "markdown",
      "metadata": {
        "id": "n2UP2iZTLPR5"
      },
      "source": [
        "### Broadcasting\n",
        "\n",
        "The term broadcasting describes how NumPy treats arrays with different shapes during arithmetic operations.\n",
        "\n",
        "The smaller array is “broadcast” across the larger array so that they have compatible shapes."
      ]
    },
    {
      "cell_type": "code",
      "execution_count": 98,
      "metadata": {
        "colab": {
          "base_uri": "https://localhost:8080/"
        },
        "id": "tJTrjKxoCYhT",
        "outputId": "efeae6e2-add6-4e95-e1d4-b71c806438f2"
      },
      "outputs": [
        {
          "data": {
            "text/plain": [
              "array([[300.1, 303. , 399. , 302. ],\n",
              "       [302.3, 304.9, 301. , 303.6],\n",
              "       [303.6, 307. , 302. , 305. ]])"
            ]
          },
          "execution_count": 98,
          "metadata": {},
          "output_type": "execute_result"
        }
      ],
      "source": [
        "# same shape\n",
        "\n",
        "\n",
        "ohlc1 = np.array([\n",
        "    [100.1, 101.5, 99.5, 101.0],\n",
        "    [101.3, 102.9, 100.5, 101.8],\n",
        "    [101.8, 103.0, 101.0, 102.5]\n",
        "])\n",
        "\n",
        "ohlc2 = np.array([\n",
        "    [200.0, 201.5, 299.5, 201.0],\n",
        "    [201.0, 202.0, 200.5, 201.8],\n",
        "    [201.8, 204.0, 201.0, 202.5]\n",
        "  \n",
        "])\n",
        "\n",
        "ohlc1 +ohlc2"
      ]
    },
    {
      "cell_type": "code",
      "execution_count": 99,
      "metadata": {
        "colab": {
          "base_uri": "https://localhost:8080/"
        },
        "id": "f-mVhFT-N3jF",
        "outputId": "dbd6e2bd-f05b-4113-f2e6-b31ded8873cf"
      },
      "outputs": [
        {
          "ename": "ValueError",
          "evalue": "operands could not be broadcast together with shapes (3,4) (4,4) ",
          "output_type": "error",
          "traceback": [
            "\u001b[0;31m---------------------------------------------------------------------------\u001b[0m",
            "\u001b[0;31mValueError\u001b[0m                                Traceback (most recent call last)",
            "Cell \u001b[0;32mIn[99], line 17\u001b[0m\n\u001b[1;32m      3\u001b[0m ohlc1 \u001b[38;5;241m=\u001b[39m np\u001b[38;5;241m.\u001b[39marray([\n\u001b[1;32m      4\u001b[0m     [\u001b[38;5;241m100.1\u001b[39m, \u001b[38;5;241m101.5\u001b[39m, \u001b[38;5;241m99.5\u001b[39m, \u001b[38;5;241m101.0\u001b[39m],\n\u001b[1;32m      5\u001b[0m     [\u001b[38;5;241m101.3\u001b[39m, \u001b[38;5;241m102.9\u001b[39m, \u001b[38;5;241m100.5\u001b[39m, \u001b[38;5;241m101.8\u001b[39m],\n\u001b[1;32m      6\u001b[0m     [\u001b[38;5;241m101.8\u001b[39m, \u001b[38;5;241m103.0\u001b[39m, \u001b[38;5;241m101.0\u001b[39m, \u001b[38;5;241m102.5\u001b[39m]\n\u001b[1;32m      7\u001b[0m ])\n\u001b[1;32m      9\u001b[0m ohlc2 \u001b[38;5;241m=\u001b[39m np\u001b[38;5;241m.\u001b[39marray([\n\u001b[1;32m     10\u001b[0m     [\u001b[38;5;241m200.0\u001b[39m, \u001b[38;5;241m201.5\u001b[39m, \u001b[38;5;241m299.5\u001b[39m, \u001b[38;5;241m201.0\u001b[39m],\n\u001b[1;32m     11\u001b[0m     [\u001b[38;5;241m201.0\u001b[39m, \u001b[38;5;241m202.0\u001b[39m, \u001b[38;5;241m200.5\u001b[39m, \u001b[38;5;241m201.8\u001b[39m],\n\u001b[0;32m   (...)\u001b[0m\n\u001b[1;32m     14\u001b[0m   \n\u001b[1;32m     15\u001b[0m ])\n\u001b[0;32m---> 17\u001b[0m ohlc1 \u001b[38;5;241m+\u001b[39mohlc2\n",
            "\u001b[0;31mValueError\u001b[0m: operands could not be broadcast together with shapes (3,4) (4,4) "
          ]
        }
      ],
      "source": [
        "# diff shape\n",
        "\n",
        "ohlc1 = np.array([\n",
        "    [100.1, 101.5, 99.5, 101.0],\n",
        "    [101.3, 102.9, 100.5, 101.8],\n",
        "    [101.8, 103.0, 101.0, 102.5]\n",
        "])\n",
        "\n",
        "ohlc2 = np.array([\n",
        "    [200.0, 201.5, 299.5, 201.0],\n",
        "    [201.0, 202.0, 200.5, 201.8],\n",
        "    [201.8, 204.0, 201.0, 202.5],\n",
        "    [201.8, 204.0, 201.0, 202.5]\n",
        "  \n",
        "])\n",
        "\n",
        "ohlc1 +ohlc2"
      ]
    },
    {
      "cell_type": "markdown",
      "metadata": {
        "id": "XXzDHsndO70t"
      },
      "source": [
        "#### Broadcasting Rules\n",
        "\n",
        "**1. Make the two arrays have the same number of dimensions.**<br>\n",
        "- If the numbers of dimensions of the two arrays are different, add new dimensions with size 1 to the head of the array with the smaller dimension.<br>"
      ]
    },
    {
      "cell_type": "markdown",
      "metadata": {
        "id": "M_ZI1gpEPdwi"
      },
      "source": [
        "**2. Make each dimension of the two arrays the same size.**<br>\n",
        "- If the sizes of each dimension of the two arrays do not match, dimensions with size 1 are stretched to the size of the other array.\n",
        "- If there is a dimension whose size is not 1 in either of the two arrays, it cannot be broadcasted, and an error is raised."
      ]
    },
    {
      "cell_type": "markdown",
      "metadata": {
        "id": "6YxVl8iZVLEh"
      },
      "source": [
        "<img src = \"https://jakevdp.github.io/PythonDataScienceHandbook/figures/02.05-broadcasting.png\">"
      ]
    },
    {
      "cell_type": "code",
      "execution_count": 102,
      "metadata": {},
      "outputs": [
        {
          "data": {
            "text/plain": [
              "array([[300.1, 303. , 399. , 302. ],\n",
              "       [301.3, 304.4, 400. , 302.8],\n",
              "       [301.8, 304.5, 400.5, 303.5]])"
            ]
          },
          "execution_count": 102,
          "metadata": {},
          "output_type": "execute_result"
        }
      ],
      "source": [
        "ohlc1 = np.array([\n",
        "    [100.1, 101.5, 99.5, 101.0],\n",
        "    [101.3, 102.9, 100.5, 101.8],\n",
        "    [101.8, 103.0, 101.0, 102.5]\n",
        "])\n",
        "\n",
        "ohlc2 = np.array([\n",
        "    [200.0, 201.5, 299.5, 201.0]\n",
        "  \n",
        "   \n",
        " \n",
        "  \n",
        "])\n",
        "\n",
        "ohlc1 +ohlc2"
      ]
    },
    {
      "cell_type": "code",
      "execution_count": 107,
      "metadata": {
        "colab": {
          "base_uri": "https://localhost:8080/"
        },
        "id": "0WKia_sDRaNm",
        "outputId": "20e7fd8a-f8f5-4650-f3ef-8d014e8e7c27"
      },
      "outputs": [
        {
          "data": {
            "text/plain": [
              "array([[ 0,  1,  2,  3],\n",
              "       [ 4,  5,  6,  7],\n",
              "       [ 8,  9, 10, 11]])"
            ]
          },
          "execution_count": 107,
          "metadata": {},
          "output_type": "execute_result"
        }
      ],
      "source": [
        "# More examples\n",
        "\n",
        "a = np.arange(12).reshape(3,4)\n",
        "a"
      ]
    },
    {
      "cell_type": "code",
      "execution_count": 106,
      "metadata": {
        "colab": {
          "base_uri": "https://localhost:8080/",
          "height": 277
        },
        "id": "SqtTHUngRhss",
        "outputId": "37a5dc7b-75b7-4cb3-9348-26197ccdf97c"
      },
      "outputs": [
        {
          "data": {
            "text/plain": [
              "array([[0, 1, 2, 3]])"
            ]
          },
          "execution_count": 106,
          "metadata": {},
          "output_type": "execute_result"
        }
      ],
      "source": [
        "b = np.arange(4).reshape(1,4)\n",
        "b"
      ]
    },
    {
      "cell_type": "code",
      "execution_count": 108,
      "metadata": {
        "colab": {
          "base_uri": "https://localhost:8080/"
        },
        "id": "5hQ269ncQedR",
        "outputId": "b6f1ed7f-95da-4e52-cb8e-a58f41a34add"
      },
      "outputs": [
        {
          "data": {
            "text/plain": [
              "array([[ 0,  2,  4,  6],\n",
              "       [ 4,  6,  8, 10],\n",
              "       [ 8, 10, 12, 14]])"
            ]
          },
          "execution_count": 108,
          "metadata": {},
          "output_type": "execute_result"
        }
      ],
      "source": [
        "a+b"
      ]
    },
    {
      "cell_type": "code",
      "execution_count": null,
      "metadata": {
        "colab": {
          "base_uri": "https://localhost:8080/"
        },
        "id": "sc4X7IQVRujU",
        "outputId": "97a1aad8-1827-4038-ea8d-1d4516359d36"
      },
      "outputs": [],
      "source": []
    },
    {
      "cell_type": "code",
      "execution_count": null,
      "metadata": {
        "colab": {
          "base_uri": "https://localhost:8080/"
        },
        "id": "v6EwwULkQuvs",
        "outputId": "48990123-6b83-414c-c42f-5f0b593a4967"
      },
      "outputs": [],
      "source": [
        "\n",
        "# shape -> (1,1)\n",
        "\n",
        "# shape -> (2,2)\n",
        "\n"
      ]
    },
    {
      "cell_type": "code",
      "execution_count": null,
      "metadata": {
        "colab": {
          "base_uri": "https://localhost:8080/",
          "height": 330
        },
        "id": "nEgUi7tnRGI4",
        "outputId": "8de08148-7f3e-4a03-823c-0c4e157a556e"
      },
      "outputs": [],
      "source": []
    },
    {
      "cell_type": "code",
      "execution_count": null,
      "metadata": {
        "colab": {
          "base_uri": "https://localhost:8080/",
          "height": 312
        },
        "id": "kelF0GRBR3--",
        "outputId": "233ef62e-b775-4f00-c61d-dd9131067183"
      },
      "outputs": [],
      "source": []
    },
    {
      "cell_type": "markdown",
      "metadata": {
        "id": "UNqpEw03LSl6"
      },
      "source": [
        "### Working with mathematical formulas"
      ]
    },
    {
      "cell_type": "code",
      "execution_count": 121,
      "metadata": {
        "colab": {
          "base_uri": "https://localhost:8080/"
        },
        "id": "U01nMTh-N-h_",
        "outputId": "f78780bf-cea2-4234-f03f-38df6c36f812"
      },
      "outputs": [
        {
          "data": {
            "text/plain": [
              "array([[-0.41774768,  0.82433986, -0.85779535,  0.45202579],\n",
              "       [ 0.69544219,  0.69796907, -0.03095997,  0.95481453],\n",
              "       [ 0.95481453,  0.62298863,  0.45202579,  0.92174542]])"
            ]
          },
          "execution_count": 121,
          "metadata": {},
          "output_type": "execute_result"
        }
      ],
      "source": [
        "ohlc1 = np.array([\n",
        "    [100.1, 101.5, 99.5, 101.0],\n",
        "    [101.3, 102.9, 100.5, 101.8],\n",
        "    [101.8, 103.0, 101.0, 102.5]\n",
        "])\n",
        "\n",
        "ohlc2 = np.array([\n",
        "    [200.0, 201.5, 299.5, 201.0],\n",
        "    [201.0, 202.0, 200.5, 201.8],\n",
        "    [201.8, 204.0, 201.0, 202.5]\n",
        "   \n",
        "  \n",
        "])\n",
        "\n",
        "np.sin(ohlc1)"
      ]
    },
    {
      "cell_type": "code",
      "execution_count": 119,
      "metadata": {
        "colab": {
          "base_uri": "https://localhost:8080/"
        },
        "id": "Sf6T8s8VCZum",
        "outputId": "976e4793-59c8-4590-bc57-5c3df210c1c3"
      },
      "outputs": [
        {
          "data": {
            "text/plain": [
              "array([[1., 1., 1., 1.],\n",
              "       [1., 1., 1., 1.],\n",
              "       [1., 1., 1., 1.]])"
            ]
          },
          "execution_count": 119,
          "metadata": {},
          "output_type": "execute_result"
        }
      ],
      "source": [
        "# sigmoid\n",
        "1/(1+ np.exp(-(ohlc1)))"
      ]
    },
    {
      "cell_type": "code",
      "execution_count": 122,
      "metadata": {
        "id": "3jaule_JOcdc"
      },
      "outputs": [
        {
          "data": {
            "text/plain": [
              "12495.15916666667"
            ]
          },
          "execution_count": 122,
          "metadata": {},
          "output_type": "execute_result"
        }
      ],
      "source": [
        "# mean squared error\n",
        "def mse(ohlc1,ohlc2):\n",
        "    return np.mean((ohlc1-ohlc2)**2)\n",
        "\n",
        "mse(ohlc1,ohlc2)\n"
      ]
    },
    {
      "cell_type": "markdown",
      "metadata": {
        "id": "d9olU9IoLX8P"
      },
      "source": [
        "### Working with missing values"
      ]
    },
    {
      "cell_type": "code",
      "execution_count": 124,
      "metadata": {
        "colab": {
          "base_uri": "https://localhost:8080/"
        },
        "id": "LhrsmaIfChjL",
        "outputId": "7e2c55af-6e86-4dfb-adbb-1f6a0d62099e"
      },
      "outputs": [
        {
          "data": {
            "text/plain": [
              "array([[100.1, 101.5,   nan, 101. ],\n",
              "       [101.3, 102.9,   nan, 101.8],\n",
              "       [  nan, 103. , 101. , 102.5]])"
            ]
          },
          "execution_count": 124,
          "metadata": {},
          "output_type": "execute_result"
        }
      ],
      "source": [
        "# Working with missing values -> np.nan\n",
        "\n",
        "ohlc1 = np.array([\n",
        "    [100.1, 101.5, np.nan, 101.0],\n",
        "    [101.3, 102.9, np.nan, 101.8],\n",
        "    [np.nan, 103.0, 101.0, 102.5]\n",
        "])\n",
        "ohlc1"
      ]
    },
    {
      "cell_type": "code",
      "execution_count": 128,
      "metadata": {
        "colab": {
          "base_uri": "https://localhost:8080/"
        },
        "id": "dYI5z7g6S_TI",
        "outputId": "2238d623-f056-497c-844a-e38bd204821f"
      },
      "outputs": [
        {
          "data": {
            "text/plain": [
              "array([100.1, 101.5, 101. , 101.3, 102.9, 101.8, 103. , 101. , 102.5])"
            ]
          },
          "execution_count": 128,
          "metadata": {},
          "output_type": "execute_result"
        }
      ],
      "source": [
        "ohlc1[~np.isnan(ohlc1)]"
      ]
    }
  ],
  "metadata": {
    "colab": {
      "provenance": []
    },
    "kernelspec": {
      "display_name": "Python 3",
      "name": "python3"
    },
    "language_info": {
      "codemirror_mode": {
        "name": "ipython",
        "version": 3
      },
      "file_extension": ".py",
      "mimetype": "text/x-python",
      "name": "python",
      "nbconvert_exporter": "python",
      "pygments_lexer": "ipython3",
      "version": "3.1.undefined"
    }
  },
  "nbformat": 4,
  "nbformat_minor": 0
}
