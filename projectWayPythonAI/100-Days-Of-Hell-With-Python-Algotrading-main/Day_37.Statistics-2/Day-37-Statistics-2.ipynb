import pandas as pd
import yfinance as yf

# Fetch historical data for Apple Inc. (AAPL)
ticker = 'AAPL'
data = yf.download(ticker, start='2023-01-01', end='2023-12-31')
data['Daily Return'] = data['Close'].pct_change()

# Categorize daily returns
data['Return Category'] = data['Daily Return'].apply(lambda x: 'Positive' if x > 0 else 'Negative')

# Frequency distribution
frequency_table = data['Return Category'].value_counts().reset_index()
frequency_table.columns = ['Return Category', 'Frequency']
print(frequency_table)

