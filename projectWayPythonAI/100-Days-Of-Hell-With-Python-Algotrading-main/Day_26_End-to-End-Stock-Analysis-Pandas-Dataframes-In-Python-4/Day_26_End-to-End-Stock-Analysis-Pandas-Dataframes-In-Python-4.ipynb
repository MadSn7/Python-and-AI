{
  "cells": [
    {
      "cell_type": "markdown",
      "metadata": {
        "id": "B881F9xu4Bmk"
      },
      "source": [
        "### End to End Stock Market Analysis With Pandas Dataframes In Python\n",
        "### Important DataFrame Functions"
      ]
    },
    {
      "cell_type": "code",
      "execution_count": 197,
      "metadata": {},
      "outputs": [
        {
          "name": "stdout",
          "output_type": "stream",
          "text": [
            "Dataset created and saved to 'algotrading_combined_dataset.csv'\n"
          ]
        }
      ],
      "source": [
        "import pandas as pd\n",
        "import numpy as np\n",
        "\n",
        "# Function to create a synthetic dataset for a given asset type\n",
        "def create_asset_data(tickers, start_date, end_date):\n",
        "    dates = pd.date_range(start=start_date, end=end_date, freq='B')\n",
        "    data = []\n",
        "    for ticker in tickers:\n",
        "        np.random.seed(42)  # For reproducibility\n",
        "        price = np.random.randn(len(dates)).cumsum() + 100\n",
        "        for i in range(len(dates)):\n",
        "            open_price = price[i] + np.random.uniform(-1, 1)\n",
        "            high_price = max(open_price, price[i] + np.random.uniform(0, 2))\n",
        "            low_price = min(open_price, price[i] - np.random.uniform(0, 2))\n",
        "            close_price = price[i] + np.random.uniform(-1, 1)\n",
        "            volume = np.random.randint(1000, 1000000)\n",
        "            # Introduce NaN values randomly\n",
        "            if np.random.rand() < 0.05:\n",
        "                open_price = np.nan\n",
        "            if np.random.rand() < 0.05:\n",
        "                high_price = np.nan\n",
        "            if np.random.rand() < 0.05:\n",
        "                low_price = np.nan\n",
        "            if np.random.rand() < 0.05:\n",
        "                close_price = np.nan\n",
        "            if np.random.rand() < 0.05:\n",
        "                volume = np.nan\n",
        "            data.append([dates[i], ticker, open_price, high_price, low_price, close_price, volume])\n",
        "    return pd.DataFrame(data, columns=['Date', 'Ticker', 'Open', 'High', 'Low', 'Close', 'Volume'])\n",
        "\n",
        "# Define tickers for each asset type\n",
        "stock_tickers = ['AAPL', 'GOOG', 'MSFT', 'AMZN', 'TSLA']\n",
        "forex_tickers = ['EUR/USD', 'GBP/USD', 'USD/JPY', 'AUD/USD', 'USD/CAD']\n",
        "crypto_tickers = ['BTC/USD', 'ETH/USD', 'XRP/USD', 'LTC/USD', 'BCH/USD']\n",
        "\n",
        "# Generate data for each asset type\n",
        "stock_data = create_asset_data(stock_tickers, '2015-01-01', '2023-01-01')\n",
        "forex_data = create_asset_data(forex_tickers, '2015-01-01', '2023-01-01')\n",
        "crypto_data = create_asset_data(crypto_tickers, '2015-01-01', '2023-01-01')\n",
        "\n",
        "# Combine all data into a single DataFrame\n",
        "combined_data = pd.concat([stock_data, forex_data, crypto_data])\n",
        "\n",
        "# Introduce duplicate rows\n",
        "combined_data = pd.concat([combined_data, combined_data.sample(frac=0.05, random_state=42)])  # Add 5% duplicates\n",
        "\n",
        "# Save to CSV\n",
        "combined_data.to_csv('algotrading_combined_dataset.csv', index=False)\n",
        "\n",
        "print(\"Dataset created and saved to 'algotrading_combined_dataset.csv'\")\n"
      ]
    },
    {
      "cell_type": "code",
      "execution_count": 145,
      "metadata": {},
      "outputs": [
        {
          "name": "stdout",
          "output_type": "stream",
          "text": [
            "Dataset created and saved to 'fundamental_research_dataset_large.csv'\n"
          ]
        }
      ],
      "source": [
        "import pandas as pd\n",
        "import numpy as np\n",
        "\n",
        "# List of real-life stock tickers and company names (a sample list)\n",
        "tickers_and_companies = [\n",
        "    ('AAPL', 'Apple Inc.'),\n",
        "    ('GOOGL', 'Alphabet Inc.'),\n",
        "    ('MSFT', 'Microsoft Corporation'),\n",
        "    ('AMZN', 'Amazon.com, Inc.'),\n",
        "    ('TSLA', 'Tesla, Inc.'),\n",
        "    ('FB', 'Meta Platforms, Inc.'),\n",
        "    ('BRK.B', 'Berkshire Hathaway Inc.'),\n",
        "    ('JNJ', 'Johnson & Johnson'),\n",
        "    ('JPM', 'JPMorgan Chase & Co.'),\n",
        "    ('V', 'Visa Inc.'),\n",
        "    # Add more real-life tickers and company names to reach at least 1000 companies\n",
        "]\n",
        "\n",
        "# Extend the list to include at least 1000 companies\n",
        "while len(tickers_and_companies) < 1000:\n",
        "    tickers_and_companies.extend(tickers_and_companies[:1000 - len(tickers_and_companies)])\n",
        "\n",
        "# Define sectors and industries\n",
        "sectors = ['Technology', 'Healthcare', 'Finance', 'Consumer Goods', 'Utilities', 'Energy', 'Industrial Goods']\n",
        "industries = {\n",
        "    'Technology': ['Software', 'Hardware', 'Semiconductors'],\n",
        "    'Healthcare': ['Pharmaceuticals', 'Biotechnology', 'Medical Devices'],\n",
        "    'Finance': ['Banks', 'Insurance', 'Investment Services'],\n",
        "    'Consumer Goods': ['Beverages', 'Food Products', 'Household Products'],\n",
        "    'Utilities': ['Electric Utilities', 'Gas Utilities', 'Water Utilities'],\n",
        "    'Energy': ['Oil & Gas', 'Renewable Energy', 'Coal'],\n",
        "    'Industrial Goods': ['Aerospace', 'Construction', 'Manufacturing']\n",
        "}\n",
        "\n",
        "# Generate random data for each ticker\n",
        "data = []\n",
        "for ticker, company_name in tickers_and_companies:\n",
        "    sector = np.random.choice(sectors)\n",
        "    industry = np.random.choice(industries[sector])\n",
        "    market_cap = round(np.random.uniform(0.1, 500), 2)  # in billions\n",
        "    eps = round(np.random.uniform(-10, 10), 2)\n",
        "    pe_ratio = round(np.random.uniform(5, 50), 2)\n",
        "    dividend_yield = round(np.random.uniform(0, 10), 2)\n",
        "    pb_ratio = round(np.random.uniform(0.1, 20), 2)\n",
        "    de_ratio = round(np.random.uniform(0, 3), 2)\n",
        "\n",
        "    # Introduce NaN values randomly\n",
        "    if np.random.rand() < 0.1: market_cap = np.nan\n",
        "    if np.random.rand() < 0.1: eps = np.nan\n",
        "    if np.random.rand() < 0.1: pe_ratio = np.nan\n",
        "    if np.random.rand() < 0.1: dividend_yield = np.nan\n",
        "    if np.random.rand() < 0.1: pb_ratio = np.nan\n",
        "    if np.random.rand() < 0.1: de_ratio = np.nan\n",
        "\n",
        "    data.append([ticker, company_name, sector, industry, market_cap, eps, pe_ratio, dividend_yield, pb_ratio, de_ratio])\n",
        "\n",
        "# Convert to DataFrame\n",
        "columns = ['Ticker', 'Company Name', 'Sector', 'Industry', 'Market Cap (B)', 'EPS', 'P/E Ratio', 'Dividend Yield (%)', 'P/B Ratio', 'D/E Ratio']\n",
        "df = pd.DataFrame(data, columns=columns)\n",
        "\n",
        "# Introduce duplicate rows\n",
        "df = pd.concat([df, df.sample(frac=0.05, random_state=42)])  # Add 5% duplicates\n",
        "\n",
        "# Save to CSV\n",
        "df.to_csv('fundamental_research_dataset_large.csv', index=False)\n",
        "\n",
        "print(\"Dataset created and saved to 'fundamental_research_dataset_large.csv'\")"
      ]
    },
    {
      "cell_type": "code",
      "execution_count": 198,
      "metadata": {},
      "outputs": [],
      "source": [
        "algo_df  = pd.read_csv(\"algotrading_combined_dataset.csv\")\n",
        "funda_df = pd.read_csv(\"fundamental_research_dataset_large.csv\")"
      ]
    },
    {
      "cell_type": "code",
      "execution_count": 72,
      "metadata": {},
      "outputs": [
        {
          "data": {
            "text/html": [
              "<div>\n",
              "<style scoped>\n",
              "    .dataframe tbody tr th:only-of-type {\n",
              "        vertical-align: middle;\n",
              "    }\n",
              "\n",
              "    .dataframe tbody tr th {\n",
              "        vertical-align: top;\n",
              "    }\n",
              "\n",
              "    .dataframe thead th {\n",
              "        text-align: right;\n",
              "    }\n",
              "</style>\n",
              "<table border=\"1\" class=\"dataframe\">\n",
              "  <thead>\n",
              "    <tr style=\"text-align: right;\">\n",
              "      <th></th>\n",
              "      <th>Date</th>\n",
              "      <th>Ticker</th>\n",
              "      <th>Open</th>\n",
              "      <th>High</th>\n",
              "      <th>Low</th>\n",
              "      <th>Close</th>\n",
              "      <th>Volume</th>\n",
              "    </tr>\n",
              "  </thead>\n",
              "  <tbody>\n",
              "    <tr>\n",
              "      <th>0</th>\n",
              "      <td>2015-01-01</td>\n",
              "      <td>AAPL</td>\n",
              "      <td>101.031849</td>\n",
              "      <td>101.329723</td>\n",
              "      <td>98.852354</td>\n",
              "      <td>101.197410</td>\n",
              "      <td>344567.0</td>\n",
              "    </tr>\n",
              "    <tr>\n",
              "      <th>1</th>\n",
              "      <td>2015-01-02</td>\n",
              "      <td>AAPL</td>\n",
              "      <td>100.866496</td>\n",
              "      <td>100.866496</td>\n",
              "      <td>99.568981</td>\n",
              "      <td>101.220064</td>\n",
              "      <td>310521.0</td>\n",
              "    </tr>\n",
              "    <tr>\n",
              "      <th>2</th>\n",
              "      <td>2015-01-05</td>\n",
              "      <td>AAPL</td>\n",
              "      <td>101.164489</td>\n",
              "      <td>101.176821</td>\n",
              "      <td>100.920124</td>\n",
              "      <td>101.339872</td>\n",
              "      <td>NaN</td>\n",
              "    </tr>\n",
              "    <tr>\n",
              "      <th>3</th>\n",
              "      <td>2015-01-06</td>\n",
              "      <td>AAPL</td>\n",
              "      <td>NaN</td>\n",
              "      <td>103.203859</td>\n",
              "      <td>102.287356</td>\n",
              "      <td>101.777905</td>\n",
              "      <td>295025.0</td>\n",
              "    </tr>\n",
              "    <tr>\n",
              "      <th>4</th>\n",
              "      <td>2015-01-07</td>\n",
              "      <td>AAPL</td>\n",
              "      <td>102.744728</td>\n",
              "      <td>104.050309</td>\n",
              "      <td>102.211701</td>\n",
              "      <td>102.090310</td>\n",
              "      <td>439080.0</td>\n",
              "    </tr>\n",
              "    <tr>\n",
              "      <th>...</th>\n",
              "      <td>...</td>\n",
              "      <td>...</td>\n",
              "      <td>...</td>\n",
              "      <td>...</td>\n",
              "      <td>...</td>\n",
              "      <td>...</td>\n",
              "      <td>...</td>\n",
              "    </tr>\n",
              "    <tr>\n",
              "      <th>32865</th>\n",
              "      <td>2021-08-02</td>\n",
              "      <td>AMZN</td>\n",
              "      <td>184.443237</td>\n",
              "      <td>185.375089</td>\n",
              "      <td>183.176491</td>\n",
              "      <td>183.087397</td>\n",
              "      <td>581356.0</td>\n",
              "    </tr>\n",
              "    <tr>\n",
              "      <th>32866</th>\n",
              "      <td>2017-01-24</td>\n",
              "      <td>AAPL</td>\n",
              "      <td>92.780364</td>\n",
              "      <td>93.092012</td>\n",
              "      <td>91.238510</td>\n",
              "      <td>NaN</td>\n",
              "      <td>754158.0</td>\n",
              "    </tr>\n",
              "    <tr>\n",
              "      <th>32867</th>\n",
              "      <td>2018-03-09</td>\n",
              "      <td>AMZN</td>\n",
              "      <td>98.074613</td>\n",
              "      <td>99.154029</td>\n",
              "      <td>96.203177</td>\n",
              "      <td>97.487616</td>\n",
              "      <td>76911.0</td>\n",
              "    </tr>\n",
              "    <tr>\n",
              "      <th>32868</th>\n",
              "      <td>2018-05-02</td>\n",
              "      <td>LTC/USD</td>\n",
              "      <td>103.443224</td>\n",
              "      <td>105.575739</td>\n",
              "      <td>103.159286</td>\n",
              "      <td>NaN</td>\n",
              "      <td>552764.0</td>\n",
              "    </tr>\n",
              "    <tr>\n",
              "      <th>32869</th>\n",
              "      <td>2020-09-18</td>\n",
              "      <td>ETH/USD</td>\n",
              "      <td>164.755329</td>\n",
              "      <td>166.936724</td>\n",
              "      <td>164.755329</td>\n",
              "      <td>164.722026</td>\n",
              "      <td>816832.0</td>\n",
              "    </tr>\n",
              "  </tbody>\n",
              "</table>\n",
              "<p>32870 rows × 7 columns</p>\n",
              "</div>"
            ],
            "text/plain": [
              "             Date   Ticker        Open        High         Low       Close  \\\n",
              "0      2015-01-01     AAPL  101.031849  101.329723   98.852354  101.197410   \n",
              "1      2015-01-02     AAPL  100.866496  100.866496   99.568981  101.220064   \n",
              "2      2015-01-05     AAPL  101.164489  101.176821  100.920124  101.339872   \n",
              "3      2015-01-06     AAPL         NaN  103.203859  102.287356  101.777905   \n",
              "4      2015-01-07     AAPL  102.744728  104.050309  102.211701  102.090310   \n",
              "...           ...      ...         ...         ...         ...         ...   \n",
              "32865  2021-08-02     AMZN  184.443237  185.375089  183.176491  183.087397   \n",
              "32866  2017-01-24     AAPL   92.780364   93.092012   91.238510         NaN   \n",
              "32867  2018-03-09     AMZN   98.074613   99.154029   96.203177   97.487616   \n",
              "32868  2018-05-02  LTC/USD  103.443224  105.575739  103.159286         NaN   \n",
              "32869  2020-09-18  ETH/USD  164.755329  166.936724  164.755329  164.722026   \n",
              "\n",
              "         Volume  \n",
              "0      344567.0  \n",
              "1      310521.0  \n",
              "2           NaN  \n",
              "3      295025.0  \n",
              "4      439080.0  \n",
              "...         ...  \n",
              "32865  581356.0  \n",
              "32866  754158.0  \n",
              "32867   76911.0  \n",
              "32868  552764.0  \n",
              "32869  816832.0  \n",
              "\n",
              "[32870 rows x 7 columns]"
            ]
          },
          "execution_count": 72,
          "metadata": {},
          "output_type": "execute_result"
        }
      ],
      "source": [
        "algo_df"
      ]
    },
    {
      "cell_type": "code",
      "execution_count": 6,
      "metadata": {},
      "outputs": [
        {
          "data": {
            "text/html": [
              "<div>\n",
              "<style scoped>\n",
              "    .dataframe tbody tr th:only-of-type {\n",
              "        vertical-align: middle;\n",
              "    }\n",
              "\n",
              "    .dataframe tbody tr th {\n",
              "        vertical-align: top;\n",
              "    }\n",
              "\n",
              "    .dataframe thead th {\n",
              "        text-align: right;\n",
              "    }\n",
              "</style>\n",
              "<table border=\"1\" class=\"dataframe\">\n",
              "  <thead>\n",
              "    <tr style=\"text-align: right;\">\n",
              "      <th></th>\n",
              "      <th>Ticker</th>\n",
              "      <th>Company Name</th>\n",
              "      <th>Sector</th>\n",
              "      <th>Industry</th>\n",
              "      <th>Market Cap (B)</th>\n",
              "      <th>EPS</th>\n",
              "      <th>P/E Ratio</th>\n",
              "      <th>Dividend Yield (%)</th>\n",
              "      <th>P/B Ratio</th>\n",
              "      <th>D/E Ratio</th>\n",
              "    </tr>\n",
              "  </thead>\n",
              "  <tbody>\n",
              "    <tr>\n",
              "      <th>0</th>\n",
              "      <td>AAPL</td>\n",
              "      <td>Apple Inc.</td>\n",
              "      <td>Technology</td>\n",
              "      <td>Semiconductors</td>\n",
              "      <td>458.13</td>\n",
              "      <td>-9.78</td>\n",
              "      <td>44.16</td>\n",
              "      <td>2.19</td>\n",
              "      <td>9.17</td>\n",
              "      <td>2.56</td>\n",
              "    </tr>\n",
              "    <tr>\n",
              "      <th>1</th>\n",
              "      <td>GOOGL</td>\n",
              "      <td>Alphabet Inc.</td>\n",
              "      <td>Finance</td>\n",
              "      <td>Investment Services</td>\n",
              "      <td>215.85</td>\n",
              "      <td>4.86</td>\n",
              "      <td>27.56</td>\n",
              "      <td>8.14</td>\n",
              "      <td>14.93</td>\n",
              "      <td>0.06</td>\n",
              "    </tr>\n",
              "    <tr>\n",
              "      <th>2</th>\n",
              "      <td>MSFT</td>\n",
              "      <td>Microsoft Corporation</td>\n",
              "      <td>Finance</td>\n",
              "      <td>Banks</td>\n",
              "      <td>276.46</td>\n",
              "      <td>5.09</td>\n",
              "      <td>6.73</td>\n",
              "      <td>0.27</td>\n",
              "      <td>1.76</td>\n",
              "      <td>1.31</td>\n",
              "    </tr>\n",
              "    <tr>\n",
              "      <th>3</th>\n",
              "      <td>AMZN</td>\n",
              "      <td>Amazon.com, Inc.</td>\n",
              "      <td>Healthcare</td>\n",
              "      <td>Pharmaceuticals</td>\n",
              "      <td>349.40</td>\n",
              "      <td>-0.53</td>\n",
              "      <td>28.30</td>\n",
              "      <td>5.92</td>\n",
              "      <td>15.40</td>\n",
              "      <td>0.27</td>\n",
              "    </tr>\n",
              "    <tr>\n",
              "      <th>4</th>\n",
              "      <td>TSLA</td>\n",
              "      <td>Tesla, Inc.</td>\n",
              "      <td>Energy</td>\n",
              "      <td>Oil &amp; Gas</td>\n",
              "      <td>248.55</td>\n",
              "      <td>9.92</td>\n",
              "      <td>27.04</td>\n",
              "      <td>2.20</td>\n",
              "      <td>10.20</td>\n",
              "      <td>0.12</td>\n",
              "    </tr>\n",
              "    <tr>\n",
              "      <th>...</th>\n",
              "      <td>...</td>\n",
              "      <td>...</td>\n",
              "      <td>...</td>\n",
              "      <td>...</td>\n",
              "      <td>...</td>\n",
              "      <td>...</td>\n",
              "      <td>...</td>\n",
              "      <td>...</td>\n",
              "      <td>...</td>\n",
              "      <td>...</td>\n",
              "    </tr>\n",
              "    <tr>\n",
              "      <th>1045</th>\n",
              "      <td>JNJ</td>\n",
              "      <td>Johnson &amp; Johnson</td>\n",
              "      <td>Consumer Goods</td>\n",
              "      <td>Household Products</td>\n",
              "      <td>223.61</td>\n",
              "      <td>-3.54</td>\n",
              "      <td>5.61</td>\n",
              "      <td>7.97</td>\n",
              "      <td>6.63</td>\n",
              "      <td>1.07</td>\n",
              "    </tr>\n",
              "    <tr>\n",
              "      <th>1046</th>\n",
              "      <td>TSLA</td>\n",
              "      <td>Tesla, Inc.</td>\n",
              "      <td>Industrial Goods</td>\n",
              "      <td>Construction</td>\n",
              "      <td>119.63</td>\n",
              "      <td>-1.20</td>\n",
              "      <td>18.18</td>\n",
              "      <td>NaN</td>\n",
              "      <td>8.04</td>\n",
              "      <td>0.08</td>\n",
              "    </tr>\n",
              "    <tr>\n",
              "      <th>1047</th>\n",
              "      <td>GOOGL</td>\n",
              "      <td>Alphabet Inc.</td>\n",
              "      <td>Utilities</td>\n",
              "      <td>Water Utilities</td>\n",
              "      <td>38.26</td>\n",
              "      <td>NaN</td>\n",
              "      <td>33.09</td>\n",
              "      <td>6.17</td>\n",
              "      <td>5.59</td>\n",
              "      <td>1.34</td>\n",
              "    </tr>\n",
              "    <tr>\n",
              "      <th>1048</th>\n",
              "      <td>V</td>\n",
              "      <td>Visa Inc.</td>\n",
              "      <td>Industrial Goods</td>\n",
              "      <td>Construction</td>\n",
              "      <td>117.11</td>\n",
              "      <td>-1.80</td>\n",
              "      <td>23.38</td>\n",
              "      <td>NaN</td>\n",
              "      <td>4.89</td>\n",
              "      <td>2.91</td>\n",
              "    </tr>\n",
              "    <tr>\n",
              "      <th>1049</th>\n",
              "      <td>JNJ</td>\n",
              "      <td>Johnson &amp; Johnson</td>\n",
              "      <td>Technology</td>\n",
              "      <td>Semiconductors</td>\n",
              "      <td>376.25</td>\n",
              "      <td>7.39</td>\n",
              "      <td>49.40</td>\n",
              "      <td>3.35</td>\n",
              "      <td>7.18</td>\n",
              "      <td>0.69</td>\n",
              "    </tr>\n",
              "  </tbody>\n",
              "</table>\n",
              "<p>1050 rows × 10 columns</p>\n",
              "</div>"
            ],
            "text/plain": [
              "     Ticker           Company Name            Sector             Industry  \\\n",
              "0      AAPL             Apple Inc.        Technology       Semiconductors   \n",
              "1     GOOGL          Alphabet Inc.           Finance  Investment Services   \n",
              "2      MSFT  Microsoft Corporation           Finance                Banks   \n",
              "3      AMZN       Amazon.com, Inc.        Healthcare      Pharmaceuticals   \n",
              "4      TSLA            Tesla, Inc.            Energy            Oil & Gas   \n",
              "...     ...                    ...               ...                  ...   \n",
              "1045    JNJ      Johnson & Johnson    Consumer Goods   Household Products   \n",
              "1046   TSLA            Tesla, Inc.  Industrial Goods         Construction   \n",
              "1047  GOOGL          Alphabet Inc.         Utilities      Water Utilities   \n",
              "1048      V              Visa Inc.  Industrial Goods         Construction   \n",
              "1049    JNJ      Johnson & Johnson        Technology       Semiconductors   \n",
              "\n",
              "      Market Cap (B)   EPS  P/E Ratio  Dividend Yield (%)  P/B Ratio  \\\n",
              "0             458.13 -9.78      44.16                2.19       9.17   \n",
              "1             215.85  4.86      27.56                8.14      14.93   \n",
              "2             276.46  5.09       6.73                0.27       1.76   \n",
              "3             349.40 -0.53      28.30                5.92      15.40   \n",
              "4             248.55  9.92      27.04                2.20      10.20   \n",
              "...              ...   ...        ...                 ...        ...   \n",
              "1045          223.61 -3.54       5.61                7.97       6.63   \n",
              "1046          119.63 -1.20      18.18                 NaN       8.04   \n",
              "1047           38.26   NaN      33.09                6.17       5.59   \n",
              "1048          117.11 -1.80      23.38                 NaN       4.89   \n",
              "1049          376.25  7.39      49.40                3.35       7.18   \n",
              "\n",
              "      D/E Ratio  \n",
              "0          2.56  \n",
              "1          0.06  \n",
              "2          1.31  \n",
              "3          0.27  \n",
              "4          0.12  \n",
              "...         ...  \n",
              "1045       1.07  \n",
              "1046       0.08  \n",
              "1047       1.34  \n",
              "1048       2.91  \n",
              "1049       0.69  \n",
              "\n",
              "[1050 rows x 10 columns]"
            ]
          },
          "execution_count": 6,
          "metadata": {},
          "output_type": "execute_result"
        }
      ],
      "source": [
        "funda_df"
      ]
    },
    {
      "cell_type": "markdown",
      "metadata": {},
      "source": []
    },
    {
      "cell_type": "markdown",
      "metadata": {},
      "source": [
        "### 1. Identify all the top-performing stocks based on their overall return from the start to the end of the dataset."
      ]
    },
    {
      "cell_type": "code",
      "execution_count": 58,
      "metadata": {},
      "outputs": [
        {
          "data": {
            "text/html": [
              "<div>\n",
              "<style scoped>\n",
              "    .dataframe tbody tr th:only-of-type {\n",
              "        vertical-align: middle;\n",
              "    }\n",
              "\n",
              "    .dataframe tbody tr th {\n",
              "        vertical-align: top;\n",
              "    }\n",
              "\n",
              "    .dataframe thead th {\n",
              "        text-align: right;\n",
              "    }\n",
              "</style>\n",
              "<table border=\"1\" class=\"dataframe\">\n",
              "  <thead>\n",
              "    <tr style=\"text-align: right;\">\n",
              "      <th></th>\n",
              "      <th>Overall Return</th>\n",
              "    </tr>\n",
              "    <tr>\n",
              "      <th>Ticker</th>\n",
              "      <th></th>\n",
              "    </tr>\n",
              "  </thead>\n",
              "  <tbody>\n",
              "    <tr>\n",
              "      <th>USD/CAD</th>\n",
              "      <td>0.822767</td>\n",
              "    </tr>\n",
              "    <tr>\n",
              "      <th>XRP/USD</th>\n",
              "      <td>0.810309</td>\n",
              "    </tr>\n",
              "    <tr>\n",
              "      <th>AAPL</th>\n",
              "      <td>0.809210</td>\n",
              "    </tr>\n",
              "    <tr>\n",
              "      <th>AUD/USD</th>\n",
              "      <td>0.789887</td>\n",
              "    </tr>\n",
              "    <tr>\n",
              "      <th>TSLA</th>\n",
              "      <td>0.773093</td>\n",
              "    </tr>\n",
              "    <tr>\n",
              "      <th>ETH/USD</th>\n",
              "      <td>0.627730</td>\n",
              "    </tr>\n",
              "    <tr>\n",
              "      <th>GBP/USD</th>\n",
              "      <td>0.626123</td>\n",
              "    </tr>\n",
              "    <tr>\n",
              "      <th>EUR/USD</th>\n",
              "      <td>0.451737</td>\n",
              "    </tr>\n",
              "    <tr>\n",
              "      <th>USD/JPY</th>\n",
              "      <td>-0.022091</td>\n",
              "    </tr>\n",
              "    <tr>\n",
              "      <th>MSFT</th>\n",
              "      <td>-0.034771</td>\n",
              "    </tr>\n",
              "    <tr>\n",
              "      <th>AMZN</th>\n",
              "      <td>-0.036659</td>\n",
              "    </tr>\n",
              "    <tr>\n",
              "      <th>LTC/USD</th>\n",
              "      <td>-0.036659</td>\n",
              "    </tr>\n",
              "    <tr>\n",
              "      <th>BCH/USD</th>\n",
              "      <td>-0.058540</td>\n",
              "    </tr>\n",
              "    <tr>\n",
              "      <th>BTC/USD</th>\n",
              "      <td>-0.079447</td>\n",
              "    </tr>\n",
              "    <tr>\n",
              "      <th>GOOG</th>\n",
              "      <td>-0.084374</td>\n",
              "    </tr>\n",
              "  </tbody>\n",
              "</table>\n",
              "</div>"
            ],
            "text/plain": [
              "         Overall Return\n",
              "Ticker                 \n",
              "USD/CAD        0.822767\n",
              "XRP/USD        0.810309\n",
              "AAPL           0.809210\n",
              "AUD/USD        0.789887\n",
              "TSLA           0.773093\n",
              "ETH/USD        0.627730\n",
              "GBP/USD        0.626123\n",
              "EUR/USD        0.451737\n",
              "USD/JPY       -0.022091\n",
              "MSFT          -0.034771\n",
              "AMZN          -0.036659\n",
              "LTC/USD       -0.036659\n",
              "BCH/USD       -0.058540\n",
              "BTC/USD       -0.079447\n",
              "GOOG          -0.084374"
            ]
          },
          "execution_count": 58,
          "metadata": {},
          "output_type": "execute_result"
        }
      ],
      "source": [
        "tickers = algo_df[\"Ticker\"].unique()\n",
        "performance = []\n",
        "for ticker in tickers:\n",
        "    stock = algo_df[algo_df[\"Ticker\"] == ticker]\n",
        "    overall_return = (stock[\"Close\"].iloc[-1] - stock[\"Close\"].iloc[0])/(stock[\"Close\"].iloc[0])\n",
        "    performance.append({'Ticker':ticker,'Overall Return':overall_return})\n",
        "\n",
        "return_df = pd.DataFrame(performance).sort_values('Overall Return',ascending=False)\n",
        "return_df.set_index(\"Ticker\",inplace=True)\n",
        "return_df.plot(kind='bar')\n",
        "\n"
      ]
    },
    {
      "cell_type": "code",
      "execution_count": 60,
      "metadata": {},
      "outputs": [
        {
          "data": {
            "text/plain": [
              "np.float64(0.8227674357856095)"
            ]
          },
          "execution_count": 60,
          "metadata": {},
          "output_type": "execute_result"
        }
      ],
      "source": [
        "teststock = algo_df[algo_df[\"Ticker\"] == 'USD/CAD']\n",
        "(teststock[\"Close\"].iloc[-1] - teststock[\"Close\"].iloc[0])/(teststock[\"Close\"].iloc[0])\n"
      ]
    },
    {
      "cell_type": "code",
      "execution_count": null,
      "metadata": {},
      "outputs": [],
      "source": []
    },
    {
      "cell_type": "markdown",
      "metadata": {},
      "source": [
        "### 2. How many instances of daily price change greater than 5% occurred for each stock?"
      ]
    },
    {
      "cell_type": "code",
      "execution_count": 201,
      "metadata": {},
      "outputs": [
        {
          "data": {
            "text/plain": [
              "<Axes: xlabel='Ticker'>"
            ]
          },
          "execution_count": 201,
          "metadata": {},
          "output_type": "execute_result"
        },
        {
          "data": {
            "image/png": "[encoded data removed]",
            "text/plain": [
              "<Figure size 640x480 with 1 Axes>"
            ]
          },
          "metadata": {},
          "output_type": "display_data"
        }
      ],
      "source": [
        "#algo_df.fillna(method=\"ffill\",inplace=True)\n",
        "\n",
        "algo_df[\"Daily Chnage\"] = algo_df['Close'].pct_change()\n",
        "algo_df['High Change'] = algo_df['Daily Chnage'] > 0.05\n",
        "algo_df\n",
        "tickers = algo_df['Ticker'].unique()\n",
        "occurence = {}\n",
        "\n",
        "for ticker in tickers:\n",
        "    high_change_tickers = algo_df[(algo_df['Ticker'] == ticker) & (algo_df['High Change'] == True)]\n",
        "    occurence[ticker] = high_change_tickers.shape[0]\n",
        "occurence\n",
        "\n",
        "df = pd.DataFrame(list(occurence.items()),columns=[\"Ticker\",\"Value\"])\n",
        "df.set_index('Ticker',inplace=True)\n",
        "df.plot(kind='bar')"
      ]
    },
    {
      "cell_type": "code",
      "execution_count": null,
      "metadata": {},
      "outputs": [],
      "source": []
    },
    {
      "cell_type": "markdown",
      "metadata": {},
      "source": [
        "### 3. Calculate the number of times each stock's price increased in the first quarter."
      ]
    },
    {
      "cell_type": "code",
      "execution_count": 232,
      "metadata": {},
      "outputs": [
        {
          "data": {
            "text/plain": [
              "<Axes: xlabel='Ticker'>"
            ]
          },
          "execution_count": 232,
          "metadata": {},
          "output_type": "execute_result"
        },
        {
          "data": {
            "image/png": "[encoded data removed]",
            "text/plain": [
              "<Figure size 640x480 with 1 Axes>"
            ]
          },
          "metadata": {},
          "output_type": "display_data"
        }
      ],
      "source": [
        "# algo_df['Date']\n",
        "# algo_df['Date'] = pd.to_datetime(algo_df['Date'])\n",
        "# algo_df['Date']\n",
        "first_quarter = algo_df[algo_df['Date'].dt.month.isin([1,2,3])]\n",
        "first_quarter = first_quarter[first_quarter['Close'] >first_quarter['Open']]\n",
        "increased_counts = first_quarter['Ticker'].value_counts()\n",
        "increased_counts.plot(kind='bar')\n",
        "\n",
        "\n"
      ]
    },
    {
      "cell_type": "markdown",
      "metadata": {},
      "source": [
        "### 4. Calculate the percentage of times the opening price being higher than the previous day's closing price resulted in a higher closing price on that day."
      ]
    },
    {
      "cell_type": "code",
      "execution_count": null,
      "metadata": {},
      "outputs": [],
      "source": []
    },
    {
      "cell_type": "markdown",
      "metadata": {},
      "source": [
        "### 5. Identify all assets with a daily percentage change higher than 8% and a volume greater than 100,000."
      ]
    },
    {
      "cell_type": "code",
      "execution_count": null,
      "metadata": {},
      "outputs": [],
      "source": []
    },
    {
      "cell_type": "markdown",
      "metadata": {},
      "source": [
        "### 6. Identify all stocks in the Technology sector with a daily percentage change higher than 7.5%."
      ]
    },
    {
      "cell_type": "code",
      "execution_count": null,
      "metadata": {},
      "outputs": [],
      "source": []
    },
    {
      "cell_type": "markdown",
      "metadata": {},
      "source": [
        "### 7. Write a function that can return the performance track record of two assets against each other over time."
      ]
    },
    {
      "cell_type": "code",
      "execution_count": null,
      "metadata": {},
      "outputs": [],
      "source": []
    },
    {
      "cell_type": "markdown",
      "metadata": {},
      "source": [
        "### 8. Identify and remove duplicate rows from both datasets. How many duplicates were removed?"
      ]
    },
    {
      "cell_type": "code",
      "execution_count": null,
      "metadata": {},
      "outputs": [],
      "source": []
    },
    {
      "cell_type": "markdown",
      "metadata": {},
      "source": [
        "### 9. For the fundamental dataset, identify rows where the Market Cap is NaN, and impute these values using a sector-wise median Market Cap."
      ]
    },
    {
      "cell_type": "code",
      "execution_count": null,
      "metadata": {},
      "outputs": [],
      "source": []
    },
    {
      "cell_type": "markdown",
      "metadata": {},
      "source": [
        "### 10. Filter the combined dataset to find the top 5 most volatile stocks based on the standard deviation of daily percentage changes."
      ]
    },
    {
      "cell_type": "code",
      "execution_count": null,
      "metadata": {},
      "outputs": [],
      "source": []
    },
    {
      "cell_type": "code",
      "execution_count": null,
      "metadata": {},
      "outputs": [],
      "source": []
    },
    {
      "cell_type": "code",
      "execution_count": null,
      "metadata": {},
      "outputs": [],
      "source": []
    },
    {
      "cell_type": "code",
      "execution_count": null,
      "metadata": {},
      "outputs": [],
      "source": []
    },
    {
      "cell_type": "code",
      "execution_count": null,
      "metadata": {},
      "outputs": [],
      "source": []
    },
    {
      "cell_type": "code",
      "execution_count": null,
      "metadata": {},
      "outputs": [],
      "source": []
    },
    {
      "cell_type": "code",
      "execution_count": null,
      "metadata": {},
      "outputs": [],
      "source": []
    },
    {
      "cell_type": "code",
      "execution_count": null,
      "metadata": {},
      "outputs": [],
      "source": []
    },
    {
      "cell_type": "code",
      "execution_count": null,
      "metadata": {},
      "outputs": [],
      "source": [
        "\n"
      ]
    },
    {
      "cell_type": "code",
      "execution_count": null,
      "metadata": {},
      "outputs": [],
      "source": []
    },
    {
      "cell_type": "code",
      "execution_count": null,
      "metadata": {},
      "outputs": [],
      "source": []
    }
  ],
  "metadata": {
    "colab": {
      "provenance": []
    },
    "kernelspec": {
      "display_name": "base",
      "language": "python",
      "name": "python3"
    },
    "language_info": {
      "codemirror_mode": {
        "name": "ipython",
        "version": 3
      },
      "file_extension": ".py",
      "mimetype": "text/x-python",
      "name": "python",
      "nbconvert_exporter": "python",
      "pygments_lexer": "ipython3",
      "version": "3.12.2"
    }
  },
  "nbformat": 4,
  "nbformat_minor": 0
}
