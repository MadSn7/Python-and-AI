{
 "cells": [
  {
   "cell_type": "markdown",
   "metadata": {},
   "source": [
    "\n",
    "### Quantiles\n",
    "Quantiles are points in your data that divide it into equal-sized intervals. They help you understand the distribution of your data by providing a way to segment it.\n",
    "\n",
    "### Quartiles\n",
    "Quartiles divide the data into four equal parts.\n",
    "\n",
    "- **Q1 (First Quartile)**: 25% of the data falls below this point.\n",
    "- **Q2 (Second Quartile/Median)**: 50% of the data falls below this point.\n",
    "- **Q3 (Third Quartile)**: 75% of the data falls below this point.\n",
    "\n",
    "**Example**:\n",
    "A trader might use quartiles to analyze the distribution of daily returns of a stock to understand the range within which the majority of returns lie.\n",
    "\n",
    "```python\n",
    "import numpy as np\n",
    "import pandas as pd\n",
    "\n",
    "# Example data: Daily returns of a stock\n",
    "data = np.random.normal(0, 1, 100)  # Generating 100 random daily returns\n",
    "df = pd.DataFrame(data, columns=['Daily Returns'])\n",
    "\n",
    "# Calculating quartiles\n",
    "Q1 = df['Daily Returns'].quantile(0.25)\n",
    "Q2 = df['Daily Returns'].quantile(0.50)\n",
    "Q3 = df['Daily Returns'].quantile(0.75)\n",
    "\n",
    "print(f\"Q1: {Q1}, Q2 (Median): {Q2}, Q3: {Q3}\")\n",
    "```\n",
    "\n",
    "### Deciles\n",
    "Deciles divide the data into ten equal parts.\n",
    "\n",
    "- **D1**: 10% of the data falls below this point.\n",
    "- **D2**: 20% of the data falls below this point.\n",
    "- ... and so on up to **D9**.\n",
    "\n",
    "**Example**:\n",
    "A trader might use deciles to categorize the performance of different stocks in a portfolio and identify the top 10% and bottom 10% performers.\n",
    "\n",
    "```python\n",
    "# Calculating deciles\n",
    "deciles = [df['Daily Returns'].quantile(i/10) for i in range(1, 10)]\n",
    "print(\"Deciles:\", deciles)\n",
    "```\n",
    "\n",
    "### Percentiles\n",
    "Percentiles divide the data into 100 equal parts.\n",
    "\n",
    "- **P1**: 1% of the data falls below this point.\n",
    "- **P2**: 2% of the data falls below this point.\n",
    "- ... and so on up to **P99**.\n",
    "\n",
    "**Example**:\n",
    "Percentiles can be used to identify outliers in trading returns. For example, a trader might look at the 1st percentile and the 99th percentile to see the extreme returns.\n",
    "\n",
    "```python\n",
    "# Calculating percentiles\n",
    "percentiles = [df['Daily Returns'].quantile(i/100) for i in range(1, 100)]\n",
    "print(\"Percentiles:\", percentiles[:10])  # Displaying the first 10 percentiles\n",
    "```\n",
    "\n",
    "### Quintiles\n",
    "Quintiles divide the data into five equal parts.\n",
    "\n",
    "- **Q1**: 20% of the data falls below this point.\n",
    "- **Q2**: 40% of the data falls below this point.\n",
    "- ... and so on up to **Q4**.\n",
    "\n",
    "**Example**:\n",
    "Quintiles can be used to categorize stocks based on performance. For example, dividing a portfolio into five groups from the lowest 20% to the highest 20%.\n",
    "\n",
    "```python\n",
    "# Calculating quintiles\n",
    "quintiles = [df['Daily Returns'].quantile(i/5) for i in range(1, 5)]\n",
    "print(\"Quintiles:\", quintiles)\n",
    "```\n",
    "\n",
    "\n",
    "\n",
    "\n",
    "### Summary\n",
    "\n",
    "1. **Quartiles**: Used to analyze the distribution of daily returns to understand the range within which the majority of returns lie.\n",
    "2. **Deciles**: Used to categorize the performance of different stocks and identify top and bottom performers.\n",
    "3. **Percentiles**: Used to identify outliers in trading returns and see extreme returns.\n",
    "4. **Quintiles**: Used to categorize stocks based on performance, dividing a portfolio into five groups from the lowest to the highest performers.\n"
   ]
  },
  {
   "cell_type": "markdown",
   "metadata": {},
   "source": []
  },
  {
   "cell_type": "code",
   "execution_count": 109,
   "metadata": {},
   "outputs": [],
   "source": [
    "per  = pd.Series([5,50,60,70,85,135,160,170,180,1000])"
   ]
  },
  {
   "cell_type": "code",
   "execution_count": 111,
   "metadata": {},
   "outputs": [
    {
     "data": {
      "text/plain": [
       "array([   5. ,   62.5,  110. ,  167.5, 1000. ])"
      ]
     },
     "execution_count": 111,
     "metadata": {},
     "output_type": "execute_result"
    }
   ],
   "source": [
    "per.describe()\n",
    "\n",
    "np.percentile(per,[0,25,50,75,100])"
   ]
  },
  {
   "cell_type": "code",
   "execution_count": 112,
   "metadata": {},
   "outputs": [
    {
     "data": {
      "text/plain": [
       "{'whiskers': [<matplotlib.lines.Line2D at 0x121827950>,\n",
       "  <matplotlib.lines.Line2D at 0x121826690>],\n",
       " 'caps': [<matplotlib.lines.Line2D at 0x121826660>,\n",
       "  <matplotlib.lines.Line2D at 0x1218246b0>],\n",
       " 'boxes': [<matplotlib.lines.Line2D at 0x11f3a1fd0>],\n",
       " 'medians': [<matplotlib.lines.Line2D at 0x121824560>],\n",
       " 'fliers': [<matplotlib.lines.Line2D at 0x121825220>],\n",
       " 'means': []}"
      ]
     },
     "execution_count": 112,
     "metadata": {},
     "output_type": "execute_result"
    },
    {
     "data": {
      "image/png": "[encoded data removed]",
      "text/plain": [
       "<Figure size 640x480 with 1 Axes>"
      ]
     },
     "metadata": {},
     "output_type": "display_data"
    }
   ],
   "source": [
    "plt.boxplot(per)"
   ]
  },
  {
   "cell_type": "code",
   "execution_count": 119,
   "metadata": {},
   "outputs": [
    {
     "data": {
      "text/plain": [
       "[-40, 1, 1, 2, 2, 3, 3, 4, 5, 50]"
      ]
     },
     "execution_count": 119,
     "metadata": {},
     "output_type": "execute_result"
    }
   ],
   "source": [
    "ser = [ 1, 2, 1, 3, 4, 5, 3, 50, -40, 2]\n",
    "serie = pd.Series(ser)\n",
    "ser.sort()\n",
    "ser"
   ]
  },
  {
   "cell_type": "code",
   "execution_count": 116,
   "metadata": {},
   "outputs": [
    {
     "data": {
      "text/plain": [
       "count    10.000000\n",
       "mean      3.100000\n",
       "std      21.273092\n",
       "min     -40.000000\n",
       "25%       1.250000\n",
       "50%       2.500000\n",
       "75%       3.750000\n",
       "max      50.000000\n",
       "dtype: float64"
      ]
     },
     "execution_count": 116,
     "metadata": {},
     "output_type": "execute_result"
    }
   ],
   "source": [
    "serie.describe()"
   ]
  },
  {
   "cell_type": "code",
   "execution_count": 120,
   "metadata": {},
   "outputs": [
    {
     "data": {
      "text/plain": [
       "0     1\n",
       "1     2\n",
       "2     1\n",
       "3     3\n",
       "4     4\n",
       "5     5\n",
       "6     3\n",
       "7    50\n",
       "8   -40\n",
       "9     2\n",
       "dtype: int64"
      ]
     },
     "execution_count": 120,
     "metadata": {},
     "output_type": "execute_result"
    }
   ],
   "source": [
    "demo_box = pd.Series([1, 2, 1, 3, 4, 5, 3, 50, -40, 2])\n",
    "demo_box"
   ]
  },
  {
   "cell_type": "code",
   "execution_count": 121,
   "metadata": {},
   "outputs": [
    {
     "data": {
      "text/plain": [
       "{'whiskers': [<matplotlib.lines.Line2D at 0x121a52390>,\n",
       "  <matplotlib.lines.Line2D at 0x121a52510>],\n",
       " 'caps': [<matplotlib.lines.Line2D at 0x121a527b0>,\n",
       "  <matplotlib.lines.Line2D at 0x121a52a80>],\n",
       " 'boxes': [<matplotlib.lines.Line2D at 0x121a521e0>],\n",
       " 'medians': [<matplotlib.lines.Line2D at 0x121a52d50>],\n",
       " 'fliers': [<matplotlib.lines.Line2D at 0x121a52ff0>],\n",
       " 'means': []}"
      ]
     },
     "execution_count": 121,
     "metadata": {},
     "output_type": "execute_result"
    },
    {
     "data": {
      "image/png": "[encoded data removed]",
      "text/plain": [
       "<Figure size 640x480 with 1 Axes>"
      ]
     },
     "metadata": {},
     "output_type": "display_data"
    }
   ],
   "source": [
    "plt.boxplot(demo_box)"
   ]
  },
  {
   "cell_type": "code",
   "execution_count": 122,
   "metadata": {},
   "outputs": [
    {
     "data": {
      "text/plain": [
       "count    10.000000\n",
       "mean      3.100000\n",
       "std      21.273092\n",
       "min     -40.000000\n",
       "25%       1.250000\n",
       "50%       2.500000\n",
       "75%       3.750000\n",
       "max      50.000000\n",
       "dtype: float64"
      ]
     },
     "execution_count": 122,
     "metadata": {},
     "output_type": "execute_result"
    }
   ],
   "source": [
    "demo_box.describe()"
   ]
  },
  {
   "cell_type": "code",
   "execution_count": null,
   "metadata": {},
   "outputs": [],
   "source": []
  }
 ],
 "metadata": {
  "kernelspec": {
   "display_name": "base",
   "language": "python",
   "name": "python3"
  },
  "language_info": {
   "codemirror_mode": {
    "name": "ipython",
    "version": 3
   },
   "file_extension": ".py",
   "mimetype": "text/x-python",
   "name": "python",
   "nbconvert_exporter": "python",
   "pygments_lexer": "ipython3",
   "version": "3.12.2"
  }
 },
 "nbformat": 4,
 "nbformat_minor": 2
}
