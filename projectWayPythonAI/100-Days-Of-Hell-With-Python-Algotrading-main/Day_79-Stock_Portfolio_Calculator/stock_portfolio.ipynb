{
 "cells": [
  {
   "cell_type": "markdown",
   "metadata": {},
   "source": [
    "\n",
    "# 📊 Stock Portfolio Summary Calculator\n",
    "## 🚀 A Python Project from Chapter 3 of \"Practical Python for Effective Algorithmic Trading\"\n",
    "\n",
    "Welcome to this interactive project that demonstrates fundamental Python concepts for algorithmic trading! This notebook implements a simple stock portfolio summary calculator that helps track your investments.\n",
    "\n",
    "💡 This project is based on concepts from [Practical Python for Effective Algorithmic Trading](https://www.amazon.com/dp/B0F3S8FQ7C), the definitive guide for learning algorithmic trading with Python.\n",
    "\n",
    "### 📌 Project Objectives:\n",
    "- Create a program that collects information about 3 different stocks\n",
    "- Calculate key metrics for each stock (position value, profit/loss, percentage return)\n",
    "- Display a comprehensive portfolio summary\n",
    "\n",
    "### 🛠️ Skills Applied:\n",
    "- Variables and data types\n",
    "- User input handling\n",
    "- Basic arithmetic operations\n",
    "- Formatted string output\n",
    "\n",
    "Need help implementing this project? Join other algorithmic traders in [The Quantitative Elite Community](https://www.skool.com/the-quantitative-elite) for support and discussions!"
   ]
  },
  {
   "cell_type": "code",
   "execution_count": null,
   "metadata": {},
   "outputs": [],
   "source": [
    "# Import libraries (none needed for this basic project)\n",
    "import os\n",
    "\n",
    "# Clear the screen for better user experience\n",
    "os.system('cls' if os.name == 'nt' else 'clear')\n",
    "\n",
    "# Display a welcome message\n",
    "print(\"=\" * 60)\n",
    "print(\"📊 STOCK PORTFOLIO SUMMARY CALCULATOR 📊\")\n",
    "print(\"=\" * 60)\n",
    "print(\"This program will help you analyze your stock portfolio.\")\n",
    "print(\"You'll enter information for 3 stocks and get a summary report.\")\n",
    "print(\"=\" * 60)"
   ]
  },
  {
   "cell_type": "markdown",
   "metadata": {},
   "source": [
    "## 📝 Stock Information Collection\n",
    "First, let's collect information about each stock in the portfolio:"
   ]
  },
  {
   "cell_type": "code",
   "execution_count": 1,
   "metadata": {},
   "outputs": [
    {
     "name": "stdout",
     "output_type": "stream",
     "text": [
      "\n",
      "📈 Stock #1 Information:\n",
      "\n",
      "📈 Stock #2 Information:\n",
      "\n",
      "📈 Stock #3 Information:\n"
     ]
    }
   ],
   "source": [
    "\n",
    "# Lists to store stock information\n",
    "symbols = []\n",
    "purchase_prices = []\n",
    "current_prices = []\n",
    "share_counts = []\n",
    "\n",
    "# Collect information for 3 stocks\n",
    "for i in range(3):\n",
    "    print(f\"\\n📈 Stock #{i+1} Information:\")\n",
    "    \n",
    "    # Get stock symbol\n",
    "    symbol = input(\"  Enter stock symbol (e.g., AAPL): \").upper()\n",
    "    symbols.append(symbol)\n",
    "    \n",
    "    # Get purchase price with error handling\n",
    "    while True:\n",
    "        try:\n",
    "            purchase_price = float(input(f\"  Enter purchase price for {symbol} ($): \"))\n",
    "            if purchase_price <= 0:\n",
    "                print(\"  ❌ Price must be greater than zero. Try again.\")\n",
    "                continue\n",
    "            purchase_prices.append(purchase_price)\n",
    "            break\n",
    "        except ValueError:\n",
    "            print(\"  ❌ Invalid input. Please enter a numeric value.\")\n",
    "    \n",
    "    # Get current price with error handling\n",
    "    while True:\n",
    "        try:\n",
    "            current_price = float(input(f\"  Enter current price for {symbol} ($): \"))\n",
    "            if current_price <= 0:\n",
    "                print(\"  ❌ Price must be greater than zero. Try again.\")\n",
    "                continue\n",
    "            current_prices.append(current_price)\n",
    "            break\n",
    "        except ValueError:\n",
    "            print(\"  ❌ Invalid input. Please enter a numeric value.\")\n",
    "    \n",
    "    # Get share count with error handling\n",
    "    while True:\n",
    "        try:\n",
    "            shares = int(input(f\"  Enter number of {symbol} shares: \"))\n",
    "            if shares <= 0:\n",
    "                print(\"  ❌ Share count must be greater than zero. Try again.\")\n",
    "                continue\n",
    "            share_counts.append(shares)\n",
    "            break\n",
    "        except ValueError:\n",
    "            print(\"  ❌ Invalid input. Please enter a whole number.\")"
   ]
  },
  {
   "cell_type": "markdown",
   "metadata": {},
   "source": [
    "## 🧮 Portfolio Calculations\n",
    "Now, let's calculate the performance metrics for each stock and the overall portfolio:\n"
   ]
  },
  {
   "cell_type": "code",
   "execution_count": 2,
   "metadata": {},
   "outputs": [],
   "source": [
    "# Lists to store calculated metrics\n",
    "position_values = []\n",
    "dollar_gains = []\n",
    "percent_gains = []\n",
    "\n",
    "# Calculate metrics for each stock\n",
    "for i in range(3):\n",
    "    # Calculate position value\n",
    "    position_value = current_prices[i] * share_counts[i]\n",
    "    position_values.append(position_value)\n",
    "    \n",
    "    # Calculate dollar gain/loss\n",
    "    cost_basis = purchase_prices[i] * share_counts[i]\n",
    "    dollar_gain = position_value - cost_basis\n",
    "    dollar_gains.append(dollar_gain)\n",
    "    \n",
    "    # Calculate percentage gain/loss\n",
    "    percent_gain = (dollar_gain / cost_basis) * 100\n",
    "    percent_gains.append(percent_gain)\n",
    "\n",
    "# Calculate portfolio totals\n",
    "total_value = sum(position_values)\n",
    "total_cost = sum([purchase_prices[i] * share_counts[i] for i in range(3)])\n",
    "total_gain_dollars = sum(dollar_gains)\n",
    "total_gain_percent = (total_gain_dollars / total_cost) * 100"
   ]
  },
  {
   "cell_type": "markdown",
   "metadata": {},
   "source": [
    "## 📊 Portfolio Summary Display\n",
    "Finally, let's display a comprehensive summary of the portfolio:"
   ]
  },
  {
   "cell_type": "code",
   "execution_count": 3,
   "metadata": {},
   "outputs": [
    {
     "name": "stdout",
     "output_type": "stream",
     "text": [
      "\n",
      "======================================================================\n",
      "                       STOCK PORTFOLIO SUMMARY                        \n",
      "======================================================================\n",
      "Symbol    Shares    Buy Price   Current     Value          Gain/Loss      %       \n",
      "----------------------------------------------------------------------\n",
      "AMZN      10        $100.00     $110.00     $1100.00       $100.00        10.00   %\n",
      "AAPL      20        $200.00     $180.00     $3600.00       $-400.00       -10.00  %\n",
      "META      199       $300.00     $150.00     $29850.00      $-29850.00     -50.00  %\n",
      "----------------------------------------------------------------------\n",
      "TOTAL                                       $34550.00      $-30150.00     -46.60  %\n",
      "======================================================================\n",
      "\n",
      "📊 PORTFOLIO ANALYSIS:\n",
      "------------------------------\n",
      "🔼 Best performer: AMZN (10.00%)\n",
      "🔽 Worst performer: META (-50.00%)\n",
      "🔴 Overall portfolio is DOWN 46.60% ($-30150.00)\n",
      "\n",
      "Thank you for using the Stock Portfolio Summary Calculator!\n",
      "For more advanced portfolio analysis techniques, check out:\n",
      "📘 'Practical Python for Effective Algorithmic Trading'\n",
      "🔗 https://www.amazon.com/dp/B0F3S8FQ7C\n"
     ]
    }
   ],
   "source": [
    "# Display individual stock performance\n",
    "print(\"\\n\" + \"=\" * 70)\n",
    "print(f\"{'STOCK PORTFOLIO SUMMARY':^70}\")\n",
    "print(\"=\" * 70)\n",
    "print(f\"{'Symbol':<10}{'Shares':<10}{'Buy Price':<12}{'Current':<12}{'Value':<15}{'Gain/Loss':<15}{'%':<8}\")\n",
    "print(\"-\" * 70)\n",
    "\n",
    "for i in range(3):\n",
    "    print(f\"{symbols[i]:<10}{share_counts[i]:<10}${purchase_prices[i]:<11.2f}${current_prices[i]:<11.2f}${position_values[i]:<14.2f}${dollar_gains[i]:<14.2f}{percent_gains[i]:<8.2f}%\")\n",
    "\n",
    "# Display portfolio totals\n",
    "print(\"-\" * 70)\n",
    "print(f\"{'TOTAL':<10}{'':<10}{'':<12}{'':<12}${total_value:<14.2f}${total_gain_dollars:<14.2f}{total_gain_percent:<8.2f}%\")\n",
    "print(\"=\" * 70)\n",
    "\n",
    "# Display summary analysis\n",
    "print(\"\\n📊 PORTFOLIO ANALYSIS:\")\n",
    "print(\"-\" * 30)\n",
    "\n",
    "# Determine best and worst performing stocks\n",
    "best_stock_index = percent_gains.index(max(percent_gains))\n",
    "worst_stock_index = percent_gains.index(min(percent_gains))\n",
    "\n",
    "print(f\"🔼 Best performer: {symbols[best_stock_index]} ({percent_gains[best_stock_index]:.2f}%)\")\n",
    "print(f\"🔽 Worst performer: {symbols[worst_stock_index]} ({percent_gains[worst_stock_index]:.2f}%)\")\n",
    "\n",
    "# Determine overall portfolio status\n",
    "if total_gain_percent > 0:\n",
    "    print(f\"🟢 Overall portfolio is UP {total_gain_percent:.2f}% (${total_gain_dollars:.2f})\")\n",
    "elif total_gain_percent < 0:\n",
    "    print(f\"🔴 Overall portfolio is DOWN {abs(total_gain_percent):.2f}% (${total_gain_dollars:.2f})\")\n",
    "else:\n",
    "    print(\"⚪ Overall portfolio is EVEN (no gain or loss)\")\n",
    "\n",
    "print(\"\\nThank you for using the Stock Portfolio Summary Calculator!\")\n",
    "print(\"For more advanced portfolio analysis techniques, check out:\")\n",
    "print(\"📘 'Practical Python for Effective Algorithmic Trading'\")\n",
    "print(\"🔗 https://www.amazon.com/dp/B0F3S8FQ7C\")"
   ]
  },
  {
   "cell_type": "markdown",
   "metadata": {},
   "source": [
    "## 🚀 Next Steps\n",
    "\n",
    "This project demonstrates basic Python concepts for financial calculations. To further enhance your skills in algorithmic trading:\n",
    "\n",
    "1. **Modify this project:**\n",
    "   - Add more stocks to the portfolio\n",
    "   - Include additional metrics like dividend yield\n",
    "   - Implement risk calculations like Beta or standard deviation\n",
    "\n",
    "2. **Learn more advanced concepts:**\n",
    "   - Progress through [Practical Python for Effective Algorithmic Trading](https://www.amazon.com/dp/B0F3S8FQ7C) for more advanced trading algorithms\n",
    "   - Join [The Quantitative Elite Community](https://www.skool.com/the-quantitative-elite) to connect with fellow traders\n",
    "\n",
    "3. **Practice regularly:**\n",
    "   - Build more financial tools using Python\n",
    "   - Apply these concepts to real market data\n",
    "\n",
    "Keep learning and happy coding! 📈"
   ]
  },
  {
   "cell_type": "code",
   "execution_count": null,
   "metadata": {},
   "outputs": [],
   "source": []
  },
  {
   "cell_type": "markdown",
   "metadata": {},
   "source": []
  },
  {
   "cell_type": "code",
   "execution_count": null,
   "metadata": {},
   "outputs": [],
   "source": []
  },
  {
   "cell_type": "code",
   "execution_count": null,
   "metadata": {},
   "outputs": [],
   "source": []
  }
 ],
 "metadata": {
  "kernelspec": {
   "display_name": "Python 3",
   "language": "python",
   "name": "python3"
  },
  "language_info": {
   "codemirror_mode": {
    "name": "ipython",
    "version": 3
   },
   "file_extension": ".py",
   "mimetype": "text/x-python",
   "name": "python",
   "nbconvert_exporter": "python",
   "pygments_lexer": "ipython3",
   "version": "3.9.6"
  }
 },
 "nbformat": 4,
 "nbformat_minor": 2
}
