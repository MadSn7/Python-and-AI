{
 "cells": [
  {
   "cell_type": "markdown",
   "metadata": {},
   "source": [
    "\n",
    "### Univariate Analysis\n",
    "\n",
    "#### 1. **Frequency Distribution Table and Bar Chart (Categorical)**\n",
    "- **Purpose**: To summarize and visualize the frequency of different categories or ranges of a single variable.\n",
    "- **Example**: Analyzing the distribution of closing prices of a single stock (AAPL) over a year.\n",
    "- **Why It's Useful**: Helps to understand the common price ranges and detect any anomalies or patterns.\n",
    "- **Scenario**: A trader might use this to determine common price ranges and set appropriate buy/sell price targets.\n",
    "  \n",
    "  **Code Example**:\n",
    "  ```python\n",
    "  # Frequency Distribution Table\n",
    "  close_prices['AAPL_Range'] = pd.cut(close_prices['AAPL'], bins=10)\n",
    "  frequency_table = close_prices['AAPL_Range'].value_counts().sort_index()\n",
    "  print(\"Frequency Distribution Table:\")\n",
    "  print(frequency_table)\n",
    "\n",
    "  # Bar Chart\n",
    "  plt.figure(figsize=(10, 6))\n",
    "  frequency_table.plot(kind='bar')\n",
    "  plt.title('Frequency Distribution of AAPL Closing Prices')\n",
    "  plt.xlabel('Price Range')\n",
    "  plt.ylabel('Frequency')\n",
    "  plt.show()\n",
    "  ```\n",
    "\n",
    "#### 2. **Histogram (Numerical)**\n",
    "- **Purpose**: To visualize the distribution of a numerical variable.\n",
    "- **Example**: Analyzing the distribution of daily returns of a stock (AAPL).\n",
    "- **Why It's Useful**: Helps to assess the volatility and risk by showing how returns are spread.\n",
    "- **Scenario**: A trader might use this to understand the risk profile of a stock and decide on risk management strategies.\n",
    "\n",
    "  **Code Example**:\n",
    "  ```python\n",
    "  # Histogram\n",
    "  plt.figure(figsize=(10, 6))\n",
    "  plt.hist(close_prices['AAPL'], bins=50, edgecolor='black')\n",
    "  plt.title('Histogram of AAPL Closing Prices')\n",
    "  plt.xlabel('Price')\n",
    "  plt.ylabel('Frequency')\n",
    "  plt.show()\n",
    "  ```\n",
    "\n",
    "### Bivariate Analysis\n",
    "\n",
    "#### 3. **Contingency Table/Crosstab (Categorical-Categorical)**\n",
    "- **Purpose**: To summarize the relationship between two categorical variables.\n",
    "- **Example**: Analyzing the relationship between the closing price ranges of AAPL and MSFT.\n",
    "- **Why It's Useful**: Helps to identify if there are any patterns or correlations between the categories of two variables.\n",
    "- **Scenario**: A trader might use this to identify relationships between price movements of different stocks and develop pairs trading strategies.\n",
    "\n",
    "  **Code Example**:\n",
    "  ```python\n",
    "  # Contingency Table/Crosstab\n",
    "  close_prices['MSFT_Range'] = pd.cut(close_prices['MSFT'], bins=10)\n",
    "  crosstab = pd.crosstab(close_prices['AAPL_Range'], close_prices['MSFT_Range'])\n",
    "  print(\"Contingency Table/Crosstab:\")\n",
    "  print(crosstab)\n",
    "  ```\n",
    "\n",
    "#### 4. **Scatter Plot (Numerical-Numerical)**\n",
    "- **Purpose**: To visualize the relationship between two numerical variables.\n",
    "- **Example**: Plotting daily returns of AAPL against MSFT.\n",
    "- **Why It's Useful**: Helps to identify correlations, trends, and potential causal relationships between two variables.\n",
    "- **Scenario**: A trader might use this to analyze the correlation between two stocks and diversify their portfolio or hedge positions.\n",
    "\n",
    "  **Code Example**:\n",
    "  ```python\n",
    "  # Scatter Plot\n",
    "  plt.figure(figsize=(10, 6))\n",
    "  plt.scatter(daily_returns['AAPL'], daily_returns['MSFT'], alpha=0.5)\n",
    "  plt.title('Scatter Plot of AAPL vs MSFT Daily Returns')\n",
    "  plt.xlabel('AAPL Daily Return')\n",
    "  plt.ylabel('MSFT Daily Return')\n",
    "  plt.show()\n",
    "  ```\n",
    "\n",
    "### Multivariate Analysis\n",
    "\n",
    "#### 5. **Boxplot (Categorical-Numerical)**\n",
    "- **Purpose**: To show the distribution of a numerical variable across different categories.\n",
    "- **Example**: Analyzing the distribution of AAPL daily returns by day of the week.\n",
    "- **Why It's Useful**: Helps to compare distributions and identify outliers across different categories.\n",
    "- **Scenario**: A trader might use this to identify day-of-week effects in stock returns and optimize trading strategies accordingly.\n",
    "\n",
    "  **Code Example**:\n",
    "  ```python\n",
    "  # Boxplot of Returns by Day of the Week\n",
    "  daily_returns['Day'] = daily_returns.index.day_name()\n",
    "  plt.figure(figsize=(10, 6))\n",
    "  daily_returns.boxplot(column='AAPL', by='Day', grid=False)\n",
    "  plt.title('Boxplot of AAPL Daily Returns by Day of the Week')\n",
    "  plt.suptitle('')\n",
    "  plt.xlabel('Day of the Week')\n",
    "  plt.ylabel('Daily Return')\n",
    "  plt.show()\n",
    "  ```\n",
    "\n",
    "\n",
    "\n",
    "\n",
    "\n"
   ]
  },
  {
   "cell_type": "markdown",
   "metadata": {},
   "source": []
  },
  {
   "cell_type": "code",
   "execution_count": null,
   "metadata": {},
   "outputs": [],
   "source": [
    "import pandas as pd\n",
    "import numpy as np\n",
    "import yfinance as yf\n",
    "import matplotlib.pyplot as plt"
   ]
  },
  {
   "cell_type": "code",
   "execution_count": 78,
   "metadata": {},
   "outputs": [
    {
     "name": "stderr",
     "output_type": "stream",
     "text": [
      "[*********************100%%**********************]  1 of 1 completed"
     ]
    },
    {
     "name": "stderr",
     "output_type": "stream",
     "text": [
      "\n"
     ]
    },
    {
     "data": {
      "text/plain": [
       "<Axes: >"
      ]
     },
     "execution_count": 78,
     "metadata": {},
     "output_type": "execute_result"
    },
    {
     "data": {
      "image/png": "[encoded data removed]",
      "text/plain": [
       "<Figure size 640x480 with 1 Axes>"
      ]
     },
     "metadata": {},
     "output_type": "display_data"
    }
   ],
   "source": [
    "# Frequencey table\n",
    "\n",
    "data = yf.download(tickers='AAPL', start='2024-01-01', end='2024-06-30')\n",
    "data['Daily Returns'] = data['Close'].pct_change()\n",
    "data['Categoty Daily Returns'] = data['Daily Returns'].apply(lambda x: 'Positive' if x > 0 else \" Negative\")\n",
    "Freq = data['Categoty Daily Returns'].value_counts().reset_index()\n",
    "Freq.plot(kind='bar')"
   ]
  },
  {
   "cell_type": "code",
   "execution_count": 82,
   "metadata": {},
   "outputs": [
    {
     "data": {
      "text/plain": [
       "<Axes: ylabel='proportion'>"
      ]
     },
     "execution_count": 82,
     "metadata": {},
     "output_type": "execute_result"
    },
    {
     "data": {
      "image/png": "[encoded data removed]",
      "text/plain": [
       "<Figure size 640x480 with 1 Axes>"
      ]
     },
     "metadata": {},
     "output_type": "display_data"
    }
   ],
   "source": [
    "# Relative Frequencey \n",
    "data['Categoty Daily Returns'].value_counts(normalize=True).plot(kind='pie')"
   ]
  },
  {
   "cell_type": "code",
   "execution_count": 77,
   "metadata": {},
   "outputs": [
    {
     "data": {
      "text/html": [
       "<div>\n",
       "<style scoped>\n",
       "    .dataframe tbody tr th:only-of-type {\n",
       "        vertical-align: middle;\n",
       "    }\n",
       "\n",
       "    .dataframe tbody tr th {\n",
       "        vertical-align: top;\n",
       "    }\n",
       "\n",
       "    .dataframe thead th {\n",
       "        text-align: right;\n",
       "    }\n",
       "</style>\n",
       "<table border=\"1\" class=\"dataframe\">\n",
       "  <thead>\n",
       "    <tr style=\"text-align: right;\">\n",
       "      <th></th>\n",
       "      <th>Categoty Daily Returns</th>\n",
       "      <th>proportion</th>\n",
       "    </tr>\n",
       "  </thead>\n",
       "  <tbody>\n",
       "    <tr>\n",
       "      <th>0</th>\n",
       "      <td>Positive</td>\n",
       "      <td>0.508065</td>\n",
       "    </tr>\n",
       "    <tr>\n",
       "      <th>1</th>\n",
       "      <td>Positive Negative</td>\n",
       "      <td>1.000000</td>\n",
       "    </tr>\n",
       "  </tbody>\n",
       "</table>\n",
       "</div>"
      ],
      "text/plain": [
       "  Categoty Daily Returns  proportion\n",
       "0               Positive    0.508065\n",
       "1      Positive Negative    1.000000"
      ]
     },
     "execution_count": 77,
     "metadata": {},
     "output_type": "execute_result"
    }
   ],
   "source": [
    "# Cumulative Frequencey \n",
    "\n",
    "data['Categoty Daily Returns'].value_counts(normalize=True).reset_index().cumsum()"
   ]
  },
  {
   "cell_type": "code",
   "execution_count": 88,
   "metadata": {},
   "outputs": [
    {
     "data": {
      "text/plain": [
       "<Axes: >"
      ]
     },
     "execution_count": 88,
     "metadata": {},
     "output_type": "execute_result"
    },
    {
     "data": {
      "image/png": "[encoded data removed]",
      "text/plain": [
       "<Figure size 640x480 with 1 Axes>"
      ]
     },
     "metadata": {},
     "output_type": "display_data"
    }
   ],
   "source": [
    "# Numerical Column\n",
    "data['Close']\n",
    "\n",
    "pd.cut(data['Close'],bins=10).value_counts().reset_index().plot(kind='bar')"
   ]
  },
  {
   "cell_type": "code",
   "execution_count": 92,
   "metadata": {},
   "outputs": [
    {
     "data": {
      "text/plain": [
       "(array([37., 14., 42., 18.,  2., 11.]),\n",
       " array([165.        , 173.61166636, 182.22333272, 190.83499908,\n",
       "        199.44666545, 208.05833181, 216.66999817]),\n",
       " <BarContainer object of 6 artists>)"
      ]
     },
     "execution_count": 92,
     "metadata": {},
     "output_type": "execute_result"
    },
    {
     "data": {
      "image/png": "[encoded data removed]",
      "text/plain": [
       "<Figure size 640x480 with 1 Axes>"
      ]
     },
     "metadata": {},
     "output_type": "display_data"
    }
   ],
   "source": [
    "plt.hist(data['Close'],bins=6)"
   ]
  },
  {
   "cell_type": "code",
   "execution_count": 94,
   "metadata": {},
   "outputs": [
    {
     "data": {
      "text/html": [
       "<div>\n",
       "<style scoped>\n",
       "    .dataframe tbody tr th:only-of-type {\n",
       "        vertical-align: middle;\n",
       "    }\n",
       "\n",
       "    .dataframe tbody tr th {\n",
       "        vertical-align: top;\n",
       "    }\n",
       "\n",
       "    .dataframe thead th {\n",
       "        text-align: right;\n",
       "    }\n",
       "</style>\n",
       "<table border=\"1\" class=\"dataframe\">\n",
       "  <thead>\n",
       "    <tr style=\"text-align: right;\">\n",
       "      <th></th>\n",
       "      <th>Open</th>\n",
       "      <th>High</th>\n",
       "      <th>Low</th>\n",
       "      <th>Close</th>\n",
       "      <th>Adj Close</th>\n",
       "      <th>Volume</th>\n",
       "      <th>Daily Returns</th>\n",
       "      <th>Categoty Daily Returns</th>\n",
       "    </tr>\n",
       "    <tr>\n",
       "      <th>Date</th>\n",
       "      <th></th>\n",
       "      <th></th>\n",
       "      <th></th>\n",
       "      <th></th>\n",
       "      <th></th>\n",
       "      <th></th>\n",
       "      <th></th>\n",
       "      <th></th>\n",
       "    </tr>\n",
       "  </thead>\n",
       "  <tbody>\n",
       "    <tr>\n",
       "      <th>2024-01-02</th>\n",
       "      <td>187.149994</td>\n",
       "      <td>188.440002</td>\n",
       "      <td>183.889999</td>\n",
       "      <td>185.639999</td>\n",
       "      <td>185.152283</td>\n",
       "      <td>82488700</td>\n",
       "      <td>NaN</td>\n",
       "      <td>Negative</td>\n",
       "    </tr>\n",
       "    <tr>\n",
       "      <th>2024-01-03</th>\n",
       "      <td>184.220001</td>\n",
       "      <td>185.880005</td>\n",
       "      <td>183.429993</td>\n",
       "      <td>184.250000</td>\n",
       "      <td>183.765945</td>\n",
       "      <td>58414500</td>\n",
       "      <td>-0.007488</td>\n",
       "      <td>Negative</td>\n",
       "    </tr>\n",
       "    <tr>\n",
       "      <th>2024-01-04</th>\n",
       "      <td>182.149994</td>\n",
       "      <td>183.089996</td>\n",
       "      <td>180.880005</td>\n",
       "      <td>181.910004</td>\n",
       "      <td>181.432098</td>\n",
       "      <td>71983600</td>\n",
       "      <td>-0.012700</td>\n",
       "      <td>Negative</td>\n",
       "    </tr>\n",
       "    <tr>\n",
       "      <th>2024-01-05</th>\n",
       "      <td>181.990005</td>\n",
       "      <td>182.759995</td>\n",
       "      <td>180.169998</td>\n",
       "      <td>181.179993</td>\n",
       "      <td>180.703995</td>\n",
       "      <td>62303300</td>\n",
       "      <td>-0.004013</td>\n",
       "      <td>Negative</td>\n",
       "    </tr>\n",
       "    <tr>\n",
       "      <th>2024-01-08</th>\n",
       "      <td>182.089996</td>\n",
       "      <td>185.600006</td>\n",
       "      <td>181.500000</td>\n",
       "      <td>185.559998</td>\n",
       "      <td>185.072495</td>\n",
       "      <td>59144500</td>\n",
       "      <td>0.024175</td>\n",
       "      <td>Positive</td>\n",
       "    </tr>\n",
       "    <tr>\n",
       "      <th>...</th>\n",
       "      <td>...</td>\n",
       "      <td>...</td>\n",
       "      <td>...</td>\n",
       "      <td>...</td>\n",
       "      <td>...</td>\n",
       "      <td>...</td>\n",
       "      <td>...</td>\n",
       "      <td>...</td>\n",
       "    </tr>\n",
       "    <tr>\n",
       "      <th>2024-06-24</th>\n",
       "      <td>207.720001</td>\n",
       "      <td>212.699997</td>\n",
       "      <td>206.589996</td>\n",
       "      <td>208.139999</td>\n",
       "      <td>208.139999</td>\n",
       "      <td>80727000</td>\n",
       "      <td>0.003133</td>\n",
       "      <td>Positive</td>\n",
       "    </tr>\n",
       "    <tr>\n",
       "      <th>2024-06-25</th>\n",
       "      <td>209.149994</td>\n",
       "      <td>211.380005</td>\n",
       "      <td>208.610001</td>\n",
       "      <td>209.070007</td>\n",
       "      <td>209.070007</td>\n",
       "      <td>56713900</td>\n",
       "      <td>0.004468</td>\n",
       "      <td>Positive</td>\n",
       "    </tr>\n",
       "    <tr>\n",
       "      <th>2024-06-26</th>\n",
       "      <td>211.500000</td>\n",
       "      <td>214.860001</td>\n",
       "      <td>210.639999</td>\n",
       "      <td>213.250000</td>\n",
       "      <td>213.250000</td>\n",
       "      <td>66213200</td>\n",
       "      <td>0.019993</td>\n",
       "      <td>Positive</td>\n",
       "    </tr>\n",
       "    <tr>\n",
       "      <th>2024-06-27</th>\n",
       "      <td>214.690002</td>\n",
       "      <td>215.740005</td>\n",
       "      <td>212.350006</td>\n",
       "      <td>214.100006</td>\n",
       "      <td>214.100006</td>\n",
       "      <td>49772700</td>\n",
       "      <td>0.003986</td>\n",
       "      <td>Positive</td>\n",
       "    </tr>\n",
       "    <tr>\n",
       "      <th>2024-06-28</th>\n",
       "      <td>215.770004</td>\n",
       "      <td>216.070007</td>\n",
       "      <td>210.300003</td>\n",
       "      <td>210.619995</td>\n",
       "      <td>210.619995</td>\n",
       "      <td>82542700</td>\n",
       "      <td>-0.016254</td>\n",
       "      <td>Negative</td>\n",
       "    </tr>\n",
       "  </tbody>\n",
       "</table>\n",
       "<p>124 rows × 8 columns</p>\n",
       "</div>"
      ],
      "text/plain": [
       "                  Open        High         Low       Close   Adj Close  \\\n",
       "Date                                                                     \n",
       "2024-01-02  187.149994  188.440002  183.889999  185.639999  185.152283   \n",
       "2024-01-03  184.220001  185.880005  183.429993  184.250000  183.765945   \n",
       "2024-01-04  182.149994  183.089996  180.880005  181.910004  181.432098   \n",
       "2024-01-05  181.990005  182.759995  180.169998  181.179993  180.703995   \n",
       "2024-01-08  182.089996  185.600006  181.500000  185.559998  185.072495   \n",
       "...                ...         ...         ...         ...         ...   \n",
       "2024-06-24  207.720001  212.699997  206.589996  208.139999  208.139999   \n",
       "2024-06-25  209.149994  211.380005  208.610001  209.070007  209.070007   \n",
       "2024-06-26  211.500000  214.860001  210.639999  213.250000  213.250000   \n",
       "2024-06-27  214.690002  215.740005  212.350006  214.100006  214.100006   \n",
       "2024-06-28  215.770004  216.070007  210.300003  210.619995  210.619995   \n",
       "\n",
       "              Volume  Daily Returns Categoty Daily Returns  \n",
       "Date                                                        \n",
       "2024-01-02  82488700            NaN               Negative  \n",
       "2024-01-03  58414500      -0.007488               Negative  \n",
       "2024-01-04  71983600      -0.012700               Negative  \n",
       "2024-01-05  62303300      -0.004013               Negative  \n",
       "2024-01-08  59144500       0.024175               Positive  \n",
       "...              ...            ...                    ...  \n",
       "2024-06-24  80727000       0.003133               Positive  \n",
       "2024-06-25  56713900       0.004468               Positive  \n",
       "2024-06-26  66213200       0.019993               Positive  \n",
       "2024-06-27  49772700       0.003986               Positive  \n",
       "2024-06-28  82542700      -0.016254               Negative  \n",
       "\n",
       "[124 rows x 8 columns]"
      ]
     },
     "execution_count": 94,
     "metadata": {},
     "output_type": "execute_result"
    }
   ],
   "source": [
    "data"
   ]
  },
  {
   "cell_type": "code",
   "execution_count": 99,
   "metadata": {},
   "outputs": [],
   "source": [
    "data['Day Name'] = data.index.day_name()"
   ]
  },
  {
   "cell_type": "code",
   "execution_count": 100,
   "metadata": {},
   "outputs": [
    {
     "data": {
      "text/html": [
       "<div>\n",
       "<style scoped>\n",
       "    .dataframe tbody tr th:only-of-type {\n",
       "        vertical-align: middle;\n",
       "    }\n",
       "\n",
       "    .dataframe tbody tr th {\n",
       "        vertical-align: top;\n",
       "    }\n",
       "\n",
       "    .dataframe thead th {\n",
       "        text-align: right;\n",
       "    }\n",
       "</style>\n",
       "<table border=\"1\" class=\"dataframe\">\n",
       "  <thead>\n",
       "    <tr style=\"text-align: right;\">\n",
       "      <th></th>\n",
       "      <th>Open</th>\n",
       "      <th>High</th>\n",
       "      <th>Low</th>\n",
       "      <th>Close</th>\n",
       "      <th>Adj Close</th>\n",
       "      <th>Volume</th>\n",
       "      <th>Daily Returns</th>\n",
       "      <th>Categoty Daily Returns</th>\n",
       "      <th>Day Name</th>\n",
       "    </tr>\n",
       "    <tr>\n",
       "      <th>Date</th>\n",
       "      <th></th>\n",
       "      <th></th>\n",
       "      <th></th>\n",
       "      <th></th>\n",
       "      <th></th>\n",
       "      <th></th>\n",
       "      <th></th>\n",
       "      <th></th>\n",
       "      <th></th>\n",
       "    </tr>\n",
       "  </thead>\n",
       "  <tbody>\n",
       "    <tr>\n",
       "      <th>2024-01-02</th>\n",
       "      <td>187.149994</td>\n",
       "      <td>188.440002</td>\n",
       "      <td>183.889999</td>\n",
       "      <td>185.639999</td>\n",
       "      <td>185.152283</td>\n",
       "      <td>82488700</td>\n",
       "      <td>NaN</td>\n",
       "      <td>Negative</td>\n",
       "      <td>Tuesday</td>\n",
       "    </tr>\n",
       "    <tr>\n",
       "      <th>2024-01-03</th>\n",
       "      <td>184.220001</td>\n",
       "      <td>185.880005</td>\n",
       "      <td>183.429993</td>\n",
       "      <td>184.250000</td>\n",
       "      <td>183.765945</td>\n",
       "      <td>58414500</td>\n",
       "      <td>-0.007488</td>\n",
       "      <td>Negative</td>\n",
       "      <td>Wednesday</td>\n",
       "    </tr>\n",
       "    <tr>\n",
       "      <th>2024-01-04</th>\n",
       "      <td>182.149994</td>\n",
       "      <td>183.089996</td>\n",
       "      <td>180.880005</td>\n",
       "      <td>181.910004</td>\n",
       "      <td>181.432098</td>\n",
       "      <td>71983600</td>\n",
       "      <td>-0.012700</td>\n",
       "      <td>Negative</td>\n",
       "      <td>Thursday</td>\n",
       "    </tr>\n",
       "    <tr>\n",
       "      <th>2024-01-05</th>\n",
       "      <td>181.990005</td>\n",
       "      <td>182.759995</td>\n",
       "      <td>180.169998</td>\n",
       "      <td>181.179993</td>\n",
       "      <td>180.703995</td>\n",
       "      <td>62303300</td>\n",
       "      <td>-0.004013</td>\n",
       "      <td>Negative</td>\n",
       "      <td>Friday</td>\n",
       "    </tr>\n",
       "    <tr>\n",
       "      <th>2024-01-08</th>\n",
       "      <td>182.089996</td>\n",
       "      <td>185.600006</td>\n",
       "      <td>181.500000</td>\n",
       "      <td>185.559998</td>\n",
       "      <td>185.072495</td>\n",
       "      <td>59144500</td>\n",
       "      <td>0.024175</td>\n",
       "      <td>Positive</td>\n",
       "      <td>Monday</td>\n",
       "    </tr>\n",
       "    <tr>\n",
       "      <th>...</th>\n",
       "      <td>...</td>\n",
       "      <td>...</td>\n",
       "      <td>...</td>\n",
       "      <td>...</td>\n",
       "      <td>...</td>\n",
       "      <td>...</td>\n",
       "      <td>...</td>\n",
       "      <td>...</td>\n",
       "      <td>...</td>\n",
       "    </tr>\n",
       "    <tr>\n",
       "      <th>2024-06-24</th>\n",
       "      <td>207.720001</td>\n",
       "      <td>212.699997</td>\n",
       "      <td>206.589996</td>\n",
       "      <td>208.139999</td>\n",
       "      <td>208.139999</td>\n",
       "      <td>80727000</td>\n",
       "      <td>0.003133</td>\n",
       "      <td>Positive</td>\n",
       "      <td>Monday</td>\n",
       "    </tr>\n",
       "    <tr>\n",
       "      <th>2024-06-25</th>\n",
       "      <td>209.149994</td>\n",
       "      <td>211.380005</td>\n",
       "      <td>208.610001</td>\n",
       "      <td>209.070007</td>\n",
       "      <td>209.070007</td>\n",
       "      <td>56713900</td>\n",
       "      <td>0.004468</td>\n",
       "      <td>Positive</td>\n",
       "      <td>Tuesday</td>\n",
       "    </tr>\n",
       "    <tr>\n",
       "      <th>2024-06-26</th>\n",
       "      <td>211.500000</td>\n",
       "      <td>214.860001</td>\n",
       "      <td>210.639999</td>\n",
       "      <td>213.250000</td>\n",
       "      <td>213.250000</td>\n",
       "      <td>66213200</td>\n",
       "      <td>0.019993</td>\n",
       "      <td>Positive</td>\n",
       "      <td>Wednesday</td>\n",
       "    </tr>\n",
       "    <tr>\n",
       "      <th>2024-06-27</th>\n",
       "      <td>214.690002</td>\n",
       "      <td>215.740005</td>\n",
       "      <td>212.350006</td>\n",
       "      <td>214.100006</td>\n",
       "      <td>214.100006</td>\n",
       "      <td>49772700</td>\n",
       "      <td>0.003986</td>\n",
       "      <td>Positive</td>\n",
       "      <td>Thursday</td>\n",
       "    </tr>\n",
       "    <tr>\n",
       "      <th>2024-06-28</th>\n",
       "      <td>215.770004</td>\n",
       "      <td>216.070007</td>\n",
       "      <td>210.300003</td>\n",
       "      <td>210.619995</td>\n",
       "      <td>210.619995</td>\n",
       "      <td>82542700</td>\n",
       "      <td>-0.016254</td>\n",
       "      <td>Negative</td>\n",
       "      <td>Friday</td>\n",
       "    </tr>\n",
       "  </tbody>\n",
       "</table>\n",
       "<p>124 rows × 9 columns</p>\n",
       "</div>"
      ],
      "text/plain": [
       "                  Open        High         Low       Close   Adj Close  \\\n",
       "Date                                                                     \n",
       "2024-01-02  187.149994  188.440002  183.889999  185.639999  185.152283   \n",
       "2024-01-03  184.220001  185.880005  183.429993  184.250000  183.765945   \n",
       "2024-01-04  182.149994  183.089996  180.880005  181.910004  181.432098   \n",
       "2024-01-05  181.990005  182.759995  180.169998  181.179993  180.703995   \n",
       "2024-01-08  182.089996  185.600006  181.500000  185.559998  185.072495   \n",
       "...                ...         ...         ...         ...         ...   \n",
       "2024-06-24  207.720001  212.699997  206.589996  208.139999  208.139999   \n",
       "2024-06-25  209.149994  211.380005  208.610001  209.070007  209.070007   \n",
       "2024-06-26  211.500000  214.860001  210.639999  213.250000  213.250000   \n",
       "2024-06-27  214.690002  215.740005  212.350006  214.100006  214.100006   \n",
       "2024-06-28  215.770004  216.070007  210.300003  210.619995  210.619995   \n",
       "\n",
       "              Volume  Daily Returns Categoty Daily Returns   Day Name  \n",
       "Date                                                                   \n",
       "2024-01-02  82488700            NaN               Negative    Tuesday  \n",
       "2024-01-03  58414500      -0.007488               Negative  Wednesday  \n",
       "2024-01-04  71983600      -0.012700               Negative   Thursday  \n",
       "2024-01-05  62303300      -0.004013               Negative     Friday  \n",
       "2024-01-08  59144500       0.024175               Positive     Monday  \n",
       "...              ...            ...                    ...        ...  \n",
       "2024-06-24  80727000       0.003133               Positive     Monday  \n",
       "2024-06-25  56713900       0.004468               Positive    Tuesday  \n",
       "2024-06-26  66213200       0.019993               Positive  Wednesday  \n",
       "2024-06-27  49772700       0.003986               Positive   Thursday  \n",
       "2024-06-28  82542700      -0.016254               Negative     Friday  \n",
       "\n",
       "[124 rows x 9 columns]"
      ]
     },
     "execution_count": 100,
     "metadata": {},
     "output_type": "execute_result"
    }
   ],
   "source": [
    "data"
   ]
  },
  {
   "cell_type": "code",
   "execution_count": 101,
   "metadata": {},
   "outputs": [
    {
     "data": {
      "text/html": [
       "<div>\n",
       "<style scoped>\n",
       "    .dataframe tbody tr th:only-of-type {\n",
       "        vertical-align: middle;\n",
       "    }\n",
       "\n",
       "    .dataframe tbody tr th {\n",
       "        vertical-align: top;\n",
       "    }\n",
       "\n",
       "    .dataframe thead th {\n",
       "        text-align: right;\n",
       "    }\n",
       "</style>\n",
       "<table border=\"1\" class=\"dataframe\">\n",
       "  <thead>\n",
       "    <tr style=\"text-align: right;\">\n",
       "      <th>Day Name</th>\n",
       "      <th>Friday</th>\n",
       "      <th>Monday</th>\n",
       "      <th>Thursday</th>\n",
       "      <th>Tuesday</th>\n",
       "      <th>Wednesday</th>\n",
       "    </tr>\n",
       "    <tr>\n",
       "      <th>Categoty Daily Returns</th>\n",
       "      <th></th>\n",
       "      <th></th>\n",
       "      <th></th>\n",
       "      <th></th>\n",
       "      <th></th>\n",
       "    </tr>\n",
       "  </thead>\n",
       "  <tbody>\n",
       "    <tr>\n",
       "      <th>Negative</th>\n",
       "      <td>13</td>\n",
       "      <td>10</td>\n",
       "      <td>14</td>\n",
       "      <td>12</td>\n",
       "      <td>12</td>\n",
       "    </tr>\n",
       "    <tr>\n",
       "      <th>Positive</th>\n",
       "      <td>12</td>\n",
       "      <td>12</td>\n",
       "      <td>12</td>\n",
       "      <td>14</td>\n",
       "      <td>13</td>\n",
       "    </tr>\n",
       "  </tbody>\n",
       "</table>\n",
       "</div>"
      ],
      "text/plain": [
       "Day Name                Friday  Monday  Thursday  Tuesday  Wednesday\n",
       "Categoty Daily Returns                                              \n",
       " Negative                   13      10        14       12         12\n",
       "Positive                    12      12        12       14         13"
      ]
     },
     "execution_count": 101,
     "metadata": {},
     "output_type": "execute_result"
    }
   ],
   "source": [
    "pd.crosstab(data['Categoty Daily Returns'],data['Day Name'])"
   ]
  },
  {
   "cell_type": "code",
   "execution_count": 102,
   "metadata": {},
   "outputs": [
    {
     "data": {
      "text/html": [
       "<div>\n",
       "<style scoped>\n",
       "    .dataframe tbody tr th:only-of-type {\n",
       "        vertical-align: middle;\n",
       "    }\n",
       "\n",
       "    .dataframe tbody tr th {\n",
       "        vertical-align: top;\n",
       "    }\n",
       "\n",
       "    .dataframe thead th {\n",
       "        text-align: right;\n",
       "    }\n",
       "</style>\n",
       "<table border=\"1\" class=\"dataframe\">\n",
       "  <thead>\n",
       "    <tr style=\"text-align: right;\">\n",
       "      <th></th>\n",
       "      <th>Open</th>\n",
       "      <th>High</th>\n",
       "      <th>Low</th>\n",
       "      <th>Close</th>\n",
       "      <th>Adj Close</th>\n",
       "      <th>Volume</th>\n",
       "      <th>Daily Returns</th>\n",
       "      <th>Categoty Daily Returns</th>\n",
       "      <th>Day Name</th>\n",
       "    </tr>\n",
       "    <tr>\n",
       "      <th>Date</th>\n",
       "      <th></th>\n",
       "      <th></th>\n",
       "      <th></th>\n",
       "      <th></th>\n",
       "      <th></th>\n",
       "      <th></th>\n",
       "      <th></th>\n",
       "      <th></th>\n",
       "      <th></th>\n",
       "    </tr>\n",
       "  </thead>\n",
       "  <tbody>\n",
       "    <tr>\n",
       "      <th>2024-01-02</th>\n",
       "      <td>187.149994</td>\n",
       "      <td>188.440002</td>\n",
       "      <td>183.889999</td>\n",
       "      <td>185.639999</td>\n",
       "      <td>185.152283</td>\n",
       "      <td>82488700</td>\n",
       "      <td>NaN</td>\n",
       "      <td>Negative</td>\n",
       "      <td>Tuesday</td>\n",
       "    </tr>\n",
       "    <tr>\n",
       "      <th>2024-01-03</th>\n",
       "      <td>184.220001</td>\n",
       "      <td>185.880005</td>\n",
       "      <td>183.429993</td>\n",
       "      <td>184.250000</td>\n",
       "      <td>183.765945</td>\n",
       "      <td>58414500</td>\n",
       "      <td>-0.007488</td>\n",
       "      <td>Negative</td>\n",
       "      <td>Wednesday</td>\n",
       "    </tr>\n",
       "    <tr>\n",
       "      <th>2024-01-04</th>\n",
       "      <td>182.149994</td>\n",
       "      <td>183.089996</td>\n",
       "      <td>180.880005</td>\n",
       "      <td>181.910004</td>\n",
       "      <td>181.432098</td>\n",
       "      <td>71983600</td>\n",
       "      <td>-0.012700</td>\n",
       "      <td>Negative</td>\n",
       "      <td>Thursday</td>\n",
       "    </tr>\n",
       "    <tr>\n",
       "      <th>2024-01-05</th>\n",
       "      <td>181.990005</td>\n",
       "      <td>182.759995</td>\n",
       "      <td>180.169998</td>\n",
       "      <td>181.179993</td>\n",
       "      <td>180.703995</td>\n",
       "      <td>62303300</td>\n",
       "      <td>-0.004013</td>\n",
       "      <td>Negative</td>\n",
       "      <td>Friday</td>\n",
       "    </tr>\n",
       "    <tr>\n",
       "      <th>2024-01-08</th>\n",
       "      <td>182.089996</td>\n",
       "      <td>185.600006</td>\n",
       "      <td>181.500000</td>\n",
       "      <td>185.559998</td>\n",
       "      <td>185.072495</td>\n",
       "      <td>59144500</td>\n",
       "      <td>0.024175</td>\n",
       "      <td>Positive</td>\n",
       "      <td>Monday</td>\n",
       "    </tr>\n",
       "    <tr>\n",
       "      <th>...</th>\n",
       "      <td>...</td>\n",
       "      <td>...</td>\n",
       "      <td>...</td>\n",
       "      <td>...</td>\n",
       "      <td>...</td>\n",
       "      <td>...</td>\n",
       "      <td>...</td>\n",
       "      <td>...</td>\n",
       "      <td>...</td>\n",
       "    </tr>\n",
       "    <tr>\n",
       "      <th>2024-06-24</th>\n",
       "      <td>207.720001</td>\n",
       "      <td>212.699997</td>\n",
       "      <td>206.589996</td>\n",
       "      <td>208.139999</td>\n",
       "      <td>208.139999</td>\n",
       "      <td>80727000</td>\n",
       "      <td>0.003133</td>\n",
       "      <td>Positive</td>\n",
       "      <td>Monday</td>\n",
       "    </tr>\n",
       "    <tr>\n",
       "      <th>2024-06-25</th>\n",
       "      <td>209.149994</td>\n",
       "      <td>211.380005</td>\n",
       "      <td>208.610001</td>\n",
       "      <td>209.070007</td>\n",
       "      <td>209.070007</td>\n",
       "      <td>56713900</td>\n",
       "      <td>0.004468</td>\n",
       "      <td>Positive</td>\n",
       "      <td>Tuesday</td>\n",
       "    </tr>\n",
       "    <tr>\n",
       "      <th>2024-06-26</th>\n",
       "      <td>211.500000</td>\n",
       "      <td>214.860001</td>\n",
       "      <td>210.639999</td>\n",
       "      <td>213.250000</td>\n",
       "      <td>213.250000</td>\n",
       "      <td>66213200</td>\n",
       "      <td>0.019993</td>\n",
       "      <td>Positive</td>\n",
       "      <td>Wednesday</td>\n",
       "    </tr>\n",
       "    <tr>\n",
       "      <th>2024-06-27</th>\n",
       "      <td>214.690002</td>\n",
       "      <td>215.740005</td>\n",
       "      <td>212.350006</td>\n",
       "      <td>214.100006</td>\n",
       "      <td>214.100006</td>\n",
       "      <td>49772700</td>\n",
       "      <td>0.003986</td>\n",
       "      <td>Positive</td>\n",
       "      <td>Thursday</td>\n",
       "    </tr>\n",
       "    <tr>\n",
       "      <th>2024-06-28</th>\n",
       "      <td>215.770004</td>\n",
       "      <td>216.070007</td>\n",
       "      <td>210.300003</td>\n",
       "      <td>210.619995</td>\n",
       "      <td>210.619995</td>\n",
       "      <td>82542700</td>\n",
       "      <td>-0.016254</td>\n",
       "      <td>Negative</td>\n",
       "      <td>Friday</td>\n",
       "    </tr>\n",
       "  </tbody>\n",
       "</table>\n",
       "<p>124 rows × 9 columns</p>\n",
       "</div>"
      ],
      "text/plain": [
       "                  Open        High         Low       Close   Adj Close  \\\n",
       "Date                                                                     \n",
       "2024-01-02  187.149994  188.440002  183.889999  185.639999  185.152283   \n",
       "2024-01-03  184.220001  185.880005  183.429993  184.250000  183.765945   \n",
       "2024-01-04  182.149994  183.089996  180.880005  181.910004  181.432098   \n",
       "2024-01-05  181.990005  182.759995  180.169998  181.179993  180.703995   \n",
       "2024-01-08  182.089996  185.600006  181.500000  185.559998  185.072495   \n",
       "...                ...         ...         ...         ...         ...   \n",
       "2024-06-24  207.720001  212.699997  206.589996  208.139999  208.139999   \n",
       "2024-06-25  209.149994  211.380005  208.610001  209.070007  209.070007   \n",
       "2024-06-26  211.500000  214.860001  210.639999  213.250000  213.250000   \n",
       "2024-06-27  214.690002  215.740005  212.350006  214.100006  214.100006   \n",
       "2024-06-28  215.770004  216.070007  210.300003  210.619995  210.619995   \n",
       "\n",
       "              Volume  Daily Returns Categoty Daily Returns   Day Name  \n",
       "Date                                                                   \n",
       "2024-01-02  82488700            NaN               Negative    Tuesday  \n",
       "2024-01-03  58414500      -0.007488               Negative  Wednesday  \n",
       "2024-01-04  71983600      -0.012700               Negative   Thursday  \n",
       "2024-01-05  62303300      -0.004013               Negative     Friday  \n",
       "2024-01-08  59144500       0.024175               Positive     Monday  \n",
       "...              ...            ...                    ...        ...  \n",
       "2024-06-24  80727000       0.003133               Positive     Monday  \n",
       "2024-06-25  56713900       0.004468               Positive    Tuesday  \n",
       "2024-06-26  66213200       0.019993               Positive  Wednesday  \n",
       "2024-06-27  49772700       0.003986               Positive   Thursday  \n",
       "2024-06-28  82542700      -0.016254               Negative     Friday  \n",
       "\n",
       "[124 rows x 9 columns]"
      ]
     },
     "execution_count": 102,
     "metadata": {},
     "output_type": "execute_result"
    }
   ],
   "source": [
    "data"
   ]
  },
  {
   "cell_type": "code",
   "execution_count": 104,
   "metadata": {},
   "outputs": [
    {
     "data": {
      "text/plain": [
       "<matplotlib.collections.PathCollection at 0x11f8b1940>"
      ]
     },
     "execution_count": 104,
     "metadata": {},
     "output_type": "execute_result"
    },
    {
     "data": {
      "image/png": "[encoded data removed]",
      "text/plain": [
       "<Figure size 640x480 with 1 Axes>"
      ]
     },
     "metadata": {},
     "output_type": "display_data"
    }
   ],
   "source": [
    "plt.scatter(data['Volume'],data['Daily Returns'])"
   ]
  },
  {
   "cell_type": "code",
   "execution_count": 108,
   "metadata": {},
   "outputs": [
    {
     "data": {
      "text/plain": [
       "<Axes: title={'center': 'Daily Returns'}, xlabel='Categoty Daily Returns'>"
      ]
     },
     "execution_count": 108,
     "metadata": {},
     "output_type": "execute_result"
    },
    {
     "data": {
      "image/png": "[encoded data removed]",
      "text/plain": [
       "<Figure size 640x480 with 1 Axes>"
      ]
     },
     "metadata": {},
     "output_type": "display_data"
    }
   ],
   "source": [
    "data.boxplot(column='Daily Returns', by='Categoty Daily Returns')"
   ]
  },
  {
   "cell_type": "code",
   "execution_count": null,
   "metadata": {},
   "outputs": [],
   "source": []
  },
  {
   "cell_type": "markdown",
   "metadata": {},
   "source": [
    "\n",
    "### Quantiles\n",
    "Quantiles are points in your data that divide it into equal-sized intervals. They help you understand the distribution of your data by providing a way to segment it.\n",
    "\n",
    "### Quartiles\n",
    "Quartiles divide the data into four equal parts.\n",
    "\n",
    "- **Q1 (First Quartile)**: 25% of the data falls below this point.\n",
    "- **Q2 (Second Quartile/Median)**: 50% of the data falls below this point.\n",
    "- **Q3 (Third Quartile)**: 75% of the data falls below this point.\n",
    "\n",
    "**Example**:\n",
    "A trader might use quartiles to analyze the distribution of daily returns of a stock to understand the range within which the majority of returns lie.\n",
    "\n",
    "```python\n",
    "import numpy as np\n",
    "import pandas as pd\n",
    "\n",
    "# Example data: Daily returns of a stock\n",
    "data = np.random.normal(0, 1, 100)  # Generating 100 random daily returns\n",
    "df = pd.DataFrame(data, columns=['Daily Returns'])\n",
    "\n",
    "# Calculating quartiles\n",
    "Q1 = df['Daily Returns'].quantile(0.25)\n",
    "Q2 = df['Daily Returns'].quantile(0.50)\n",
    "Q3 = df['Daily Returns'].quantile(0.75)\n",
    "\n",
    "print(f\"Q1: {Q1}, Q2 (Median): {Q2}, Q3: {Q3}\")\n",
    "```\n",
    "\n",
    "### Deciles\n",
    "Deciles divide the data into ten equal parts.\n",
    "\n",
    "- **D1**: 10% of the data falls below this point.\n",
    "- **D2**: 20% of the data falls below this point.\n",
    "- ... and so on up to **D9**.\n",
    "\n",
    "**Example**:\n",
    "A trader might use deciles to categorize the performance of different stocks in a portfolio and identify the top 10% and bottom 10% performers.\n",
    "\n",
    "```python\n",
    "# Calculating deciles\n",
    "deciles = [df['Daily Returns'].quantile(i/10) for i in range(1, 10)]\n",
    "print(\"Deciles:\", deciles)\n",
    "```\n",
    "\n",
    "### Percentiles\n",
    "Percentiles divide the data into 100 equal parts.\n",
    "\n",
    "- **P1**: 1% of the data falls below this point.\n",
    "- **P2**: 2% of the data falls below this point.\n",
    "- ... and so on up to **P99**.\n",
    "\n",
    "**Example**:\n",
    "Percentiles can be used to identify outliers in trading returns. For example, a trader might look at the 1st percentile and the 99th percentile to see the extreme returns.\n",
    "\n",
    "```python\n",
    "# Calculating percentiles\n",
    "percentiles = [df['Daily Returns'].quantile(i/100) for i in range(1, 100)]\n",
    "print(\"Percentiles:\", percentiles[:10])  # Displaying the first 10 percentiles\n",
    "```\n",
    "\n",
    "### Quintiles\n",
    "Quintiles divide the data into five equal parts.\n",
    "\n",
    "- **Q1**: 20% of the data falls below this point.\n",
    "- **Q2**: 40% of the data falls below this point.\n",
    "- ... and so on up to **Q4**.\n",
    "\n",
    "**Example**:\n",
    "Quintiles can be used to categorize stocks based on performance. For example, dividing a portfolio into five groups from the lowest 20% to the highest 20%.\n",
    "\n",
    "```python\n",
    "# Calculating quintiles\n",
    "quintiles = [df['Daily Returns'].quantile(i/5) for i in range(1, 5)]\n",
    "print(\"Quintiles:\", quintiles)\n",
    "```\n",
    "\n",
    "\n",
    "\n",
    "\n",
    "### Summary\n",
    "\n",
    "1. **Quartiles**: Used to analyze the distribution of daily returns to understand the range within which the majority of returns lie.\n",
    "2. **Deciles**: Used to categorize the performance of different stocks and identify top and bottom performers.\n",
    "3. **Percentiles**: Used to identify outliers in trading returns and see extreme returns.\n",
    "4. **Quintiles**: Used to categorize stocks based on performance, dividing a portfolio into five groups from the lowest to the highest performers.\n"
   ]
  },
  {
   "cell_type": "markdown",
   "metadata": {},
   "source": []
  },
  {
   "cell_type": "code",
   "execution_count": 109,
   "metadata": {},
   "outputs": [],
   "source": [
    "per  = pd.Series([5,50,60,70,85,135,160,170,180,1000])"
   ]
  },
  {
   "cell_type": "code",
   "execution_count": 111,
   "metadata": {},
   "outputs": [
    {
     "data": {
      "text/plain": [
       "array([   5. ,   62.5,  110. ,  167.5, 1000. ])"
      ]
     },
     "execution_count": 111,
     "metadata": {},
     "output_type": "execute_result"
    }
   ],
   "source": [
    "per.describe()\n",
    "\n",
    "np.percentile(per,[0,25,50,75,100])"
   ]
  },
  {
   "cell_type": "code",
   "execution_count": 112,
   "metadata": {},
   "outputs": [
    {
     "data": {
      "text/plain": [
       "{'whiskers': [<matplotlib.lines.Line2D at 0x121827950>,\n",
       "  <matplotlib.lines.Line2D at 0x121826690>],\n",
       " 'caps': [<matplotlib.lines.Line2D at 0x121826660>,\n",
       "  <matplotlib.lines.Line2D at 0x1218246b0>],\n",
       " 'boxes': [<matplotlib.lines.Line2D at 0x11f3a1fd0>],\n",
       " 'medians': [<matplotlib.lines.Line2D at 0x121824560>],\n",
       " 'fliers': [<matplotlib.lines.Line2D at 0x121825220>],\n",
       " 'means': []}"
      ]
     },
     "execution_count": 112,
     "metadata": {},
     "output_type": "execute_result"
    },
    {
     "data": {
      "image/png": "[encoded data removed]",
      "text/plain": [
       "<Figure size 640x480 with 1 Axes>"
      ]
     },
     "metadata": {},
     "output_type": "display_data"
    }
   ],
   "source": [
    "plt.boxplot(per)"
   ]
  },
  {
   "cell_type": "code",
   "execution_count": 119,
   "metadata": {},
   "outputs": [
    {
     "data": {
      "text/plain": [
       "[-40, 1, 1, 2, 2, 3, 3, 4, 5, 50]"
      ]
     },
     "execution_count": 119,
     "metadata": {},
     "output_type": "execute_result"
    }
   ],
   "source": [
    "ser = [ 1, 2, 1, 3, 4, 5, 3, 50, -40, 2]\n",
    "serie = pd.Series(ser)\n",
    "ser.sort()\n",
    "ser"
   ]
  },
  {
   "cell_type": "code",
   "execution_count": 116,
   "metadata": {},
   "outputs": [
    {
     "data": {
      "text/plain": [
       "count    10.000000\n",
       "mean      3.100000\n",
       "std      21.273092\n",
       "min     -40.000000\n",
       "25%       1.250000\n",
       "50%       2.500000\n",
       "75%       3.750000\n",
       "max      50.000000\n",
       "dtype: float64"
      ]
     },
     "execution_count": 116,
     "metadata": {},
     "output_type": "execute_result"
    }
   ],
   "source": [
    "serie.describe()"
   ]
  },
  {
   "cell_type": "code",
   "execution_count": 120,
   "metadata": {},
   "outputs": [
    {
     "data": {
      "text/plain": [
       "0     1\n",
       "1     2\n",
       "2     1\n",
       "3     3\n",
       "4     4\n",
       "5     5\n",
       "6     3\n",
       "7    50\n",
       "8   -40\n",
       "9     2\n",
       "dtype: int64"
      ]
     },
     "execution_count": 120,
     "metadata": {},
     "output_type": "execute_result"
    }
   ],
   "source": [
    "demo_box = pd.Series([1, 2, 1, 3, 4, 5, 3, 50, -40, 2])\n",
    "demo_box"
   ]
  },
  {
   "cell_type": "code",
   "execution_count": 121,
   "metadata": {},
   "outputs": [
    {
     "data": {
      "text/plain": [
       "{'whiskers': [<matplotlib.lines.Line2D at 0x121a52390>,\n",
       "  <matplotlib.lines.Line2D at 0x121a52510>],\n",
       " 'caps': [<matplotlib.lines.Line2D at 0x121a527b0>,\n",
       "  <matplotlib.lines.Line2D at 0x121a52a80>],\n",
       " 'boxes': [<matplotlib.lines.Line2D at 0x121a521e0>],\n",
       " 'medians': [<matplotlib.lines.Line2D at 0x121a52d50>],\n",
       " 'fliers': [<matplotlib.lines.Line2D at 0x121a52ff0>],\n",
       " 'means': []}"
      ]
     },
     "execution_count": 121,
     "metadata": {},
     "output_type": "execute_result"
    },
    {
     "data": {
      "image/png": "[encoded data removed]",
      "text/plain": [
       "<Figure size 640x480 with 1 Axes>"
      ]
     },
     "metadata": {},
     "output_type": "display_data"
    }
   ],
   "source": [
    "plt.boxplot(demo_box)"
   ]
  },
  {
   "cell_type": "code",
   "execution_count": 122,
   "metadata": {},
   "outputs": [
    {
     "data": {
      "text/plain": [
       "count    10.000000\n",
       "mean      3.100000\n",
       "std      21.273092\n",
       "min     -40.000000\n",
       "25%       1.250000\n",
       "50%       2.500000\n",
       "75%       3.750000\n",
       "max      50.000000\n",
       "dtype: float64"
      ]
     },
     "execution_count": 122,
     "metadata": {},
     "output_type": "execute_result"
    }
   ],
   "source": [
    "demo_box.describe()"
   ]
  },
  {
   "cell_type": "code",
   "execution_count": null,
   "metadata": {},
   "outputs": [],
   "source": []
  }
 ],
 "metadata": {
  "kernelspec": {
   "display_name": "base",
   "language": "python",
   "name": "python3"
  },
  "language_info": {
   "codemirror_mode": {
    "name": "ipython",
    "version": 3
   },
   "file_extension": ".py",
   "mimetype": "text/x-python",
   "name": "python",
   "nbconvert_exporter": "python",
   "pygments_lexer": "ipython3",
   "version": "3.12.2"
  }
 },
 "nbformat": 4,
 "nbformat_minor": 2
}
