{
  "cells": [
    {
      "cell_type": "code",
      "execution_count": 7,
      "metadata": {
        "id": "Q19W8x5Y-KHv"
      },
      "outputs": [],
      "source": [
        "class Trade:\n",
        "    def __init__(self, symbol, quantity, price):\n",
        "        self.symbol = symbol\n",
        "        self.quantity = quantity\n",
        "        self.price = price\n",
        "\n",
        "    def __repr__(self):\n",
        "        return f\"Trade(symbol='{self.symbol}', quantity={self.quantity}, price={self.price})\"\n",
        "    \n",
        "    def __str__(self):\n",
        "        return f\"{self.quantity} shares of {self.symbol} at ${self.price:.2f} each\"\n",
        "    \n",
        "    def __add__(self, other):\n",
        "        if self.symbol == other.symbol:\n",
        "            new_quantity = self.quantity + other.quantity\n",
        "            average_price = (self.price * self.quantity + other.price * other.quantity) / new_quantity\n",
        "            return Trade(self.symbol, new_quantity, average_price)\n",
        "        else:\n",
        "            raise ValueError(\"Cannot add trades with different symbols\")\n",
        "        \n",
        "    \n",
        "\n"
      ]
    },
    {
      "cell_type": "code",
      "execution_count": 5,
      "metadata": {},
      "outputs": [],
      "source": []
    },
    {
      "cell_type": "code",
      "execution_count": null,
      "metadata": {},
      "outputs": [],
      "source": []
    }
  ],
  "metadata": {
    "colab": {
      "provenance": []
    },
    "kernelspec": {
      "display_name": "Python 3",
      "name": "python3"
    },
    "language_info": {
      "codemirror_mode": {
        "name": "ipython",
        "version": 3
      },
      "file_extension": ".py",
      "mimetype": "text/x-python",
      "name": "python",
      "nbconvert_exporter": "python",
      "pygments_lexer": "ipython3",
      "version": "3.11.8"
    }
  },
  "nbformat": 4,
  "nbformat_minor": 0
}
