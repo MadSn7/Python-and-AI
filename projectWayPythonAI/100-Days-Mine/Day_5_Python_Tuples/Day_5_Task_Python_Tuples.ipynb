{
 "cells": [
  {
   "cell_type": "markdown",
   "metadata": {},
   "source": [
    "1. **Market Data Handling with Tuples and Dictionaries** \n",
    "\n",
    "   - **Question**: You receive real-time market data in the form of tuples `(symbol, price, volume)`. Store these tuples in a dictionary where the key is the symbol and the value is a list of tuples containing price and volume. Update the dictionary with new data and maintain only the last three entries per stock. "
   ]
  },
  {
   "cell_type": "code",
   "execution_count": null,
   "metadata": {},
   "outputs": [
    {
     "name": "stdout",
     "output_type": "stream",
     "text": [
      "{'GOOG': [[2800, 1000]], 'AAPL': [[1500, 500]], 'MSFT': [[2500, 800]]}\n",
      "{'GOOG': [[2500, 10000], [2000, 100000]], 'AAPL': [[1500, 500], [150, 400]], 'MSFT': [[2500, 800], [2600, 700]]}\n"
     ]
    }
   ],
   "source": [
    "#Write your code here\n",
    "data = ([\"GOOG\",2800,1000],[\"AAPL\",1500,500],[\"MSFT\",2500,800])\n",
    "dict_data = {item[0]: [[item[1], item[2]]] for item in data}\n",
    "print(dict_data)\n",
    "data = ([\"GOOG\",2500,10000],[\"AAPL\",150,400],[\"MSFT\",2600,700],[\"GOOG\",2000,100000])\n",
    "for item in data:\n",
    "    dict_data[item[0]].append([item[1], item[2]])\n",
    "    if len(dict_data[item[0]]) > 3:\n",
    "        dict_data[item[0]].pop(0)\n",
    "\n",
    "print(dict_data)\n"
   ]
  },
  {
   "cell_type": "markdown",
   "metadata": {},
   "source": [
    "2. **Set Operations for Unique Symbol Tracking** \n",
    "\n",
    "   - **Question**: Given a list of transactions where each transaction is a tuple `(symbol, type, amount)`, use a set to track unique symbols involved in \"sell\" transactions. "
   ]
  },
  {
   "cell_type": "code",
   "execution_count": 28,
   "metadata": {},
   "outputs": [
    {
     "name": "stdout",
     "output_type": "stream",
     "text": [
      "{'GOOG', 'MSFT'}\n"
     ]
    }
   ],
   "source": [
    "#Write your code here\n",
    "all_sell_stocks = set()\n",
    "transactions = [(\"GOOG\",\"SELL\", 5),(\"AAPL\",\"BUY\", 10),(\"MSFT\",\"sELL\", 15),(\"GOOG\",\"SELL\", 10)]\n",
    "for tx in transactions:\n",
    "    if tx[1].lower() == \"sell\":\n",
    "        all_sell_stocks.add(tx[0])\n",
    "\n",
    "print(all_sell_stocks)"
   ]
  },
  {
   "cell_type": "markdown",
   "metadata": {},
   "source": [
    "3. **Using Zip() with Tuples for Price Comparison** \n",
    "\n",
    "   - **Question**: You have two lists of stock prices at different times. Use `zip()` to create tuples paired by their indices and print those stocks where the price has increased. "
   ]
  },
  {
   "cell_type": "code",
   "execution_count": 29,
   "metadata": {},
   "outputs": [
    {
     "name": "stdout",
     "output_type": "stream",
     "text": [
      "[(100, 110), (200, 210), (300, 310)]\n"
     ]
    }
   ],
   "source": [
    "#Write your code here\n",
    "prices_time1 = [100, 150, 200, 120, 300]\n",
    "prices_time2 = [110, 145, 210, 120, 310]\n",
    "\n",
    "increased_prices = []\n",
    "for price1, price2 in zip(prices_time1, prices_time2):\n",
    "    if price2 > price1:\n",
    "        increased_prices.append((price1, price2))\n",
    "\n",
    "print(increased_prices)\n"
   ]
  },
  {
   "cell_type": "markdown",
   "metadata": {},
   "source": [
    "4. **Nested Dictionary Comprehension for Market Analysis** \n",
    "\n",
    "   - **Question**: Create a nested dictionary from a list of tuples `(symbol, price)`, categorizing by the first letter of the symbol and storing prices in a list. "
   ]
  },
  {
   "cell_type": "code",
   "execution_count": null,
   "metadata": {},
   "outputs": [
    {
     "name": "stdout",
     "output_type": "stream",
     "text": [
      "{}\n"
     ]
    }
   ],
   "source": [
    "#Write your code here\n",
    "stock_data = [('AAPL', 150), ('AMZN', 120), ('GOOG', 200), ('GS', 180), ('MSFT', 300), ('META', 250)]\n",
    "dict = {}\n",
    "for item in stock_data:\n",
    "    dict.setdefault(item[0][0:1], []).append(item[1])   \n",
    "print(dict)"
   ]
  },
  {
   "cell_type": "markdown",
   "metadata": {},
   "source": [
    "5. **Advanced Set and Tuple Manipulation** \n",
    "\n",
    "   - **Question**: Given historical data as a list of tuples `(symbol, price)`, filter out any duplicate entries using set operations and return a sorted list of tuples based on the price in descending order. "
   ]
  },
  {
   "cell_type": "code",
   "execution_count": 41,
   "metadata": {},
   "outputs": [
    {
     "ename": "TypeError",
     "evalue": "'set' object is not callable",
     "output_type": "error",
     "traceback": [
      "\u001b[0;31m---------------------------------------------------------------------------\u001b[0m",
      "\u001b[0;31mTypeError\u001b[0m                                 Traceback (most recent call last)",
      "Cell \u001b[0;32mIn[41], line 15\u001b[0m\n\u001b[1;32m      6\u001b[0m historical_data \u001b[38;5;241m=\u001b[39m [\n\u001b[1;32m      7\u001b[0m     (\u001b[38;5;124m'\u001b[39m\u001b[38;5;124mAAPL\u001b[39m\u001b[38;5;124m'\u001b[39m, \u001b[38;5;241m150\u001b[39m),\n\u001b[1;32m      8\u001b[0m     (\u001b[38;5;124m'\u001b[39m\u001b[38;5;124mGOOG\u001b[39m\u001b[38;5;124m'\u001b[39m, \u001b[38;5;241m1200\u001b[39m),\n\u001b[0;32m   (...)\u001b[0m\n\u001b[1;32m     11\u001b[0m     (\u001b[38;5;124m'\u001b[39m\u001b[38;5;124mGOOG\u001b[39m\u001b[38;5;124m'\u001b[39m, \u001b[38;5;241m1150\u001b[39m)\n\u001b[1;32m     12\u001b[0m ]\n\u001b[1;32m     14\u001b[0m \u001b[38;5;66;03m# Step 1: Filter out duplicates by converting the list to a \u001b[39;00m\n\u001b[0;32m---> 15\u001b[0m unique_entries \u001b[38;5;241m=\u001b[39m \u001b[38;5;28;43mset\u001b[39;49m\u001b[43m(\u001b[49m\u001b[43mhistorical_data\u001b[49m\u001b[43m)\u001b[49m\n\u001b[1;32m     16\u001b[0m \u001b[38;5;28mprint\u001b[39m(\u001b[38;5;124m\"\u001b[39m\u001b[38;5;124mUnique entries (set):\u001b[39m\u001b[38;5;124m\"\u001b[39m, unique_entries)\n\u001b[1;32m     17\u001b[0m \u001b[38;5;66;03m# Step 2: Convert the set back to a list\u001b[39;00m\n",
      "\u001b[0;31mTypeError\u001b[0m: 'set' object is not callable"
     ]
    }
   ],
   "source": [
    "#Write your code here\n",
    "# list = [(\"GOOG\",100),(\"AAPL\",150),(\"MSFT\",200),(\"GOOG\",250)]\n",
    "\n",
    "# curr_set = set(list)\n",
    "# print(curr_set)\n",
    "historical_data = [\n",
    "    ('AAPL', 150),\n",
    "    ('GOOG', 1200),\n",
    "    ('MSFT', 200),\n",
    "    ('AAPL', 150),\n",
    "    ('GOOG', 1150)\n",
    "]\n",
    "\n",
    "# Step 1: Filter out duplicates by converting the list to a \n",
    "unique_entries = set(historical_data)\n",
    "print(\"Unique entries (set):\", unique_entries)\n",
    "# Step 2: Convert the set back to a list\n",
    "print(sorted(list(unique_entries), key=lambda x: (x[1])))"
   ]
  },
  {
   "cell_type": "markdown",
   "metadata": {},
   "source": [
    "6. **Complex Data Structure for Asset Management** \n",
    "\n",
    "   - **Question**: Construct a data structure using dictionaries that maps stock symbols to another dictionary containing lists of tuples for different transaction types ('buy' or 'sell'). "
   ]
  },
  {
   "cell_type": "code",
   "execution_count": null,
   "metadata": {},
   "outputs": [],
   "source": [
    "#Write your code here\n",
    "asset_portfolio = {\n",
    "    'MSFT': {\n",
    "        'buy': [\n",
    "            ('2023-04-12', 285.50, 10),\n",
    "            ('2023-06-25', 315.75, 5)\n",
    "        ],\n",
    "        'sell': [\n",
    "            ('2024-01-10', 380.25, 5)\n",
    "        ]\n",
    "    },\n",
    "    'GOOGL': {\n",
    "        'buy': [\n",
    "            ('2022-09-01', 98.00, 20)\n",
    "        ],\n",
    "        'sell': []\n",
    "    },\n",
    "    'AMZN': {\n",
    "        'buy': [\n",
    "            ('2023-03-05', 92.50, 15),\n",
    "            ('2023-05-20', 115.00, 10)\n",
    "        ],\n",
    "        'sell': [\n",
    "            ('2024-02-15', 165.75, 10)\n",
    "        ]\n",
    "    }\n",
    "}"
   ]
  },
  {
   "cell_type": "markdown",
   "metadata": {},
   "source": [
    "7. **Financial Data Analysis Using Zip and List Comprehension** \n",
    "\n",
    "   - **Question**: You have separate lists of stock symbols and their respective quarterly returns. Pair them and find those with positive returns. "
   ]
  },
  {
   "cell_type": "code",
   "execution_count": 42,
   "metadata": {},
   "outputs": [
    {
     "name": "stdout",
     "output_type": "stream",
     "text": [
      "[('GOOGL', 0.05), ('MSFT', 0.03), ('TSLA', 0.07)]\n"
     ]
    }
   ],
   "source": [
    "#Write your code here\n",
    "stock_symbols = ['AAPL', 'GOOGL', 'MSFT', 'AMZN', 'TSLA']\n",
    "quarterly_returns = [-0.02, 0.05, 0.03, -0.01, 0.07]\n",
    "\n",
    "# Pair symbols and returns, then filter for positive returns\n",
    "positive_returns = [(symbol, returns) for symbol, returns in zip(stock_symbols, quarterly_returns) if returns > 0]\n",
    "\n",
    "print(positive_returns)"
   ]
  },
  {
   "cell_type": "markdown",
   "metadata": {},
   "source": [
    "8. **Immutable Set for Tracking Unique Transactions** \n",
    "\n",
    "   - **Question**: Given a stream of transaction IDs, store these IDs in a frozen set for ensuring that you can safely use them as keys or in a set without modification. "
   ]
  },
  {
   "cell_type": "code",
   "execution_count": 43,
   "metadata": {},
   "outputs": [
    {
     "name": "stdout",
     "output_type": "stream",
     "text": [
      "frozenset({'T1001', 'T1004', 'T1002', 'T1003'})\n"
     ]
    }
   ],
   "source": [
    "#Write your code here\n",
    "transaction_ids_stream = [\n",
    "    'T1001', 'T1002', 'T1003', 'T1002', 'T1004'\n",
    "]\n",
    "\n",
    "# Create a frozenset from the list of IDs\n",
    "unique_transactions = frozenset(transaction_ids_stream)\n",
    "\n",
    "print(unique_transactions)"
   ]
  },
  {
   "cell_type": "markdown",
   "metadata": {},
   "source": [
    "9. **Tuple Unpacking in Financial Calculations** \n",
    "\n",
    "   - **Question**: You receive data in the form of a list of tuples where each tuple contains a stock symbol, its opening price, and its closing price. Calculate the daily change for each stock using tuple unpacking. "
   ]
  },
  {
   "cell_type": "code",
   "execution_count": 46,
   "metadata": {},
   "outputs": [
    {
     "name": "stdout",
     "output_type": "stream",
     "text": [
      "3.3333333333333335 AAPL 4.166666666666666 GOOGL 5.0 MSFT 2.0 AMZN\n"
     ]
    }
   ],
   "source": [
    "#Write your code here\n",
    "list_of_open_close_symbolwise = [('AAPL', 150, 155), ('GOOGL', 1200, 1250), ('MSFT', 200, 210), ('AMZN', 2500, 2550)]\n",
    "print(\" \".join((str((close - open)/open * 100) + \" \" + item_name) for item_name, open, close in list_of_open_close_symbolwise))\n"
   ]
  },
  {
   "cell_type": "markdown",
   "metadata": {},
   "source": [
    "10. **Comprehensive Market Snapshot Using Nested Comprehensions** \n",
    "\n",
    "    - **Question**: Given a dictionary mapping stock symbols to their daily prices over a week, create a nested dictionary that maps each symbol to another dictionary of 'highest' and 'lowest' prices of the week. "
   ]
  },
  {
   "cell_type": "code",
   "execution_count": 47,
   "metadata": {},
   "outputs": [
    {
     "name": "stdout",
     "output_type": "stream",
     "text": [
      "{'AAPL': {'open': 172.5, 'close': 177.0, 'high': 178.5, 'low': 172.5}, 'MSFT': {'open': 320.0, 'close': 323.0, 'high': 325.25, 'low': 319.75}, 'GOOGL': {'open': 140.75, 'close': 143.25, 'high': 145.0, 'low': 139.5}}\n"
     ]
    }
   ],
   "source": [
    "weekly_prices = {\n",
    "    'AAPL': [172.50, 175.00, 173.25, 178.50, 177.00],\n",
    "    'MSFT': [320.00, 321.50, 319.75, 325.25, 323.00],\n",
    "    'GOOGL': [140.75, 142.00, 139.50, 145.00, 143.25]\n",
    "}\n",
    "\n",
    "market_snapshots = {\n",
    "    item_name: {\n",
    "        'open': list_of_price[0],\n",
    "        'close': list_of_price[-1],\n",
    "        'high': max(list_of_price),\n",
    "        'low': min(list_of_price)\n",
    "    }\n",
    "    for item_name,list_of_price in weekly_prices.items()\n",
    "}\n",
    "print(market_snapshots)"
   ]
  }
 ],
 "metadata": {
  "kernelspec": {
   "display_name": "Python 3",
   "language": "python",
   "name": "python3"
  },
  "language_info": {
   "codemirror_mode": {
    "name": "ipython",
    "version": 3
   },
   "file_extension": ".py",
   "mimetype": "text/x-python",
   "name": "python",
   "nbconvert_exporter": "python",
   "pygments_lexer": "ipython3",
   "version": "3.9.6"
  }
 },
 "nbformat": 4,
 "nbformat_minor": 2
}
