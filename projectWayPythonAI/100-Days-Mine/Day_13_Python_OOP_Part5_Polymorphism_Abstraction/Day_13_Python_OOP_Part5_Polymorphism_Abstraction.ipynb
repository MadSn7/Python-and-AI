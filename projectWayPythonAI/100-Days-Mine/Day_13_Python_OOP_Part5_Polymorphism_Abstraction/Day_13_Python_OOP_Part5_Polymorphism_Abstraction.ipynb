{
 "cells": [
  {
   "cell_type": "code",
   "execution_count": null,
   "metadata": {},
   "outputs": [],
   "source": []
  },
  {
   "cell_type": "markdown",
   "metadata": {},
   "source": [
    "### Method Overriding\n",
    "**Definition**: When a subclass provides a specific implementation of a method that is already defined in its superclass.\n",
    "\n",
    "\n",
    "### Method Overloading\n",
    "**Definition**: When multiple methods with the same name exist in the same scope, but with different parameters.\n",
    " \n",
    "**Note** Python does not support true method overloading, but we can achieve similar behavior with default parameters or variable-length arguments.)\n",
    "\n",
    "\n",
    "### Operator Overloading\n",
    "**Definition**: When a class defines a special method to override the behavior of an operator for its instances.\n",
    "\n"
   ]
  },
  {
   "cell_type": "code",
   "execution_count": 3,
   "metadata": {},
   "outputs": [
    {
     "name": "stdout",
     "output_type": "stream",
     "text": [
      "Executing EMA strategy\n"
     ]
    }
   ],
   "source": [
    "\n",
    "\n",
    "\n",
    "class TradingStrategy:\n",
    "    def execute(self):\n",
    "        print(\"Executing base strategy\")\n",
    "\n",
    "class EMAStrategy(TradingStrategy):\n",
    "    def execute(self):\n",
    "        print(\"Executing EMA strategy\")\n",
    "\n",
    "# Usage\n",
    "strategy = EMAStrategy()\n",
    "strategy.execute()  # Output: Executing EMA strategy\n",
    "\n",
    "\n",
    "\n",
    "\n"
   ]
  },
  {
   "cell_type": "code",
   "execution_count": 6,
   "metadata": {},
   "outputs": [
    {
     "name": "stdout",
     "output_type": "stream",
     "text": [
      "Executing AwesomeStrategy trading strategy, run 1\n",
      "Executing AwesomeStrategy trading strategy, run 2\n"
     ]
    }
   ],
   "source": [
    "class TradingStrategy:\n",
    "    # Method to execute the strategy with no parameters\n",
    "    def execute(self, times=1, strategy_name=\"default\"):\n",
    "        for i in range(times):\n",
    "            print(f\"Executing {strategy_name} trading strategy, run {i + 1}\")\n",
    "\n",
    "### Usage\n",
    "strategy = TradingStrategy()\n",
    "strategy.execute(2,\"AwesomeStrategy\")\n"
   ]
  },
  {
   "cell_type": "code",
   "execution_count": 9,
   "metadata": {},
   "outputs": [
    {
     "name": "stdout",
     "output_type": "stream",
     "text": [
      "Executing strategy\n",
      "Executing strategy\n",
      "Executing strategy\n"
     ]
    }
   ],
   "source": [
    "\n",
    "class TradingStrategy:\n",
    "    def execute(self, times=1):\n",
    "        for _ in range(times):\n",
    "            print(\"Executing strategy\")\n",
    "\n",
    "# Usage\n",
    "strategy = TradingStrategy()\n",
    "#strategy.execute()  # Output: Executing strategy\n",
    "strategy.execute(3) # Output: Executing strategy (printed 3 times)\n",
    "\n"
   ]
  },
  {
   "cell_type": "code",
   "execution_count": 10,
   "metadata": {},
   "outputs": [
    {
     "name": "stdout",
     "output_type": "stream",
     "text": [
      "Total Profit: $800\n"
     ]
    }
   ],
   "source": [
    "\n",
    "class TradingStrategy:\n",
    "    def __init__(self, profit):\n",
    "        self.profit = profit\n",
    "\n",
    "    def __add__(self, other):\n",
    "        return TradingStrategy(self.profit + other.profit)\n",
    "\n",
    "    def __str__(self):\n",
    "        return f\"Total Profit: ${self.profit}\"\n",
    "\n",
    "# Usage\n",
    "strategy1 = TradingStrategy(500)\n",
    "strategy2 = TradingStrategy(300)\n",
    "combined_strategy = strategy1 + strategy2\n",
    "print(combined_strategy)  # Output: Total Profit: $800\n"
   ]
  },
  {
   "cell_type": "markdown",
   "metadata": {},
   "source": [
    "### Abstraction \n",
    "\n",
    "**Definition**: Abstraction is a concept in object-oriented programming where you define abstract classes and methods that are meant to be overridden in derived classes. This allows you to define a template for other classes to implement.\n",
    "\n",
    "\n",
    "### Explanation:\n",
    "1. **Base Abstract Class (`TradingApp`)**:\n",
    "   - `connect`: Concrete method for connecting to the trading server.\n",
    "   - `strategy`: Abstract method to be implemented by subclasses.\n",
    "   - `execute_trade`: Abstract method to be implemented by subclasses.\n",
    "\n",
    "2. **Derived Class (`EMATradingApp`)**:\n",
    "   - `mobile_login`: Additional method specific to the mobile trading app.\n",
    "   - `strategy`: Implements the abstract method with a specific strategy (EMA).\n",
    "   - `execute_trade`: Implements the abstract method to execute a trade based on the EMA strategy.\n",
    "\n",
    "### Usage:\n",
    "- An instance of `EMATradingApp` is created.\n",
    "- The `connect` method is called to simulate connecting to a trading server.\n",
    "- The `mobile_login` method is called to simulate logging into the mobile trading app.\n",
    "- The `strategy` method is called to specify the EMA trading strategy.\n",
    "- The `execute_trade` method is called to execute a trade based on the EMA strategy.\n",
    "\n",
    "This demonstrates abstraction by defining a common interface (`TradingApp`) for trading strategies and enforcing that all derived classes provide specific implementations for the abstract methods."
   ]
  },
  {
   "cell_type": "code",
   "execution_count": 12,
   "metadata": {},
   "outputs": [
    {
     "ename": "TypeError",
     "evalue": "Can't instantiate abstract class TradingApp with abstract methods execute_trade, strategy",
     "output_type": "error",
     "traceback": [
      "\u001b[0;31m---------------------------------------------------------------------------\u001b[0m",
      "\u001b[0;31mTypeError\u001b[0m                                 Traceback (most recent call last)",
      "Cell \u001b[0;32mIn[12], line 31\u001b[0m\n\u001b[1;32m     23\u001b[0m         \u001b[38;5;28mprint\u001b[39m(\u001b[38;5;124m'\u001b[39m\u001b[38;5;124mExecuting trade based on EMA strategy\u001b[39m\u001b[38;5;124m'\u001b[39m)\n\u001b[1;32m     25\u001b[0m \u001b[38;5;66;03m# Usage\u001b[39;00m\n\u001b[1;32m     26\u001b[0m \u001b[38;5;66;03m# app = EMATradingApp()\u001b[39;00m\n\u001b[1;32m     27\u001b[0m \u001b[38;5;66;03m# app.connect()           # Output: Connected to trading server\u001b[39;00m\n\u001b[1;32m     28\u001b[0m \u001b[38;5;66;03m# app.mobile_login()      # Output: Logged into mobile trading app\u001b[39;00m\n\u001b[1;32m     29\u001b[0m \u001b[38;5;66;03m# app.strategy()          # Output: Using EMA trading strategy\u001b[39;00m\n\u001b[1;32m     30\u001b[0m \u001b[38;5;66;03m# app.execute_trade()     # Output: Executing trade based on EMA strategy\u001b[39;00m\n\u001b[0;32m---> 31\u001b[0m app \u001b[38;5;241m=\u001b[39m TradingApp()\n",
      "\u001b[0;31mTypeError\u001b[0m: Can't instantiate abstract class TradingApp with abstract methods execute_trade, strategy"
     ]
    }
   ],
   "source": [
    "\n",
    "from abc import ABC, abstractmethod\n",
    "\n",
    "class TradingApp(ABC):\n",
    "    def connect(self):\n",
    "        print('Connected to trading server')\n",
    "\n",
    "    @abstractmethod\n",
    "    def strategy(self):\n",
    "        pass\n",
    "\n",
    "    @abstractmethod\n",
    "    def execute_trade(self):\n",
    "        pass\n",
    "\n",
    "class EMATradingApp(TradingApp):\n",
    "    def mobile_login(self):\n",
    "        print('Logged into mobile trading app')\n",
    "\n",
    "    def strategy(self):\n",
    "        print('Using EMA trading strategy')\n",
    "\n",
    "    def execute_trade(self):\n",
    "        print('Executing trade based on EMA strategy')\n",
    "\n",
    "# Usage\n",
    "app = EMATradingApp()\n",
    "app.connect()           # Output: Connected to trading server\n",
    "app.mobile_login()      # Output: Logged into mobile trading app\n",
    "app.strategy()          # Output: Using EMA trading strategy\n",
    "app.execute_trade()     # Output: Executing trade based on EMA strategy\n",
    "\n"
   ]
  },
  {
   "cell_type": "code",
   "execution_count": null,
   "metadata": {},
   "outputs": [],
   "source": []
  },
  {
   "cell_type": "code",
   "execution_count": null,
   "metadata": {},
   "outputs": [],
   "source": []
  }
 ],
 "metadata": {
  "kernelspec": {
   "display_name": "base",
   "language": "python",
   "name": "python3"
  },
  "language_info": {
   "codemirror_mode": {
    "name": "ipython",
    "version": 3
   },
   "file_extension": ".py",
   "mimetype": "text/x-python",
   "name": "python",
   "nbconvert_exporter": "python",
   "pygments_lexer": "ipython3",
   "version": "3.11.8"
  }
 },
 "nbformat": 4,
 "nbformat_minor": 2
}
