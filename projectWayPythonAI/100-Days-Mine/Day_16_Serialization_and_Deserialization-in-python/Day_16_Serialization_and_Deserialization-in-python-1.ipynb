{
 "cells": [
  {
   "cell_type": "code",
   "execution_count": null,
   "metadata": {},
   "outputs": [
    {
     "name": "stdout",
     "output_type": "stream",
     "text": [
      "Hello\n",
      "5\n"
     ]
    }
   ],
   "source": [
    "# SErialization and Deserialization of Python Object Structures\n",
    "# with open('data.txt', 'w') as file:\n",
    "#     file.write('Hello, World!')\n",
    "\n",
    "with open('data.txt', 'r') as file:\n",
    "    print(file.read(5))\n",
    "    print(file.tell())\n",
    "# some methods\n",
    "# file.seek(offset, whence)\n",
    "# file.tell()   # current position"
   ]
  },
  {
   "cell_type": "code",
   "execution_count": null,
   "metadata": {},
   "outputs": [],
   "source": [
    "with open('ss.png', 'rb') as file: # read in binary mode for image\n",
    "    with open('ss2.png', 'wb') as newfile:\n",
    "        newfile.write(file.read()) \n",
    "    # print(file.read(5))\n",
    "    # print(file.tell())"
   ]
  },
  {
   "cell_type": "code",
   "execution_count": null,
   "metadata": {},
   "outputs": [],
   "source": [
    "# reading a dictionary\n",
    "import json\n",
    "data = '{\"name\": \"John\", \"age\": 30, \"city\": \"New York\"}'\n",
    "parsed = json.loads(data)"
   ]
  },
  {
   "cell_type": "code",
   "execution_count": 18,
   "metadata": {},
   "outputs": [
    {
     "name": "stdout",
     "output_type": "stream",
     "text": [
      "[{'tradeid': 'T312', 'symbol': 'AAPL', 'volume': 100, 'price': 150.0}, {'tradeid': 'T313', 'symbol': 'GOOGL', 'volume': 50, 'price': 2800.0}]\n",
      "[{'tradeid': 'T312', 'symbol': 'AAPL', 'volume': 100, 'price': 150.0}, {'tradeid': 'T313', 'symbol': 'GOOGL', 'volume': 50, 'price': 2800.0}]\n",
      "<class 'list'>\n",
      "{'trade1': {'tradeid': 'T312', 'symbol': 'AAPL', 'volume': 100, 'price': 150.0}, 'trade2': {'tradeid': 'T313', 'symbol': 'GOOGL', 'volume': 50, 'price': 2800.0}}\n",
      "<class 'dict'>\n"
     ]
    }
   ],
   "source": [
    "# pickling : Pickling is the process of converting a Python object into a byte stream to save it to a file/database, maintain program state across sessions, or transport data over a network.\n",
    "# Unpickling is the reverse process of converting a byte stream back into a Python object.\n",
    "# serialization : Serialization is the process of converting a data structure or object state into a format that can be stored (for example, in a file or memory buffer) or transmitted (for example, over a network connection) and reconstructed later.\n",
    "# Deserialization is the reverse process of converting the serialized format back into a data structure or object state.(usually from json to objevt and vice versa)\n",
    "import json\n",
    "L = [\n",
    "    {\n",
    "        \"tradeid\":\"T312\",\"symbol\":\"AAPL\",\"volume\":100,\"price\":150.0\n",
    "    },\n",
    "    {\n",
    "        \"tradeid\":\"T313\",\"symbol\":\"GOOGL\",\"volume\":50,\"price\":2800.0\n",
    "    }\n",
    "]\n",
    "print(L)\n",
    "\n",
    "with open('data.json', 'w') as file:\n",
    "    json.dump(L, file)\n",
    "with open('data.json', 'r') as file:\n",
    "    data = json.load(file)\n",
    "print(data)\n",
    "print(type(data))\n",
    "\n",
    "dict = {\n",
    "    \"trade1\":{\n",
    "        \"tradeid\":\"T312\",\"symbol\":\"AAPL\",\"volume\":100,\"price\":150.0\n",
    "    },\n",
    "    \"trade2\":\n",
    "    {\n",
    "        \"tradeid\":\"T313\",\"symbol\":\"GOOGL\",\"volume\":50,\"price\":2800.0\n",
    "    }\n",
    "}\n",
    "\n",
    "with open('data_dict.json', 'w') as file:\n",
    "    json.dump(dict, file) # indent for pretty print\n",
    "\n",
    "with open('data_dict.json', 'r') as file:\n",
    "    data = json.load(file)\n",
    "print(data)\n",
    "print(type(data))\n",
    "\n"
   ]
  },
  {
   "cell_type": "code",
   "execution_count": 21,
   "metadata": {},
   "outputs": [
    {
     "name": "stdout",
     "output_type": "stream",
     "text": [
      "(1, 2, 3, 'hello', [4, 5, 6])\n",
      "(1, 2, 3, 'hello', [4, 5, 6])\n",
      "<class 'tuple'>\n"
     ]
    }
   ],
   "source": [
    "# Serialization and Deserialization of Tuples\n",
    "import json\n",
    "t = (1, 2, 3, 'hello', [4, 5, 6])\n",
    "print(t)\n",
    "with open('data_tuple.json', 'w') as file:\n",
    "    json.dump(t, file)\n",
    "with open('data_tuple.json', 'r') as file:\n",
    "    data = tuple(json.load(file))\n",
    "print(data)\n",
    "print(type(data))  # list, not tuple"
   ]
  },
  {
   "cell_type": "code",
   "execution_count": null,
   "metadata": {},
   "outputs": [
    {
     "name": "stdout",
     "output_type": "stream",
     "text": [
      "{'tradeid': 'T314', 'symbol': 'MSFT', 'volume': 200, 'price': 300.0}\n",
      "{'tradeid': 'T315', 'symbol': 'TSLA', 'volume': 150, 'price': 700.0}\n"
     ]
    }
   ],
   "source": [
    "# serialization and deserilzation of custom objects\n",
    "import json\n",
    "class Trade:\n",
    "    def __init__(self, tradeid, symbol, volume, price):\n",
    "        self.tradeid = tradeid\n",
    "        self.symbol = symbol\n",
    "        self.volume = volume\n",
    "        self.price = price\n",
    "\n",
    "    def to_dict(self):\n",
    "        return {\n",
    "            \"tradeid\": self.tradeid,\n",
    "            \"symbol\": self.symbol,\n",
    "            \"volume\": self.volume,\n",
    "            \"price\": self.price\n",
    "        }\n",
    "\n",
    "    @classmethod\n",
    "    def from_dict(cls, data):\n",
    "        return cls(\n",
    "            tradeid=data[\"tradeid\"],\n",
    "            symbol=data[\"symbol\"],\n",
    "            volume=data[\"volume\"],\n",
    "            price=data[\"price\"]\n",
    "        )\n",
    "\n",
    "trade = Trade(\"T314\", \"MSFT\", 200, 300.0)\n",
    "with open('trade.json', 'w') as file:\n",
    "    json.dump(trade.to_dict(), file) # serialization with some method help\n",
    "\n",
    "with open('trade.json', 'r') as file:\n",
    "    data = json.load(file)\n",
    "    trade2 = Trade.from_dict(data)  # deserialization with some method help\n",
    "print(trade2.__dict__)\n",
    "\n",
    "#pickling and unpickling works as binary format and .pkl extension is used\n",
    "import pickle\n",
    "trade = Trade(\"T315\", \"TSLA\", 150, 700.0)\n",
    "with open('trade.pkl', 'wb') as file:\n",
    "    pickle.dump(trade, file)  # serialization\n",
    "with open('trade.pkl', 'rb') as file:\n",
    "    trade2 = pickle.load(file)  # deserialization\n",
    "print(trade2.__dict__)\n",
    "\n",
    "# pickle vs json\n",
    "# 1. Format: JSON is a text-based format that is human-readable and widely used for data interchange. \n",
    "# Pickle is a binary format that is specific to Python and not human-readable.  \n",
    "# 2. Language Support: JSON is language-agnostic and can be used across different programming languages. \n",
    "# Pickle is Python-specific and may not be compatible with other languages.\n",
    "# 3. Security: JSON is generally considered safer for data interchange, as it does not execute code during deserialization. \n",
    "# Pickle can execute arbitrary code during unpickling, which can pose security risks if the source of the pickle data is untrusted."
   ]
  },
  {
   "cell_type": "markdown",
   "metadata": {},
   "source": [
    "### File Handling in Python"
   ]
  },
  {
   "cell_type": "markdown",
   "metadata": {},
   "source": [
    "### Modes of opening a file\n",
    "\n",
    "- `r` – open for reading\n",
    "- `w` – open for writing, truncating the file first\n",
    "- `x` – open for exclusive creation, failing if the file already exists\n",
    "- `a` – open for writing, appending to the end of the file if it exists\n",
    "- `b` – binary mode\n",
    "- `t` – text mode (default)\n",
    "- `+` – open a disk file for updating (reading and writing)"
   ]
  },
  {
   "cell_type": "markdown",
   "metadata": {},
   "source": [
    "### Opening a file"
   ]
  },
  {
   "cell_type": "code",
   "execution_count": null,
   "metadata": {},
   "outputs": [],
   "source": [
    "file = open('trades.csv', 'mode')"
   ]
  },
  {
   "cell_type": "markdown",
   "metadata": {},
   "source": [
    "### Closing a file"
   ]
  },
  {
   "cell_type": "code",
   "execution_count": null,
   "metadata": {},
   "outputs": [],
   "source": [
    "file.close()"
   ]
  },
  {
   "cell_type": "markdown",
   "metadata": {},
   "source": [
    "### Writing to a file"
   ]
  },
  {
   "cell_type": "code",
   "execution_count": null,
   "metadata": {},
   "outputs": [],
   "source": [
    "file = open('trades.csv','w')\n",
    "file.write('symbol,price,quantity\\nAAPL,150,10\\nGOOG,2800,5')\n",
    "file.close()"
   ]
  },
  {
   "cell_type": "markdown",
   "metadata": {},
   "source": [
    "### Reading from a file"
   ]
  },
  {
   "cell_type": "code",
   "execution_count": null,
   "metadata": {},
   "outputs": [],
   "source": [
    "file = open('trades.csv','r')\n",
    "print(file.read())\n",
    "file.close()"
   ]
  },
  {
   "cell_type": "markdown",
   "metadata": {},
   "source": [
    "### Context manager"
   ]
  },
  {
   "cell_type": "code",
   "execution_count": null,
   "metadata": {},
   "outputs": [],
   "source": [
    "with open('trades.csv','w') as file:\n",
    "    file.write('symbol,price,quantity\\nAAPL,150,10\\nGOOG,2800,5')\n",
    "\n",
    "# file gets closed automatically"
   ]
  },
  {
   "cell_type": "markdown",
   "metadata": {},
   "source": [
    "### Working with text files"
   ]
  },
  {
   "cell_type": "code",
   "execution_count": null,
   "metadata": {},
   "outputs": [],
   "source": [
    "with open('trades.csv','w') as file:\n",
    "    file.write('symbol,price,quantity\\nAAPL,150,10\\nGOOG,2800,5')"
   ]
  },
  {
   "cell_type": "code",
   "execution_count": null,
   "metadata": {},
   "outputs": [],
   "source": [
    "with open('trades.csv','r') as file:\n",
    "    print(file.read())"
   ]
  },
  {
   "cell_type": "markdown",
   "metadata": {},
   "source": [
    "### Working with CSV files"
   ]
  },
  {
   "cell_type": "code",
   "execution_count": null,
   "metadata": {},
   "outputs": [],
   "source": [
    "import csv\n",
    "\n",
    "with open('trades.csv', 'w', newline='') as file:\n",
    "    writer = csv.writer(file)\n",
    "    writer.writerow([\"symbol\", \"price\", \"quantity\"])\n",
    "    writer.writerow([\"AAPL\", \"150\", \"10\"])\n",
    "    writer.writerow([\"GOOG\", \"2800\", \"5\"])"
   ]
  },
  {
   "cell_type": "code",
   "execution_count": null,
   "metadata": {},
   "outputs": [],
   "source": [
    "import csv\n",
    "\n",
    "with open('trades.csv', 'r') as file:\n",
    "    reader = csv.reader(file)\n",
    "    for row in reader:\n",
    "        print(row)"
   ]
  },
  {
   "cell_type": "markdown",
   "metadata": {},
   "source": [
    "### JSON (JavaScript Object Notation)"
   ]
  },
  {
   "cell_type": "code",
   "execution_count": null,
   "metadata": {},
   "outputs": [],
   "source": [
    "import json\n",
    "\n",
    "trade = {\"symbol\": \"AAPL\", \"price\": 150, \"quantity\": 10}\n",
    "trade_json = json.dumps(trade)\n",
    "print(trade_json)\n",
    "print(type(trade_json))"
   ]
  },
  {
   "cell_type": "markdown",
   "metadata": {},
   "source": [
    "### Working with JSON"
   ]
  },
  {
   "cell_type": "code",
   "execution_count": null,
   "metadata": {},
   "outputs": [],
   "source": [
    "import json\n",
    "\n",
    "trade = '{\"symbol\": \"AAPL\", \"price\": 150, \"quantity\": 10}'\n",
    "trade_dict = json.loads(trade)\n",
    "print(trade_dict)\n",
    "print(type(trade_dict))"
   ]
  },
  {
   "cell_type": "markdown",
   "metadata": {},
   "source": [
    "### Pickling\n",
    "\n",
    "`Pickling` is the process whereby a Python object hierarchy is converted into a byte stream, and `unpickling` is the inverse operation, whereby a byte stream (from a binary file or bytes-like object) is converted back into an object hierarchy."
   ]
  },
  {
   "cell_type": "code",
   "execution_count": null,
   "metadata": {},
   "outputs": [],
   "source": [
    "class Trade:\n",
    "\n",
    "  def __init__(self,symbol,price,quantity):\n",
    "    self.symbol = symbol\n",
    "    self.price = price\n",
    "    self.quantity = quantity\n",
    "\n",
    "  def display_info(self):\n",
    "    print(f'Trade: {self.symbol} at ${self.price} for {self.quantity} shares')"
   ]
  },
  {
   "cell_type": "code",
   "execution_count": null,
   "metadata": {},
   "outputs": [],
   "source": [
    "t = Trade('AAPL', 150, 10)"
   ]
  },
  {
   "cell_type": "markdown",
   "metadata": {},
   "source": [
    "### Pickle dump"
   ]
  },
  {
   "cell_type": "code",
   "execution_count": null,
   "metadata": {},
   "outputs": [],
   "source": [
    "import pickle\n",
    "with open('trade.pkl','wb') as f:\n",
    "  pickle.dump(t,f)"
   ]
  },
  {
   "cell_type": "markdown",
   "metadata": {},
   "source": [
    "### Pickle load"
   ]
  },
  {
   "cell_type": "code",
   "execution_count": null,
   "metadata": {},
   "outputs": [],
   "source": [
    "import pickle\n",
    "with open('trade.pkl','rb') as f:\n",
    "  t = pickle.load(f)\n",
    "\n",
    "t.display_info()"
   ]
  },
  {
   "cell_type": "markdown",
   "metadata": {},
   "source": [
    "### Pickle Vs Json\n",
    "\n",
    "- Pickle lets the user to store data in binary format. JSON lets the user store data in a human-readable text format."
   ]
  }
 ],
 "metadata": {
  "kernelspec": {
   "display_name": ".venv-1 (3.13.7)",
   "language": "python",
   "name": "python3"
  },
  "language_info": {
   "codemirror_mode": {
    "name": "ipython",
    "version": 3
   },
   "file_extension": ".py",
   "mimetype": "text/x-python",
   "name": "python",
   "nbconvert_exporter": "python",
   "pygments_lexer": "ipython3",
   "version": "3.13.7"
  }
 },
 "nbformat": 4,
 "nbformat_minor": 4
}
