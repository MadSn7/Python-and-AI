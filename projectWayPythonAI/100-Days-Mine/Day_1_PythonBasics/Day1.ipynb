{
 "cells": [
  {
   "cell_type": "markdown",
   "id": "0b766fc7",
   "metadata": {},
   "source": [
    "# Python Projects For AI Learning from Basic\n",
    "[Source Playlist](https://www.youtube.com/watch?v=yQRF3JOV3mk&list=PLUTKklmYVO37Ik8K1Ftdp4ULk3dMBCKYp&ab_channel=KuldeepSinghRathore%7CAITradingAutomation)\n",
    "- [Cource Targeted Contents](https://onedrive.live.com/personal/b8795789829a5342/_layouts/15/Doc.aspx?sourcedoc=%7B829a5342-5789-2079-80b8-b10000000000%7D&action=default&redeem=aHR0cHM6Ly8xZHJ2Lm1zL3cvcyFBa0pUbW9LSlYzbTRnVEdDVEtlZVlQUUxwMGlKP2U9Y2QydlF1&slrid=1eadbda1-2076-9000-f5c2-3097f16ebb43&originalPath=aHR0cHM6Ly8xZHJ2Lm1zL3cvYy9iODc5NTc4OTgyOWE1MzQyL1FVSlRtb0tKVjNrZ2dMaXhBQUFBQUFBQWdreW5ubUQwQzZkSWlRP3J0aW1lPWdlZF9weFBnM1Vn&CID=e81f444e-59e1-405d-9133-eb0cceea139c&_SRM=0:G:62)\n",
    "- [All Code](https://github.com/thekuldeepsingh/100-Days-Of-Hell-With-Python-Algotrading/tree/main/Day_1_Python_Basics)"
   ]
  },
  {
   "cell_type": "code",
   "execution_count": null,
   "id": "f7f6a8f1",
   "metadata": {},
   "outputs": [],
   "source": [
    "# Print Statement\n",
    "print(\"Hello, World!\")\n",
    "print(\"Hello, World!\", 100, [1,2,3], 1,2,{\"key\": \"value\"}, sep=\" - \", end=\"\\n\")\n",
    "print(\"hello\", end = \" and \")\n",
    "print(\"world\")"
   ]
  },
  {
   "cell_type": "code",
   "execution_count": null,
   "id": "eb28d73d",
   "metadata": {},
   "outputs": [],
   "source": [
    "# Data Types\n",
    "print(type(100))\n",
    "print(type(1))\n",
    "print(type(2.1))\n",
    "print(type(2+3j))\n",
    "  \n",
    "# complex lib have various type of element like complex.real etc\n",
    "\n",
    "print(type([1,\"2\",True, 2.1, 2+3j]))\n",
    "tuple = (1,\"2\",True, 2.1, 2+3j)\n",
    "print(type(tuple))\n",
    "set = {1,\"2\",True, 2.1, 2+3j}\n",
    "print(type(set))\n",
    "print(type(True))   \n",
    "print(type(\"Hello, World!\"))\n",
    "dict = {\"key\": \"value\", \"key2\": 1}\n",
    "print(type(dict))\n",
    "print(dict[\"key\"])\n",
    "print(dict[\"key2\"])\n",
    "print(dict.values()) "
   ]
  },
  {
   "cell_type": "code",
   "execution_count": null,
   "id": "b42acd08",
   "metadata": {},
   "outputs": [
    {
     "name": "stdout",
     "output_type": "stream",
     "text": [
      "<class 'int'>\n",
      "<class 'str'>\n",
      "5\n",
      "Hello\n",
      "3.14\n",
      "5\n",
      "5\n",
      "5\n"
     ]
    },
    {
     "data": {
      "text/plain": [
       "'\\nThis is a multi-line comment\\nThis is the second line of the multi-line comment\\nThis is the third line of the multi-line comment\\n'"
      ]
     },
     "execution_count": 36,
     "metadata": {},
     "output_type": "execute_result"
    }
   ],
   "source": [
    "# Python Variables\n",
    "x = 5\n",
    "y = \"Hello\"\n",
    "z = 3.14\n",
    "\n",
    "# In Python no need to specify type of variables like int , string etc like in java, c++\n",
    "# Dynamic Typing : Python automatically detects the type\n",
    "# Dynamic Binding : Python allows changing the type of variable\n",
    "b = 10\n",
    "print(type(b))\n",
    "b = \"Hello\"\n",
    "print(type(b))\n",
    "\n",
    "a,b,c = 5,\"Hello\",3.14\n",
    "print(a)\n",
    "print(b)\n",
    "print(c)\n",
    "a=b=c=5\n",
    "print(a)\n",
    "print(b)\n",
    "print(c)\n",
    "\n",
    "#Single Line Comment\n",
    "'''\n",
    "This is a multi-line comment\n",
    "This is the second line of the multi-line comment\n",
    "This is the third line of the multi-line comment\n",
    "'''\n",
    "\n"
   ]
  },
  {
   "cell_type": "code",
   "execution_count": 32,
   "id": "fa6c4810",
   "metadata": {},
   "outputs": [],
   "source": [
    "#Keywords and Identifiers\n",
    "# Keywords : False, None, True, and, as, assert, async, await, break, class, continue, def, del, elif, else, except, finally, for, from, global, if, import, in, is, lambda, nonlocal, not, or, pass, raise, return, try, while, with, yield\n",
    "# Identifiers : Names given to entities like variables, functions, classes, etc.Rules for naming identifiers:\n",
    "# 1. Must start with a letter (a-z, A-Z) or underscore (_)\n",
    "# 2. Can contain letters, numbers (0-9), and underscores\n",
    "# 3. Case-sensitive (age and Age are different)\n",
    "# 4. Cannot be a keyword"
   ]
  },
  {
   "cell_type": "code",
   "execution_count": null,
   "id": "95d1498b",
   "metadata": {},
   "outputs": [
    {
     "name": "stdout",
     "output_type": "stream",
     "text": [
      "Hello Madhur! You are 10 years old.\n",
      "In 5 years you will be 15 years old.\n"
     ]
    }
   ],
   "source": [
    "#User Input\n",
    "name = input(\"Enter your name: \")\n",
    "age = input(\"Enter your age: \")\n",
    "print(\"Hello \" + name + \"! You are \" + age + \" years old.\")\n",
    "# Type Conversion (Implicit and Explicit)\n",
    "age = int(age) #Explicit\n",
    "print(\"In 5 years you will be \" + str(age + 5) + \" years old.\")\n",
    "# Literals\n",
    "# A literal is a fixed value that is represented directly in the code.\n",
    "# Examples of literals in Python include:\n",
    "# 1. Numeric literals: 5, 3.14, -10, also hexadecimal, binary etc\n",
    "# 2. String literals: \"Hello\", 'World'\n",
    "# 3. Boolean literals: True, False\n",
    "# 4. None literal: None"
   ]
  }
 ],
 "metadata": {
  "kernelspec": {
   "display_name": "Python 3",
   "language": "python",
   "name": "python3"
  },
  "language_info": {
   "codemirror_mode": {
    "name": "ipython",
    "version": 3
   },
   "file_extension": ".py",
   "mimetype": "text/x-python",
   "name": "python",
   "nbconvert_exporter": "python",
   "pygments_lexer": "ipython3",
   "version": "3.9.6"
  }
 },
 "nbformat": 4,
 "nbformat_minor": 5
}
