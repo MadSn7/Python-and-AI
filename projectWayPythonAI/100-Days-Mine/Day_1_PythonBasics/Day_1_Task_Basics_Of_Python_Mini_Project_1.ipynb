{
 "cells": [
  {
   "cell_type": "markdown",
   "metadata": {},
   "source": [
    "1.Write a Python print statement that shows a message saying, \"Starting the trading session.\""
   ]
  },
  {
   "cell_type": "code",
   "execution_count": 2,
   "metadata": {},
   "outputs": [
    {
     "name": "stdout",
     "output_type": "stream",
     "text": [
      "Start the trading session\n"
     ]
    }
   ],
   "source": [
    "#Write your code here\n",
    "print(\"Start the trading session\")"
   ]
  },
  {
   "cell_type": "markdown",
   "metadata": {},
   "source": [
    "2.Create a variable stock_price that stores the current price of a stock as a floating-point number."
   ]
  },
  {
   "cell_type": "code",
   "execution_count": 3,
   "metadata": {},
   "outputs": [
    {
     "name": "stdout",
     "output_type": "stream",
     "text": [
      "<class 'float'>\n"
     ]
    }
   ],
   "source": [
    "#Write your code here\n",
    "stock_price = 100.0\n",
    "print(type(stock_price))"
   ]
  },
  {
   "cell_type": "markdown",
   "metadata": {},
   "source": [
    "3.Assign the symbol AAPL to a variable named stock_symbol."
   ]
  },
  {
   "cell_type": "code",
   "execution_count": 8,
   "metadata": {},
   "outputs": [],
   "source": [
    "#Write your code here\n",
    "stock_symbol = \"AAPL\""
   ]
  },
  {
   "cell_type": "markdown",
   "metadata": {},
   "source": [
    "4.Add a comment explaining that the following code will initialize a trading balance variable with 10000."
   ]
  },
  {
   "cell_type": "code",
   "execution_count": null,
   "metadata": {},
   "outputs": [],
   "source": [
    "#Write your code here\n",
    "# Will intialize a trading balance varible with 10000\n",
    "trading_balance = 10000"
   ]
  },
  {
   "cell_type": "markdown",
   "metadata": {},
   "source": [
    "5.Identify and fix the syntax error in the following code snippet:\n",
    "   total_return = final_price - initial_price\n",
    "   print(total_return)"
   ]
  },
  {
   "cell_type": "code",
   "execution_count": null,
   "metadata": {},
   "outputs": [],
   "source": [
    "#Write your code here\n",
    "initial_price = 90.0\n",
    "total_return = stock_price - initial_price\n",
    "print(total_return)"
   ]
  },
  {
   "cell_type": "markdown",
   "metadata": {},
   "source": [
    "6.Write a program that asks the user for the quantity of a stock to buy and prints \"Buying X shares,\" where X is the input quantity."
   ]
  },
  {
   "cell_type": "code",
   "execution_count": 9,
   "metadata": {},
   "outputs": [
    {
     "name": "stdout",
     "output_type": "stream",
     "text": [
      "Buying 10 shares of AAPL\n"
     ]
    }
   ],
   "source": [
    "#Write your code here\n",
    "quantity = int(input(\"Input quantity of stock to buy: \"))\n",
    "print(\"Buying \" + str(quantity) + \" shares of \" + stock_symbol)"
   ]
  },
  {
   "cell_type": "markdown",
   "metadata": {},
   "source": [
    "7.Convert a string variable price_str holding the value \"89.50\" into a floating-point number."
   ]
  },
  {
   "cell_type": "code",
   "execution_count": 10,
   "metadata": {},
   "outputs": [
    {
     "name": "stdout",
     "output_type": "stream",
     "text": [
      "Converted price: 89.5\n"
     ]
    }
   ],
   "source": [
    "#Write your code here\n",
    "price_str = \"89.50\"\n",
    "price_float = float(price_str)\n",
    "print(\"Converted price:\", price_float)"
   ]
  },
  {
   "cell_type": "markdown",
   "metadata": {},
   "source": [
    "8.Define a list literal containing the stock symbols \"AAPL\", \"TSLA\", and \"GOOGL\"."
   ]
  },
  {
   "cell_type": "code",
   "execution_count": 12,
   "metadata": {},
   "outputs": [
    {
     "name": "stdout",
     "output_type": "stream",
     "text": [
      "Available stocks: ['AAPL', 'TSLA', 'GOOGL']\n"
     ]
    }
   ],
   "source": [
    "#Write your code here\n",
    "list_of_stocks = [\"AAPL\", \"TSLA\", \"GOOGL\"]\n",
    "print(\"Available stocks:\", list_of_stocks)"
   ]
  },
  {
   "cell_type": "markdown",
   "metadata": {},
   "source": [
    "9.Write a print statement that outputs \"Stock XYZ is trading at $PRICE\", where XYZ is a variable symbol, and PRICE is a floating-point variable price."
   ]
  },
  {
   "cell_type": "code",
   "execution_count": 15,
   "metadata": {},
   "outputs": [
    {
     "name": "stdout",
     "output_type": "stream",
     "text": [
      "Stock XYZ is trading at $100.0\n"
     ]
    }
   ],
   "source": [
    "#Write your code here\n",
    "XYZ = \"XYZ\"\n",
    "PRICE = 100.0\n",
    "print(\"Stock \" + XYZ + \" is trading at $\" + str(PRICE))"
   ]
  },
  {
   "cell_type": "markdown",
   "metadata": {},
   "source": [
    "10.Write a Python Program print_trade_summary(symbol, quantity, price) that accepts a stock symbol, the number of shares, and the price per share. It should print out a formatted summary of the total trade cost."
   ]
  },
  {
   "cell_type": "code",
   "execution_count": 16,
   "metadata": {},
   "outputs": [
    {
     "name": "stdout",
     "output_type": "stream",
     "text": [
      "Trade Summary:\n",
      "Stock Symbol: AAPL\n",
      "Quantity: 10\n",
      "Price per Share: 100.0\n",
      "Total Cost: 1000.0\n"
     ]
    }
   ],
   "source": [
    "#Write your code here\n",
    "def print_trade_summary(stock_symbol, quantity, price):\n",
    "    total_cost = quantity * price\n",
    "    print(\"Trade Summary:\")\n",
    "    print(\"Stock Symbol:\", stock_symbol)\n",
    "    print(\"Quantity:\", quantity)\n",
    "    print(\"Price per Share:\", price)\n",
    "    print(\"Total Cost:\", total_cost)\n",
    "print_trade_summary(stock_symbol, quantity, stock_price)"
   ]
  },
  {
   "cell_type": "markdown",
   "metadata": {},
   "source": [
    "**11.** Calculate the Daily Return on Investment (ROI)\n",
    "\n",
    "**Objective:** Prompt the user to enter the purchase price and the selling price of a stock, and calculate the ROI.\n"
   ]
  },
  {
   "cell_type": "code",
   "execution_count": 17,
   "metadata": {},
   "outputs": [
    {
     "name": "stdout",
     "output_type": "stream",
     "text": [
      "Return on Investment (ROI): 11.11111111111111 %\n"
     ]
    }
   ],
   "source": [
    "#Write your code here\n",
    "purchase_price = int(input(\"Enter the purchase price of the stock: \"))\n",
    "selling_price = int(input(\"Enter the selling price of the stock: \"))\n",
    "roi = (selling_price - purchase_price) / purchase_price * 100\n",
    "print(\"Return on Investment (ROI):\", roi, \"%\")"
   ]
  },
  {
   "cell_type": "markdown",
   "metadata": {},
   "source": [
    "**12.** Determine the Average Price from User Inputs\n",
    "\n",
    "**Objective:** Ask the user to input three different prices of a stock throughout the day and compute the average.\n"
   ]
  },
  {
   "cell_type": "code",
   "execution_count": 18,
   "metadata": {},
   "outputs": [
    {
     "name": "stdout",
     "output_type": "stream",
     "text": [
      "Average stock price: 100.09999999999998\n"
     ]
    }
   ],
   "source": [
    "#Write your code here\n",
    "price1 = float(input(\"Enter the first stock price: \"))\n",
    "price2 = float(input(\"Enter the second stock price: \"))\n",
    "price3 = float(input(\"Enter the third stock price: \"))\n",
    "average_price = (price1 + price2 + price3) / 3\n",
    "print(\"Average stock price:\", average_price)"
   ]
  },
  {
   "cell_type": "markdown",
   "metadata": {},
   "source": [
    "**13.** Compare Two Stock Prices\n",
    "\n",
    "**Objective:** Ask the user for the prices of two stocks and print which one is higher.\n",
    "\n"
   ]
  },
  {
   "cell_type": "code",
   "execution_count": 19,
   "metadata": {},
   "outputs": [
    {
     "name": "stdout",
     "output_type": "stream",
     "text": [
      "The second stock is more expensive than the first stock.\n"
     ]
    }
   ],
   "source": [
    "#Write your code here\n",
    "price1 = int(input(\"Enter the first stock price: \"))\n",
    "price2 = int(input(\"Enter the second stock price: \"))\n",
    "if price1 > price2:\n",
    "    print(\"The first stock is more expensive than the second stock.\")\n",
    "elif price1 < price2:\n",
    "    print(\"The second stock is more expensive than the first stock.\")\n",
    "else:\n",
    "    print(\"Both stocks have the same price.\")"
   ]
  },
  {
   "cell_type": "markdown",
   "metadata": {},
   "source": [
    "**14.** Break-Even Price Calculator\n",
    "\n",
    "**Objective:** Calculate the break-even price after buying a stock and spending money on fees.\n",
    "\n",
    "\n"
   ]
  },
  {
   "cell_type": "code",
   "execution_count": 20,
   "metadata": {},
   "outputs": [
    {
     "name": "stdout",
     "output_type": "stream",
     "text": [
      "105.0\n"
     ]
    }
   ],
   "source": [
    "#Write your code here\n",
    "fees = 0.05\n",
    "def break_even_price(purchase_price, fees):\n",
    "    return purchase_price * (1 + fees)\n",
    "print(break_even_price(float(input(\"Enter the purchase price of the stock: \")), fees))"
   ]
  },
  {
   "cell_type": "markdown",
   "metadata": {},
   "source": [
    "**15.** Display Stock Price Change\n",
    "\n",
    "**Objective:** Ask the user to enter yesterday's and today's stock prices, then print the change in price.\n",
    "\n",
    "\n"
   ]
  },
  {
   "cell_type": "code",
   "execution_count": 21,
   "metadata": {},
   "outputs": [
    {
     "name": "stdout",
     "output_type": "stream",
     "text": [
      "Price change: -10.0\n"
     ]
    }
   ],
   "source": [
    "#Write your code here\n",
    "yesterday_price = float(input(\"Enter yesterday's stock price: \"))\n",
    "today_price = float(input(\"Enter today's stock price: \"))\n",
    "price_change = today_price - yesterday_price\n",
    "print(\"Price change:\", price_change)"
   ]
  },
  {
   "cell_type": "markdown",
   "metadata": {},
   "source": [
    "**16.** Calculate Required Margin\n",
    "\n",
    "**Objective:** Calculate the required margin for a trade based on user inputs for trade size and margin rate.\n",
    "\n"
   ]
  },
  {
   "cell_type": "code",
   "execution_count": 23,
   "metadata": {},
   "outputs": [
    {
     "name": "stdout",
     "output_type": "stream",
     "text": [
      "Required margin: $ 5.0\n"
     ]
    }
   ],
   "source": [
    "#Write your code here\n",
    "trade_size = float(input(\"Enter the trade size: \"))\n",
    "margin_rate = float(input(\"Enter the margin rate: \"))\n",
    "required_margin = trade_size * margin_rate\n",
    "print(\"Required margin: $\", required_margin)"
   ]
  },
  {
   "cell_type": "markdown",
   "metadata": {},
   "source": [
    "**17.** Convert Currency from User Input\n",
    "\n",
    "**Objective:** Ask the user for an amount in USD and a conversion rate, then convert it to another currency.\n",
    "\n",
    "\n"
   ]
  },
  {
   "cell_type": "code",
   "execution_count": 24,
   "metadata": {},
   "outputs": [
    {
     "name": "stdout",
     "output_type": "stream",
     "text": [
      "Amount in local currency: 3080.0\n"
     ]
    }
   ],
   "source": [
    "#Write your code here\n",
    "amount_in_usd = float(input(\"Enter the amount in USD: \"))\n",
    "conversion_rate = float(input(\"Enter the conversion rate to your currency: \"))\n",
    "amount_in_local_currency = amount_in_usd * conversion_rate\n",
    "print(\"Amount in local currency:\", amount_in_local_currency)"
   ]
  },
  {
   "cell_type": "markdown",
   "metadata": {},
   "source": [
    "**18.** Calculate the Weighted Average Price\n",
    "\n",
    "**Objective:** Calculate the weighted average price based on user inputs for different prices and their respective weights.\n",
    "\n",
    "\n"
   ]
  },
  {
   "cell_type": "code",
   "execution_count": 28,
   "metadata": {},
   "outputs": [
    {
     "name": "stdout",
     "output_type": "stream",
     "text": [
      "Stock prices: [40.0, 60.0]\n",
      "Weights: [0.4, 0.6]\n",
      "Weighted average: 52.0\n"
     ]
    }
   ],
   "source": [
    "#Write your code here\n",
    "num_of_prices = int(input(\"Enter the number of stock prices: \"))\n",
    "stock_prices = []\n",
    "weighted_average = []\n",
    "for i in range(num_of_prices):\n",
    "    price = float(input(f\"Enter price for stock {i + 1}: \"))\n",
    "    stock_prices.append(price)\n",
    "    weight = float(input(f\"Enter weight for stock {i + 1}: \"))\n",
    "    weighted_average.append(weight)\n",
    "print(\"Stock prices:\", stock_prices)\n",
    "print(\"Weights:\", weighted_average)\n",
    "total_weighted_average = 0.0\n",
    "for i in range(num_of_prices):\n",
    "    total_weighted_average += stock_prices[i] * weighted_average[i]\n",
    "print(\"Weighted average:\", total_weighted_average/sum(weighted_average))"
   ]
  },
  {
   "cell_type": "markdown",
   "metadata": {},
   "source": [
    "**19.** User Input to Adjust Stock Quantity\n",
    "\n",
    "**Objective:** Prompt the user for the current number of stocks, how many to buy, and how many to sell, then calculate the new total.\n",
    "\n",
    "\n",
    "\n"
   ]
  },
  {
   "cell_type": "code",
   "execution_count": 30,
   "metadata": {},
   "outputs": [
    {
     "name": "stdout",
     "output_type": "stream",
     "text": [
      "Total number of stocks after transaction: 90\n"
     ]
    }
   ],
   "source": [
    "#Write your code here\n",
    "current_number_of_stocks = int(input(\"Enter the current number of stocks: \"))\n",
    "buy_quantity = int(input(\"Enter the buy quantity: \"))\n",
    "sell_quantity = int(input(\"Enter the sell quantity: \"))\n",
    "\n",
    "total_stocks = current_number_of_stocks + buy_quantity - sell_quantity\n",
    "print(\"Total number of stocks after transaction:\", total_stocks)"
   ]
  },
  {
   "cell_type": "markdown",
   "metadata": {},
   "source": [
    "### Python Mini Project 1 :\n",
    "\n",
    "Scenario: Stock Data Entry and Analysis Tool\n",
    "\n",
    "**Objective:**\n",
    "Create a Python script that  will involve taking manual input for stock prices over a week and will calculate the average price. It should also demonstrate variable declaration, user input, and basic arithmetic using Python types.\n",
    "\n"
   ]
  },
  {
   "cell_type": "code",
   "execution_count": 32,
   "metadata": {},
   "outputs": [
    {
     "name": "stdout",
     "output_type": "stream",
     "text": [
      "Average stock price over the week: 30.0\n"
     ]
    }
   ],
   "source": [
    "def average_price_over_the_week():\n",
    "    prices = []\n",
    "    for i in range(5):\n",
    "        price = float(input(f\"Enter the stock price for day {i + 1}: \"))\n",
    "        prices.append(price)\n",
    "    average_price = sum(prices) / len(prices)\n",
    "    print(\"Average stock price over the week:\", average_price)\n",
    "average_price_over_the_week()"
   ]
  }
 ],
 "metadata": {
  "kernelspec": {
   "display_name": "Python 3",
   "language": "python",
   "name": "python3"
  },
  "language_info": {
   "codemirror_mode": {
    "name": "ipython",
    "version": 3
   },
   "file_extension": ".py",
   "mimetype": "text/x-python",
   "name": "python",
   "nbconvert_exporter": "python",
   "pygments_lexer": "ipython3",
   "version": "3.9.6"
  }
 },
 "nbformat": 4,
 "nbformat_minor": 2
}
