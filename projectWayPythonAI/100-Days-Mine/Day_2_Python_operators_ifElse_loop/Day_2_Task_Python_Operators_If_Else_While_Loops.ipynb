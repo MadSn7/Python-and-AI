{
 "cells": [
  {
   "cell_type": "markdown",
   "metadata": {},
   "source": [
    "1. **Operators and Logical Expressions**  \n",
    "   - **Question**: You have a list of stock prices over 30 days. Write a logical expression that will identify consecutive price drops over three days or more. For instance, `[120, 118, 115, 110]` would qualify, but `[120, 118, 120, 110]` would not."
   ]
  },
  {
   "cell_type": "code",
   "execution_count": 8,
   "metadata": {},
   "outputs": [
    {
     "name": "stdout",
     "output_type": "stream",
     "text": [
      "Detected Consecutive 3 or more Days decrease: [107, 102, 101]\n",
      "Detected Consecutive 3 or more Days decrease: [110, 108, 107]\n"
     ]
    }
   ],
   "source": [
    "#Write your code here\n",
    "prev_value = None\n",
    "curr_list = []\n",
    "prices = [107, 102, 101, 110, 108,107]\n",
    "\n",
    "for price in prices:\n",
    "    if prev_value is None or price < prev_value:\n",
    "        curr_list.append(price)\n",
    "    else:\n",
    "        if len(curr_list) >= 3:\n",
    "            print(\"Detected Consecutive 3 or more Days decrease:\", curr_list)\n",
    "        curr_list = [price]\n",
    "    prev_value = price\n",
    "if len(curr_list) >= 3:\n",
    "    print(\"Detected Consecutive 3 or more Days decrease:\", curr_list)"
   ]
  },
  {
   "cell_type": "markdown",
   "metadata": {},
   "source": [
    "2. **If-Else Statements**  \n",
    "   - **Question**: You are designing an algorithm to trade stocks. If the current price of a stock is above the 30-day moving average, print `\"Buy Signal\"`; otherwise, print `\"Sell Signal\"`. Assume you have a list of daily prices and that the moving average can be calculated."
   ]
  },
  {
   "cell_type": "code",
   "execution_count": null,
   "metadata": {},
   "outputs": [],
   "source": [
    "#Write your code here\n",
    "def calculate_average_price(prices, days, current_price):\n",
    "\n",
    "    if len(prices) < days:\n",
    "        return None\n",
    "\n",
    "    # Calculate the average of the last 'days' prices\n",
    "    average = sum(prices[-days:]) / days\n",
    "    return average"
   ]
  },
  {
   "cell_type": "markdown",
   "metadata": {},
   "source": [
    "3. **Modules (pandas)**  \n",
    "   - **Question**: Use the `pandas` library to load a CSV file containing historical trading data and calculate the daily percentage change of closing prices over a period of time."
   ]
  },
  {
   "cell_type": "code",
   "execution_count": null,
   "metadata": {},
   "outputs": [],
   "source": [
    "#Write your code here\n",
    "import pandas\n",
    "\n",
    "data = pandas.read_csv(\"path/to/your/csvfile.csv\")\n",
    "for index, row in data.iterrows():\n",
    "    currPrice = row['Close']  # Assuming 'Close' is the column with the closing prices\n",
    "    if(index >=2)  :\n",
    "        print(\"daily change\", currPrice - data.iloc[index-1]['Close'])"
   ]
  },
  {
   "cell_type": "markdown",
   "metadata": {},
   "source": [
    "4. **While Loop**  \n",
    "   - **Question**: Create a loop that repeatedly checks a stock price from a real-time source every 10 seconds until the stock falls below a threshold value. In this scenario, print `\"Threshold Exceeded\"` when the threshold is crossed."
   ]
  },
  {
   "cell_type": "code",
   "execution_count": 16,
   "metadata": {},
   "outputs": [
    {
     "name": "stdout",
     "output_type": "stream",
     "text": [
      "Monitoring stock price in real-time...\n",
      "Current stock price: $111.06\n",
      "Current stock price: $108.65\n",
      "Current stock price: $110.46\n",
      "Current stock price: $118.98\n",
      "Current stock price: $119.1\n",
      "Current stock price: $120.24\n",
      "Current stock price: $119.94\n",
      "Current stock price: $108.11\n",
      "Current stock price: $103.01\n",
      "Stock price dropped below $105, stopping monitoring.\n"
     ]
    }
   ],
   "source": [
    "#Write your code here\n",
    "import time\n",
    "import random\n",
    "\n",
    "def simulate_real_time_stock_price():\n",
    "    return round(random.uniform(100, 125), 2)\n",
    "\n",
    "def monitor_stock_price():\n",
    "    print(\"Monitoring stock price in real-time...\")\n",
    "    while True:\n",
    "        current_price = simulate_real_time_stock_price()\n",
    "        print(f\"Current stock price: ${current_price}\")\n",
    "        if current_price < 105:  # Example condition to stop monitoring\n",
    "            print(\"Stock price dropped below $105, stopping monitoring.\")\n",
    "            break\n",
    "        time.sleep(2)  # Simulate real-time delay\n",
    "monitor_stock_price()"
   ]
  },
  {
   "cell_type": "markdown",
   "metadata": {},
   "source": [
    "\n",
    "5. **For Loop**  \n",
    "   - **Question**: You have data on the opening and closing prices of multiple stocks in a portfolio. Using a for loop, calculate and print the total daily gain or loss for each stock in the portfolio."
   ]
  },
  {
   "cell_type": "code",
   "execution_count": null,
   "metadata": {},
   "outputs": [],
   "source": [
    "#Write your code here\n",
    "open_prices = [100,105,110]\n",
    "closing_prices = [102,107,109]\n",
    "\n",
    "for i in range(len(open_prices)):\n",
    "    print(f\"Stock {i+1}: Opened at ${open_prices[i]}, Closed at ${closing_prices[i]}, overall change ${closing_prices[i] - open_prices[i]}\")"
   ]
  },
  {
   "cell_type": "markdown",
   "metadata": {},
   "source": [
    "6. **Nested Loops**  \n",
    "   - **Question**: Create a nested loop that simulates a simple market-making strategy by placing buy and sell orders over a range of prices and volumes. Assume bid prices range from 90 to 100 and ask prices range from 101 to 110."
   ]
  },
  {
   "cell_type": "code",
   "execution_count": null,
   "metadata": {},
   "outputs": [],
   "source": [
    "#Write your code here\n",
    "def simulate_market_making(min_bid, max_bid, min_ask, max_ask):\n",
    "    print(\"Simulating Market Making Strategy:\")\n",
    "    print(\"-\" * 35)\n",
    "\n",
    "    for bid_price in range(min_bid, max_bid + 1):\n",
    "        for ask_price in range(min_ask, max_ask + 1):\n",
    "            # Ensure ask price is always greater than bid price\n",
    "            if ask_price > bid_price:\n",
    "                print(f\"Placing Buy Order: Price=${bid_price}, Volume=100 units\")\n",
    "                print(f\"Placing Sell Order: Price=${ask_price}, Volume=100 units\")\n",
    "                print(\"---\")\n",
    "            else:\n",
    "                # Optionally, you might handle cases where ask_price <= bid_price\n",
    "                # For a market maker, ask prices should always be higher than bid prices\n",
    "                pass\n",
    "\n",
    "# Define the price ranges\n",
    "min_bid_price = 90\n",
    "max_bid_price = 100\n",
    "min_ask_price = 101\n",
    "max_ask_price = 110\n",
    "\n",
    "# Run the simulation\n",
    "simulate_market_making(min_bid_price, max_bid_price, min_ask_price, max_ask_price)"
   ]
  },
  {
   "cell_type": "markdown",
   "metadata": {},
   "source": [
    "7. **Complex If-Else Logic**  \n",
    "   - **Question**: You have a complex trading rule where a `\"Strong Buy\"` signal is given if the stock price is above both the 30-day and 50-day moving averages, a `\"Buy\"` signal is given if only above the 30-day, a `\"Hold\"` signal if above the 50-day, and a `\"Sell\"` signal otherwise. Calculate the signals assuming you have daily prices for at least 50 days."
   ]
  },
  {
   "cell_type": "code",
   "execution_count": null,
   "metadata": {},
   "outputs": [],
   "source": [
    "#Write your code here\n",
    "def complex_trading_rule(prices, curr_price):\n",
    "    average_price_last_30_days = sum(prices[-30:]) / 30\n",
    "    average_price_last_50_days = sum(prices[-50:]) / 50\n",
    "\n",
    "    if curr_price > average_price_last_30_days and curr_price > average_price_last_50_days:\n",
    "        return \"Strong Buy\"\n",
    "    elif curr_price > average_price_last_30_days :\n",
    "        return \"Buy\"\n",
    "    elif curr_price > average_price_last_50_days:\n",
    "        return \"Hold\"\n",
    "    else:\n",
    "        return \"Sell\""
   ]
  },
  {
   "cell_type": "markdown",
   "metadata": {},
   "source": [
    "8. **Modules (numpy)**  \n",
    "   - **Question**: Use the `numpy` module to calculate the rolling average for a window of 5 days over a numpy array containing 20 stock prices."
   ]
  },
  {
   "cell_type": "code",
   "execution_count": 36,
   "metadata": {},
   "outputs": [
    {
     "name": "stdout",
     "output_type": "stream",
     "text": [
      "[107.8 109.6 111.4 112.8 114.7 116.4 117.7 119.6 121.4 123.1 125.2]\n"
     ]
    }
   ],
   "source": [
    "import numpy as np\n",
    "\n",
    "def calculate_rolling_average(prices, window_size):\n",
    "    if len(prices) < window_size:\n",
    "        raise ValueError(\"Input array is too small for the specified window size.\")\n",
    "    \n",
    "    weights = np.ones(window_size) / window_size\n",
    "    rolling_avg = np.convolve(prices, weights, 'valid')\n",
    "    return rolling_avg\n",
    "\n",
    "stock_prices = np.array([100, 102, 105, 103, 108, 110, 109, 112, 115, 114, 118, 120, 119, 122, 125, 123, 128, 130, 132, 135])\n",
    "window_size = 10\n",
    "\n",
    "rolling_averages = calculate_rolling_average(stock_prices, window_size)\n",
    "\n",
    "print(rolling_averages)\n",
    "# copied"
   ]
  },
  {
   "cell_type": "markdown",
   "metadata": {},
   "source": [
    "9. **Optimization with Loops**  \n",
    "   - **Question**: Calculate the best day to buy and the best day to sell to maximize profit within a list of daily prices using a single pass of nested loops."
   ]
  },
  {
   "cell_type": "code",
   "execution_count": null,
   "metadata": {},
   "outputs": [],
   "source": [
    "#Write your code here\n",
    "def best_day_to_invest(prices):\n",
    "    min_price = float('inf')\n",
    "    max_profit = 0\n",
    "    best_day = -1\n",
    "\n",
    "    for i, price in enumerate(prices):\n",
    "        if price < min_price:\n",
    "            min_price = price\n",
    "            potential_profit = prices[i+1] - min_price if i+1 < len(prices) else 0\n",
    "            if potential_profit > max_profit:\n",
    "                max_profit = potential_profit\n",
    "                best_day = i + 1\n",
    "\n",
    "    return best_day"
   ]
  },
  {
   "cell_type": "markdown",
   "metadata": {},
   "source": [
    "10. **Scenario Analysis**  \n",
    "   - **Question**: Given that a certain algorithm follows a strategy where every time a stock gains 5% in value from the last recorded price, the program places a sell order. Track the hypothetical prices over 15 days and identify when sell orders should be triggered."
   ]
  },
  {
   "cell_type": "code",
   "execution_count": 30,
   "metadata": {},
   "outputs": [
    {
     "name": "stdout",
     "output_type": "stream",
     "text": [
      "108.88676187457102\n",
      "Sell on day 1\n",
      "115.57009550615132\n",
      "Sell on day 2\n",
      "111.93626356259914\n",
      "105.4306095612553\n",
      "102.54001478334862\n",
      "104.06633013300502\n",
      "98.20703133447786\n",
      "94.83211340469991\n",
      "92.19483873499601\n",
      "91.93652899611962\n",
      "92.42991474068916\n",
      "97.9289162991447\n",
      "Sell on day 12\n",
      "107.61898059205801\n",
      "Sell on day 13\n",
      "100.37990960315989\n",
      "94.29053601032797\n"
     ]
    }
   ],
   "source": [
    "def simulate_real_time_stock_price_daily(currPrice):\n",
    "    # Simulate real-time stock price changes\n",
    "    price_fluctuation = random.uniform(-0.1, 0.1)  # Random fluctuation between -10% and 10%\n",
    "    new_price = currPrice + currPrice * price_fluctuation\n",
    "    return new_price\n",
    "\n",
    "def certain_algo(currPrice):\n",
    "    for day in range(15):  \n",
    "        next_day_price = simulate_real_time_stock_price_daily(currPrice)\n",
    "        print(next_day_price)\n",
    "        if next_day_price >= currPrice+(currPrice*0.05):\n",
    "            print(\"Sell on day\", day + 1)\n",
    "        currPrice = next_day_price\n",
    "\n",
    "certain_algo(100)  # Example starting price\n"
   ]
  },
  {
   "cell_type": "markdown",
   "metadata": {},
   "source": [
    "### Python Mini Project 2 :\n",
    "\n",
    "Scenario: Simulated Stock Trading Bot\n",
    "\n",
    "**Objective:**\n",
    "Create a Python script that simulates trading over a dataset containing historical stock prices. The bot will decide whether to buy, hold, or sell based on the momentum calculated as the difference between the current price and the average price of the last few days.\n",
    "\n",
    "\n",
    "### Project Components:\n",
    "\n",
    "1. **Data Structure**:\n",
    "   - Use a list of tuples or dictionaries to simulate historical stock data with each element containing information about the stock price on a particular day.\n",
    "\n",
    "2. **Momentum Calculation**:\n",
    "   - Calculate the average price of the last N days and compare it with the current day's price to determine the momentum.\n",
    "\n",
    "3. **Trading Decisions**:\n",
    "   - Use if-else statements to make trading decisions based on the calculated momentum.\n",
    "\n",
    "4. **Trading Simulation**:\n",
    "   - Loop through the dataset and simulate trading decisions, updating the portfolio accordingly.\n",
    "\n",
    "5. **Performance Evaluation**:\n",
    "   - At the end of the simulation, calculate and print the final portfolio value and compare it with the initial value to gauge performance.\n",
    "\n",
    "### Skills and Python Features Used:\n",
    "- **Python Operators**: Use arithmetic operators to calculate averages, gains, and losses.\n",
    "- **Python if-else**: Make conditional decisions based on momentum and other trading indicators.\n",
    "- **Python Modules**: Use the `datetime` module for handling dates, `matplotlib` for plotting stock prices and portfolio value over time.\n",
    "- **Python While Loop**: Could be used to allow the simulation to run until a certain condition is met, like a stop-loss limit.\n",
    "- **Python for loop**: Iterate over each day in the stock dataset to simulate trading.\n",
    "\n",
    "\n"
   ]
  },
  {
   "cell_type": "code",
   "execution_count": null,
   "metadata": {},
   "outputs": [],
   "source": [
    "#Write your code here"
   ]
  }
 ],
 "metadata": {
  "kernelspec": {
   "display_name": "Python 3",
   "language": "python",
   "name": "python3"
  },
  "language_info": {
   "codemirror_mode": {
    "name": "ipython",
    "version": 3
   },
   "file_extension": ".py",
   "mimetype": "text/x-python",
   "name": "python",
   "nbconvert_exporter": "python",
   "pygments_lexer": "ipython3",
   "version": "3.9.6"
  }
 },
 "nbformat": 4,
 "nbformat_minor": 2
}
