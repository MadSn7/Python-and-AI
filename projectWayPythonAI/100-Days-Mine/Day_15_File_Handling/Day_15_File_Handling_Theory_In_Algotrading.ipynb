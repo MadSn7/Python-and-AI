{
 "cells": [
  {
   "cell_type": "code",
   "execution_count": null,
   "id": "561fe1d1",
   "metadata": {},
   "outputs": [],
   "source": [
    "# File Handling in Python\n",
    "# we have modes like read, write, append, etc.\n",
    "# w - write mode\n",
    "# r - read mode\n",
    "# a - append mode\n",
    "# x - create mode\n",
    "# t - text mode\n",
    "# b - binary mode\n",
    "# + - read and write mode\n",
    "# r+ - read and write mode\n",
    "# w+ - write and read mode\n",
    "# a+ - append and read mode\n",
    "# x+ - create and read mode\n",
    "# t+ - text and read mode\n",
    "# b+ - binary and read mode\n",
    "# we have type of file like unicode file(text,csv,json), binary file(image,video,exe), we have to specify mode and type of file while opening a file\n",
    "# open() function is used to open a file , syntax: open(filename, mode)\n",
    "# if mode is not specified, it will be opened in read mode, after opening a file, we have to close the file using close() method  \n",
    "# open(\"file.txt\", \"w\")  # opens file in write mode , will create file if not exists, if exists it will overwrite the file\n",
    "f = open(\"file.txt\", \"a\")  # opens file in read mode\n",
    "f.write(\"writing to a file\")  # writes to the file\n",
    "f.close()  # closes the file\n",
    "# we can also use with statement to open a file, it will automatically close the file after the block is executed\n",
    "# without closing the file, that data won't be saved to the file\n",
    "# can open file to read fix number of characters using read(n) method, n is number of characters to read\n",
    "with open(\"file.txt\", \"r\") as f:\n",
    "    content = f.read(5)  # reads first 5 characters of the file\n",
    "    print(content)\n",
    "# can read file line by line using readline() method\n",
    "with open(\"file.txt\", \"r\") as f:\n",
    "    line = f.readline()  # reads first line of the file\n",
    "    print(line)\n",
    "# can read all lines of the file using readlines() method, it returns a list of lines\n",
    "with open(\"file.txt\", \"r\") as f:\n",
    "    lines = f.readlines()  # reads all lines of the file\n",
    "    print(lines)  # prints list of lines\n",
    "# can iterate through the file object to read line by line\n",
    "with open(\"file.txt\", \"r\") as f:\n",
    "    for line in f:\n",
    "        print(line)  # prints each line of the file\n",
    "# context manager automatically closes the file after the block is executed\n",
    "with open(\"file.txt\", \"w\") as f:\n",
    "    f.write(\"writing to a file\")  # writes to the file  \n",
    "# no need to close the file, it will be closed automatically\n"
   ]
  },
  {
   "cell_type": "code",
   "execution_count": null,
   "id": "849be63e",
   "metadata": {},
   "outputs": [],
   "source": []
  }
 ],
 "metadata": {
  "kernelspec": {
   "display_name": ".venv-1 (3.13.7)",
   "language": "python",
   "name": "python3"
  },
  "language_info": {
   "codemirror_mode": {
    "name": "ipython",
    "version": 3
   },
   "file_extension": ".py",
   "mimetype": "text/x-python",
   "name": "python",
   "nbconvert_exporter": "python",
   "pygments_lexer": "ipython3",
   "version": "3.13.7"
  }
 },
 "nbformat": 4,
 "nbformat_minor": 5
}
