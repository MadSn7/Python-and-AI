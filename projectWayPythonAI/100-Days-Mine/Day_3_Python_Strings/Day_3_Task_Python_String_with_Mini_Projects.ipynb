{
 "cells": [
  {
   "cell_type": "markdown",
   "metadata": {},
   "source": [
    "1. **Complex String Manipulation with Loops**  \n",
    "   - **Question**: Given a string of mixed data containing symbols and prices like `\"AAPL100GOOG200MSFT300\"`, write a script to extract and print each symbol with its corresponding price on separate lines."
   ]
  },
  {
   "cell_type": "code",
   "execution_count": null,
   "metadata": {},
   "outputs": [
    {
     "name": "stdout",
     "output_type": "stream",
     "text": [
      "[('AAPL', '100'), ('GOOG', '200'), ('MSFT', '300')]\n"
     ]
    }
   ],
   "source": [
    "#Write your code here\n",
    "portfolio = \"AAPL100GOOG200MSFT300\"\n",
    "def parse_portfolio(portfolio):\n",
    "    stocks = []\n",
    "    flag = True\n",
    "    stock_name = \"\"\n",
    "    stock_quantity = \"\"\n",
    "    for i in portfolio:\n",
    "        if i.isalpha():\n",
    "            if flag:\n",
    "                stock_name += i\n",
    "            else:\n",
    "                stocks.append((stock_name, stock_quantity))\n",
    "                stock_name = i\n",
    "                stock_quantity = \"\"\n",
    "                flag = True\n",
    "        elif i.isdigit():\n",
    "            stock_quantity += i\n",
    "            flag = False\n",
    "    if stock_name and stock_quantity:\n",
    "        stocks.append((stock_name, stock_quantity))\n",
    "    print(stocks)\n",
    "    # return stocks\n",
    "parse_portfolio(portfolio)\n",
    "# can be done more easily using regex"
   ]
  },
  {
   "cell_type": "markdown",
   "metadata": {},
   "source": [
    "2. **Using Break and Continue in Data Cleaning (This topic is covered in the next session 4)**\n",
    "   - **Question**: You are processing log data from trades. Stop processing if you encounter \"ERROR\" in the logs and skip any logs that start with \"#\"."
   ]
  },
  {
   "cell_type": "code",
   "execution_count": 56,
   "metadata": {},
   "outputs": [
    {
     "name": "stdout",
     "output_type": "stream",
     "text": [
      "this\n",
      "is\n",
      "logs\n"
     ]
    }
   ],
   "source": [
    "# Write your code here\n",
    "logs = \"this is logs #someHash ERROR sdjsakdj adjskadj\"\n",
    "for log in logs.split():\n",
    "    if log.startswith(\"#\"):\n",
    "        continue\n",
    "    if log.endswith(\"ERROR\"):\n",
    "        break\n",
    "    print(log)"
   ]
  },
  {
   "cell_type": "markdown",
   "metadata": {},
   "source": [
    "3. **String Slicing and Indexing**\n",
    "   - **Question**: Given a long string of security transaction details formatted as \"Buy100AAPLSell200GOOG\", where each segment starts with a transaction type followed by the amount and the ticker, print each transaction detail on a new line."
   ]
  },
  {
   "cell_type": "code",
   "execution_count": 7,
   "metadata": {},
   "outputs": [
    {
     "name": "stdout",
     "output_type": "stream",
     "text": [
      "Transaction Details:\n",
      "-------------------------\n",
      "Buy100AAPL\n",
      "Sell200GOOG\n"
     ]
    }
   ],
   "source": [
    "# Write your code here\n",
    "transaction_string = \"Buy100AAPLSell200GOOG\"\n",
    "\n",
    "# Define the length of each transaction segment\n",
    "# \"Buy\" is 3 chars, \"Sell\" is 4 chars. The ticker is 4 chars. Amount is variable.\n",
    "# This approach requires a fixed-length structure which is not ideal for this problem.\n",
    "# A more robust solution is to identify the start of each new transaction type.\n",
    "\n",
    "# Let's find the start of each transaction type\n",
    "buy_index = transaction_string.find(\"Buy\")\n",
    "sell_index = transaction_string.find(\"Sell\")\n",
    "\n",
    "# Assuming the format is consistent and transactions start with \"Buy\" or \"Sell\"\n",
    "print(\"Transaction Details:\")\n",
    "print(\"-\" * 25)\n",
    "\n",
    "if buy_index != -1:\n",
    "    # Find the end of the first transaction\n",
    "    if sell_index != -1:\n",
    "        buy_transaction = transaction_string[buy_index:sell_index]\n",
    "        print(buy_transaction)\n",
    "    else:\n",
    "        # If there's only a buy transaction\n",
    "        print(transaction_string[buy_index:])\n",
    "\n",
    "if sell_index != -1:\n",
    "    # The rest of the string is the sell transaction\n",
    "    sell_transaction = transaction_string[sell_index:]\n",
    "    print(sell_transaction)\n",
    "\n",
    "# Note: For more complex or variable-length strings, this method becomes fragile.\n",
    "# A more scalable solution would involve using regular expressions."
   ]
  },
  {
   "cell_type": "markdown",
   "metadata": {},
   "source": [
    "4. **Nested Loops with String Functions**\n",
    "   - **Question**: Create a nested loop that reads a string of stock symbols separated by commas, then prints each symbol and its reverse."
   ]
  },
  {
   "cell_type": "code",
   "execution_count": 9,
   "metadata": {},
   "outputs": [
    {
     "name": "stdout",
     "output_type": "stream",
     "text": [
      "AAPL LPAA\n",
      "GOOG GOOG\n",
      "MSFT TFSM\n",
      "TSLA ALST\n"
     ]
    }
   ],
   "source": [
    "# Write your code here\n",
    "stocks = \"AAPL,GOOG,MSFT,TSLA\"\n",
    "stock_list = stocks.split(\",\")\n",
    "for stock in stock_list:\n",
    "    print(stock+\" \"+stock[::-1])"
   ]
  },
  {
   "cell_type": "markdown",
   "metadata": {},
   "source": [
    "\n",
    "5. **Advanced String Manipulation**\n",
    "   - **Question**: Given a block of text representing a financial report, replace any instance of financial terms with their uppercase counterparts. The terms are \"revenue\", \"cost\", \"profit\"."
   ]
  },
  {
   "cell_type": "code",
   "execution_count": 13,
   "metadata": {},
   "outputs": [
    {
     "name": "stdout",
     "output_type": "stream",
     "text": [
      "ArithmeticError: REVENUE PROFIT COST\n"
     ]
    }
   ],
   "source": [
    "# Write your code here\n",
    "def correct_financial_data(data):\n",
    "    data = data.replace(\"revenue\", \"REVENUE\")\n",
    "    data = data.replace(\"profit\", \"PROFIT\")\n",
    "    data = data.replace(\"cost\", \"COST\")\n",
    "    print(data)\n",
    "data = \"ArithmeticError: revenue profit cost\"\n",
    "correct_financial_data(data)"
   ]
  },
  {
   "cell_type": "markdown",
   "metadata": {},
   "source": [
    "6. **Complex Data Extraction**\n",
    "   - **Question**: Extract stock symbols and their respective share counts from a string like \"Buy 50 AAPL and sell 30 GOOG\", ensuring that only valid transactions (Buy/Sell) are processed."
   ]
  },
  {
   "cell_type": "code",
   "execution_count": null,
   "metadata": {},
   "outputs": [
    {
     "name": "stdout",
     "output_type": "stream",
     "text": [
      "Stock Name: 50, Quantity: AAPL\n",
      "Stock Name: 30, Quantity: GOOG\n"
     ]
    }
   ],
   "source": [
    "# Write your code here\n",
    "def process_financial_data(data):\n",
    "    all_data = data.split(\" \")\n",
    "    for i in range(len(all_data)):\n",
    "        item = all_data[i]\n",
    "        if item.lower() == \"buy\":\n",
    "            print(f\"Stock Name: {all_data[i+1]}, Quantity: {all_data[i+2]}\")\n",
    "            i += 2\n",
    "        elif item.lower() == \"sell\":\n",
    "            print(f\"Stock Name: {all_data[i+1]}, Quantity: {all_data[i+2]}\")\n",
    "            i += 2\n",
    "data = \"Buy 50 AAPL and sell 30 GOOG\"\n",
    "process_financial_data(data)\n",
    "# can check valid or not accordingly"
   ]
  },
  {
   "cell_type": "markdown",
   "metadata": {},
   "source": [
    "7. **Iterative Data Cleaning with Strings**\n",
    "   - **Question**: Given a list of raw financial data points like \" $1,000 \", \" 2,500 \", \" $3,000 \", clean the data by removing spaces, dollar signs, and commas, then convert them to integers."
   ]
  },
  {
   "cell_type": "code",
   "execution_count": 21,
   "metadata": {},
   "outputs": [
    {
     "name": "stdout",
     "output_type": "stream",
     "text": [
      "['1000', '2500', '3000']\n"
     ]
    }
   ],
   "source": [
    "#Write your code here\n",
    "data = [ \" $1,000 \", \" 2,500 \", \" $3,000 \"]\n",
    "data = [item.replace(\"$\", \"\").replace(\",\", \"\").replace(\" \", \"\").replace('\"', '') for item in data]\n",
    "print(data)"
   ]
  },
  {
   "cell_type": "markdown",
   "metadata": {},
   "source": [
    "8. **String and Loop Integration**\n",
    "   - **Question**: From a formatted string containing dates and prices like \"20210101$10020210102$200\", extract and print the date and price pairs."
   ]
  },
  {
   "cell_type": "code",
   "execution_count": 30,
   "metadata": {},
   "outputs": [
    {
     "name": "stdout",
     "output_type": "stream",
     "text": [
      "Date: 20210101, Price: 100\n",
      "Date: 10020210, Price: 200\n"
     ]
    }
   ],
   "source": [
    "#Write your code here\n",
    "def parse_data_price_string(data):\n",
    "    all_contents = data.split(\"$\")\n",
    "    for i in range(len(all_contents)):\n",
    "        item = all_contents[i]\n",
    "        if len(item) < 8:\n",
    "            continue\n",
    "        if item:\n",
    "            print(f\"Date: {item[:8]}, Price: {all_contents[i+1][0:3]}\")\n",
    "data = \"20210101$10020210102$200\"\n",
    "parse_data_price_string(data)\n"
   ]
  },
  {
   "cell_type": "markdown",
   "metadata": {},
   "source": [
    "9. **String Parsing and Control Flow**\n",
    "   - **Question**: Parse a string \"High: 100, Low: 90, Open: 95, Close: 98\" and print each value only if it is higher than 95."
   ]
  },
  {
   "cell_type": "code",
   "execution_count": 32,
   "metadata": {},
   "outputs": [
    {
     "name": "stdout",
     "output_type": "stream",
     "text": [
      "High: 100\n",
      "Close: 98\n"
     ]
    }
   ],
   "source": [
    "#Write your code here\n",
    "data = \"High: 100, Low: 90, Open: 95, Close: 98\"\n",
    "def parse_stock_data(data):\n",
    "    metrics = data.split(\", \")\n",
    "    for metric in metrics:\n",
    "        key, value = metric.split(\": \")\n",
    "        if int(value) > 95:\n",
    "            print(f\"{key.strip()}: {value.strip()}\")\n",
    "parse_stock_data(data)"
   ]
  },
  {
   "cell_type": "markdown",
   "metadata": {},
   "source": [
    "10. **Advanced String Processing**\n",
    "    - **Question**: Convert a string representation of an options trade from \"Call100AAPL20240101Put200GOOG20240102\" into a structured report indicating each trade's type, volume, symbol, and date."
   ]
  },
  {
   "cell_type": "code",
   "execution_count": null,
   "metadata": {},
   "outputs": [
    {
     "name": "stdout",
     "output_type": "stream",
     "text": [
      "Option Type: Call, Strike Price: 100, Stock Symbol: AAPL, Expiration Date: 20240101\n",
      "Option Type: Put, Strike Price: 200, Stock Symbol: GOOG, Expiration Date: 20240102\n"
     ]
    }
   ],
   "source": [
    "#Write your code here\n",
    "all_options_trade = \"Call100AAPL20240101Put200GOOG20240102\"\n",
    "# can split on basis of when there is switch in character between letter to digit as well\n",
    "def parse_option_trade_data(data):\n",
    "    trades = []\n",
    "    i = 0\n",
    "    while i < len(data):\n",
    "        if data[i:i+4] == \"Call\":\n",
    "            option_type = \"Call\"\n",
    "            strike_price = data[i+4:i+7]\n",
    "            stock_symbol = data[i+7:i+11]\n",
    "            expiration_date = data[i+11:i+19]\n",
    "            trades.append((option_type, strike_price, stock_symbol, expiration_date))\n",
    "            i += 19\n",
    "        elif data[i:i+3] == \"Put\":\n",
    "            option_type = \"Put\"\n",
    "            strike_price = data[i+3:i+6]\n",
    "            stock_symbol = data[i+6:i+10]\n",
    "            expiration_date = data[i+10:i+18]\n",
    "            trades.append((option_type, strike_price, stock_symbol, expiration_date))\n",
    "            i += 18\n",
    "        else:\n",
    "            i += 1\n",
    "    return trades\n",
    "parsed_trades = parse_option_trade_data(all_options_trade)\n",
    "for trade in parsed_trades:\n",
    "    print(f\"Option Type: {trade[0]}, Strike Price: {trade[1]}, Stock Symbol: {trade[2]}, Expiration Date: {trade[3]}\")"
   ]
  },
  {
   "cell_type": "markdown",
   "metadata": {},
   "source": [
    "# Python Mini Project\n",
    "\n",
    "### Project: Moving Average Crossover Trading Strategy (with list input)\n",
    "\n",
    "#### Step-by-Step Plan\n",
    "\n",
    "1. **Introduction**: Print an introduction to the trading strategy.\n",
    "2. **Reading Data**: Read historical stock data from a predefined list.\n",
    "3. **Processing Data**: Use loops to calculate moving averages.\n",
    "4. **Generating Signals**: Use if-else conditions to generate buy/sell signals.\n",
    "5. **Simulating Trades**: Simulate trading based on generated signals.\n",
    "6. **Printing Results**: Output the results and final portfolio value.\n",
    "\n",
    "\n",
    "#### Sample Data (date, price)\n",
    "#### data = [\n",
    "    (\"2021-01-01\", 100),\n",
    "    (\"2021-01-02\", 102),\n",
    "    (\"2021-01-03\", 104),\n",
    "    (\"2021-01-04\", 101),\n",
    "    (\"2021-01-05\", 105),\n",
    "    (\"2021-01-06\", 107),\n",
    "    (\"2021-01-07\", 110),\n",
    "    (\"2021-01-08\", 108),\n",
    "    (\"2021-01-09\", 106),\n",
    "    (\"2021-01-10\", 104),\n",
    "    (\"2021-01-11\", 103),\n",
    "    (\"2021-01-12\", 102),\n",
    "    (\"2021-01-13\", 101),\n",
    "    (\"2021-01-14\", 105),\n",
    "    (\"2021-01-15\", 108),\n",
    "    (\"2021-01-16\", 110),\n",
    "    (\"2021-01-17\", 112),\n",
    "    (\"2021-01-18\", 115),\n",
    "    (\"2021-01-19\", 117),\n",
    "    (\"2021-01-20\", 120),\n",
    "]\n"
   ]
  },
  {
   "cell_type": "markdown",
   "metadata": {},
   "source": []
  },
  {
   "cell_type": "markdown",
   "metadata": {},
   "source": []
  },
  {
   "cell_type": "code",
   "execution_count": 55,
   "metadata": {},
   "outputs": [
    {
     "name": "stdout",
     "output_type": "stream",
     "text": [
      "Buy on 2021-01-10 at price 104\n",
      "Sell on 2021-01-12 at price 102\n",
      "Buy on 2021-01-17 at price 112\n",
      "Total profit: -2.0\n"
     ]
    }
   ],
   "source": [
    "data = [\n",
    "    (\"2021-01-01\", 100),\n",
    "    (\"2021-01-02\", 102),\n",
    "    (\"2021-01-03\", 104),\n",
    "    (\"2021-01-04\", 101),\n",
    "    (\"2021-01-05\", 105),\n",
    "    (\"2021-01-06\", 107),\n",
    "    (\"2021-01-07\", 110),\n",
    "    (\"2021-01-08\", 108),\n",
    "    (\"2021-01-09\", 106),\n",
    "    (\"2021-01-10\", 104),\n",
    "    (\"2021-01-11\", 103),\n",
    "    (\"2021-01-12\", 102),\n",
    "    (\"2021-01-13\", 101),\n",
    "    (\"2021-01-14\", 105),\n",
    "    (\"2021-01-15\", 108),\n",
    "    (\"2021-01-16\", 110),\n",
    "    (\"2021-01-17\", 112),\n",
    "    (\"2021-01-18\", 115),\n",
    "    (\"2021-01-19\", 117),\n",
    "    (\"2021-01-20\", 120),\n",
    "] \n",
    "\n",
    "moving_average_crossover_strategy(data)\n",
    "\n",
    "def moving_average_crossover_strategy(data):\n",
    "    # only selling after buying , and buting only once\n",
    "    bought_price = -1\n",
    "    moving_average_5_days = 0.0\n",
    "    moving_average_10_days = 0.0\n",
    "    prices = [price for _, price in data]\n",
    "    total_profit = 0.0\n",
    "    # need to start from day 9 below loop\n",
    "    for i in range(9, len(data)):\n",
    "        # if i >= 4:\n",
    "        moving_average_5_days = sum(prices[i-4:i+1]) / 5\n",
    "        # if i >= 9:\n",
    "        moving_average_10_days = sum(prices[i-9:i+1]) / 10\n",
    "        \n",
    "        if moving_average_5_days > moving_average_10_days and bought_price == -1:\n",
    "            bought_price = data[i][1]\n",
    "            print(f\"Buy on {data[i][0]} at price {data[i][1]}\")\n",
    "        elif moving_average_5_days < moving_average_10_days and bought_price != -1:\n",
    "            print(f\"Sell on {data[i][0]} at price {data[i][1]}\")\n",
    "            total_profit += data[i][1] - bought_price\n",
    "            bought_price = -1\n",
    "\n",
    "    print(f\"Total profit: {total_profit}\")\n",
    "\n",
    "    # for item in data:\n",
    "    #     # print(item)\n",
    "    #     date, price = item\n",
    "        \n",
    "    #     print(f\"Date: {date}, Price: {price}\")\n",
    "    \n",
    "\n"
   ]
  },
  {
   "cell_type": "code",
   "execution_count": null,
   "metadata": {},
   "outputs": [],
   "source": []
  }
 ],
 "metadata": {
  "kernelspec": {
   "display_name": "Python 3",
   "language": "python",
   "name": "python3"
  },
  "language_info": {
   "codemirror_mode": {
    "name": "ipython",
    "version": 3
   },
   "file_extension": ".py",
   "mimetype": "text/x-python",
   "name": "python",
   "nbconvert_exporter": "python",
   "pygments_lexer": "ipython3",
   "version": "3.9.6"
  }
 },
 "nbformat": 4,
 "nbformat_minor": 2
}
