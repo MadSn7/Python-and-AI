{
 "cells": [
  {
   "cell_type": "markdown",
   "metadata": {},
   "source": [
    "1. **List Creation and Access**\n",
    "   - **Question**: You're tracking prices of 5 different stocks in a list. Create this list with initial prices and print the highest price using a built-in function."
   ]
  },
  {
   "cell_type": "code",
   "execution_count": null,
   "metadata": {},
   "outputs": [
    {
     "name": "stdout",
     "output_type": "stream",
     "text": [
      "111\n"
     ]
    }
   ],
   "source": [
    "# Write your code here\n",
    "stock_prices = [i for i in range(100, 112)]\n",
    "print(max(stock_prices))"
   ]
  },
  {
   "cell_type": "markdown",
   "metadata": {},
   "source": [
    "2. **List Operations (append, extend, insert)**\n",
    "   - **Question**: You have a list of current holdings in your portfolio. Add new stocks at the end, a list of upcoming stocks in the middle, and a special stock at the beginning."
   ]
  },
  {
   "cell_type": "code",
   "execution_count": 19,
   "metadata": {},
   "outputs": [
    {
     "name": "stdout",
     "output_type": "stream",
     "text": [
      "['AAPL', 'GOOGL', 'MSFT', 'AMZN', 'TSLA', 'NFLX']\n",
      "['AAPL', 'GOOGL', 'BKNG', 'MSFT', 'AMZN', 'TSLA', 'NFLX']\n",
      "['AAPL', 'GOOGL', 'BKNG', 'MSFT', 'AMZN', 'TSLA', 'NFLX', 'CSCO', 'ORCL']\n"
     ]
    }
   ],
   "source": [
    "# Write your code here\n",
    "list_of_stocks = [\"AAPL\", \"GOOGL\", \"MSFT\", \"AMZN\", \"TSLA\"]\n",
    "list_of_stocks.append(\"NFLX\")\n",
    "print(list_of_stocks)\n",
    "list_of_stocks.insert(2, \"BKNG\")\n",
    "print(list_of_stocks)\n",
    "stocks_to_add = [\"CSCO\", \"ORCL\"]\n",
    "list_of_stocks.extend(stocks_to_add)\n",
    "print(list_of_stocks)"
   ]
  },
  {
   "cell_type": "markdown",
   "metadata": {},
   "source": [
    "3. **Editing and Deleting Items**\n",
    "   - **Question**: From the given list of stock symbols, change the symbol 'GOOG' to 'GOOGL' and remove 'NFLX' from the list."
   ]
  },
  {
   "cell_type": "code",
   "execution_count": 20,
   "metadata": {},
   "outputs": [
    {
     "name": "stdout",
     "output_type": "stream",
     "text": [
      "['GOOGL']\n"
     ]
    }
   ],
   "source": [
    "# Write your code here\n",
    "list_of_stocks = [\"GOOG\",\"NFLX\"]\n",
    "list_of_stocks[list_of_stocks.index(\"GOOG\")] = \"GOOGL\"\n",
    "list_of_stocks.remove(\"NFLX\")\n",
    "print(list_of_stocks)"
   ]
  },
  {
   "cell_type": "markdown",
   "metadata": {},
   "source": [
    "4. **List Comprehension and Membership**\n",
    "   - **Question**: Using list comprehension, create a list of booleans indicating whether each stock price in the list is above 100."
   ]
  },
  {
   "cell_type": "code",
   "execution_count": 24,
   "metadata": {},
   "outputs": [
    {
     "name": "stdout",
     "output_type": "stream",
     "text": [
      "[False, False, False, True, True]\n"
     ]
    }
   ],
   "source": [
    "# Write your code here\n",
    "list_of_stocks_with_price = [\n",
    "    (\"GOOG\", 100),\n",
    "    (\"NFLX\", 200),\n",
    "    (\"AAPL\", 150),\n",
    "    (\"AMZN\", 2500),\n",
    "    (\"TSLA\", 700)\n",
    "]\n",
    "print( [ price>500 for stock, price in list_of_stocks_with_price] )"
   ]
  },
  {
   "cell_type": "markdown",
   "metadata": {},
   "source": [
    "5. **Zip and Loop Operations**\n",
    "   - **Question**: Given two lists, `stock_symbols` and `stock_prices`, use the `zip()` function to pair each stock with its price in a dictionary. Then print each pair."
   ]
  },
  {
   "cell_type": "code",
   "execution_count": 28,
   "metadata": {},
   "outputs": [
    {
     "name": "stdout",
     "output_type": "stream",
     "text": [
      "[('GOOG', 100), ('NFLX', 200), ('AAPL', 150), ('AMZN', 2500), ('TSLA', 700)]\n"
     ]
    }
   ],
   "source": [
    "# Write your code here\n",
    "stock_symbols = [\"GOOG\", \"NFLX\", \"AAPL\", \"AMZN\", \"TSLA\"]\n",
    "stock_prices = [100, 200, 150, 2500, 700]\n",
    "zipped_stocks = list(zip(stock_symbols, stock_prices))\n",
    "print(zipped_stocks)"
   ]
  },
  {
   "cell_type": "markdown",
   "metadata": {},
   "source": [
    "6. **Traversing Lists in Two Ways**\n",
    "   - **Question**: Demonstrate two ways to print each stock and its price from a list of tuples. The list is `stocks = [('AAPL', 150), ('GOOG', 1200), ('MSFT', 200)]`."
   ]
  },
  {
   "cell_type": "code",
   "execution_count": 34,
   "metadata": {},
   "outputs": [
    {
     "name": "stdout",
     "output_type": "stream",
     "text": [
      "The price of AAPL is 150\n",
      "The price of GOOG is 1200\n",
      "The price of MSFT is 200\n",
      "['AAPL 150', 'GOOG 1200', 'MSFT 200']\n"
     ]
    }
   ],
   "source": [
    "# Write your code here\n",
    "stocks = [('AAPL', 150), ('GOOG', 1200), ('MSFT', 200)]\n",
    "for stock, price in stocks:\n",
    "    print(f\"The price of {stock} is {price}\")\n",
    "print([stock +\" \"+str(price) for stock, price in stocks])"
   ]
  },
  {
   "cell_type": "markdown",
   "metadata": {},
   "source": [
    "7. **List and Memory**\n",
    "   - **Question**: If you create a list `a = [1, 2, 3]` and then another list `b = a`, demonstrate what happens when you modify `b` and explain why."
   ]
  },
  {
   "cell_type": "code",
   "execution_count": 35,
   "metadata": {},
   "outputs": [
    {
     "name": "stdout",
     "output_type": "stream",
     "text": [
      "[5, 2, 3]\n"
     ]
    }
   ],
   "source": [
    "# Write your code here\n",
    "a = [1,2,3]\n",
    "b = a\n",
    "b[0] = 5\n",
    "print(a)"
   ]
  },
  {
   "cell_type": "markdown",
   "metadata": {},
   "source": [
    "8. **Complex List Manipulation and Conditional Logic**\n",
    "   - **Question**: Given a list of stock prices, create a new list that contains the price increased by 5% for only those prices that are below $200. Additionally, print the index of each modified price in the original list."
   ]
  },
  {
   "cell_type": "code",
   "execution_count": 42,
   "metadata": {},
   "outputs": [
    {
     "name": "stdout",
     "output_type": "stream",
     "text": [
      "['1260.0 1', '210.0 2']\n"
     ]
    }
   ],
   "source": [
    "# Write your code here\n",
    "stocks = [('AAPL', 150), ('GOOG', 1200), ('MSFT', 200)]\n",
    "print([f\"{item[1] * 1.05} {index}\" for index, item in enumerate(stocks) if item[1] > 150])"
   ]
  },
  {
   "cell_type": "markdown",
   "metadata": {},
   "source": [
    "9. **Advanced List Comprehension with Conditional Logic**\n",
    "   - **Question**: You have a list of stock symbols and their corresponding prices. Use list comprehension to create a list of tuples for only those stocks with prices over $100, and sort this list by price in descending order."
   ]
  },
  {
   "cell_type": "code",
   "execution_count": 45,
   "metadata": {},
   "outputs": [
    {
     "name": "stdout",
     "output_type": "stream",
     "text": [
      "[('GOOG', 1200), ('MSFT', 200)]\n"
     ]
    }
   ],
   "source": [
    "# Write your code here\n",
    "stocks = [('AAPL', 150), ('GOOG', 1200), ('MSFT', 200)]\n",
    "print( sorted([item for item in stocks if item[1] > 150], key=lambda x: x[1], reverse=True) )"
   ]
  },
  {
   "cell_type": "markdown",
   "metadata": {},
   "source": [
    "10. **Nested Loops and List Operations**\n",
    "   - **Question**: You have a list of lists where each sublist contains stock symbols followed by their daily closing prices over a week. Create a flattened list of symbols paired with their average weekly price."
   ]
  },
  {
   "cell_type": "code",
   "execution_count": 47,
   "metadata": {},
   "outputs": [
    {
     "name": "stdout",
     "output_type": "stream",
     "text": [
      "[157.0, 1211.0, 206.8]\n"
     ]
    }
   ],
   "source": [
    "# Write your code here\n",
    "list_of_stock_with_full_week_price = [[\"AAPL\", 150, 155, 160, 158, 162], [\"GOOG\", 1200, 1210, 1195, 1220, 1230], [\"MSFT\", 200, 205, 210, 207, 212]]\n",
    "print( [sum(item[1:])/5 for item in list_of_stock_with_full_week_price] )"
   ]
  },
  {
   "cell_type": "markdown",
   "metadata": {},
   "source": [
    "11. **Zip and Advanced Data Structures**\n",
    "   - **Question**: Pair each stock with its respective price using `zip` and then convert this list of pairs into a dictionary where stock symbols are keys and values are lists containing current price and a Boolean indicating if the price is over $150."
   ]
  },
  {
   "cell_type": "code",
   "execution_count": null,
   "metadata": {},
   "outputs": [],
   "source": [
    "# Write your code here\n",
    "stocks = [('AAPL', 150), ('GOOG', 1200), ('MSFT', 200)]\n"
   ]
  },
  {
   "cell_type": "markdown",
   "metadata": {},
   "source": [
    "12. **Complex List Manipulation Using Del and Slicing**\n",
    "   - **Question**: Given a list with stock prices, delete prices that are exactly $100, and replace the last three elements with their mean."
   ]
  },
  {
   "cell_type": "code",
   "execution_count": 76,
   "metadata": {},
   "outputs": [
    {
     "name": "stdout",
     "output_type": "stream",
     "text": [
      "[200, 300, 400, 500]\n",
      "[200, 350, 350, 350]\n"
     ]
    }
   ],
   "source": [
    "# Write your code here\n",
    "from statistics import mean\n",
    "\n",
    "\n",
    "list_of_prices = [100, 200, 100, 300, 400, 500]\n",
    "list_of_prices = [price for price in list_of_prices if price != 100]\n",
    "print(list_of_prices)\n",
    "list_of_prices[len(list_of_prices)-3:] = [mean(list_of_prices)] * 3\n",
    "print(list_of_prices)"
   ]
  },
  {
   "cell_type": "markdown",
   "metadata": {},
   "source": [
    "13. **Advanced Loop Control Mechanisms**\n",
    "   - **Question**: Process a list of stock transactions and exit the loop if a transaction exceeds $500, but skip any transaction below $100."
   ]
  },
  {
   "cell_type": "code",
   "execution_count": 64,
   "metadata": {},
   "outputs": [
    {
     "name": "stdout",
     "output_type": "stream",
     "text": [
      "('Buy', 100)\n"
     ]
    }
   ],
   "source": [
    "# Write your code here\n",
    "list_of_transactions =[ \"Buy100\",\"Sell50\",\"Buy501\",\"Sell100\"]\n",
    "for transaction in list_of_transactions:\n",
    "    action = transaction[:3] if transaction.startswith(\"Buy\") else transaction[:4]\n",
    "    amount = int(transaction[3:]) if action == \"Buy\" else int(transaction[4:])\n",
    "    if amount > 500:\n",
    "        break\n",
    "    if amount < 100:\n",
    "        continue\n",
    "    print((action, amount))\n"
   ]
  },
  {
   "cell_type": "markdown",
   "metadata": {},
   "source": [
    "14. **Memory Management and List**\n",
    "   - **Question**: Demonstrate how altering a sublist affects the original list when using shallow copies."
   ]
  },
  {
   "cell_type": "code",
   "execution_count": 61,
   "metadata": {},
   "outputs": [
    {
     "name": "stdout",
     "output_type": "stream",
     "text": [
      "[5, 2, 3]\n"
     ]
    }
   ],
   "source": [
    "# Write your code here\n",
    "a = [1,2,3]\n",
    "b = a\n",
    "b[0] = 5\n",
    "print(a)"
   ]
  },
  {
   "cell_type": "markdown",
   "metadata": {},
   "source": [
    "15. **List Comprehension and Functional Programming**\n",
    "   - **Question**: Using a list of numbers, create a new list that contains the square of each number, but only if the number is odd."
   ]
  },
  {
   "cell_type": "code",
   "execution_count": 60,
   "metadata": {},
   "outputs": [
    {
     "name": "stdout",
     "output_type": "stream",
     "text": [
      "[1, 9, 25]\n"
     ]
    }
   ],
   "source": [
    "# Write your code here\n",
    "list_of_nums = [1, 2, 3, 4, 5]\n",
    "print([num ** 2 for num in list_of_nums if num % 2 != 0])"
   ]
  },
  {
   "cell_type": "markdown",
   "metadata": {},
   "source": [
    "\n",
    "16. **Complex List Operations with String Manipulation**\n",
    "   - **Question**: Given a list of strings representing transactions, parse each string into a tuple containing the type of transaction ('Buy' or 'Sell') and the amount, then filter out any transactions under $200."
   ]
  },
  {
   "cell_type": "code",
   "execution_count": 58,
   "metadata": {},
   "outputs": [
    {
     "name": "stdout",
     "output_type": "stream",
     "text": [
      "[('Buy', 100), ('Sell', 50), ('Buy', 200), ('Sell', 100)]\n"
     ]
    }
   ],
   "source": [
    "# Write your code here\n",
    "list_of_transactions =[ \"Buy100\",\"Sell50\",\"Buy200\",\"Sell100\"]\n",
    "print( [(\"Buy\", int(item[3:])) if item.startswith(\"Buy\") else (\"Sell\", int(item[4:]))\n",
    "    for item in list_of_transactions ] )\n"
   ]
  },
  {
   "cell_type": "markdown",
   "metadata": {},
   "source": [
    "17. **List and Error Handling**\n",
    "    - **Question**: Attempt to access the 10th element of a list that contains only 5 elements. Use exception handling to manage the potential IndexError and print a custom error message."
   ]
  },
  {
   "cell_type": "code",
   "execution_count": null,
   "metadata": {},
   "outputs": [
    {
     "name": "stdout",
     "output_type": "stream",
     "text": [
      "Index out of range\n"
     ]
    }
   ],
   "source": [
    "# Write your code here\n",
    "list1 = [1, 2, 3, 4, 5]\n",
    "try:\n",
    "    print(list1[10])\n",
    "except IndexError:\n",
    "    print(\"Index out of range\")"
   ]
  }
 ],
 "metadata": {
  "kernelspec": {
   "display_name": "Python 3",
   "language": "python",
   "name": "python3"
  },
  "language_info": {
   "codemirror_mode": {
    "name": "ipython",
    "version": 3
   },
   "file_extension": ".py",
   "mimetype": "text/x-python",
   "name": "python",
   "nbconvert_exporter": "python",
   "pygments_lexer": "ipython3",
   "version": "3.9.6"
  }
 },
 "nbformat": 4,
 "nbformat_minor": 2
}
